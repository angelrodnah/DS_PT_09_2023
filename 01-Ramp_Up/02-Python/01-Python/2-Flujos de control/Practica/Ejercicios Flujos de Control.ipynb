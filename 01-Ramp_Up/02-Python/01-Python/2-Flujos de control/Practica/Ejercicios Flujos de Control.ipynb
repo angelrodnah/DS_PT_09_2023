{
 "cells": [
  {
   "cell_type": "markdown",
   "metadata": {},
   "source": [
    "![imagen](./img/ejercicios.png)"
   ]
  },
  {
   "cell_type": "markdown",
   "metadata": {},
   "source": [
    "# Ejercicios Flujos de control"
   ]
  },
  {
   "cell_type": "markdown",
   "metadata": {},
   "source": [
    "## Ejercicio 1\n",
    "Declara una variable numérica que será una hora cualquiera del día. Implementa mediante sentencias `if/elif/else` la siguiente casuística:\n",
    "\n",
    "* Si es entre las 0 y las 8, print \"Durmiendo\"\n",
    "* Si es entre las 9 y las 18, print \"Trabajando\"\n",
    "* Si es entre las 19 y las 21, print \"Clase\"\n",
    "* Si es entre las 22 y las 24, print \"Descanso\"\n",
    "* En cualquier otro caso, print \"Transporte o error\""
   ]
  },
  {
   "cell_type": "code",
   "execution_count": 1,
   "metadata": {},
   "outputs": [
    {
     "name": "stdout",
     "output_type": "stream",
     "text": [
      "Durmiendo\n"
     ]
    }
   ],
   "source": [
    "horario=2\n",
    "if horario<0 or horario>24:\n",
    "    print(\"Hora del día no válida\")\n",
    "elif horario >0 or horario <=9:\n",
    "    print(\"Durmiendo\")\n",
    "elif horario >9 or horario <18:\n",
    "    print(\"Trabajando\")\n",
    "elif horario >19 or horario <21:\n",
    "    print(\"Clase\")\n",
    "else:\n",
    "    print(\"Descanso\")"
   ]
  },
  {
   "cell_type": "markdown",
   "metadata": {},
   "source": [
    "## Ejercicio 2\n",
    "En este ejercicio vamos a implementar un calculador de precios de casas muy sencillo. Tenemos las siguientes variables:\n",
    "\n",
    "> superficie\n",
    ">\n",
    "> distrito\n",
    "\n",
    "Implementa mediante sentencias `if/elif/else` la siguiente casuística:\n",
    "\n",
    "1. Si el distrito es \"Moncloa\" o \"Centro\", y además la superficie es superior a 100 metros cuadrados, el precio de la casa es de 1000\n",
    "2. Si el distrito es \"Salamanca\", y además la superficie de la casa es al menos de 150 metros, el precio de la casa es de 1500\n",
    "3. Si el distrito no es \"Retiro\" y la superficie está entre 60 y 80 metros, el precio es de 600\n",
    "4. En cualquier otro caso, el precio será de 0"
   ]
  },
  {
   "cell_type": "code",
   "execution_count": 4,
   "metadata": {},
   "outputs": [
    {
     "name": "stdout",
     "output_type": "stream",
     "text": [
      "El precio en el Distrito Retiro de 100 m2 es de 0 euros\n"
     ]
    }
   ],
   "source": [
    "superficie=100\n",
    "distrito=\"Retiro\"\n",
    "Distritos=[\"Moncloa\",\"Centro\",\"Salamanca\"]\n",
    "\n",
    "if distrito in Distritos:\n",
    "    if distrito in [\"Moncloa\",\"Centro\"] and superficie>100:\n",
    "        precio=1000\n",
    "    elif distrito==\"Salamanca\">=150:\n",
    "        distrito=1500\n",
    "elif distrito!=\"Retiro\" and (superficie >=60 and superficie<=80):\n",
    "        precio=600\n",
    "else:\n",
    "    precio=0\n",
    "print(f\"El precio en el distrito {distrito} de {superficie} m2 es de {precio} euros\")"
   ]
  },
  {
   "cell_type": "markdown",
   "metadata": {},
   "source": [
    "## Ejercicio 3\n",
    "En este ejercicio vamos a realizar un programa muy parecido. Para este caso queremos que se cumplan las siguientes condiciones:\n",
    "\n",
    "1. Primero se compruebe si el distrito es \"Retiro\". Si es asi, que imprima \"Distrito Retiro\", y si no, \"Otro distrito\"\n",
    "2. Si el distrito es \"Retiro\", comprueba si si la superficie es mayor de 100 metros cuadrados. En tal caso, que imprima un precio de 1000, y si no, de 500.\n",
    "\n",
    "Hay que usar `ifs` anidados"
   ]
  },
  {
   "cell_type": "code",
   "execution_count": null,
   "metadata": {},
   "outputs": [],
   "source": [
    "superficie=100\n",
    "distrito=\"Retiro\"\n",
    "Distritos=[\"Moncloa\",\"Centro\",\"Salamanca\"]\n",
    "if distrito==\"Retiro\":\n",
    "    print(\"Distrito Retiro\")\n",
    "    if superficie>100:\n",
    "        precio=100\n",
    "    else:\n",
    "        precio=500\n",
    "elif distrito in Distritos:\n",
    "    print()\n",
    "    if distrito in [\"Moncloa\",\"Centro\"] and superficie>100:\n",
    "        precio=1000\n",
    "    elif distrito==\"Salamanca\">=150:\n",
    "        distrito=1500\n",
    "elif superficie >=60 and superficie<=80:\n",
    "        precio=600\n",
    "else:\n",
    "    precio=0\n",
    "print(f\"El precio en el distrito {distrito} de {superficie} m2 es de {precio} euros\")"
   ]
  },
  {
   "cell_type": "markdown",
   "metadata": {},
   "source": [
    "## Ejercicio 4\n",
    "Escribe un programa que tenga dos variables: un numero, y una lista numérica. El programa debe recorrer la lista e imprimir por pantalla cada elemento de la lista multiplicado por el número"
   ]
  },
  {
   "cell_type": "code",
   "execution_count": 5,
   "metadata": {},
   "outputs": [
    {
     "name": "stdout",
     "output_type": "stream",
     "text": [
      "8\n",
      "6\n",
      "4\n",
      "8\n",
      "46\n",
      "10\n",
      "12\n"
     ]
    }
   ],
   "source": [
    "num=2\n",
    "lnum=[4,3,2,4,23,5,6]\n",
    "for n in lnum:\n",
    "    print(n*num)"
   ]
  },
  {
   "cell_type": "markdown",
   "metadata": {},
   "source": [
    "## Ejercicio 5\n",
    "Imprime por pantalla cada número del -10 al -1. En ese orden. Consulta [la documentación](https://www.w3schools.com/python/ref_func_range.asp) de `range`"
   ]
  },
  {
   "cell_type": "code",
   "execution_count": 6,
   "metadata": {},
   "outputs": [
    {
     "name": "stdout",
     "output_type": "stream",
     "text": [
      "-10\n",
      "-9\n",
      "-8\n",
      "-7\n",
      "-6\n",
      "-5\n",
      "-4\n",
      "-3\n",
      "-2\n",
      "-1\n"
     ]
    }
   ],
   "source": [
    "for i in range(-10,0,1):\n",
    "    print(i)"
   ]
  },
  {
   "cell_type": "markdown",
   "metadata": {},
   "source": [
    "## Ejercicio 6\n",
    "Dada la siguiente lista:\n",
    "\n",
    "> list1 = [12, 15, 32, 42, 55, 75, 122, 132, 150, 180, 200]\n",
    "\n",
    "Implementa un programa que los recorra e imprima por pantalla todos los divisibles por 5. Si nos encontramos con alguno que sea mayor que 150, detener el bucle."
   ]
  },
  {
   "cell_type": "code",
   "execution_count": 7,
   "metadata": {},
   "outputs": [
    {
     "name": "stdout",
     "output_type": "stream",
     "text": [
      "15\n",
      "55\n",
      "75\n",
      "150\n"
     ]
    }
   ],
   "source": [
    "list1 = [12, 15, 32, 42, 55, 75, 122, 132, 150, 180, 200]\n",
    "for n in list1:\n",
    "    if n>150:\n",
    "        break\n",
    "    elif n%5==0:\n",
    "        print(n)"
   ]
  },
  {
   "cell_type": "markdown",
   "metadata": {},
   "source": [
    "## Ejercicio 7\n",
    "Escribe un programa en Python que imprima por pantalla todos los números divisibles por 5 y divisibles por 7, dentro del rango de valores (150, 350)"
   ]
  },
  {
   "cell_type": "code",
   "execution_count": 26,
   "metadata": {},
   "outputs": [
    {
     "name": "stdout",
     "output_type": "stream",
     "text": [
      "[150, 154, 155, 160, 161, 165, 168, 170, 175, 180, 182, 185, 189, 190, 195, 196, 200, 203, 205, 210, 215, 217, 220, 224, 225, 230, 231, 235, 238, 240, 245, 250, 252, 255, 259, 260, 265, 266, 270, 273, 275, 280, 285, 287, 290, 294, 295, 300, 301, 305, 308, 310, 315, 320, 322, 325, 329, 330, 335, 336, 340, 343, 345, 350]\n"
     ]
    }
   ],
   "source": [
    "result=list()\n",
    "for i in range(150,351):\n",
    "    if i%5==0 or i%7==0:\n",
    "        result.append(i)     \n",
    "print(result)"
   ]
  },
  {
   "cell_type": "markdown",
   "metadata": {},
   "source": [
    "## Ejercicio 8\n",
    "Implementa un programa que imprima por pantalla el siguiente patrón\n",
    "\n",
    "5 4 3 2 1 \n",
    "\n",
    "4 3 2 1 \n",
    "\n",
    "3 2 1 \n",
    "\n",
    "2 1 \n",
    "\n",
    "1\n",
    "\n",
    "NOTA: NO hay lineas en blanco entre una línea y otra."
   ]
  },
  {
   "cell_type": "code",
   "execution_count": 34,
   "metadata": {},
   "outputs": [
    {
     "name": "stdout",
     "output_type": "stream",
     "text": [
      "5 4 3 2 1 \n",
      "4 3 2 1 \n",
      "3 2 1 \n",
      "2 1 \n",
      "1 \n"
     ]
    }
   ],
   "source": [
    "for i in range(5,0,-1):\n",
    "    for j in range(i,0,-1):\n",
    "        print(j,end=' ')\n",
    "    print()"
   ]
  },
  {
   "cell_type": "markdown",
   "metadata": {},
   "source": [
    "## Ejercicio 9\n",
    "En este ejercicio vamos a crear un pequeño juego. Se trata de intentar adivinar un numero del 1 al 5. Tenemos dos intentos para acertar. Pasos a seguir:\n",
    "\n",
    "1. Ya viene implementado cómo obtener un número aleatorio del 1 al 5\n",
    "2. Tendrás que declarar en una variable el numero de vidas, y mediante un bucle while, comprobar que todavia quedan vidas.\n",
    "3. Dentro del bucle, obtener el valor del usuario y comprobar si es ese el numero a adivinar. Si no, actualizar las vidas.\n",
    "4. Si acertamos, salimos del bucle e imprimimos por pantalla \"You win\". Y si perdemos también salimos del bucle, pero en este caso imprimimos por pantalla \"You lose\".\n",
    "\n",
    "TIP: te puede resultar útil usar la sentencia `else` cuando acabe el bucle `while`. Lo que haya dentro de ese `else` se ejecutará una vez acabe la ejecución del `while`. Lo podrás usar para cuando pierdas."
   ]
  },
  {
   "cell_type": "code",
   "execution_count": 5,
   "metadata": {},
   "outputs": [
    {
     "name": "stdout",
     "output_type": "stream",
     "text": [
      "Se trata de intentar adivinar un número del 1 al 5. Tienes 2 intentos para acertar\n",
      "Fallaste. Te quedan 1 intentos. Prueba otra vez...\n",
      "El número era 5. ¡Perdiste!\n",
      "Se trata de intentar adivinar un número del 1 al 5. Tienes 2 intentos para acertar\n",
      "Fallaste. Te quedan 1 intentos. Prueba otra vez...\n",
      "El número era 5. ¡Perdiste!\n"
     ]
    }
   ],
   "source": [
    "import random\n",
    "\n",
    "while True:\n",
    "    num_adv = random.randint(1, 5)\n",
    "    nvidas = 2\n",
    "    print(f\"Se trata de intentar adivinar un número del 1 al 5. Tienes {nvidas} intentos para acertar\")\n",
    "\n",
    "    while nvidas > 0:\n",
    "        nusuario = int(input('Acierta el número => '))\n",
    "        \n",
    "        if 1 <= nusuario <= 5:\n",
    "            if num_adv == nusuario:\n",
    "                print(\"¡Acertaste!\")\n",
    "                break\n",
    "            else:\n",
    "                nvidas -= 1\n",
    "                if nvidas > 0:\n",
    "                    print(f\"Fallaste. Te quedan {nvidas} intentos. Prueba otra vez...\")\n",
    "                else:\n",
    "                    print(f\"El número era {num_adv}. ¡Perdiste!\")\n",
    "        else:\n",
    "            print(\"El número que introdujiste no está comprendido entre 1 y 5\")\n",
    "   \n",
    "    continuar = input(\"¿Quieres jugar otra partida? (s/n): \").lower()\n",
    "    if continuar != \"s\":\n",
    "        break\n"
   ]
  }
 ],
 "metadata": {
  "kernelspec": {
   "display_name": "Python 3",
   "language": "python",
   "name": "python3"
  },
  "language_info": {
   "codemirror_mode": {
    "name": "ipython",
    "version": 3
   },
   "file_extension": ".py",
   "mimetype": "text/x-python",
   "name": "python",
   "nbconvert_exporter": "python",
   "pygments_lexer": "ipython3",
   "version": "3.11.5"
  }
 },
 "nbformat": 4,
 "nbformat_minor": 4
}
