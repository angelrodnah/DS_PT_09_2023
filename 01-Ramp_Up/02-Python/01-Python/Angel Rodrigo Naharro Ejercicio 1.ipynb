{
 "cells": [
  {
   "cell_type": "markdown",
   "metadata": {},
   "source": [
    "Escriba un programa que sume todos los números impares desde 1 hasta un número \n",
    "N dado por el usuario. El usuario debe ingresar el número \n",
    "N y el programa debe mostrar la suma de todos los números impares hasta \n",
    "N."
   ]
  },
  {
   "cell_type": "code",
   "execution_count": 4,
   "metadata": {},
   "outputs": [
    {
     "name": "stdout",
     "output_type": "stream",
     "text": [
      "La suma de impares hasta 5 es 4\n"
     ]
    }
   ],
   "source": [
    "N=int(input(\"Introduzca el Número\"))\n",
    "suma=0\n",
    "print(f'La suma de impares hasta {N} es '+ str(sum(list(range(1,N-1,2)))))\n"
   ]
  },
  {
   "cell_type": "markdown",
   "metadata": {},
   "source": [
    "Escriba un programa que pida al usuario ingresar un número entero. Utilice try/except para manejar cualquier error que pueda ocurrir si el usuario ingresa algo que no sea un número entero. Si el número es par, imprima \"Es par\". Si el número es impar, imprima \"Es impar\"."
   ]
  },
  {
   "cell_type": "code",
   "execution_count": 14,
   "metadata": {},
   "outputs": [
    {
     "name": "stdout",
     "output_type": "stream",
     "text": [
      "El número introducido no es entero \n"
     ]
    }
   ],
   "source": [
    "try:\n",
    "    N=int(input(\"Introduzca un número entero\"))\n",
    "    if N%2==0:\n",
    "        print(f\"{N} es par\")\n",
    "    else:\n",
    "        print(f\"{N} es impar\")\n",
    "except:\n",
    "    print(\"El número introducido no es entero \")\n"
   ]
  },
  {
   "cell_type": "markdown",
   "metadata": {},
   "source": [
    "Escriba un programa que imprima la serie de Fibonacci hasta un número \n",
    "N dado por el usuario. Utilice try/except para validar la entrada del usuario."
   ]
  },
  {
   "cell_type": "code",
   "execution_count": 9,
   "metadata": {},
   "outputs": [
    {
     "name": "stdout",
     "output_type": "stream",
     "text": [
      "Serie de Fibonacci hasta 15 :\n",
      "[0, 1, 1, 2, 3, 5, 8, 13]\n"
     ]
    }
   ],
   "source": [
    "try:\n",
    "    n = int(input(\"Introduce un número entero: \"))\n",
    "   \n",
    "    if n < 0:\n",
    "        print(\"El número debe ser positivo.\")\n",
    "    \n",
    "    fibonacci = list()\n",
    "    a, b = 0, 1\n",
    "    \n",
    "    while a <= n:\n",
    "        fibonacci.append(a)\n",
    "        a, b = b, a + b\n",
    "\n",
    "    if len(fibonacci) == 0:\n",
    "        print(\"No hay números de Fibonacci dentro del rango especificado.\")\n",
    "    else:\n",
    "        print(\"Serie de Fibonacci hasta\", n, \":\")\n",
    "        print(fibonacci)\n",
    "except: \n",
    "    print(\"El número no es entero\")\n",
    "\n"
   ]
  }
 ],
 "metadata": {
  "kernelspec": {
   "display_name": "Python 3",
   "language": "python",
   "name": "python3"
  },
  "language_info": {
   "codemirror_mode": {
    "name": "ipython",
    "version": 3
   },
   "file_extension": ".py",
   "mimetype": "text/x-python",
   "name": "python",
   "nbconvert_exporter": "python",
   "pygments_lexer": "ipython3",
   "version": "3.11.5"
  },
  "orig_nbformat": 4
 },
 "nbformat": 4,
 "nbformat_minor": 2
}
