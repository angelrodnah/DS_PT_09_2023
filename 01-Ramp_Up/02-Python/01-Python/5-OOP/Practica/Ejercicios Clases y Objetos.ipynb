{
 "cells": [
  {
   "cell_type": "markdown",
   "metadata": {},
   "source": [
    "![imagen](./img/ejercicios.png)\n",
    "\n",
    "# Ejercicios Clases y Objetos"
   ]
  },
  {
   "cell_type": "markdown",
   "metadata": {},
   "source": [
    "## Ejercicio 1\n",
    "Somos una empresa que tiene varias tiendas de electrodomesticos. Necesitamos un programa para manejar las tiendas, ver las ventas que han tenido, cuántos empleados hay, etc... Para ello vamos a modelizar la tienda en una clase, que tendrá las siguientes características:\n",
    "* Nombre clase: \"Tienda\"\n",
    "* Atributos comunes:\n",
    "    * Tipo: \"Electrodomésticos\"\n",
    "    * Abierta: True\n",
    "* Atributos propios de cada tienda:\n",
    "    * Nombre - String\n",
    "    * Dirección - String\n",
    "    * Número de empleados - int\n",
    "    * Ventas ultimos 3 meses - Lista de 3 numeros\n",
    "* Método para calcular las ventas de todos los meses, que devuelva un numero con todas las ventas.\n",
    "* Método que calcula la media de ventas de los ultimos meses, por empleado\n",
    "* Método que devuelve en un string el nombre de la tienda, junto con su dirección.\n",
    "* Método que obtiene las ventas del último mes.\n",
    "* Método para dar una proyección de las ventas en caso de haber invertido X dinero en marketing en esa tienda. Siendo X el parámetro de entrada. Si X es menor de 1000, las ventas de los ultimos 3 meses hubiesen sido de (1.2 x ventas), si es mayor o igual de 1000, las ventas hubiesen sido de (1.5 x venta). El método reescribe el atributo de ventas en los últimos 3 meses, y además devuelve las ventas con el aumento.\n",
    "\n",
    "Se pide:\n",
    "1. Implementar la clase \"Tienda\"\n",
    "2. Crear tres tiendas con datos inventados\n",
    "3. Comprueba en al menos una de ellas, todo lo implementado en la clase tienda (sus atributos, media de ventas, ventas/empleado...)\n",
    "3. Calcular las ventas del último mes de todas las tiendas. Para ello usa el bucle `for`\n",
    "4. Imprime por pantalla los nombres de las tiendas cuya dirección lleve el string \"Avenida\"\n",
    "5. Seguro que ya has hecho este apartado... Documenta la clase :)"
   ]
  },
  {
   "cell_type": "code",
   "execution_count": 122,
   "metadata": {},
   "outputs": [],
   "source": [
    "#Definición de Clase Tienda\n",
    "'''\n",
    "\n",
    "'''\n",
    "class Tienda():\n",
    "    Tipo=\"Electrodomésticos\"\n",
    "    Abierta=True\n",
    "    def __init__(self,Nombre,Dirección,nEmpleados,V3meses):\n",
    "        self.Nombre=Nombre\n",
    "        self.Dirección=Dirección\n",
    "        self.nEmpleados=nEmpleados\n",
    "        self.V3meses=V3meses\n",
    "    def ventas_Todos_Meses(self):\n",
    "        return sum(self.V3meses)\n",
    "    def media_V3meses_empleados(self):\n",
    "        return sum(self.V3meses)/self.nEmpleados\n",
    "    def ubicación_Tienda(self):\n",
    "        return f'({self.Nombre}:{self.Dirección})'\n",
    "    def Ultima_Venta(self):\n",
    "        return self.V3meses[-1]\n",
    "    def ProgVentas(self,inversion):\n",
    "        if inversion<1000:\n",
    "            self.V3meses=[1.2*x for x in self.V3meses]\n",
    "        else:\n",
    "            self.V3meses=[1.5*x for x in self.V3meses]\n",
    "        return self.V3meses"
   ]
  },
  {
   "cell_type": "code",
   "execution_count": 139,
   "metadata": {},
   "outputs": [],
   "source": [
    "#2. Crear tres tiendas con datos inventados\n",
    "tienda1,tienda2,tienda3=Tienda(\"Electro1\",\"Camino A\",1,[100,200,3000]),Tienda(\"T2\",\"Camino B\",1,[100,2000,300]),Tienda(\"Calabazas\",\"Camino C\",1,[1000,200,3000])"
   ]
  },
  {
   "cell_type": "code",
   "execution_count": null,
   "metadata": {},
   "outputs": [],
   "source": [
    "#3. Comprueba en al menos una de ellas, todo lo implementado en la clase tienda (sus atributos, media de ventas, ventas/empleado...)\n",
    "vars(tienda1)"
   ]
  },
  {
   "cell_type": "code",
   "execution_count": 85,
   "metadata": {},
   "outputs": [],
   "source": [
    "variables=list(vars(tienda1).keys())+[x  for x in dir(tienda1) if (not x.startswith('__') and x not in vars(tienda1).keys())]"
   ]
  },
  {
   "cell_type": "code",
   "execution_count": 86,
   "metadata": {},
   "outputs": [
    {
     "data": {
      "text/plain": [
       "'ProgVentas'"
      ]
     },
     "execution_count": 86,
     "metadata": {},
     "output_type": "execute_result"
    }
   ],
   "source": [
    "variables.pop(variables.index('ProgVentas'))"
   ]
  },
  {
   "cell_type": "code",
   "execution_count": 89,
   "metadata": {},
   "outputs": [
    {
     "name": "stdout",
     "output_type": "stream",
     "text": [
      "Nombre: T1\n",
      " Dirección: Camino A\n",
      " nEmpleados: 1\n",
      " V3meses: [100, 200, 3000]\n",
      " Abierta: True\n",
      " Tipo: Electrodomésticos\n",
      " Ultima_Venta: <bound method Tienda.Ultima_Venta of <__main__.Tienda object at 0x0000022EAC96C590>>\n",
      " media_V3meses_empleados: <bound method Tienda.media_V3meses_empleados of <__main__.Tienda object at 0x0000022EAC96C590>>\n",
      " ubicación_Tienda: <bound method Tienda.ubicación_Tienda of <__main__.Tienda object at 0x0000022EAC96C590>>\n",
      " ventas_Todos_Meses: <bound method Tienda.ventas_Todos_Meses of <__main__.Tienda object at 0x0000022EAC96C590>>\n",
      "\n"
     ]
    }
   ],
   "source": [
    "print(*[ str(attr) + ': ' + str(eval(f'tienda1.{attr}'))+'\\n' for attr in variables])"
   ]
  },
  {
   "cell_type": "code",
   "execution_count": 97,
   "metadata": {},
   "outputs": [
    {
     "name": "stdout",
     "output_type": "stream",
     "text": [
      "Tipo: Electrodomésticos\n",
      "Abierta: True\n",
      "Nombre: T1\n",
      "Dirección: Camino A\n",
      "nEmpleados: 1\n",
      "V3meses: [100, 200, 3000]\n",
      "3000\n",
      "Ultima_Venta: None\n",
      "media_V3meses_empleados: 3300.0\n",
      "ubicación_Tienda: (T1:Camino A)\n",
      "ventas_Todos_Meses: 3300\n"
     ]
    }
   ],
   "source": [
    "print('Tipo:',tienda1.Tipo)\n",
    "print('Abierta:',tienda1.Abierta)\n",
    "print('Nombre:',tienda1.Nombre)\n",
    "print('Dirección:',tienda1.Dirección)\n",
    "print('nEmpleados:',tienda1.nEmpleados)\n",
    "print('V3meses:',tienda1.V3meses)\n",
    "print('Ultima_Venta:',tienda1.Ultima_Venta())\n",
    "print('media_V3meses_empleados:',tienda1.media_V3meses_empleados())\n",
    "print('ubicación_Tienda:',tienda1.ubicación_Tienda())\n",
    "print('ventas_Todos_Meses:',tienda1.ventas_Todos_Meses())"
   ]
  },
  {
   "cell_type": "code",
   "execution_count": 140,
   "metadata": {},
   "outputs": [
    {
     "name": "stdout",
     "output_type": "stream",
     "text": [
      "La última venta de Electro1 fue: 3000\n",
      "La última venta de T2 fue: 300\n",
      "La última venta de Calabazas fue: 3000\n",
      "Las ventas de todas las tiendas son: 6300\n"
     ]
    }
   ],
   "source": [
    "#3. Calcular las ventas del último mes de todas las tiendas. Para ello usa el bucle `for`\n",
    "tiendas = [tienda1, tienda2, tienda3]\n",
    "ventas = 0\n",
    "\n",
    "for tienda in tiendas:\n",
    "    venta_ultima_tienda = tienda.Ultima_Venta()\n",
    "    print(f\"La última venta de {tienda.Nombre} fue: {venta_ultima_tienda}\")\n",
    "    ventas += venta_ultima_tienda\n",
    "\n",
    "print(\"Las ventas de todas las tiendas son:\", ventas)\n"
   ]
  },
  {
   "cell_type": "code",
   "execution_count": null,
   "metadata": {},
   "outputs": [],
   "source": [
    "#4. Imprime por pantalla los nombres de las tiendas cuya dirección lleve el string \"Avenida\"\n",
    "[str(tienda.Nombre) for tienda in tiendas  if \"Avenida\" in tienda.Dirección]"
   ]
  },
  {
   "cell_type": "code",
   "execution_count": null,
   "metadata": {},
   "outputs": [],
   "source": [
    "#5. Seguro que ya has hecho este apartado... Documenta la clase :)"
   ]
  },
  {
   "cell_type": "code",
   "execution_count": null,
   "metadata": {},
   "outputs": [],
   "source": []
  },
  {
   "cell_type": "markdown",
   "metadata": {},
   "source": [
    "## Ejercicio 2\n",
    "En este ejercicio vamos a implementar una clase *Perro* en Python. La clase tiene las siguientes características:\n",
    "* Cosas que sabemos seguro que tiene un perro\n",
    "    * Tiene 4 patas\n",
    "    * 2 orejas\n",
    "    * 2 ojos\n",
    "    * Una velocidad de 0. Por defecto, el perro está parado\n",
    "* Cuando se inicialice:\n",
    "    * El perro será de una determinada raza\n",
    "    * Por defecto tendrá pelo \"Marrón\", a no ser que se diga lo contrario.\n",
    "    * Por defecto no tendrá dueño, a no ser que se diga lo contrario.\n",
    "    \n",
    "* Dispondrá también de un método llamado andar, que tiene un argumento de entrada (aumento_velocidad). Este valor se le sumará a la velocidad que ya llevaba el perro.\n",
    "* Necesita otro método (parar), donde pondremos la velocidad a 0.\n",
    "* Otro método llamado \"ladrar\", que tendrá un argumento de entrada, y la salida será el siguiente string: \"GUAU!\" + el argumento de entrada.\n",
    "\n",
    "\n",
    "Se pide:\n",
    "* Implementa la clase *Perro*\n",
    "* Crea un objeto de tipo *Perro*, sin dueño\n",
    "* Comprueba que están bien todos sus atributos\n",
    "* Prueba que ande, y comprueba su velocidad\n",
    "* Páralo\n",
    "* Documenta la clase *Perro*"
   ]
  },
  {
   "cell_type": "code",
   "execution_count": 151,
   "metadata": {},
   "outputs": [],
   "source": [
    "class Perro():\n",
    "    patas=4\n",
    "    orejas=2\n",
    "    ojos=2\n",
    "    velocidad=0\n",
    "    def __init__(self,raza,pelo='Marrón',tieneDueño=False):\n",
    "        self.raza=raza\n",
    "        self.pelo=pelo\n",
    "        self.tieneDueño=tieneDueño\n",
    "        \n",
    "    def andar(self,aumento_velocidad):\n",
    "        self.velocidad+=aumento_velocidad\n",
    "        print(f'La velocidad actual es de {self.velocidad} km/h'\n",
    "                f' por aumento  de {aumento_velocidad} km/h' )\n",
    "    def parar(self):\n",
    "        print(f'La velocidad era {self.velocidad} km/h'\n",
    "                f' pero ahora esta parado' )\n",
    "    def ladrar(self,texto):\n",
    "        print('Guau! ' + texto)\n",
    "            "
   ]
  },
  {
   "cell_type": "code",
   "execution_count": 152,
   "metadata": {},
   "outputs": [
    {
     "name": "stdout",
     "output_type": "stream",
     "text": [
      "Guau!  que passa\n"
     ]
    }
   ],
   "source": [
    "perro=Perro(\"San Bernardo\", \"Negro\",False)\n",
    "perro.__dict__\n",
    "\n",
    "perro.ladrar(' que passa')\n"
   ]
  },
  {
   "cell_type": "code",
   "execution_count": 153,
   "metadata": {},
   "outputs": [
    {
     "data": {
      "text/plain": [
       "{'raza': 'San Bernardo', 'pelo': 'Negro', 'tieneDueño': False}"
      ]
     },
     "execution_count": 153,
     "metadata": {},
     "output_type": "execute_result"
    }
   ],
   "source": [
    "perro.__dict__"
   ]
  },
  {
   "cell_type": "code",
   "execution_count": 159,
   "metadata": {},
   "outputs": [
    {
     "name": "stdout",
     "output_type": "stream",
     "text": [
      "La velocidad era 18 km/h pero ahora esta parado\n"
     ]
    }
   ],
   "source": [
    "perro.parar()"
   ]
  },
  {
   "cell_type": "code",
   "execution_count": null,
   "metadata": {},
   "outputs": [],
   "source": []
  }
 ],
 "metadata": {
  "kernelspec": {
   "display_name": "Python 3",
   "language": "python",
   "name": "python3"
  },
  "language_info": {
   "codemirror_mode": {
    "name": "ipython",
    "version": 3
   },
   "file_extension": ".py",
   "mimetype": "text/x-python",
   "name": "python",
   "nbconvert_exporter": "python",
   "pygments_lexer": "ipython3",
   "version": "3.11.5"
  }
 },
 "nbformat": 4,
 "nbformat_minor": 4
}
