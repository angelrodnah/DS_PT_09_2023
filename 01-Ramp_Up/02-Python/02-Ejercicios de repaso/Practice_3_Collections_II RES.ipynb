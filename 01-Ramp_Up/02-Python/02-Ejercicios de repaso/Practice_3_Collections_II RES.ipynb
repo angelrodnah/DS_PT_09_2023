{
 "cells": [
  {
   "cell_type": "markdown",
   "metadata": {},
   "source": [
    "# Python | day 3 | collections & if/else"
   ]
  },
  {
   "cell_type": "markdown",
   "metadata": {},
   "source": [
    "### Ejercicio 1."
   ]
  },
  {
   "cell_type": "markdown",
   "metadata": {},
   "source": [
    "1. Crea una variable llamada **num_bridge** con un valor de 15."
   ]
  },
  {
   "cell_type": "code",
   "execution_count": 13,
   "metadata": {},
   "outputs": [],
   "source": [
    "num_bridge=15   "
   ]
  },
  {
   "cell_type": "markdown",
   "metadata": {},
   "source": [
    "2. Crea una variable llamada **nombre_calle** con el valor \"Recoletos\".\n",
    "\n"
   ]
  },
  {
   "cell_type": "code",
   "execution_count": 3,
   "metadata": {},
   "outputs": [],
   "source": [
    "nombre_calle=\"Recoletos\" "
   ]
  },
  {
   "cell_type": "markdown",
   "metadata": {},
   "source": [
    "3. Crea una variable llamada **gusto_personal** que debe ser `Verdadero` si te gusta más la playa o `Falso` si prefieres la montaña."
   ]
  },
  {
   "cell_type": "code",
   "execution_count": 4,
   "metadata": {},
   "outputs": [],
   "source": [
    "\n",
    "gusto_personal=bool(input(\"¿Que te gusta más, la playa o a la montaña? (P/M)\").lower()==\"p\")"
   ]
  },
  {
   "cell_type": "markdown",
   "metadata": {},
   "source": [
    "4. Crea una variable llamada **nothing** como sigue: `nothing = None`. `None` no representa ningún valor, algo que debes tener en cuenta si haces `if nothing:` entonces `nothing` actúa como un booleano `False`."
   ]
  },
  {
   "cell_type": "code",
   "execution_count": 5,
   "metadata": {},
   "outputs": [],
   "source": [
    "nothing=None"
   ]
  },
  {
   "cell_type": "markdown",
   "metadata": {},
   "source": [
    "5. Crea una variable llamada **lista_direcciones**. Debe ser una lista que contenga lo siguiente: primer elemento **nombre_calle** y segundo elemento **número_puente**."
   ]
  },
  {
   "cell_type": "code",
   "execution_count": 8,
   "metadata": {},
   "outputs": [],
   "source": [
    "lista_direcciones=[nombre_calle,num_bridge]"
   ]
  },
  {
   "cell_type": "markdown",
   "metadata": {},
   "source": [
    "6. Crea una variable llamada **horas_dormidas** que debe contener, en forma de cadena, las horas que has dormido hoy."
   ]
  },
  {
   "cell_type": "code",
   "execution_count": 23,
   "metadata": {},
   "outputs": [],
   "source": [
    "horas_dormidas='8'"
   ]
  },
  {
   "cell_type": "markdown",
   "metadata": {},
   "source": [
    "7. Crea una lista llamada **info_list** que contenga todas las variables que acabas de crear en el orden en que lo has hecho.\n",
    "\n",
    "```python\n",
    "len(info_list) == 6\n",
    "True\n",
    "```\n",
    "\n",
    "**IMPORTANTE: utilizarás `info_list` en algún momento de la próxima semana**."
   ]
  },
  {
   "cell_type": "code",
   "execution_count": 10,
   "metadata": {},
   "outputs": [],
   "source": [
    "info_list=[num_bridge,nombre_calle,gusto_personal,nothing,horas_dormidas]"
   ]
  },
  {
   "cell_type": "markdown",
   "metadata": {},
   "source": [
    "8. Ejecuta la siguiente celda para borrar todas las variables que acabas de crear y quédate sólo con **info_list**.\n",
    "Imprime **info_list** una vez lo hayas hecho para comprobar que la lista sigue existiendo."
   ]
  },
  {
   "cell_type": "code",
   "execution_count": null,
   "metadata": {},
   "outputs": [],
   "source": [
    "#ejecuta esto\n",
    "del num_bridge\n",
    "del nombre_calle\n",
    "del gusto_personal\n",
    "del nothing\n",
    "del lista_direcciones\n",
    "del horas_dormidas"
   ]
  },
  {
   "cell_type": "code",
   "execution_count": null,
   "metadata": {},
   "outputs": [],
   "source": []
  },
  {
   "cell_type": "markdown",
   "metadata": {},
   "source": [
    "### Ejercicio 2."
   ]
  },
  {
   "cell_type": "markdown",
   "metadata": {},
   "source": [
    "Necesitarás `info_list` para continuar con este ejercicio. Recuerda no usar ninguna variable excepto `info_list`.\n",
    "\n",
    "Imprime lo siguiente. No uses funciones y/o bucles."
   ]
  },
  {
   "cell_type": "markdown",
   "metadata": {},
   "source": [
    " 1. Suma el número de El Puente y las horas que dormiste anoche."
   ]
  },
  {
   "cell_type": "code",
   "execution_count": 27,
   "metadata": {},
   "outputs": [
    {
     "data": {
      "text/plain": [
       "[15, 'Recoletos', True, None, '8']"
      ]
     },
     "execution_count": 27,
     "metadata": {},
     "output_type": "execute_result"
    }
   ],
   "source": [
    "info_list"
   ]
  },
  {
   "cell_type": "code",
   "execution_count": 26,
   "metadata": {},
   "outputs": [
    {
     "data": {
      "text/plain": [
       "23"
      ]
     },
     "execution_count": 26,
     "metadata": {},
     "output_type": "execute_result"
    }
   ],
   "source": [
    "info_list[0]+int(info_list[-1])"
   ]
  },
  {
   "cell_type": "markdown",
   "metadata": {},
   "source": [
    "2. Concatena el número de El Puente, el nombre de la calle, tus gustos personales y las horas que has dormido. Todos ellos deben ir separados por `\" --> \"`."
   ]
  },
  {
   "cell_type": "code",
   "execution_count": 39,
   "metadata": {},
   "outputs": [
    {
     "data": {
      "text/plain": [
       "'15-->Recoletos-->True-->8'"
      ]
     },
     "execution_count": 39,
     "metadata": {},
     "output_type": "execute_result"
    }
   ],
   "source": [
    "\"-->\".join([str(info_list[x]) for x in [0,1,2,-1]])"
   ]
  },
  {
   "cell_type": "markdown",
   "metadata": {},
   "source": [
    "3. Acceder a la lista que se encuentra en la cuarta posición de **info_list** e imprimir el resultado de:\n",
    "     - La concatenación de los dos elementos contenidos en la lista que se encuentra en la cuarta posición de **info_list**.\n",
    "     - La multiplicación de la longitud de la lista y la longitud del nombre de la calle.\n",
    "    \n",
    "   Si en la cuarta posición de **info_list** no encuentras ninguna lista, vuelve al Ejercicio 1, por favor."
   ]
  },
  {
   "cell_type": "code",
   "execution_count": 43,
   "metadata": {},
   "outputs": [
    {
     "ename": "TypeError",
     "evalue": "unsupported operand type(s) for +: 'NoneType' and 'NoneType'",
     "output_type": "error",
     "traceback": [
      "\u001b[1;31m---------------------------------------------------------------------------\u001b[0m",
      "\u001b[1;31mTypeError\u001b[0m                                 Traceback (most recent call last)",
      "\u001b[1;32mc:\\Users\\0205301\\OneDrive - SENER\\Documentos\\GitHub\\DS_PT_09_2023\\01-Ramp_Up\\02-Python\\02-Ejercicios de repaso\\Practice_3_Collections_II RES.ipynb Cell 28\u001b[0m line \u001b[0;36m1\n\u001b[1;32m----> <a href='vscode-notebook-cell:/c%3A/Users/0205301/OneDrive%20-%20SENER/Documentos/GitHub/DS_PT_09_2023/01-Ramp_Up/02-Python/02-Ejercicios%20de%20repaso/Practice_3_Collections_II%20RES.ipynb#X35sZmlsZQ%3D%3D?line=0'>1</a>\u001b[0m info_list[\u001b[39m3\u001b[39;49m]\u001b[39m+\u001b[39;49minfo_list[\u001b[39m3\u001b[39;49m]\n\u001b[0;32m      <a href='vscode-notebook-cell:/c%3A/Users/0205301/OneDrive%20-%20SENER/Documentos/GitHub/DS_PT_09_2023/01-Ramp_Up/02-Python/02-Ejercicios%20de%20repaso/Practice_3_Collections_II%20RES.ipynb#X35sZmlsZQ%3D%3D?line=1'>2</a>\u001b[0m \u001b[39mlen\u001b[39m(info_list)\u001b[39m*\u001b[39m\u001b[39mlen\u001b[39m(info_list[\u001b[39m1\u001b[39m])\n",
      "\u001b[1;31mTypeError\u001b[0m: unsupported operand type(s) for +: 'NoneType' and 'NoneType'"
     ]
    }
   ],
   "source": [
    "info_list[3]+info_list[3]\n",
    "len(info_list)*len(info_list[1])"
   ]
  },
  {
   "cell_type": "markdown",
   "metadata": {},
   "source": [
    "### Ejercicio 3."
   ]
  },
  {
   "cell_type": "markdown",
   "metadata": {},
   "source": [
    "1. Obtenga la entrada del usuario utilizando input(\"Introduzca su edad: \"). 2. Si el usuario tiene 18 años o más, dar respuesta: Tiene edad suficiente para conducir. Si es menor de 18, se le pide que espere los años que le faltan."
   ]
  },
  {
   "cell_type": "code",
   "execution_count": 44,
   "metadata": {},
   "outputs": [
    {
     "name": "stdout",
     "output_type": "stream",
     "text": [
      "Usted no tiene la edad necesaria para poder conducir. Le quedan 13 años\n"
     ]
    }
   ],
   "source": [
    "edad=int(input(\"Ingrese su edad: \"))\n",
    "\n",
    "if edad >= 18:\n",
    "    print(\"Usted tiene la edad necesaria para poder conducir\")\n",
    "else:\n",
    "    print(\"Usted no tiene la edad necesaria para poder conducir. Le quedan\",18-edad,\"años\")"
   ]
  },
  {
   "cell_type": "markdown",
   "metadata": {},
   "source": [
    "2. Compara los valores de **mi_edad** y **tu_edad** utilizando if/else. ¿Quién es mayor (tú o yo)? Utiliza input(\"Introduce tu edad: \") para obtener **tu_edad** como entrada. **Mi_edad** es siempre tu edad, porque eres tú quien codifica el programa."
   ]
  },
  {
   "cell_type": "code",
   "execution_count": 45,
   "metadata": {},
   "outputs": [
    {
     "name": "stdout",
     "output_type": "stream",
     "text": [
      "Quien es mayor, tu o yo?\n",
      "Yo soy mayor que tu\n"
     ]
    }
   ],
   "source": [
    "print(\"Quien es mayor, tu o yo?\")\n",
    "tu_edad=int(input(\"Ingresa tu edad: \"))\n",
    "mi_edad=48\n",
    "if mi_edad>tu_edad:\n",
    "    print(\"Yo soy mayor que tu\")\n",
    "elif mi_edad<tu_edad:\n",
    "    print(\"Tu eres mayor que yo\")\n",
    "else:\n",
    "    print(\"Tenemos la misma edad\")"
   ]
  },
  {
   "cell_type": "markdown",
   "metadata": {},
   "source": [
    "3. Obtenga dos números del usuario utilizando el prompt de entrada. Si a es mayor que b devuelve \"a es mayor que b\", si a es menor que b devuelve \"a es menor que b\", si no \"a es igual a b\"."
   ]
  },
  {
   "cell_type": "code",
   "execution_count": 48,
   "metadata": {},
   "outputs": [
    {
     "name": "stdout",
     "output_type": "stream",
     "text": [
      "El segundo número es mayor\n"
     ]
    }
   ],
   "source": [
    "a= float(input(\"Introduce el primer número : \"))\n",
    "b= float(input(\"Introduce el segundo número : \"))\n",
    "\n",
    "if a>b:\n",
    "    print(\"El primer número es mayor\")\n",
    "    \n",
    "elif a<b:\n",
    "    print(\"El segundo número es mayor\")\n",
    "else:\n",
    "    print(\"Los números son iguales\")\n",
    "    "
   ]
  },
  {
   "cell_type": "markdown",
   "metadata": {},
   "source": [
    "### Bonus track. "
   ]
  },
  {
   "cell_type": "markdown",
   "metadata": {},
   "source": [
    "Declare cuatro variables:\n",
    "- Una variable de cadena que contiene tu apellido.\n",
    "- Dos variables enteras: una, con el número de la calle en la que vives, y dos, con la edad del compañero de clase sentado a tu derecha.\n",
    "    Si estás en el extremo derecho de la mesa, busca a tu compañero de clase a tu izquierda.\n",
    "    Si estás a distancia, elige a uno de tus compañeros que también esté a distancia.\n",
    "- Una lista con las variables que acabas de declarar."
   ]
  },
  {
   "cell_type": "code",
   "execution_count": 49,
   "metadata": {},
   "outputs": [],
   "source": [
    "apellido='Rodrigo'\n",
    "num_calle=25\n",
    "edad_compañero=20\n",
    "lista_var=[apellido,num_calle,edad_compañero]"
   ]
  },
  {
   "cell_type": "markdown",
   "metadata": {},
   "source": [
    "Utilizando un bucle **for** imprime cada elemento de la lista que acabas de crear.\n",
    "    \n"
   ]
  },
  {
   "cell_type": "code",
   "execution_count": 50,
   "metadata": {},
   "outputs": [
    {
     "name": "stdout",
     "output_type": "stream",
     "text": [
      "Rodrigo\n",
      "25\n",
      "20\n"
     ]
    }
   ],
   "source": [
    "for var in lista_var:\n",
    "    print(var)"
   ]
  },
  {
   "cell_type": "markdown",
   "metadata": {},
   "source": [
    "Utilizando un **bucle for** y un **if** asegúrate de que sólo imprimes el elemento de la lista que es una cadena\n",
    "(Tu apellido)."
   ]
  },
  {
   "cell_type": "code",
   "execution_count": 51,
   "metadata": {},
   "outputs": [
    {
     "name": "stdout",
     "output_type": "stream",
     "text": [
      "Rodrigo\n"
     ]
    }
   ],
   "source": [
    "for var in lista_var:\n",
    "    if isinstance(var, str):\n",
    "        print(var)"
   ]
  },
  {
   "cell_type": "markdown",
   "metadata": {},
   "source": [
    "**Well done!**"
   ]
  },
  {
   "cell_type": "markdown",
   "metadata": {},
   "source": [
    "### Bonus track of the bonus track.\n",
    "\n",
    "La siguiente lista contiene algunas frutas:\n",
    "    \n",
    "`fruits = ['banana', 'orange', 'mango', 'lemon']`\n",
    "\n",
    "Si una fruta no existe en la lista añade la fruta a la lista e imprime la lista modificada. Si la fruta existe print('Esa fruta ya existe en la lista')"
   ]
  },
  {
   "cell_type": "code",
   "execution_count": 54,
   "metadata": {},
   "outputs": [
    {
     "name": "stdout",
     "output_type": "stream",
     "text": [
      "La fruta ya existe en la lista...\n"
     ]
    }
   ],
   "source": [
    "fruits = ['banana', 'orange', 'mango', 'lemon']\n",
    "input_fruta=input(\"Dame una fruta para añadir a la lista...\")\n",
    "if input_fruta in fruits:\n",
    "    print(\"La fruta ya existe en la lista...\")\n",
    "else:\n",
    "    fruits.append(input_fruta)\n",
    "    print(fruits)\n",
    "    print(f\"La fruta {input_fruta} ha sido añadida a la lista...\")"
   ]
  },
  {
   "cell_type": "markdown",
   "metadata": {},
   "source": [
    "![\"hola\"](https://preview.redd.it/wk843smkri441.jpg?width=960&crop=smart&auto=webp&s=1a4d7a5ddeef38c03334d275afe3a9dd33866ce8)"
   ]
  },
  {
   "cell_type": "code",
   "execution_count": null,
   "metadata": {},
   "outputs": [],
   "source": []
  }
 ],
 "metadata": {
  "kernelspec": {
   "display_name": "Python 3",
   "language": "python",
   "name": "python3"
  },
  "language_info": {
   "codemirror_mode": {
    "name": "ipython",
    "version": 3
   },
   "file_extension": ".py",
   "mimetype": "text/x-python",
   "name": "python",
   "nbconvert_exporter": "python",
   "pygments_lexer": "ipython3",
   "version": "3.11.5"
  }
 },
 "nbformat": 4,
 "nbformat_minor": 4
}
