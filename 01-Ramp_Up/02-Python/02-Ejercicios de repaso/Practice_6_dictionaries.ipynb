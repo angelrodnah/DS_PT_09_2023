{
 "cells": [
  {
   "cell_type": "markdown",
   "metadata": {},
   "source": [
    "# Python | day 6 | dictionaries"
   ]
  },
  {
   "cell_type": "markdown",
   "metadata": {},
   "source": [
    "Los diccionarios se utilizan para almacenar valores de datos en pares clave:valor.\n",
    "\n",
    "Un diccionario es una colección desordenada, modificable y que no admite claves duplicadas.\n",
    "\n",
    "Los diccionarios se escriben entre llaves y tienen claves y valores:"
   ]
  },
  {
   "cell_type": "markdown",
   "metadata": {},
   "source": [
    "```python\n",
    "thisdict = {\n",
    "  \"brand\": \"Ford\",\n",
    "  \"model\": \"Mustang\",\n",
    "  \"year\": 1964\n",
    "}\n",
    "```"
   ]
  },
  {
   "cell_type": "markdown",
   "metadata": {},
   "source": [
    "### Ejercicio 1.\n",
    "\n",
    "1. Crea un diccionario con un entero 5 como clave y \"val\" como valor."
   ]
  },
  {
   "cell_type": "code",
   "execution_count": 12,
   "metadata": {},
   "outputs": [],
   "source": [
    "dicc={5:'val'}"
   ]
  },
  {
   "cell_type": "markdown",
   "metadata": {},
   "source": [
    "2. Crea dos listas: una con 4 nombres de ciudades y otra con 4 lugares emblemáticos de la ciudad."
   ]
  },
  {
   "cell_type": "code",
   "execution_count": 3,
   "metadata": {},
   "outputs": [],
   "source": [
    "paises=['España','Portugal','Italia','Francia']\n",
    "ciudades=['Madrid','Lisboa','Roma','Paris']\n",
    "lugares=['Puerta de Alcalá', 'Ponte Vasco de Gama',\"Coliseo\",\" Torre Eiffel\"]"
   ]
  },
  {
   "cell_type": "markdown",
   "metadata": {},
   "source": [
    "3. Crear un diccionario en el que las ciudades contenidas en la primera lista sean las **claves** y los puntos de referencia sean los **valores**.\n",
    "```python\n",
    "#example\n",
    "places = {\"Malaga\": \"Gibralfaro\", \n",
    "         \"Madrid\": \"Templo de Debod\",\n",
    "         \"Granada\": \"La Alcazaba\",\n",
    "         \"Barcelona\": \"Sagrada Familia\"}\n",
    "```"
   ]
  },
  {
   "cell_type": "code",
   "execution_count": 15,
   "metadata": {},
   "outputs": [
    {
     "name": "stdout",
     "output_type": "stream",
     "text": [
      "{'Madrid': 'Puerta de Alcalá', 'Lisboa': 'Ponte Vasco de Gama', 'Roma': 'Coliseo', 'Paris': ' Torre Eiffel'}\n"
     ]
    },
    {
     "data": {
      "text/plain": [
       "{'Madrid': 'Puerta de Alcalá',\n",
       " 'Lisboa': 'Ponte Vasco de Gama',\n",
       " 'Roma': 'Coliseo',\n",
       " 'Paris': ' Torre Eiffel'}"
      ]
     },
     "execution_count": 15,
     "metadata": {},
     "output_type": "execute_result"
    }
   ],
   "source": [
    "ciudades_lugares=dict(zip(ciudades,lugares))\n",
    "print(ciudades_lugares)"
   ]
  },
  {
   "cell_type": "markdown",
   "metadata": {},
   "source": [
    "4. Recorre el diccionario e imprime sólo los valores de las claves que empiecen por la letra **M**."
   ]
  },
  {
   "cell_type": "code",
   "execution_count": 20,
   "metadata": {},
   "outputs": [
    {
     "name": "stdout",
     "output_type": "stream",
     "text": [
      "['Madrid']\n"
     ]
    }
   ],
   "source": [
    "print([k for k in ciudades_lugares.keys() if k.startswith(\"M\")])"
   ]
  },
  {
   "cell_type": "markdown",
   "metadata": {},
   "source": [
    "5. Crea una función que reciba como parámetros dos listas `lista1` y `lista2` y devuelva un diccionario con cada elemento de `lista1` como claves y los elementos de `lista2` como valores. Llama a la función con las listas que has creado antes para que devuelva el mismo diccionario que has creado en la pregunta 3."
   ]
  },
  {
   "cell_type": "code",
   "execution_count": 21,
   "metadata": {},
   "outputs": [],
   "source": [
    "def mk_dict(lista1,lista2):\n",
    "    return dict(zip(lista1,lista2))\n",
    "    "
   ]
  },
  {
   "cell_type": "code",
   "execution_count": 22,
   "metadata": {},
   "outputs": [
    {
     "data": {
      "text/plain": [
       "{'Madrid': 'Puerta de Alcalá',\n",
       " 'Lisboa': 'Ponte Vasco de Gama',\n",
       " 'Roma': 'Coliseo',\n",
       " 'Paris': ' Torre Eiffel'}"
      ]
     },
     "execution_count": 22,
     "metadata": {},
     "output_type": "execute_result"
    }
   ],
   "source": [
    "mk_dict(ciudades,lugares)"
   ]
  },
  {
   "cell_type": "markdown",
   "metadata": {},
   "source": [
    "### Ejercicio 2."
   ]
  },
  {
   "cell_type": "markdown",
   "metadata": {},
   "source": [
    "1. Crea un diccionario vacío llamado perro."
   ]
  },
  {
   "cell_type": "code",
   "execution_count": 23,
   "metadata": {},
   "outputs": [],
   "source": [
    "perro=dict()"
   ]
  },
  {
   "cell_type": "markdown",
   "metadata": {},
   "source": [
    "2. Añade nombre, color, raza, patas, edad al diccionario canino."
   ]
  },
  {
   "cell_type": "code",
   "execution_count": 26,
   "metadata": {},
   "outputs": [
    {
     "data": {
      "text/plain": [
       "{'nombre': 'Firulais', 'raza': 'Pastor Aleman', 'patas': 4, 'edad': 2}"
      ]
     },
     "execution_count": 26,
     "metadata": {},
     "output_type": "execute_result"
    }
   ],
   "source": [
    "perro['nombre'] = 'Firulais'\n",
    "perro['raza'] = 'Pastor Aleman'\n",
    "perro['patas']=4\n",
    "perro['edad'] = 2\n",
    "\n",
    "perro"
   ]
  },
  {
   "cell_type": "markdown",
   "metadata": {},
   "source": [
    "3. Cree un diccionario de alumnos y añada nombre_apellido, edad, habilidades, país, ciudad y dirección como claves del diccionario.\n"
   ]
  },
  {
   "cell_type": "code",
   "execution_count": 46,
   "metadata": {},
   "outputs": [
    {
     "data": {
      "text/plain": [
       "{'nombre_apellido': None,\n",
       " 'edad': None,\n",
       " 'habilidades': [],\n",
       " 'país': None,\n",
       " 'ciudad': None,\n",
       " 'dirección': None}"
      ]
     },
     "execution_count": 46,
     "metadata": {},
     "output_type": "execute_result"
    }
   ],
   "source": [
    "claves=['nombre_apellido', 'edad', 'habilidades', 'país', 'ciudad' , 'dirección']\n",
    "alumno=dict()\n",
    "for clave in claves:\n",
    "    if clave =='habilidades':\n",
    "        alumno[clave]=list()\n",
    "    else:\n",
    "        alumno[clave]=None\n",
    "       \n",
    "alumno"
   ]
  },
  {
   "cell_type": "code",
   "execution_count": 48,
   "metadata": {},
   "outputs": [],
   "source": [
    "alumnos={'alumno1':alumno}"
   ]
  },
  {
   "cell_type": "markdown",
   "metadata": {},
   "source": [
    "4. Obtenga la longitud del diccionario del alumno.\n"
   ]
  },
  {
   "cell_type": "code",
   "execution_count": 49,
   "metadata": {},
   "outputs": [
    {
     "data": {
      "text/plain": [
       "6"
      ]
     },
     "execution_count": 49,
     "metadata": {},
     "output_type": "execute_result"
    }
   ],
   "source": [
    "len(alumnos['alumno1'].keys())"
   ]
  },
  {
   "cell_type": "code",
   "execution_count": 36,
   "metadata": {},
   "outputs": [
    {
     "data": {
      "text/plain": [
       "6"
      ]
     },
     "execution_count": 36,
     "metadata": {},
     "output_type": "execute_result"
    }
   ],
   "source": [
    "alumnos['alumno1'].update({'nota': 10})"
   ]
  },
  {
   "cell_type": "markdown",
   "metadata": {},
   "source": [
    "5. Obtén el valor de skills y comprueba el tipo de datos, debe ser una lista."
   ]
  },
  {
   "cell_type": "code",
   "execution_count": 52,
   "metadata": {},
   "outputs": [],
   "source": [
    "alumnos['alumno1']['habilidades']=['a','b']"
   ]
  },
  {
   "cell_type": "markdown",
   "metadata": {},
   "source": [
    "6. Modifica los valores de las habilidades añadiendo una o dos habilidades."
   ]
  },
  {
   "cell_type": "code",
   "execution_count": null,
   "metadata": {},
   "outputs": [],
   "source": []
  },
  {
   "cell_type": "markdown",
   "metadata": {},
   "source": [
    "7. Obtener las claves del diccionario como una lista."
   ]
  },
  {
   "cell_type": "code",
   "execution_count": null,
   "metadata": {},
   "outputs": [],
   "source": []
  },
  {
   "cell_type": "markdown",
   "metadata": {},
   "source": [
    "8. Obtener los valores del diccionario como una lista.\n"
   ]
  },
  {
   "cell_type": "code",
   "execution_count": null,
   "metadata": {},
   "outputs": [],
   "source": []
  },
  {
   "cell_type": "markdown",
   "metadata": {},
   "source": [
    "9. Cambiar el diccionario a una lista de tuplas utilizando el método `items()`."
   ]
  },
  {
   "cell_type": "code",
   "execution_count": 64,
   "metadata": {},
   "outputs": [
    {
     "data": {
      "text/plain": [
       "{'alumno1': {'nombre_apellido': None,\n",
       "  'edad': None,\n",
       "  'habilidades': ['a', 'b'],\n",
       "  'país': None,\n",
       "  'ciudad': None,\n",
       "  'dirección': None}}"
      ]
     },
     "execution_count": 64,
     "metadata": {},
     "output_type": "execute_result"
    }
   ],
   "source": [
    "alumnos"
   ]
  },
  {
   "cell_type": "markdown",
   "metadata": {},
   "source": [
    "10. Elimine uno de los elementos del diccionario.\n"
   ]
  },
  {
   "cell_type": "code",
   "execution_count": 69,
   "metadata": {},
   "outputs": [
    {
     "name": "stdout",
     "output_type": "stream",
     "text": [
      "dict_items([('nombre_apellido', None), ('edad', None), ('habilidades', ['a', 'b']), ('país', None), ('ciudad', None), ('dirección', None)])\n"
     ]
    }
   ],
   "source": [
    "print(alumnos['alumno1'].items())"
   ]
  },
  {
   "cell_type": "code",
   "execution_count": 76,
   "metadata": {},
   "outputs": [
    {
     "name": "stdout",
     "output_type": "stream",
     "text": [
      "{'alumno1': {'nombre_apellido': None, 'edad': None, 'habilidades': ['a', 'b'], 'país': None, 'ciudad': None, 'dirección': None}}\n"
     ]
    }
   ],
   "source": [
    "alumnos\n",
    "alumnos2=alumnos.copy()\n",
    "print(alumnos2)"
   ]
  },
  {
   "cell_type": "code",
   "execution_count": 77,
   "metadata": {},
   "outputs": [
    {
     "data": {
      "text/plain": [
       "{'alumno1': {'nombre_apellido': None,\n",
       "  'edad': None,\n",
       "  'habilidades': ['a', 'b'],\n",
       "  'país': None,\n",
       "  'ciudad': None,\n",
       "  'dirección': None}}"
      ]
     },
     "execution_count": 77,
     "metadata": {},
     "output_type": "execute_result"
    }
   ],
   "source": [
    "alumnos2"
   ]
  },
  {
   "cell_type": "code",
   "execution_count": 79,
   "metadata": {},
   "outputs": [
    {
     "name": "stdout",
     "output_type": "stream",
     "text": [
      "{'a': {'c': 2}}\n"
     ]
    }
   ],
   "source": [
    "dict1 = {\"a\": {\"b\": 1}}\n",
    "dict2 = {\"a\": {\"c\": 2}}\n",
    "merged_dict = dict1 | dict2\n",
    "print(merged_dict)"
   ]
  },
  {
   "cell_type": "code",
   "execution_count": 63,
   "metadata": {},
   "outputs": [
    {
     "data": {
      "text/plain": [
       "{'apple': 2, 'banana': 2, 'cherry': 1}"
      ]
     },
     "execution_count": 63,
     "metadata": {},
     "output_type": "execute_result"
    }
   ],
   "source": [
    "word_count={word:words.count(word) for word in words}\n",
    "word_count"
   ]
  },
  {
   "cell_type": "code",
   "execution_count": 83,
   "metadata": {},
   "outputs": [],
   "source": [
    "from collections import defaultdict\n",
    "\n",
    "counts1 = defaultdict(int)\n",
    "counts1[\"apple\"] += 1 "
   ]
  },
  {
   "cell_type": "code",
   "execution_count": 86,
   "metadata": {},
   "outputs": [],
   "source": [
    "my_dict = {\"a\": 1, \"b\": 2}\n",
    "value = my_dict.get(\"c\", \"default_value\")"
   ]
  },
  {
   "cell_type": "markdown",
   "metadata": {},
   "source": [
    "### Bonus Track"
   ]
  },
  {
   "cell_type": "markdown",
   "metadata": {},
   "source": [
    "**Tómate una cervecita o un zumito a tu salud.**"
   ]
  },
  {
   "cell_type": "markdown",
   "metadata": {},
   "source": [
    "!['daughter'](https://i.pinimg.com/originals/8f/35/28/8f35281e742e71be09697e7e6789b819.png)"
   ]
  },
  {
   "cell_type": "code",
   "execution_count": null,
   "metadata": {},
   "outputs": [],
   "source": []
  }
 ],
 "metadata": {
  "kernelspec": {
   "display_name": "Python 3",
   "language": "python",
   "name": "python3"
  },
  "language_info": {
   "codemirror_mode": {
    "name": "ipython",
    "version": 3
   },
   "file_extension": ".py",
   "mimetype": "text/x-python",
   "name": "python",
   "nbconvert_exporter": "python",
   "pygments_lexer": "ipython3",
   "version": "3.11.5"
  }
 },
 "nbformat": 4,
 "nbformat_minor": 2
}
