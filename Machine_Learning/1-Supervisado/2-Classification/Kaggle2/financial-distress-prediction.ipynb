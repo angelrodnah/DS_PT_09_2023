{
 "cells": [
  {
   "cell_type": "markdown",
   "id": "b1dc4cd1",
   "metadata": {
    "papermill": {
     "duration": 0.02429,
     "end_time": "2022-07-29T09:53:31.638556",
     "exception": false,
     "start_time": "2022-07-29T09:53:31.614266",
     "status": "completed"
    },
    "tags": []
   },
   "source": [
    "# Financial Distress Prediction\n",
    "\n",
    "Given the historical data about different people getting loans and how they performed, This study revolves around predicting whether or not a person is going to have trouble paying his loan."
   ]
  },
  {
   "cell_type": "code",
   "execution_count": 1,
   "id": "5b4c5b90",
   "metadata": {
    "_cell_guid": "b1076dfc-b9ad-4769-8c92-a6c4dae69d19",
    "_uuid": "8f2839f25d086af736a60e9eeb907d3b93b6e0e5",
    "execution": {
     "iopub.execute_input": "2022-07-29T09:53:31.681945Z",
     "iopub.status.busy": "2022-07-29T09:53:31.681488Z",
     "iopub.status.idle": "2022-07-29T09:53:33.071488Z",
     "shell.execute_reply": "2022-07-29T09:53:33.068503Z"
    },
    "papermill": {
     "duration": 1.415586,
     "end_time": "2022-07-29T09:53:33.075030",
     "exception": false,
     "start_time": "2022-07-29T09:53:31.659444",
     "status": "completed"
    },
    "tags": []
   },
   "outputs": [
    {
     "name": "stdout",
     "output_type": "stream",
     "text": [
      "/kaggle/input/give-me-some-credit-dataset/Data Dictionary.xls\n",
      "/kaggle/input/give-me-some-credit-dataset/cs-training.csv\n",
      "/kaggle/input/give-me-some-credit-dataset/sampleEntry.csv\n",
      "/kaggle/input/give-me-some-credit-dataset/cs-test.csv\n"
     ]
    }
   ],
   "source": [
    "# This Python 3 environment comes with many helpful analytics libraries installed\n",
    "# It is defined by the kaggle/python Docker image: https://github.com/kaggle/docker-python\n",
    "# For example, here's several helpful packages to load\n",
    "\n",
    "import numpy as np # linear algebra\n",
    "import matplotlib.pyplot as plt\n",
    "import seaborn as sns\n",
    "import pandas as pd # data processing, CSV file I/O (e.g. pd.read_csv)\n",
    "\n",
    "\n",
    "# Input data files are available in the read-only \"../input/\" directory\n",
    "# For example, running this (by clicking run or pressing Shift+Enter) will list all files under the input directory\n",
    "\n",
    "import os\n",
    "for dirname, _, filenames in os.walk('/kaggle/input'):\n",
    "    for filename in filenames:\n",
    "        print(os.path.join(dirname, filename))\n",
    "\n",
    "# You can write up to 20GB to the current directory (/kaggle/working/) that gets preserved as output when you create a version using \"Save & Run All\" \n",
    "# You can also write temporary files to /kaggle/temp/, but they won't be saved outside of the current session"
   ]
  },
  {
   "cell_type": "markdown",
   "id": "0e5190ee",
   "metadata": {
    "papermill": {
     "duration": 0.020465,
     "end_time": "2022-07-29T09:53:33.118471",
     "exception": false,
     "start_time": "2022-07-29T09:53:33.098006",
     "status": "completed"
    },
    "tags": []
   },
   "source": [
    "# **Downloading The Data**"
   ]
  },
  {
   "cell_type": "code",
   "execution_count": 2,
   "id": "f65ae328",
   "metadata": {
    "execution": {
     "iopub.execute_input": "2022-07-29T09:53:33.162001Z",
     "iopub.status.busy": "2022-07-29T09:53:33.161105Z",
     "iopub.status.idle": "2022-07-29T09:53:33.624399Z",
     "shell.execute_reply": "2022-07-29T09:53:33.623458Z"
    },
    "papermill": {
     "duration": 0.489146,
     "end_time": "2022-07-29T09:53:33.627681",
     "exception": false,
     "start_time": "2022-07-29T09:53:33.138535",
     "status": "completed"
    },
    "tags": []
   },
   "outputs": [],
   "source": [
    "train_data = pd.read_csv(\"../input/give-me-some-credit-dataset/cs-training.csv\")\n",
    "test_data = pd.read_csv(\"../input/give-me-some-credit-dataset/cs-test.csv\")"
   ]
  },
  {
   "cell_type": "code",
   "execution_count": 3,
   "id": "6d4e7229",
   "metadata": {
    "execution": {
     "iopub.execute_input": "2022-07-29T09:53:33.671500Z",
     "iopub.status.busy": "2022-07-29T09:53:33.670654Z",
     "iopub.status.idle": "2022-07-29T09:53:33.692677Z",
     "shell.execute_reply": "2022-07-29T09:53:33.691532Z"
    },
    "papermill": {
     "duration": 0.047597,
     "end_time": "2022-07-29T09:53:33.695479",
     "exception": false,
     "start_time": "2022-07-29T09:53:33.647882",
     "status": "completed"
    },
    "tags": []
   },
   "outputs": [],
   "source": [
    "train_data.drop(\"Unnamed: 0\", axis=1, inplace=True)"
   ]
  },
  {
   "cell_type": "markdown",
   "id": "04a50b80",
   "metadata": {
    "papermill": {
     "duration": 0.022657,
     "end_time": "2022-07-29T09:53:33.739253",
     "exception": false,
     "start_time": "2022-07-29T09:53:33.716596",
     "status": "completed"
    },
    "tags": []
   },
   "source": [
    "# Feature Description\n",
    "\n",
    "**SeriousDlqin2yrs** Person experienced 90 days past due delinquency or worse Y/N.\n",
    "\n",
    "**RevolvingUtilizationOfUnsecuredLines** Total balance on credit cards and personal lines of credit except real estate and no installment debt like car loans divided by the sum of credit limits percentage\n",
    "age Age of borrower in years integer.\n",
    "\n",
    "**NumberOfTime3059DaysPastDueNotWorse** Number of times borrower has been 30-59 days past due but no worse in the last 2 years. integer.\n",
    "\n",
    "**DebtRatio** Monthly debt payments, alimony,living costs divided by monthly gross income percentage.\n",
    "\n",
    "**MonthlyIncome** Monthly income real.\n",
    "\n",
    "**NumberOfOpenCreditLinesAndLoans** Number of Open loans (installment like car loan or mortgage) and Lines of credit (e.g. credit cards) integer.\n",
    "\n",
    "**NumberOfTimes90DaysLate** Number of times borrower has been 90 days or more past due. integer\n",
    "\n",
    "**NumberRealEstateLoansOrLines** Number of mortgage and real estate loans including home equity lines of credit integer.\n",
    "\n",
    "**NumberOfTime60-89DaysPastDueNotWorse** Number of times borrower has been 60-89 days past due but no worse in the last 2 years. integer.\n",
    "\n",
    "**NumberOfDependents** Number of dependents in family excluding themselves (spouse, children etc.) integer"
   ]
  },
  {
   "cell_type": "code",
   "execution_count": 4,
   "id": "d9af044f",
   "metadata": {
    "execution": {
     "iopub.execute_input": "2022-07-29T09:53:33.783708Z",
     "iopub.status.busy": "2022-07-29T09:53:33.782883Z",
     "iopub.status.idle": "2022-07-29T09:53:33.816301Z",
     "shell.execute_reply": "2022-07-29T09:53:33.814658Z"
    },
    "papermill": {
     "duration": 0.058181,
     "end_time": "2022-07-29T09:53:33.819129",
     "exception": false,
     "start_time": "2022-07-29T09:53:33.760948",
     "status": "completed"
    },
    "tags": []
   },
   "outputs": [
    {
     "data": {
      "text/html": [
       "<div>\n",
       "<style scoped>\n",
       "    .dataframe tbody tr th:only-of-type {\n",
       "        vertical-align: middle;\n",
       "    }\n",
       "\n",
       "    .dataframe tbody tr th {\n",
       "        vertical-align: top;\n",
       "    }\n",
       "\n",
       "    .dataframe thead th {\n",
       "        text-align: right;\n",
       "    }\n",
       "</style>\n",
       "<table border=\"1\" class=\"dataframe\">\n",
       "  <thead>\n",
       "    <tr style=\"text-align: right;\">\n",
       "      <th></th>\n",
       "      <th>SeriousDlqin2yrs</th>\n",
       "      <th>RevolvingUtilizationOfUnsecuredLines</th>\n",
       "      <th>age</th>\n",
       "      <th>NumberOfTime30-59DaysPastDueNotWorse</th>\n",
       "      <th>DebtRatio</th>\n",
       "      <th>MonthlyIncome</th>\n",
       "      <th>NumberOfOpenCreditLinesAndLoans</th>\n",
       "      <th>NumberOfTimes90DaysLate</th>\n",
       "      <th>NumberRealEstateLoansOrLines</th>\n",
       "      <th>NumberOfTime60-89DaysPastDueNotWorse</th>\n",
       "      <th>NumberOfDependents</th>\n",
       "    </tr>\n",
       "  </thead>\n",
       "  <tbody>\n",
       "    <tr>\n",
       "      <th>0</th>\n",
       "      <td>1</td>\n",
       "      <td>0.766127</td>\n",
       "      <td>45</td>\n",
       "      <td>2</td>\n",
       "      <td>0.802982</td>\n",
       "      <td>9120.0</td>\n",
       "      <td>13</td>\n",
       "      <td>0</td>\n",
       "      <td>6</td>\n",
       "      <td>0</td>\n",
       "      <td>2.0</td>\n",
       "    </tr>\n",
       "    <tr>\n",
       "      <th>1</th>\n",
       "      <td>0</td>\n",
       "      <td>0.957151</td>\n",
       "      <td>40</td>\n",
       "      <td>0</td>\n",
       "      <td>0.121876</td>\n",
       "      <td>2600.0</td>\n",
       "      <td>4</td>\n",
       "      <td>0</td>\n",
       "      <td>0</td>\n",
       "      <td>0</td>\n",
       "      <td>1.0</td>\n",
       "    </tr>\n",
       "    <tr>\n",
       "      <th>2</th>\n",
       "      <td>0</td>\n",
       "      <td>0.658180</td>\n",
       "      <td>38</td>\n",
       "      <td>1</td>\n",
       "      <td>0.085113</td>\n",
       "      <td>3042.0</td>\n",
       "      <td>2</td>\n",
       "      <td>1</td>\n",
       "      <td>0</td>\n",
       "      <td>0</td>\n",
       "      <td>0.0</td>\n",
       "    </tr>\n",
       "    <tr>\n",
       "      <th>3</th>\n",
       "      <td>0</td>\n",
       "      <td>0.233810</td>\n",
       "      <td>30</td>\n",
       "      <td>0</td>\n",
       "      <td>0.036050</td>\n",
       "      <td>3300.0</td>\n",
       "      <td>5</td>\n",
       "      <td>0</td>\n",
       "      <td>0</td>\n",
       "      <td>0</td>\n",
       "      <td>0.0</td>\n",
       "    </tr>\n",
       "    <tr>\n",
       "      <th>4</th>\n",
       "      <td>0</td>\n",
       "      <td>0.907239</td>\n",
       "      <td>49</td>\n",
       "      <td>1</td>\n",
       "      <td>0.024926</td>\n",
       "      <td>63588.0</td>\n",
       "      <td>7</td>\n",
       "      <td>0</td>\n",
       "      <td>1</td>\n",
       "      <td>0</td>\n",
       "      <td>0.0</td>\n",
       "    </tr>\n",
       "    <tr>\n",
       "      <th>...</th>\n",
       "      <td>...</td>\n",
       "      <td>...</td>\n",
       "      <td>...</td>\n",
       "      <td>...</td>\n",
       "      <td>...</td>\n",
       "      <td>...</td>\n",
       "      <td>...</td>\n",
       "      <td>...</td>\n",
       "      <td>...</td>\n",
       "      <td>...</td>\n",
       "      <td>...</td>\n",
       "    </tr>\n",
       "    <tr>\n",
       "      <th>149995</th>\n",
       "      <td>0</td>\n",
       "      <td>0.040674</td>\n",
       "      <td>74</td>\n",
       "      <td>0</td>\n",
       "      <td>0.225131</td>\n",
       "      <td>2100.0</td>\n",
       "      <td>4</td>\n",
       "      <td>0</td>\n",
       "      <td>1</td>\n",
       "      <td>0</td>\n",
       "      <td>0.0</td>\n",
       "    </tr>\n",
       "    <tr>\n",
       "      <th>149996</th>\n",
       "      <td>0</td>\n",
       "      <td>0.299745</td>\n",
       "      <td>44</td>\n",
       "      <td>0</td>\n",
       "      <td>0.716562</td>\n",
       "      <td>5584.0</td>\n",
       "      <td>4</td>\n",
       "      <td>0</td>\n",
       "      <td>1</td>\n",
       "      <td>0</td>\n",
       "      <td>2.0</td>\n",
       "    </tr>\n",
       "    <tr>\n",
       "      <th>149997</th>\n",
       "      <td>0</td>\n",
       "      <td>0.246044</td>\n",
       "      <td>58</td>\n",
       "      <td>0</td>\n",
       "      <td>3870.000000</td>\n",
       "      <td>NaN</td>\n",
       "      <td>18</td>\n",
       "      <td>0</td>\n",
       "      <td>1</td>\n",
       "      <td>0</td>\n",
       "      <td>0.0</td>\n",
       "    </tr>\n",
       "    <tr>\n",
       "      <th>149998</th>\n",
       "      <td>0</td>\n",
       "      <td>0.000000</td>\n",
       "      <td>30</td>\n",
       "      <td>0</td>\n",
       "      <td>0.000000</td>\n",
       "      <td>5716.0</td>\n",
       "      <td>4</td>\n",
       "      <td>0</td>\n",
       "      <td>0</td>\n",
       "      <td>0</td>\n",
       "      <td>0.0</td>\n",
       "    </tr>\n",
       "    <tr>\n",
       "      <th>149999</th>\n",
       "      <td>0</td>\n",
       "      <td>0.850283</td>\n",
       "      <td>64</td>\n",
       "      <td>0</td>\n",
       "      <td>0.249908</td>\n",
       "      <td>8158.0</td>\n",
       "      <td>8</td>\n",
       "      <td>0</td>\n",
       "      <td>2</td>\n",
       "      <td>0</td>\n",
       "      <td>0.0</td>\n",
       "    </tr>\n",
       "  </tbody>\n",
       "</table>\n",
       "<p>150000 rows × 11 columns</p>\n",
       "</div>"
      ],
      "text/plain": [
       "        SeriousDlqin2yrs  RevolvingUtilizationOfUnsecuredLines  age  \\\n",
       "0                      1                              0.766127   45   \n",
       "1                      0                              0.957151   40   \n",
       "2                      0                              0.658180   38   \n",
       "3                      0                              0.233810   30   \n",
       "4                      0                              0.907239   49   \n",
       "...                  ...                                   ...  ...   \n",
       "149995                 0                              0.040674   74   \n",
       "149996                 0                              0.299745   44   \n",
       "149997                 0                              0.246044   58   \n",
       "149998                 0                              0.000000   30   \n",
       "149999                 0                              0.850283   64   \n",
       "\n",
       "        NumberOfTime30-59DaysPastDueNotWorse    DebtRatio  MonthlyIncome  \\\n",
       "0                                          2     0.802982         9120.0   \n",
       "1                                          0     0.121876         2600.0   \n",
       "2                                          1     0.085113         3042.0   \n",
       "3                                          0     0.036050         3300.0   \n",
       "4                                          1     0.024926        63588.0   \n",
       "...                                      ...          ...            ...   \n",
       "149995                                     0     0.225131         2100.0   \n",
       "149996                                     0     0.716562         5584.0   \n",
       "149997                                     0  3870.000000            NaN   \n",
       "149998                                     0     0.000000         5716.0   \n",
       "149999                                     0     0.249908         8158.0   \n",
       "\n",
       "        NumberOfOpenCreditLinesAndLoans  NumberOfTimes90DaysLate  \\\n",
       "0                                    13                        0   \n",
       "1                                     4                        0   \n",
       "2                                     2                        1   \n",
       "3                                     5                        0   \n",
       "4                                     7                        0   \n",
       "...                                 ...                      ...   \n",
       "149995                                4                        0   \n",
       "149996                                4                        0   \n",
       "149997                               18                        0   \n",
       "149998                                4                        0   \n",
       "149999                                8                        0   \n",
       "\n",
       "        NumberRealEstateLoansOrLines  NumberOfTime60-89DaysPastDueNotWorse  \\\n",
       "0                                  6                                     0   \n",
       "1                                  0                                     0   \n",
       "2                                  0                                     0   \n",
       "3                                  0                                     0   \n",
       "4                                  1                                     0   \n",
       "...                              ...                                   ...   \n",
       "149995                             1                                     0   \n",
       "149996                             1                                     0   \n",
       "149997                             1                                     0   \n",
       "149998                             0                                     0   \n",
       "149999                             2                                     0   \n",
       "\n",
       "        NumberOfDependents  \n",
       "0                      2.0  \n",
       "1                      1.0  \n",
       "2                      0.0  \n",
       "3                      0.0  \n",
       "4                      0.0  \n",
       "...                    ...  \n",
       "149995                 0.0  \n",
       "149996                 2.0  \n",
       "149997                 0.0  \n",
       "149998                 0.0  \n",
       "149999                 0.0  \n",
       "\n",
       "[150000 rows x 11 columns]"
      ]
     },
     "execution_count": 4,
     "metadata": {},
     "output_type": "execute_result"
    }
   ],
   "source": [
    "train_data"
   ]
  },
  {
   "cell_type": "markdown",
   "id": "cc31f35c",
   "metadata": {
    "papermill": {
     "duration": 0.020997,
     "end_time": "2022-07-29T09:53:33.860985",
     "exception": false,
     "start_time": "2022-07-29T09:53:33.839988",
     "status": "completed"
    },
    "tags": []
   },
   "source": [
    "# Cleaning The Data"
   ]
  },
  {
   "cell_type": "code",
   "execution_count": 5,
   "id": "b81f388a",
   "metadata": {
    "execution": {
     "iopub.execute_input": "2022-07-29T09:53:33.906520Z",
     "iopub.status.busy": "2022-07-29T09:53:33.906123Z",
     "iopub.status.idle": "2022-07-29T09:53:33.943970Z",
     "shell.execute_reply": "2022-07-29T09:53:33.942252Z"
    },
    "papermill": {
     "duration": 0.064813,
     "end_time": "2022-07-29T09:53:33.947432",
     "exception": false,
     "start_time": "2022-07-29T09:53:33.882619",
     "status": "completed"
    },
    "tags": []
   },
   "outputs": [
    {
     "name": "stdout",
     "output_type": "stream",
     "text": [
      "<class 'pandas.core.frame.DataFrame'>\n",
      "Int64Index: 120269 entries, 0 to 149999\n",
      "Data columns (total 11 columns):\n",
      " #   Column                                Non-Null Count   Dtype  \n",
      "---  ------                                --------------   -----  \n",
      " 0   SeriousDlqin2yrs                      120269 non-null  int64  \n",
      " 1   RevolvingUtilizationOfUnsecuredLines  120269 non-null  float64\n",
      " 2   age                                   120269 non-null  int64  \n",
      " 3   NumberOfTime30-59DaysPastDueNotWorse  120269 non-null  int64  \n",
      " 4   DebtRatio                             120269 non-null  float64\n",
      " 5   MonthlyIncome                         120269 non-null  float64\n",
      " 6   NumberOfOpenCreditLinesAndLoans       120269 non-null  int64  \n",
      " 7   NumberOfTimes90DaysLate               120269 non-null  int64  \n",
      " 8   NumberRealEstateLoansOrLines          120269 non-null  int64  \n",
      " 9   NumberOfTime60-89DaysPastDueNotWorse  120269 non-null  int64  \n",
      " 10  NumberOfDependents                    120269 non-null  float64\n",
      "dtypes: float64(4), int64(7)\n",
      "memory usage: 11.0 MB\n"
     ]
    }
   ],
   "source": [
    "train_data.dropna(inplace=True)\n",
    "train_data.info()"
   ]
  },
  {
   "cell_type": "markdown",
   "id": "82183173",
   "metadata": {
    "papermill": {
     "duration": 0.02108,
     "end_time": "2022-07-29T09:53:33.989286",
     "exception": false,
     "start_time": "2022-07-29T09:53:33.968206",
     "status": "completed"
    },
    "tags": []
   },
   "source": [
    "# Exploring The Data"
   ]
  },
  {
   "cell_type": "code",
   "execution_count": 6,
   "id": "6fa3072e",
   "metadata": {
    "execution": {
     "iopub.execute_input": "2022-07-29T09:53:34.035076Z",
     "iopub.status.busy": "2022-07-29T09:53:34.034216Z",
     "iopub.status.idle": "2022-07-29T09:53:34.055171Z",
     "shell.execute_reply": "2022-07-29T09:53:34.053554Z"
    },
    "papermill": {
     "duration": 0.047374,
     "end_time": "2022-07-29T09:53:34.058041",
     "exception": false,
     "start_time": "2022-07-29T09:53:34.010667",
     "status": "completed"
    },
    "tags": []
   },
   "outputs": [],
   "source": [
    "train_data.drop(index=train_data[train_data.SeriousDlqin2yrs == 4].index, inplace=True)"
   ]
  },
  {
   "cell_type": "code",
   "execution_count": 7,
   "id": "12634d8f",
   "metadata": {
    "execution": {
     "iopub.execute_input": "2022-07-29T09:53:34.103432Z",
     "iopub.status.busy": "2022-07-29T09:53:34.102083Z",
     "iopub.status.idle": "2022-07-29T09:53:34.134806Z",
     "shell.execute_reply": "2022-07-29T09:53:34.133924Z"
    },
    "papermill": {
     "duration": 0.057138,
     "end_time": "2022-07-29T09:53:34.137078",
     "exception": false,
     "start_time": "2022-07-29T09:53:34.079940",
     "status": "completed"
    },
    "tags": []
   },
   "outputs": [
    {
     "data": {
      "text/plain": [
       "SeriousDlqin2yrs                             2\n",
       "RevolvingUtilizationOfUnsecuredLines    103063\n",
       "age                                         83\n",
       "NumberOfTime30-59DaysPastDueNotWorse        16\n",
       "DebtRatio                               109658\n",
       "MonthlyIncome                            13594\n",
       "NumberOfOpenCreditLinesAndLoans             58\n",
       "NumberOfTimes90DaysLate                     19\n",
       "NumberRealEstateLoansOrLines                28\n",
       "NumberOfTime60-89DaysPastDueNotWorse        13\n",
       "NumberOfDependents                          13\n",
       "dtype: int64"
      ]
     },
     "execution_count": 7,
     "metadata": {},
     "output_type": "execute_result"
    }
   ],
   "source": [
    "train_data.nunique()"
   ]
  },
  {
   "cell_type": "code",
   "execution_count": 8,
   "id": "50dcd645",
   "metadata": {
    "execution": {
     "iopub.execute_input": "2022-07-29T09:53:34.183458Z",
     "iopub.status.busy": "2022-07-29T09:53:34.182230Z",
     "iopub.status.idle": "2022-07-29T09:53:34.704608Z",
     "shell.execute_reply": "2022-07-29T09:53:34.703635Z"
    },
    "papermill": {
     "duration": 0.54873,
     "end_time": "2022-07-29T09:53:34.706993",
     "exception": false,
     "start_time": "2022-07-29T09:53:34.158263",
     "status": "completed"
    },
    "tags": []
   },
   "outputs": [
    {
     "data": {
      "text/plain": [
       "<AxesSubplot:>"
      ]
     },
     "execution_count": 8,
     "metadata": {},
     "output_type": "execute_result"
    },
    {
     "data": {
      "image/png": "[encoded data removed]",
      "text/plain": [
       "<Figure size 432x288 with 2 Axes>"
      ]
     },
     "metadata": {
      "needs_background": "light"
     },
     "output_type": "display_data"
    }
   ],
   "source": [
    "sns.heatmap(train_data.corr())"
   ]
  },
  {
   "cell_type": "code",
   "execution_count": 9,
   "id": "c3436507",
   "metadata": {
    "execution": {
     "iopub.execute_input": "2022-07-29T09:53:34.758373Z",
     "iopub.status.busy": "2022-07-29T09:53:34.756956Z",
     "iopub.status.idle": "2022-07-29T09:53:34.862267Z",
     "shell.execute_reply": "2022-07-29T09:53:34.861003Z"
    },
    "papermill": {
     "duration": 0.135023,
     "end_time": "2022-07-29T09:53:34.865831",
     "exception": false,
     "start_time": "2022-07-29T09:53:34.730808",
     "status": "completed"
    },
    "tags": []
   },
   "outputs": [
    {
     "data": {
      "text/html": [
       "<div>\n",
       "<style scoped>\n",
       "    .dataframe tbody tr th:only-of-type {\n",
       "        vertical-align: middle;\n",
       "    }\n",
       "\n",
       "    .dataframe tbody tr th {\n",
       "        vertical-align: top;\n",
       "    }\n",
       "\n",
       "    .dataframe thead th {\n",
       "        text-align: right;\n",
       "    }\n",
       "</style>\n",
       "<table border=\"1\" class=\"dataframe\">\n",
       "  <thead>\n",
       "    <tr style=\"text-align: right;\">\n",
       "      <th></th>\n",
       "      <th>SeriousDlqin2yrs</th>\n",
       "      <th>RevolvingUtilizationOfUnsecuredLines</th>\n",
       "      <th>age</th>\n",
       "      <th>NumberOfTime30-59DaysPastDueNotWorse</th>\n",
       "      <th>DebtRatio</th>\n",
       "      <th>MonthlyIncome</th>\n",
       "      <th>NumberOfOpenCreditLinesAndLoans</th>\n",
       "      <th>NumberOfTimes90DaysLate</th>\n",
       "      <th>NumberRealEstateLoansOrLines</th>\n",
       "      <th>NumberOfTime60-89DaysPastDueNotWorse</th>\n",
       "      <th>NumberOfDependents</th>\n",
       "    </tr>\n",
       "  </thead>\n",
       "  <tbody>\n",
       "    <tr>\n",
       "      <th>count</th>\n",
       "      <td>120269.000000</td>\n",
       "      <td>120269.000000</td>\n",
       "      <td>120269.000000</td>\n",
       "      <td>120269.000000</td>\n",
       "      <td>120269.000000</td>\n",
       "      <td>1.202690e+05</td>\n",
       "      <td>120269.000000</td>\n",
       "      <td>120269.000000</td>\n",
       "      <td>120269.000000</td>\n",
       "      <td>120269.000000</td>\n",
       "      <td>120269.000000</td>\n",
       "    </tr>\n",
       "    <tr>\n",
       "      <th>mean</th>\n",
       "      <td>0.069486</td>\n",
       "      <td>5.899873</td>\n",
       "      <td>51.289792</td>\n",
       "      <td>0.381769</td>\n",
       "      <td>26.598777</td>\n",
       "      <td>6.670221e+03</td>\n",
       "      <td>8.758475</td>\n",
       "      <td>0.211925</td>\n",
       "      <td>1.054519</td>\n",
       "      <td>0.187829</td>\n",
       "      <td>0.851832</td>\n",
       "    </tr>\n",
       "    <tr>\n",
       "      <th>std</th>\n",
       "      <td>0.254280</td>\n",
       "      <td>257.040685</td>\n",
       "      <td>14.426684</td>\n",
       "      <td>3.499234</td>\n",
       "      <td>424.446457</td>\n",
       "      <td>1.438467e+04</td>\n",
       "      <td>5.172835</td>\n",
       "      <td>3.465276</td>\n",
       "      <td>1.149273</td>\n",
       "      <td>3.447901</td>\n",
       "      <td>1.148391</td>\n",
       "    </tr>\n",
       "    <tr>\n",
       "      <th>min</th>\n",
       "      <td>0.000000</td>\n",
       "      <td>0.000000</td>\n",
       "      <td>0.000000</td>\n",
       "      <td>0.000000</td>\n",
       "      <td>0.000000</td>\n",
       "      <td>0.000000e+00</td>\n",
       "      <td>0.000000</td>\n",
       "      <td>0.000000</td>\n",
       "      <td>0.000000</td>\n",
       "      <td>0.000000</td>\n",
       "      <td>0.000000</td>\n",
       "    </tr>\n",
       "    <tr>\n",
       "      <th>25%</th>\n",
       "      <td>0.000000</td>\n",
       "      <td>0.035084</td>\n",
       "      <td>40.000000</td>\n",
       "      <td>0.000000</td>\n",
       "      <td>0.143388</td>\n",
       "      <td>3.400000e+03</td>\n",
       "      <td>5.000000</td>\n",
       "      <td>0.000000</td>\n",
       "      <td>0.000000</td>\n",
       "      <td>0.000000</td>\n",
       "      <td>0.000000</td>\n",
       "    </tr>\n",
       "    <tr>\n",
       "      <th>50%</th>\n",
       "      <td>0.000000</td>\n",
       "      <td>0.177282</td>\n",
       "      <td>51.000000</td>\n",
       "      <td>0.000000</td>\n",
       "      <td>0.296023</td>\n",
       "      <td>5.400000e+03</td>\n",
       "      <td>8.000000</td>\n",
       "      <td>0.000000</td>\n",
       "      <td>1.000000</td>\n",
       "      <td>0.000000</td>\n",
       "      <td>0.000000</td>\n",
       "    </tr>\n",
       "    <tr>\n",
       "      <th>75%</th>\n",
       "      <td>0.000000</td>\n",
       "      <td>0.579428</td>\n",
       "      <td>61.000000</td>\n",
       "      <td>0.000000</td>\n",
       "      <td>0.482559</td>\n",
       "      <td>8.249000e+03</td>\n",
       "      <td>11.000000</td>\n",
       "      <td>0.000000</td>\n",
       "      <td>2.000000</td>\n",
       "      <td>0.000000</td>\n",
       "      <td>2.000000</td>\n",
       "    </tr>\n",
       "    <tr>\n",
       "      <th>max</th>\n",
       "      <td>1.000000</td>\n",
       "      <td>50708.000000</td>\n",
       "      <td>103.000000</td>\n",
       "      <td>98.000000</td>\n",
       "      <td>61106.500000</td>\n",
       "      <td>3.008750e+06</td>\n",
       "      <td>58.000000</td>\n",
       "      <td>98.000000</td>\n",
       "      <td>54.000000</td>\n",
       "      <td>98.000000</td>\n",
       "      <td>20.000000</td>\n",
       "    </tr>\n",
       "  </tbody>\n",
       "</table>\n",
       "</div>"
      ],
      "text/plain": [
       "       SeriousDlqin2yrs  RevolvingUtilizationOfUnsecuredLines            age  \\\n",
       "count     120269.000000                         120269.000000  120269.000000   \n",
       "mean           0.069486                              5.899873      51.289792   \n",
       "std            0.254280                            257.040685      14.426684   \n",
       "min            0.000000                              0.000000       0.000000   \n",
       "25%            0.000000                              0.035084      40.000000   \n",
       "50%            0.000000                              0.177282      51.000000   \n",
       "75%            0.000000                              0.579428      61.000000   \n",
       "max            1.000000                          50708.000000     103.000000   \n",
       "\n",
       "       NumberOfTime30-59DaysPastDueNotWorse      DebtRatio  MonthlyIncome  \\\n",
       "count                         120269.000000  120269.000000   1.202690e+05   \n",
       "mean                               0.381769      26.598777   6.670221e+03   \n",
       "std                                3.499234     424.446457   1.438467e+04   \n",
       "min                                0.000000       0.000000   0.000000e+00   \n",
       "25%                                0.000000       0.143388   3.400000e+03   \n",
       "50%                                0.000000       0.296023   5.400000e+03   \n",
       "75%                                0.000000       0.482559   8.249000e+03   \n",
       "max                               98.000000   61106.500000   3.008750e+06   \n",
       "\n",
       "       NumberOfOpenCreditLinesAndLoans  NumberOfTimes90DaysLate  \\\n",
       "count                    120269.000000            120269.000000   \n",
       "mean                          8.758475                 0.211925   \n",
       "std                           5.172835                 3.465276   \n",
       "min                           0.000000                 0.000000   \n",
       "25%                           5.000000                 0.000000   \n",
       "50%                           8.000000                 0.000000   \n",
       "75%                          11.000000                 0.000000   \n",
       "max                          58.000000                98.000000   \n",
       "\n",
       "       NumberRealEstateLoansOrLines  NumberOfTime60-89DaysPastDueNotWorse  \\\n",
       "count                 120269.000000                         120269.000000   \n",
       "mean                       1.054519                              0.187829   \n",
       "std                        1.149273                              3.447901   \n",
       "min                        0.000000                              0.000000   \n",
       "25%                        0.000000                              0.000000   \n",
       "50%                        1.000000                              0.000000   \n",
       "75%                        2.000000                              0.000000   \n",
       "max                       54.000000                             98.000000   \n",
       "\n",
       "       NumberOfDependents  \n",
       "count       120269.000000  \n",
       "mean             0.851832  \n",
       "std              1.148391  \n",
       "min              0.000000  \n",
       "25%              0.000000  \n",
       "50%              0.000000  \n",
       "75%              2.000000  \n",
       "max             20.000000  "
      ]
     },
     "execution_count": 9,
     "metadata": {},
     "output_type": "execute_result"
    }
   ],
   "source": [
    "train_data.describe()"
   ]
  },
  {
   "cell_type": "code",
   "execution_count": 10,
   "id": "a0d1cf65",
   "metadata": {
    "execution": {
     "iopub.execute_input": "2022-07-29T09:53:34.916939Z",
     "iopub.status.busy": "2022-07-29T09:53:34.916454Z",
     "iopub.status.idle": "2022-07-29T09:53:35.152778Z",
     "shell.execute_reply": "2022-07-29T09:53:35.151530Z"
    },
    "papermill": {
     "duration": 0.265192,
     "end_time": "2022-07-29T09:53:35.156067",
     "exception": false,
     "start_time": "2022-07-29T09:53:34.890875",
     "status": "completed"
    },
    "tags": []
   },
   "outputs": [
    {
     "data": {
      "text/plain": [
       "(array([[0.0000e+00, 0.0000e+00, 1.0060e+03, 2.2780e+03, 2.4280e+03,\n",
       "         1.6960e+03, 7.0400e+02, 1.9200e+02, 4.9000e+01, 4.0000e+00],\n",
       "        [1.0000e+00, 0.0000e+00, 8.0460e+03, 2.1413e+04, 2.7482e+04,\n",
       "         2.5918e+04, 1.9496e+04, 7.4740e+03, 1.9690e+03, 1.1300e+02]]),\n",
       " array([  0. ,  10.3,  20.6,  30.9,  41.2,  51.5,  61.8,  72.1,  82.4,\n",
       "         92.7, 103. ]),\n",
       " <a list of 2 BarContainer objects>)"
      ]
     },
     "execution_count": 10,
     "metadata": {},
     "output_type": "execute_result"
    },
    {
     "data": {
      "image/png": "[encoded data removed]",
      "text/plain": [
       "<Figure size 432x288 with 1 Axes>"
      ]
     },
     "metadata": {
      "needs_background": "light"
     },
     "output_type": "display_data"
    }
   ],
   "source": [
    "plt.hist([train_data[train_data[\"SeriousDlqin2yrs\"] == 1].age, train_data[train_data[\"SeriousDlqin2yrs\"] == 0].age], color=[\"blue\", \"green\"])\n"
   ]
  },
  {
   "cell_type": "code",
   "execution_count": 11,
   "id": "a497223c",
   "metadata": {
    "execution": {
     "iopub.execute_input": "2022-07-29T09:53:35.205779Z",
     "iopub.status.busy": "2022-07-29T09:53:35.205321Z",
     "iopub.status.idle": "2022-07-29T09:53:35.216206Z",
     "shell.execute_reply": "2022-07-29T09:53:35.215073Z"
    },
    "papermill": {
     "duration": 0.040024,
     "end_time": "2022-07-29T09:53:35.218871",
     "exception": false,
     "start_time": "2022-07-29T09:53:35.178847",
     "status": "completed"
    },
    "tags": []
   },
   "outputs": [
    {
     "data": {
      "text/plain": [
       "Int64Index([   293,    697,   1991,   2331,   4278,   4793,   6760,   6850,\n",
       "              7447,   7637,\n",
       "            ...\n",
       "            144739, 145585, 145587, 147304, 148828, 149102, 149160, 149245,\n",
       "            149279, 149927],\n",
       "           dtype='int64', length=210)"
      ]
     },
     "execution_count": 11,
     "metadata": {},
     "output_type": "execute_result"
    }
   ],
   "source": [
    "droped_index = train_data[train_data['RevolvingUtilizationOfUnsecuredLines'] > 3].index\n",
    "\n",
    "droped_index"
   ]
  },
  {
   "cell_type": "code",
   "execution_count": 12,
   "id": "e75b5065",
   "metadata": {
    "execution": {
     "iopub.execute_input": "2022-07-29T09:53:35.269981Z",
     "iopub.status.busy": "2022-07-29T09:53:35.269272Z",
     "iopub.status.idle": "2022-07-29T09:53:35.284789Z",
     "shell.execute_reply": "2022-07-29T09:53:35.283112Z"
    },
    "papermill": {
     "duration": 0.045114,
     "end_time": "2022-07-29T09:53:35.288217",
     "exception": false,
     "start_time": "2022-07-29T09:53:35.243103",
     "status": "completed"
    },
    "tags": []
   },
   "outputs": [],
   "source": [
    "train_data.drop(index=droped_index, inplace= True)"
   ]
  },
  {
   "cell_type": "code",
   "execution_count": 13,
   "id": "e6b3baa5",
   "metadata": {
    "execution": {
     "iopub.execute_input": "2022-07-29T09:53:35.338988Z",
     "iopub.status.busy": "2022-07-29T09:53:35.337764Z",
     "iopub.status.idle": "2022-07-29T09:53:35.559375Z",
     "shell.execute_reply": "2022-07-29T09:53:35.557763Z"
    },
    "papermill": {
     "duration": 0.249922,
     "end_time": "2022-07-29T09:53:35.562704",
     "exception": false,
     "start_time": "2022-07-29T09:53:35.312782",
     "status": "completed"
    },
    "tags": []
   },
   "outputs": [
    {
     "data": {
      "image/png": "[encoded data removed]",
      "text/plain": [
       "<Figure size 432x288 with 1 Axes>"
      ]
     },
     "metadata": {
      "needs_background": "light"
     },
     "output_type": "display_data"
    }
   ],
   "source": [
    "sns.boxplot(data=train_data, y='RevolvingUtilizationOfUnsecuredLines', x=\"SeriousDlqin2yrs\");"
   ]
  },
  {
   "cell_type": "markdown",
   "id": "342cbe41",
   "metadata": {
    "papermill": {
     "duration": 0.024406,
     "end_time": "2022-07-29T09:53:35.610323",
     "exception": false,
     "start_time": "2022-07-29T09:53:35.585917",
     "status": "completed"
    },
    "tags": []
   },
   "source": [
    "We can clearly see that people who utilize unsecured lines are much likely to be in problems "
   ]
  },
  {
   "cell_type": "code",
   "execution_count": 14,
   "id": "3523d870",
   "metadata": {
    "execution": {
     "iopub.execute_input": "2022-07-29T09:53:35.664901Z",
     "iopub.status.busy": "2022-07-29T09:53:35.664056Z",
     "iopub.status.idle": "2022-07-29T09:53:35.677564Z",
     "shell.execute_reply": "2022-07-29T09:53:35.676164Z"
    },
    "papermill": {
     "duration": 0.04546,
     "end_time": "2022-07-29T09:53:35.681258",
     "exception": false,
     "start_time": "2022-07-29T09:53:35.635798",
     "status": "completed"
    },
    "tags": []
   },
   "outputs": [],
   "source": [
    "train_data[train_data['age'] == 0]\n",
    "train_data.drop(index=65695, inplace=True)"
   ]
  },
  {
   "cell_type": "code",
   "execution_count": 15,
   "id": "74bed326",
   "metadata": {
    "execution": {
     "iopub.execute_input": "2022-07-29T09:53:35.736832Z",
     "iopub.status.busy": "2022-07-29T09:53:35.736394Z",
     "iopub.status.idle": "2022-07-29T09:53:35.947419Z",
     "shell.execute_reply": "2022-07-29T09:53:35.946147Z"
    },
    "papermill": {
     "duration": 0.241504,
     "end_time": "2022-07-29T09:53:35.950319",
     "exception": false,
     "start_time": "2022-07-29T09:53:35.708815",
     "status": "completed"
    },
    "tags": []
   },
   "outputs": [
    {
     "data": {
      "text/plain": [
       "<AxesSubplot:xlabel='SeriousDlqin2yrs', ylabel='age'>"
      ]
     },
     "execution_count": 15,
     "metadata": {},
     "output_type": "execute_result"
    },
    {
     "data": {
      "image/png": "[encoded data removed]",
      "text/plain": [
       "<Figure size 432x288 with 1 Axes>"
      ]
     },
     "metadata": {
      "needs_background": "light"
     },
     "output_type": "display_data"
    }
   ],
   "source": [
    "sns.boxplot(data=train_data, y=\"age\", x='SeriousDlqin2yrs')"
   ]
  },
  {
   "cell_type": "markdown",
   "id": "ebe5f6cf",
   "metadata": {
    "papermill": {
     "duration": 0.025063,
     "end_time": "2022-07-29T09:53:35.999858",
     "exception": false,
     "start_time": "2022-07-29T09:53:35.974795",
     "status": "completed"
    },
    "tags": []
   },
   "source": [
    "It's roughly close on the age, but people who had problems are about 5 years younger than their alternatives."
   ]
  },
  {
   "cell_type": "code",
   "execution_count": 16,
   "id": "36790de0",
   "metadata": {
    "execution": {
     "iopub.execute_input": "2022-07-29T09:53:36.057166Z",
     "iopub.status.busy": "2022-07-29T09:53:36.055837Z",
     "iopub.status.idle": "2022-07-29T09:53:36.070193Z",
     "shell.execute_reply": "2022-07-29T09:53:36.069134Z"
    },
    "papermill": {
     "duration": 0.045752,
     "end_time": "2022-07-29T09:53:36.073214",
     "exception": false,
     "start_time": "2022-07-29T09:53:36.027462",
     "status": "completed"
    },
    "tags": []
   },
   "outputs": [],
   "source": [
    "dropped_index2 = train_data[train_data['NumberOfTime30-59DaysPastDueNotWorse'] > 80].index\n",
    "train_data.drop(index=dropped_index2, inplace=True)"
   ]
  },
  {
   "cell_type": "code",
   "execution_count": 17,
   "id": "0dc5fb6d",
   "metadata": {
    "execution": {
     "iopub.execute_input": "2022-07-29T09:53:36.128589Z",
     "iopub.status.busy": "2022-07-29T09:53:36.127888Z",
     "iopub.status.idle": "2022-07-29T09:53:36.399552Z",
     "shell.execute_reply": "2022-07-29T09:53:36.398242Z"
    },
    "papermill": {
     "duration": 0.303149,
     "end_time": "2022-07-29T09:53:36.402958",
     "exception": false,
     "start_time": "2022-07-29T09:53:36.099809",
     "status": "completed"
    },
    "tags": []
   },
   "outputs": [
    {
     "data": {
      "text/plain": [
       "<AxesSubplot:xlabel='SeriousDlqin2yrs', ylabel='NumberOfTime30-59DaysPastDueNotWorse'>"
      ]
     },
     "execution_count": 17,
     "metadata": {},
     "output_type": "execute_result"
    },
    {
     "data": {
      "image/png": "[encoded data removed]",
      "text/plain": [
       "<Figure size 432x288 with 1 Axes>"
      ]
     },
     "metadata": {
      "needs_background": "light"
     },
     "output_type": "display_data"
    }
   ],
   "source": [
    "sns.boxplot(data=train_data, y=\"NumberOfTime30-59DaysPastDueNotWorse\", x='SeriousDlqin2yrs')"
   ]
  },
  {
   "cell_type": "markdown",
   "id": "d13bfd03",
   "metadata": {
    "papermill": {
     "duration": 0.026524,
     "end_time": "2022-07-29T09:53:36.455727",
     "exception": false,
     "start_time": "2022-07-29T09:53:36.429203",
     "status": "completed"
    },
    "tags": []
   },
   "source": [
    "This would be a very important feature as it shows clear correlation between the distress and the number of times past due for the 30-59 days section as it's zero on their alternatives."
   ]
  },
  {
   "cell_type": "code",
   "execution_count": 18,
   "id": "5f2bc215",
   "metadata": {
    "execution": {
     "iopub.execute_input": "2022-07-29T09:53:36.509124Z",
     "iopub.status.busy": "2022-07-29T09:53:36.508205Z",
     "iopub.status.idle": "2022-07-29T09:53:36.981195Z",
     "shell.execute_reply": "2022-07-29T09:53:36.980313Z"
    },
    "papermill": {
     "duration": 0.503053,
     "end_time": "2022-07-29T09:53:36.983921",
     "exception": false,
     "start_time": "2022-07-29T09:53:36.480868",
     "status": "completed"
    },
    "tags": []
   },
   "outputs": [
    {
     "data": {
      "text/plain": [
       "<AxesSubplot:>"
      ]
     },
     "execution_count": 18,
     "metadata": {},
     "output_type": "execute_result"
    },
    {
     "data": {
      "image/png": "[encoded data removed]",
      "text/plain": [
       "<Figure size 432x288 with 2 Axes>"
      ]
     },
     "metadata": {
      "needs_background": "light"
     },
     "output_type": "display_data"
    }
   ],
   "source": [
    "sns.heatmap(train_data.corr())"
   ]
  },
  {
   "cell_type": "code",
   "execution_count": 19,
   "id": "1c19cbde",
   "metadata": {
    "execution": {
     "iopub.execute_input": "2022-07-29T09:53:37.037549Z",
     "iopub.status.busy": "2022-07-29T09:53:37.036723Z",
     "iopub.status.idle": "2022-07-29T09:53:37.137707Z",
     "shell.execute_reply": "2022-07-29T09:53:37.136780Z"
    },
    "papermill": {
     "duration": 0.130899,
     "end_time": "2022-07-29T09:53:37.139996",
     "exception": false,
     "start_time": "2022-07-29T09:53:37.009097",
     "status": "completed"
    },
    "tags": []
   },
   "outputs": [
    {
     "data": {
      "text/html": [
       "<div>\n",
       "<style scoped>\n",
       "    .dataframe tbody tr th:only-of-type {\n",
       "        vertical-align: middle;\n",
       "    }\n",
       "\n",
       "    .dataframe tbody tr th {\n",
       "        vertical-align: top;\n",
       "    }\n",
       "\n",
       "    .dataframe thead th {\n",
       "        text-align: right;\n",
       "    }\n",
       "</style>\n",
       "<table border=\"1\" class=\"dataframe\">\n",
       "  <thead>\n",
       "    <tr style=\"text-align: right;\">\n",
       "      <th></th>\n",
       "      <th>SeriousDlqin2yrs</th>\n",
       "      <th>RevolvingUtilizationOfUnsecuredLines</th>\n",
       "      <th>age</th>\n",
       "      <th>NumberOfTime30-59DaysPastDueNotWorse</th>\n",
       "      <th>DebtRatio</th>\n",
       "      <th>MonthlyIncome</th>\n",
       "      <th>NumberOfOpenCreditLinesAndLoans</th>\n",
       "      <th>NumberOfTimes90DaysLate</th>\n",
       "      <th>NumberRealEstateLoansOrLines</th>\n",
       "      <th>NumberOfTime60-89DaysPastDueNotWorse</th>\n",
       "      <th>NumberOfDependents</th>\n",
       "    </tr>\n",
       "  </thead>\n",
       "  <tbody>\n",
       "    <tr>\n",
       "      <th>count</th>\n",
       "      <td>119910.000000</td>\n",
       "      <td>119910.000000</td>\n",
       "      <td>119910.000000</td>\n",
       "      <td>119910.000000</td>\n",
       "      <td>119910.000000</td>\n",
       "      <td>1.199100e+05</td>\n",
       "      <td>119910.000000</td>\n",
       "      <td>119910.000000</td>\n",
       "      <td>119910.000000</td>\n",
       "      <td>119910.000000</td>\n",
       "      <td>119910.000000</td>\n",
       "    </tr>\n",
       "    <tr>\n",
       "      <th>mean</th>\n",
       "      <td>0.068785</td>\n",
       "      <td>0.331549</td>\n",
       "      <td>51.316154</td>\n",
       "      <td>0.261571</td>\n",
       "      <td>26.652685</td>\n",
       "      <td>6.672245e+03</td>\n",
       "      <td>8.773522</td>\n",
       "      <td>0.091427</td>\n",
       "      <td>1.055483</td>\n",
       "      <td>0.067284</td>\n",
       "      <td>0.852147</td>\n",
       "    </tr>\n",
       "    <tr>\n",
       "      <th>std</th>\n",
       "      <td>0.253089</td>\n",
       "      <td>0.355661</td>\n",
       "      <td>14.417729</td>\n",
       "      <td>0.719119</td>\n",
       "      <td>425.021753</td>\n",
       "      <td>1.440237e+04</td>\n",
       "      <td>5.168241</td>\n",
       "      <td>0.488846</td>\n",
       "      <td>1.149304</td>\n",
       "      <td>0.335825</td>\n",
       "      <td>1.148622</td>\n",
       "    </tr>\n",
       "    <tr>\n",
       "      <th>min</th>\n",
       "      <td>0.000000</td>\n",
       "      <td>0.000000</td>\n",
       "      <td>21.000000</td>\n",
       "      <td>0.000000</td>\n",
       "      <td>0.000000</td>\n",
       "      <td>0.000000e+00</td>\n",
       "      <td>0.000000</td>\n",
       "      <td>0.000000</td>\n",
       "      <td>0.000000</td>\n",
       "      <td>0.000000</td>\n",
       "      <td>0.000000</td>\n",
       "    </tr>\n",
       "    <tr>\n",
       "      <th>25%</th>\n",
       "      <td>0.000000</td>\n",
       "      <td>0.034862</td>\n",
       "      <td>41.000000</td>\n",
       "      <td>0.000000</td>\n",
       "      <td>0.144070</td>\n",
       "      <td>3.400000e+03</td>\n",
       "      <td>5.000000</td>\n",
       "      <td>0.000000</td>\n",
       "      <td>0.000000</td>\n",
       "      <td>0.000000</td>\n",
       "      <td>0.000000</td>\n",
       "    </tr>\n",
       "    <tr>\n",
       "      <th>50%</th>\n",
       "      <td>0.000000</td>\n",
       "      <td>0.175990</td>\n",
       "      <td>51.000000</td>\n",
       "      <td>0.000000</td>\n",
       "      <td>0.296361</td>\n",
       "      <td>5.400000e+03</td>\n",
       "      <td>8.000000</td>\n",
       "      <td>0.000000</td>\n",
       "      <td>1.000000</td>\n",
       "      <td>0.000000</td>\n",
       "      <td>0.000000</td>\n",
       "    </tr>\n",
       "    <tr>\n",
       "      <th>75%</th>\n",
       "      <td>0.000000</td>\n",
       "      <td>0.573700</td>\n",
       "      <td>61.000000</td>\n",
       "      <td>0.000000</td>\n",
       "      <td>0.482910</td>\n",
       "      <td>8.249000e+03</td>\n",
       "      <td>11.000000</td>\n",
       "      <td>0.000000</td>\n",
       "      <td>2.000000</td>\n",
       "      <td>0.000000</td>\n",
       "      <td>2.000000</td>\n",
       "    </tr>\n",
       "    <tr>\n",
       "      <th>max</th>\n",
       "      <td>1.000000</td>\n",
       "      <td>2.984534</td>\n",
       "      <td>103.000000</td>\n",
       "      <td>13.000000</td>\n",
       "      <td>61106.500000</td>\n",
       "      <td>3.008750e+06</td>\n",
       "      <td>58.000000</td>\n",
       "      <td>17.000000</td>\n",
       "      <td>54.000000</td>\n",
       "      <td>11.000000</td>\n",
       "      <td>20.000000</td>\n",
       "    </tr>\n",
       "  </tbody>\n",
       "</table>\n",
       "</div>"
      ],
      "text/plain": [
       "       SeriousDlqin2yrs  RevolvingUtilizationOfUnsecuredLines            age  \\\n",
       "count     119910.000000                         119910.000000  119910.000000   \n",
       "mean           0.068785                              0.331549      51.316154   \n",
       "std            0.253089                              0.355661      14.417729   \n",
       "min            0.000000                              0.000000      21.000000   \n",
       "25%            0.000000                              0.034862      41.000000   \n",
       "50%            0.000000                              0.175990      51.000000   \n",
       "75%            0.000000                              0.573700      61.000000   \n",
       "max            1.000000                              2.984534     103.000000   \n",
       "\n",
       "       NumberOfTime30-59DaysPastDueNotWorse      DebtRatio  MonthlyIncome  \\\n",
       "count                         119910.000000  119910.000000   1.199100e+05   \n",
       "mean                               0.261571      26.652685   6.672245e+03   \n",
       "std                                0.719119     425.021753   1.440237e+04   \n",
       "min                                0.000000       0.000000   0.000000e+00   \n",
       "25%                                0.000000       0.144070   3.400000e+03   \n",
       "50%                                0.000000       0.296361   5.400000e+03   \n",
       "75%                                0.000000       0.482910   8.249000e+03   \n",
       "max                               13.000000   61106.500000   3.008750e+06   \n",
       "\n",
       "       NumberOfOpenCreditLinesAndLoans  NumberOfTimes90DaysLate  \\\n",
       "count                    119910.000000            119910.000000   \n",
       "mean                          8.773522                 0.091427   \n",
       "std                           5.168241                 0.488846   \n",
       "min                           0.000000                 0.000000   \n",
       "25%                           5.000000                 0.000000   \n",
       "50%                           8.000000                 0.000000   \n",
       "75%                          11.000000                 0.000000   \n",
       "max                          58.000000                17.000000   \n",
       "\n",
       "       NumberRealEstateLoansOrLines  NumberOfTime60-89DaysPastDueNotWorse  \\\n",
       "count                 119910.000000                         119910.000000   \n",
       "mean                       1.055483                              0.067284   \n",
       "std                        1.149304                              0.335825   \n",
       "min                        0.000000                              0.000000   \n",
       "25%                        0.000000                              0.000000   \n",
       "50%                        1.000000                              0.000000   \n",
       "75%                        2.000000                              0.000000   \n",
       "max                       54.000000                             11.000000   \n",
       "\n",
       "       NumberOfDependents  \n",
       "count       119910.000000  \n",
       "mean             0.852147  \n",
       "std              1.148622  \n",
       "min              0.000000  \n",
       "25%              0.000000  \n",
       "50%              0.000000  \n",
       "75%              2.000000  \n",
       "max             20.000000  "
      ]
     },
     "execution_count": 19,
     "metadata": {},
     "output_type": "execute_result"
    }
   ],
   "source": [
    "train_data.describe()"
   ]
  },
  {
   "cell_type": "code",
   "execution_count": 20,
   "id": "9ac7cc96",
   "metadata": {
    "execution": {
     "iopub.execute_input": "2022-07-29T09:53:37.192434Z",
     "iopub.status.busy": "2022-07-29T09:53:37.191665Z",
     "iopub.status.idle": "2022-07-29T09:53:37.215421Z",
     "shell.execute_reply": "2022-07-29T09:53:37.214489Z"
    },
    "papermill": {
     "duration": 0.052999,
     "end_time": "2022-07-29T09:53:37.218066",
     "exception": false,
     "start_time": "2022-07-29T09:53:37.165067",
     "status": "completed"
    },
    "tags": []
   },
   "outputs": [],
   "source": [
    "dropped_index3 = train_data[train_data.DebtRatio > 10].index\n",
    "train_data.loc[dropped_index3] = 10\n",
    "\n",
    "dropped_index3 = train_data[train_data.DebtRatio > 4].index\n",
    "train_data.loc[dropped_index3] = 4"
   ]
  },
  {
   "cell_type": "code",
   "execution_count": 21,
   "id": "a0ac7a9f",
   "metadata": {
    "execution": {
     "iopub.execute_input": "2022-07-29T09:53:37.271816Z",
     "iopub.status.busy": "2022-07-29T09:53:37.270971Z",
     "iopub.status.idle": "2022-07-29T09:53:37.368130Z",
     "shell.execute_reply": "2022-07-29T09:53:37.367257Z"
    },
    "papermill": {
     "duration": 0.127145,
     "end_time": "2022-07-29T09:53:37.370459",
     "exception": false,
     "start_time": "2022-07-29T09:53:37.243314",
     "status": "completed"
    },
    "tags": []
   },
   "outputs": [
    {
     "data": {
      "text/html": [
       "<div>\n",
       "<style scoped>\n",
       "    .dataframe tbody tr th:only-of-type {\n",
       "        vertical-align: middle;\n",
       "    }\n",
       "\n",
       "    .dataframe tbody tr th {\n",
       "        vertical-align: top;\n",
       "    }\n",
       "\n",
       "    .dataframe thead th {\n",
       "        text-align: right;\n",
       "    }\n",
       "</style>\n",
       "<table border=\"1\" class=\"dataframe\">\n",
       "  <thead>\n",
       "    <tr style=\"text-align: right;\">\n",
       "      <th></th>\n",
       "      <th>SeriousDlqin2yrs</th>\n",
       "      <th>RevolvingUtilizationOfUnsecuredLines</th>\n",
       "      <th>age</th>\n",
       "      <th>NumberOfTime30-59DaysPastDueNotWorse</th>\n",
       "      <th>DebtRatio</th>\n",
       "      <th>MonthlyIncome</th>\n",
       "      <th>NumberOfOpenCreditLinesAndLoans</th>\n",
       "      <th>NumberOfTimes90DaysLate</th>\n",
       "      <th>NumberRealEstateLoansOrLines</th>\n",
       "      <th>NumberOfTime60-89DaysPastDueNotWorse</th>\n",
       "      <th>NumberOfDependents</th>\n",
       "    </tr>\n",
       "  </thead>\n",
       "  <tbody>\n",
       "    <tr>\n",
       "      <th>count</th>\n",
       "      <td>119910.000000</td>\n",
       "      <td>119910.000000</td>\n",
       "      <td>119910.000000</td>\n",
       "      <td>119910.000000</td>\n",
       "      <td>119910.000000</td>\n",
       "      <td>1.199100e+05</td>\n",
       "      <td>119910.000000</td>\n",
       "      <td>119910.000000</td>\n",
       "      <td>119910.000000</td>\n",
       "      <td>119910.000000</td>\n",
       "      <td>119910.000000</td>\n",
       "    </tr>\n",
       "    <tr>\n",
       "      <th>mean</th>\n",
       "      <td>0.149962</td>\n",
       "      <td>0.407311</td>\n",
       "      <td>50.386515</td>\n",
       "      <td>0.339046</td>\n",
       "      <td>0.431771</td>\n",
       "      <td>6.664529e+03</td>\n",
       "      <td>8.689634</td>\n",
       "      <td>0.172137</td>\n",
       "      <td>1.117255</td>\n",
       "      <td>0.148228</td>\n",
       "      <td>0.916771</td>\n",
       "    </tr>\n",
       "    <tr>\n",
       "      <th>std</th>\n",
       "      <td>0.611279</td>\n",
       "      <td>0.627890</td>\n",
       "      <td>15.751839</td>\n",
       "      <td>0.887998</td>\n",
       "      <td>0.622951</td>\n",
       "      <td>1.440356e+04</td>\n",
       "      <td>5.159884</td>\n",
       "      <td>0.736112</td>\n",
       "      <td>1.202203</td>\n",
       "      <td>0.648830</td>\n",
       "      <td>1.219702</td>\n",
       "    </tr>\n",
       "    <tr>\n",
       "      <th>min</th>\n",
       "      <td>0.000000</td>\n",
       "      <td>0.000000</td>\n",
       "      <td>4.000000</td>\n",
       "      <td>0.000000</td>\n",
       "      <td>0.000000</td>\n",
       "      <td>0.000000e+00</td>\n",
       "      <td>0.000000</td>\n",
       "      <td>0.000000</td>\n",
       "      <td>0.000000</td>\n",
       "      <td>0.000000</td>\n",
       "      <td>0.000000</td>\n",
       "    </tr>\n",
       "    <tr>\n",
       "      <th>25%</th>\n",
       "      <td>0.000000</td>\n",
       "      <td>0.036440</td>\n",
       "      <td>40.000000</td>\n",
       "      <td>0.000000</td>\n",
       "      <td>0.144070</td>\n",
       "      <td>3.400000e+03</td>\n",
       "      <td>5.000000</td>\n",
       "      <td>0.000000</td>\n",
       "      <td>0.000000</td>\n",
       "      <td>0.000000</td>\n",
       "      <td>0.000000</td>\n",
       "    </tr>\n",
       "    <tr>\n",
       "      <th>50%</th>\n",
       "      <td>0.000000</td>\n",
       "      <td>0.186825</td>\n",
       "      <td>50.000000</td>\n",
       "      <td>0.000000</td>\n",
       "      <td>0.296361</td>\n",
       "      <td>5.400000e+03</td>\n",
       "      <td>8.000000</td>\n",
       "      <td>0.000000</td>\n",
       "      <td>1.000000</td>\n",
       "      <td>0.000000</td>\n",
       "      <td>0.000000</td>\n",
       "    </tr>\n",
       "    <tr>\n",
       "      <th>75%</th>\n",
       "      <td>0.000000</td>\n",
       "      <td>0.613514</td>\n",
       "      <td>61.000000</td>\n",
       "      <td>0.000000</td>\n",
       "      <td>0.482910</td>\n",
       "      <td>8.241000e+03</td>\n",
       "      <td>11.000000</td>\n",
       "      <td>0.000000</td>\n",
       "      <td>2.000000</td>\n",
       "      <td>0.000000</td>\n",
       "      <td>2.000000</td>\n",
       "    </tr>\n",
       "    <tr>\n",
       "      <th>max</th>\n",
       "      <td>4.000000</td>\n",
       "      <td>4.000000</td>\n",
       "      <td>103.000000</td>\n",
       "      <td>13.000000</td>\n",
       "      <td>4.000000</td>\n",
       "      <td>3.008750e+06</td>\n",
       "      <td>57.000000</td>\n",
       "      <td>17.000000</td>\n",
       "      <td>32.000000</td>\n",
       "      <td>11.000000</td>\n",
       "      <td>20.000000</td>\n",
       "    </tr>\n",
       "  </tbody>\n",
       "</table>\n",
       "</div>"
      ],
      "text/plain": [
       "       SeriousDlqin2yrs  RevolvingUtilizationOfUnsecuredLines            age  \\\n",
       "count     119910.000000                         119910.000000  119910.000000   \n",
       "mean           0.149962                              0.407311      50.386515   \n",
       "std            0.611279                              0.627890      15.751839   \n",
       "min            0.000000                              0.000000       4.000000   \n",
       "25%            0.000000                              0.036440      40.000000   \n",
       "50%            0.000000                              0.186825      50.000000   \n",
       "75%            0.000000                              0.613514      61.000000   \n",
       "max            4.000000                              4.000000     103.000000   \n",
       "\n",
       "       NumberOfTime30-59DaysPastDueNotWorse      DebtRatio  MonthlyIncome  \\\n",
       "count                         119910.000000  119910.000000   1.199100e+05   \n",
       "mean                               0.339046       0.431771   6.664529e+03   \n",
       "std                                0.887998       0.622951   1.440356e+04   \n",
       "min                                0.000000       0.000000   0.000000e+00   \n",
       "25%                                0.000000       0.144070   3.400000e+03   \n",
       "50%                                0.000000       0.296361   5.400000e+03   \n",
       "75%                                0.000000       0.482910   8.241000e+03   \n",
       "max                               13.000000       4.000000   3.008750e+06   \n",
       "\n",
       "       NumberOfOpenCreditLinesAndLoans  NumberOfTimes90DaysLate  \\\n",
       "count                    119910.000000            119910.000000   \n",
       "mean                          8.689634                 0.172137   \n",
       "std                           5.159884                 0.736112   \n",
       "min                           0.000000                 0.000000   \n",
       "25%                           5.000000                 0.000000   \n",
       "50%                           8.000000                 0.000000   \n",
       "75%                          11.000000                 0.000000   \n",
       "max                          57.000000                17.000000   \n",
       "\n",
       "       NumberRealEstateLoansOrLines  NumberOfTime60-89DaysPastDueNotWorse  \\\n",
       "count                 119910.000000                         119910.000000   \n",
       "mean                       1.117255                              0.148228   \n",
       "std                        1.202203                              0.648830   \n",
       "min                        0.000000                              0.000000   \n",
       "25%                        0.000000                              0.000000   \n",
       "50%                        1.000000                              0.000000   \n",
       "75%                        2.000000                              0.000000   \n",
       "max                       32.000000                             11.000000   \n",
       "\n",
       "       NumberOfDependents  \n",
       "count       119910.000000  \n",
       "mean             0.916771  \n",
       "std              1.219702  \n",
       "min              0.000000  \n",
       "25%              0.000000  \n",
       "50%              0.000000  \n",
       "75%              2.000000  \n",
       "max             20.000000  "
      ]
     },
     "execution_count": 21,
     "metadata": {},
     "output_type": "execute_result"
    }
   ],
   "source": [
    "train_data.describe()"
   ]
  },
  {
   "cell_type": "code",
   "execution_count": 22,
   "id": "5705f3b0",
   "metadata": {
    "execution": {
     "iopub.execute_input": "2022-07-29T09:53:37.425408Z",
     "iopub.status.busy": "2022-07-29T09:53:37.424643Z",
     "iopub.status.idle": "2022-07-29T09:53:37.936340Z",
     "shell.execute_reply": "2022-07-29T09:53:37.933019Z"
    },
    "papermill": {
     "duration": 0.543196,
     "end_time": "2022-07-29T09:53:37.940398",
     "exception": false,
     "start_time": "2022-07-29T09:53:37.397202",
     "status": "completed"
    },
    "tags": []
   },
   "outputs": [
    {
     "data": {
      "text/plain": [
       "<AxesSubplot:>"
      ]
     },
     "execution_count": 22,
     "metadata": {},
     "output_type": "execute_result"
    },
    {
     "data": {
      "image/png": "[encoded data removed]",
      "text/plain": [
       "<Figure size 432x288 with 2 Axes>"
      ]
     },
     "metadata": {
      "needs_background": "light"
     },
     "output_type": "display_data"
    }
   ],
   "source": [
    "sns.heatmap(train_data.corr())"
   ]
  },
  {
   "cell_type": "code",
   "execution_count": 23,
   "id": "c511867c",
   "metadata": {
    "execution": {
     "iopub.execute_input": "2022-07-29T09:53:38.007356Z",
     "iopub.status.busy": "2022-07-29T09:53:38.006719Z",
     "iopub.status.idle": "2022-07-29T09:53:38.250807Z",
     "shell.execute_reply": "2022-07-29T09:53:38.249767Z"
    },
    "papermill": {
     "duration": 0.281926,
     "end_time": "2022-07-29T09:53:38.253420",
     "exception": false,
     "start_time": "2022-07-29T09:53:37.971494",
     "status": "completed"
    },
    "tags": []
   },
   "outputs": [
    {
     "data": {
      "text/plain": [
       "<AxesSubplot:xlabel='SeriousDlqin2yrs', ylabel='DebtRatio'>"
      ]
     },
     "execution_count": 23,
     "metadata": {},
     "output_type": "execute_result"
    },
    {
     "data": {
      "image/png": "[encoded data removed]",
      "text/plain": [
       "<Figure size 432x288 with 1 Axes>"
      ]
     },
     "metadata": {
      "needs_background": "light"
     },
     "output_type": "display_data"
    }
   ],
   "source": [
    "sns.boxplot(data=train_data, y=\"DebtRatio\", x='SeriousDlqin2yrs')"
   ]
  },
  {
   "cell_type": "code",
   "execution_count": 24,
   "id": "efff1043",
   "metadata": {
    "execution": {
     "iopub.execute_input": "2022-07-29T09:53:38.313196Z",
     "iopub.status.busy": "2022-07-29T09:53:38.312015Z",
     "iopub.status.idle": "2022-07-29T09:53:38.409809Z",
     "shell.execute_reply": "2022-07-29T09:53:38.408846Z"
    },
    "papermill": {
     "duration": 0.129695,
     "end_time": "2022-07-29T09:53:38.412521",
     "exception": false,
     "start_time": "2022-07-29T09:53:38.282826",
     "status": "completed"
    },
    "tags": []
   },
   "outputs": [
    {
     "data": {
      "text/html": [
       "<div>\n",
       "<style scoped>\n",
       "    .dataframe tbody tr th:only-of-type {\n",
       "        vertical-align: middle;\n",
       "    }\n",
       "\n",
       "    .dataframe tbody tr th {\n",
       "        vertical-align: top;\n",
       "    }\n",
       "\n",
       "    .dataframe thead th {\n",
       "        text-align: right;\n",
       "    }\n",
       "</style>\n",
       "<table border=\"1\" class=\"dataframe\">\n",
       "  <thead>\n",
       "    <tr style=\"text-align: right;\">\n",
       "      <th></th>\n",
       "      <th>SeriousDlqin2yrs</th>\n",
       "      <th>RevolvingUtilizationOfUnsecuredLines</th>\n",
       "      <th>age</th>\n",
       "      <th>NumberOfTime30-59DaysPastDueNotWorse</th>\n",
       "      <th>DebtRatio</th>\n",
       "      <th>MonthlyIncome</th>\n",
       "      <th>NumberOfOpenCreditLinesAndLoans</th>\n",
       "      <th>NumberOfTimes90DaysLate</th>\n",
       "      <th>NumberRealEstateLoansOrLines</th>\n",
       "      <th>NumberOfTime60-89DaysPastDueNotWorse</th>\n",
       "      <th>NumberOfDependents</th>\n",
       "    </tr>\n",
       "  </thead>\n",
       "  <tbody>\n",
       "    <tr>\n",
       "      <th>count</th>\n",
       "      <td>119910.000000</td>\n",
       "      <td>119910.000000</td>\n",
       "      <td>119910.000000</td>\n",
       "      <td>119910.000000</td>\n",
       "      <td>119910.000000</td>\n",
       "      <td>1.199100e+05</td>\n",
       "      <td>119910.000000</td>\n",
       "      <td>119910.000000</td>\n",
       "      <td>119910.000000</td>\n",
       "      <td>119910.000000</td>\n",
       "      <td>119910.000000</td>\n",
       "    </tr>\n",
       "    <tr>\n",
       "      <th>mean</th>\n",
       "      <td>0.149962</td>\n",
       "      <td>0.407311</td>\n",
       "      <td>50.386515</td>\n",
       "      <td>0.339046</td>\n",
       "      <td>0.431771</td>\n",
       "      <td>6.664529e+03</td>\n",
       "      <td>8.689634</td>\n",
       "      <td>0.172137</td>\n",
       "      <td>1.117255</td>\n",
       "      <td>0.148228</td>\n",
       "      <td>0.916771</td>\n",
       "    </tr>\n",
       "    <tr>\n",
       "      <th>std</th>\n",
       "      <td>0.611279</td>\n",
       "      <td>0.627890</td>\n",
       "      <td>15.751839</td>\n",
       "      <td>0.887998</td>\n",
       "      <td>0.622951</td>\n",
       "      <td>1.440356e+04</td>\n",
       "      <td>5.159884</td>\n",
       "      <td>0.736112</td>\n",
       "      <td>1.202203</td>\n",
       "      <td>0.648830</td>\n",
       "      <td>1.219702</td>\n",
       "    </tr>\n",
       "    <tr>\n",
       "      <th>min</th>\n",
       "      <td>0.000000</td>\n",
       "      <td>0.000000</td>\n",
       "      <td>4.000000</td>\n",
       "      <td>0.000000</td>\n",
       "      <td>0.000000</td>\n",
       "      <td>0.000000e+00</td>\n",
       "      <td>0.000000</td>\n",
       "      <td>0.000000</td>\n",
       "      <td>0.000000</td>\n",
       "      <td>0.000000</td>\n",
       "      <td>0.000000</td>\n",
       "    </tr>\n",
       "    <tr>\n",
       "      <th>25%</th>\n",
       "      <td>0.000000</td>\n",
       "      <td>0.036440</td>\n",
       "      <td>40.000000</td>\n",
       "      <td>0.000000</td>\n",
       "      <td>0.144070</td>\n",
       "      <td>3.400000e+03</td>\n",
       "      <td>5.000000</td>\n",
       "      <td>0.000000</td>\n",
       "      <td>0.000000</td>\n",
       "      <td>0.000000</td>\n",
       "      <td>0.000000</td>\n",
       "    </tr>\n",
       "    <tr>\n",
       "      <th>50%</th>\n",
       "      <td>0.000000</td>\n",
       "      <td>0.186825</td>\n",
       "      <td>50.000000</td>\n",
       "      <td>0.000000</td>\n",
       "      <td>0.296361</td>\n",
       "      <td>5.400000e+03</td>\n",
       "      <td>8.000000</td>\n",
       "      <td>0.000000</td>\n",
       "      <td>1.000000</td>\n",
       "      <td>0.000000</td>\n",
       "      <td>0.000000</td>\n",
       "    </tr>\n",
       "    <tr>\n",
       "      <th>75%</th>\n",
       "      <td>0.000000</td>\n",
       "      <td>0.613514</td>\n",
       "      <td>61.000000</td>\n",
       "      <td>0.000000</td>\n",
       "      <td>0.482910</td>\n",
       "      <td>8.241000e+03</td>\n",
       "      <td>11.000000</td>\n",
       "      <td>0.000000</td>\n",
       "      <td>2.000000</td>\n",
       "      <td>0.000000</td>\n",
       "      <td>2.000000</td>\n",
       "    </tr>\n",
       "    <tr>\n",
       "      <th>max</th>\n",
       "      <td>4.000000</td>\n",
       "      <td>4.000000</td>\n",
       "      <td>103.000000</td>\n",
       "      <td>13.000000</td>\n",
       "      <td>4.000000</td>\n",
       "      <td>3.008750e+06</td>\n",
       "      <td>57.000000</td>\n",
       "      <td>17.000000</td>\n",
       "      <td>32.000000</td>\n",
       "      <td>11.000000</td>\n",
       "      <td>20.000000</td>\n",
       "    </tr>\n",
       "  </tbody>\n",
       "</table>\n",
       "</div>"
      ],
      "text/plain": [
       "       SeriousDlqin2yrs  RevolvingUtilizationOfUnsecuredLines            age  \\\n",
       "count     119910.000000                         119910.000000  119910.000000   \n",
       "mean           0.149962                              0.407311      50.386515   \n",
       "std            0.611279                              0.627890      15.751839   \n",
       "min            0.000000                              0.000000       4.000000   \n",
       "25%            0.000000                              0.036440      40.000000   \n",
       "50%            0.000000                              0.186825      50.000000   \n",
       "75%            0.000000                              0.613514      61.000000   \n",
       "max            4.000000                              4.000000     103.000000   \n",
       "\n",
       "       NumberOfTime30-59DaysPastDueNotWorse      DebtRatio  MonthlyIncome  \\\n",
       "count                         119910.000000  119910.000000   1.199100e+05   \n",
       "mean                               0.339046       0.431771   6.664529e+03   \n",
       "std                                0.887998       0.622951   1.440356e+04   \n",
       "min                                0.000000       0.000000   0.000000e+00   \n",
       "25%                                0.000000       0.144070   3.400000e+03   \n",
       "50%                                0.000000       0.296361   5.400000e+03   \n",
       "75%                                0.000000       0.482910   8.241000e+03   \n",
       "max                               13.000000       4.000000   3.008750e+06   \n",
       "\n",
       "       NumberOfOpenCreditLinesAndLoans  NumberOfTimes90DaysLate  \\\n",
       "count                    119910.000000            119910.000000   \n",
       "mean                          8.689634                 0.172137   \n",
       "std                           5.159884                 0.736112   \n",
       "min                           0.000000                 0.000000   \n",
       "25%                           5.000000                 0.000000   \n",
       "50%                           8.000000                 0.000000   \n",
       "75%                          11.000000                 0.000000   \n",
       "max                          57.000000                17.000000   \n",
       "\n",
       "       NumberRealEstateLoansOrLines  NumberOfTime60-89DaysPastDueNotWorse  \\\n",
       "count                 119910.000000                         119910.000000   \n",
       "mean                       1.117255                              0.148228   \n",
       "std                        1.202203                              0.648830   \n",
       "min                        0.000000                              0.000000   \n",
       "25%                        0.000000                              0.000000   \n",
       "50%                        1.000000                              0.000000   \n",
       "75%                        2.000000                              0.000000   \n",
       "max                       32.000000                             11.000000   \n",
       "\n",
       "       NumberOfDependents  \n",
       "count       119910.000000  \n",
       "mean             0.916771  \n",
       "std              1.219702  \n",
       "min              0.000000  \n",
       "25%              0.000000  \n",
       "50%              0.000000  \n",
       "75%              2.000000  \n",
       "max             20.000000  "
      ]
     },
     "execution_count": 24,
     "metadata": {},
     "output_type": "execute_result"
    }
   ],
   "source": [
    "train_data.describe()"
   ]
  },
  {
   "cell_type": "code",
   "execution_count": 25,
   "id": "5497a87b",
   "metadata": {
    "execution": {
     "iopub.execute_input": "2022-07-29T09:53:38.469904Z",
     "iopub.status.busy": "2022-07-29T09:53:38.469432Z",
     "iopub.status.idle": "2022-07-29T09:53:38.991102Z",
     "shell.execute_reply": "2022-07-29T09:53:38.989788Z"
    },
    "papermill": {
     "duration": 0.55472,
     "end_time": "2022-07-29T09:53:38.994770",
     "exception": false,
     "start_time": "2022-07-29T09:53:38.440050",
     "status": "completed"
    },
    "tags": []
   },
   "outputs": [
    {
     "data": {
      "text/plain": [
       "<AxesSubplot:>"
      ]
     },
     "execution_count": 25,
     "metadata": {},
     "output_type": "execute_result"
    },
    {
     "data": {
      "image/png": "[encoded data removed]",
      "text/plain": [
       "<Figure size 432x288 with 2 Axes>"
      ]
     },
     "metadata": {
      "needs_background": "light"
     },
     "output_type": "display_data"
    }
   ],
   "source": [
    "sns.heatmap(train_data.corr())"
   ]
  },
  {
   "cell_type": "code",
   "execution_count": 26,
   "id": "77cc60d7",
   "metadata": {
    "execution": {
     "iopub.execute_input": "2022-07-29T09:53:39.060557Z",
     "iopub.status.busy": "2022-07-29T09:53:39.059620Z",
     "iopub.status.idle": "2022-07-29T09:53:56.986630Z",
     "shell.execute_reply": "2022-07-29T09:53:56.985307Z"
    },
    "papermill": {
     "duration": 17.96478,
     "end_time": "2022-07-29T09:53:56.989330",
     "exception": false,
     "start_time": "2022-07-29T09:53:39.024550",
     "status": "completed"
    },
    "tags": []
   },
   "outputs": [
    {
     "data": {
      "text/plain": [
       "(0.0, 150.0)"
      ]
     },
     "execution_count": 26,
     "metadata": {},
     "output_type": "execute_result"
    },
    {
     "data": {
      "image/png": "[encoded data removed]",
      "text/plain": [
       "<Figure size 452.875x360 with 1 Axes>"
      ]
     },
     "metadata": {
      "needs_background": "light"
     },
     "output_type": "display_data"
    }
   ],
   "source": [
    "sns.lmplot(x='MonthlyIncome',y='age',data=train_data, hue=\"SeriousDlqin2yrs\")\n",
    "plt.ylim(0, 150)"
   ]
  },
  {
   "cell_type": "code",
   "execution_count": 27,
   "id": "e80d7cb1",
   "metadata": {
    "execution": {
     "iopub.execute_input": "2022-07-29T09:53:57.050014Z",
     "iopub.status.busy": "2022-07-29T09:53:57.049568Z",
     "iopub.status.idle": "2022-07-29T09:53:57.061921Z",
     "shell.execute_reply": "2022-07-29T09:53:57.060821Z"
    },
    "papermill": {
     "duration": 0.04623,
     "end_time": "2022-07-29T09:53:57.064439",
     "exception": false,
     "start_time": "2022-07-29T09:53:57.018209",
     "status": "completed"
    },
    "tags": []
   },
   "outputs": [
    {
     "data": {
      "text/plain": [
       "15502.5"
      ]
     },
     "execution_count": 27,
     "metadata": {},
     "output_type": "execute_result"
    }
   ],
   "source": [
    "q1,q3 = np.percentile(train_data.MonthlyIncome , [25, 75])\n",
    "iqr = q3-q1\n",
    "iqr1_5 = q3 + 1.5*iqr\n",
    "iqr1_5"
   ]
  },
  {
   "cell_type": "code",
   "execution_count": 28,
   "id": "b609293a",
   "metadata": {
    "execution": {
     "iopub.execute_input": "2022-07-29T09:53:57.124781Z",
     "iopub.status.busy": "2022-07-29T09:53:57.124165Z",
     "iopub.status.idle": "2022-07-29T09:53:57.147957Z",
     "shell.execute_reply": "2022-07-29T09:53:57.147069Z"
    },
    "papermill": {
     "duration": 0.057213,
     "end_time": "2022-07-29T09:53:57.150235",
     "exception": false,
     "start_time": "2022-07-29T09:53:57.093022",
     "status": "completed"
    },
    "tags": []
   },
   "outputs": [
    {
     "data": {
      "text/html": [
       "<div>\n",
       "<style scoped>\n",
       "    .dataframe tbody tr th:only-of-type {\n",
       "        vertical-align: middle;\n",
       "    }\n",
       "\n",
       "    .dataframe tbody tr th {\n",
       "        vertical-align: top;\n",
       "    }\n",
       "\n",
       "    .dataframe thead th {\n",
       "        text-align: right;\n",
       "    }\n",
       "</style>\n",
       "<table border=\"1\" class=\"dataframe\">\n",
       "  <thead>\n",
       "    <tr style=\"text-align: right;\">\n",
       "      <th></th>\n",
       "      <th>SeriousDlqin2yrs</th>\n",
       "      <th>RevolvingUtilizationOfUnsecuredLines</th>\n",
       "      <th>age</th>\n",
       "      <th>NumberOfTime30-59DaysPastDueNotWorse</th>\n",
       "      <th>DebtRatio</th>\n",
       "      <th>MonthlyIncome</th>\n",
       "      <th>NumberOfOpenCreditLinesAndLoans</th>\n",
       "      <th>NumberOfTimes90DaysLate</th>\n",
       "      <th>NumberRealEstateLoansOrLines</th>\n",
       "      <th>NumberOfTime60-89DaysPastDueNotWorse</th>\n",
       "      <th>NumberOfDependents</th>\n",
       "    </tr>\n",
       "  </thead>\n",
       "  <tbody>\n",
       "    <tr>\n",
       "      <th>4</th>\n",
       "      <td>0</td>\n",
       "      <td>0.907239</td>\n",
       "      <td>49</td>\n",
       "      <td>1</td>\n",
       "      <td>0.024926</td>\n",
       "      <td>63588.0</td>\n",
       "      <td>7</td>\n",
       "      <td>0</td>\n",
       "      <td>1</td>\n",
       "      <td>0</td>\n",
       "      <td>0.0</td>\n",
       "    </tr>\n",
       "    <tr>\n",
       "      <th>9</th>\n",
       "      <td>0</td>\n",
       "      <td>0.189169</td>\n",
       "      <td>57</td>\n",
       "      <td>0</td>\n",
       "      <td>0.606291</td>\n",
       "      <td>23684.0</td>\n",
       "      <td>9</td>\n",
       "      <td>0</td>\n",
       "      <td>4</td>\n",
       "      <td>0</td>\n",
       "      <td>2.0</td>\n",
       "    </tr>\n",
       "    <tr>\n",
       "      <th>45</th>\n",
       "      <td>0</td>\n",
       "      <td>0.000603</td>\n",
       "      <td>70</td>\n",
       "      <td>0</td>\n",
       "      <td>0.177787</td>\n",
       "      <td>16800.0</td>\n",
       "      <td>12</td>\n",
       "      <td>0</td>\n",
       "      <td>1</td>\n",
       "      <td>0</td>\n",
       "      <td>2.0</td>\n",
       "    </tr>\n",
       "    <tr>\n",
       "      <th>127</th>\n",
       "      <td>0</td>\n",
       "      <td>0.000000</td>\n",
       "      <td>59</td>\n",
       "      <td>0</td>\n",
       "      <td>0.218854</td>\n",
       "      <td>19167.0</td>\n",
       "      <td>13</td>\n",
       "      <td>0</td>\n",
       "      <td>2</td>\n",
       "      <td>0</td>\n",
       "      <td>0.0</td>\n",
       "    </tr>\n",
       "    <tr>\n",
       "      <th>196</th>\n",
       "      <td>0</td>\n",
       "      <td>0.762159</td>\n",
       "      <td>44</td>\n",
       "      <td>4</td>\n",
       "      <td>0.224466</td>\n",
       "      <td>21000.0</td>\n",
       "      <td>5</td>\n",
       "      <td>0</td>\n",
       "      <td>1</td>\n",
       "      <td>0</td>\n",
       "      <td>3.0</td>\n",
       "    </tr>\n",
       "    <tr>\n",
       "      <th>...</th>\n",
       "      <td>...</td>\n",
       "      <td>...</td>\n",
       "      <td>...</td>\n",
       "      <td>...</td>\n",
       "      <td>...</td>\n",
       "      <td>...</td>\n",
       "      <td>...</td>\n",
       "      <td>...</td>\n",
       "      <td>...</td>\n",
       "      <td>...</td>\n",
       "      <td>...</td>\n",
       "    </tr>\n",
       "    <tr>\n",
       "      <th>149861</th>\n",
       "      <td>0</td>\n",
       "      <td>0.089997</td>\n",
       "      <td>61</td>\n",
       "      <td>0</td>\n",
       "      <td>0.095543</td>\n",
       "      <td>17499.0</td>\n",
       "      <td>3</td>\n",
       "      <td>0</td>\n",
       "      <td>1</td>\n",
       "      <td>0</td>\n",
       "      <td>0.0</td>\n",
       "    </tr>\n",
       "    <tr>\n",
       "      <th>149893</th>\n",
       "      <td>0</td>\n",
       "      <td>0.000000</td>\n",
       "      <td>41</td>\n",
       "      <td>0</td>\n",
       "      <td>0.131958</td>\n",
       "      <td>25833.0</td>\n",
       "      <td>12</td>\n",
       "      <td>0</td>\n",
       "      <td>1</td>\n",
       "      <td>0</td>\n",
       "      <td>5.0</td>\n",
       "    </tr>\n",
       "    <tr>\n",
       "      <th>149906</th>\n",
       "      <td>0</td>\n",
       "      <td>0.056999</td>\n",
       "      <td>62</td>\n",
       "      <td>0</td>\n",
       "      <td>0.116106</td>\n",
       "      <td>17750.0</td>\n",
       "      <td>18</td>\n",
       "      <td>0</td>\n",
       "      <td>1</td>\n",
       "      <td>0</td>\n",
       "      <td>3.0</td>\n",
       "    </tr>\n",
       "    <tr>\n",
       "      <th>149944</th>\n",
       "      <td>0</td>\n",
       "      <td>0.291860</td>\n",
       "      <td>36</td>\n",
       "      <td>1</td>\n",
       "      <td>0.119287</td>\n",
       "      <td>24000.0</td>\n",
       "      <td>12</td>\n",
       "      <td>0</td>\n",
       "      <td>2</td>\n",
       "      <td>0</td>\n",
       "      <td>0.0</td>\n",
       "    </tr>\n",
       "    <tr>\n",
       "      <th>149966</th>\n",
       "      <td>0</td>\n",
       "      <td>0.081930</td>\n",
       "      <td>57</td>\n",
       "      <td>0</td>\n",
       "      <td>0.337166</td>\n",
       "      <td>16000.0</td>\n",
       "      <td>15</td>\n",
       "      <td>0</td>\n",
       "      <td>2</td>\n",
       "      <td>0</td>\n",
       "      <td>0.0</td>\n",
       "    </tr>\n",
       "  </tbody>\n",
       "</table>\n",
       "<p>4854 rows × 11 columns</p>\n",
       "</div>"
      ],
      "text/plain": [
       "        SeriousDlqin2yrs  RevolvingUtilizationOfUnsecuredLines  age  \\\n",
       "4                      0                              0.907239   49   \n",
       "9                      0                              0.189169   57   \n",
       "45                     0                              0.000603   70   \n",
       "127                    0                              0.000000   59   \n",
       "196                    0                              0.762159   44   \n",
       "...                  ...                                   ...  ...   \n",
       "149861                 0                              0.089997   61   \n",
       "149893                 0                              0.000000   41   \n",
       "149906                 0                              0.056999   62   \n",
       "149944                 0                              0.291860   36   \n",
       "149966                 0                              0.081930   57   \n",
       "\n",
       "        NumberOfTime30-59DaysPastDueNotWorse  DebtRatio  MonthlyIncome  \\\n",
       "4                                          1   0.024926        63588.0   \n",
       "9                                          0   0.606291        23684.0   \n",
       "45                                         0   0.177787        16800.0   \n",
       "127                                        0   0.218854        19167.0   \n",
       "196                                        4   0.224466        21000.0   \n",
       "...                                      ...        ...            ...   \n",
       "149861                                     0   0.095543        17499.0   \n",
       "149893                                     0   0.131958        25833.0   \n",
       "149906                                     0   0.116106        17750.0   \n",
       "149944                                     1   0.119287        24000.0   \n",
       "149966                                     0   0.337166        16000.0   \n",
       "\n",
       "        NumberOfOpenCreditLinesAndLoans  NumberOfTimes90DaysLate  \\\n",
       "4                                     7                        0   \n",
       "9                                     9                        0   \n",
       "45                                   12                        0   \n",
       "127                                  13                        0   \n",
       "196                                   5                        0   \n",
       "...                                 ...                      ...   \n",
       "149861                                3                        0   \n",
       "149893                               12                        0   \n",
       "149906                               18                        0   \n",
       "149944                               12                        0   \n",
       "149966                               15                        0   \n",
       "\n",
       "        NumberRealEstateLoansOrLines  NumberOfTime60-89DaysPastDueNotWorse  \\\n",
       "4                                  1                                     0   \n",
       "9                                  4                                     0   \n",
       "45                                 1                                     0   \n",
       "127                                2                                     0   \n",
       "196                                1                                     0   \n",
       "...                              ...                                   ...   \n",
       "149861                             1                                     0   \n",
       "149893                             1                                     0   \n",
       "149906                             1                                     0   \n",
       "149944                             2                                     0   \n",
       "149966                             2                                     0   \n",
       "\n",
       "        NumberOfDependents  \n",
       "4                      0.0  \n",
       "9                      2.0  \n",
       "45                     2.0  \n",
       "127                    0.0  \n",
       "196                    3.0  \n",
       "...                    ...  \n",
       "149861                 0.0  \n",
       "149893                 5.0  \n",
       "149906                 3.0  \n",
       "149944                 0.0  \n",
       "149966                 0.0  \n",
       "\n",
       "[4854 rows x 11 columns]"
      ]
     },
     "execution_count": 28,
     "metadata": {},
     "output_type": "execute_result"
    }
   ],
   "source": [
    "outliers = train_data[train_data[\"MonthlyIncome\"] >= iqr1_5]\n",
    "outliers"
   ]
  },
  {
   "cell_type": "code",
   "execution_count": 29,
   "id": "44b2d199",
   "metadata": {
    "execution": {
     "iopub.execute_input": "2022-07-29T09:53:57.210908Z",
     "iopub.status.busy": "2022-07-29T09:53:57.210188Z",
     "iopub.status.idle": "2022-07-29T09:53:57.231811Z",
     "shell.execute_reply": "2022-07-29T09:53:57.230919Z"
    },
    "papermill": {
     "duration": 0.054949,
     "end_time": "2022-07-29T09:53:57.234282",
     "exception": false,
     "start_time": "2022-07-29T09:53:57.179333",
     "status": "completed"
    },
    "tags": []
   },
   "outputs": [
    {
     "data": {
      "text/html": [
       "<div>\n",
       "<style scoped>\n",
       "    .dataframe tbody tr th:only-of-type {\n",
       "        vertical-align: middle;\n",
       "    }\n",
       "\n",
       "    .dataframe tbody tr th {\n",
       "        vertical-align: top;\n",
       "    }\n",
       "\n",
       "    .dataframe thead th {\n",
       "        text-align: right;\n",
       "    }\n",
       "</style>\n",
       "<table border=\"1\" class=\"dataframe\">\n",
       "  <thead>\n",
       "    <tr style=\"text-align: right;\">\n",
       "      <th></th>\n",
       "      <th>SeriousDlqin2yrs</th>\n",
       "      <th>RevolvingUtilizationOfUnsecuredLines</th>\n",
       "      <th>age</th>\n",
       "      <th>NumberOfTime30-59DaysPastDueNotWorse</th>\n",
       "      <th>DebtRatio</th>\n",
       "      <th>MonthlyIncome</th>\n",
       "      <th>NumberOfOpenCreditLinesAndLoans</th>\n",
       "      <th>NumberOfTimes90DaysLate</th>\n",
       "      <th>NumberRealEstateLoansOrLines</th>\n",
       "      <th>NumberOfTime60-89DaysPastDueNotWorse</th>\n",
       "      <th>NumberOfDependents</th>\n",
       "    </tr>\n",
       "  </thead>\n",
       "  <tbody>\n",
       "    <tr>\n",
       "      <th>0</th>\n",
       "      <td>1</td>\n",
       "      <td>0.766127</td>\n",
       "      <td>45</td>\n",
       "      <td>2</td>\n",
       "      <td>0.802982</td>\n",
       "      <td>9120.0</td>\n",
       "      <td>13</td>\n",
       "      <td>0</td>\n",
       "      <td>6</td>\n",
       "      <td>0</td>\n",
       "      <td>2.0</td>\n",
       "    </tr>\n",
       "    <tr>\n",
       "      <th>1</th>\n",
       "      <td>0</td>\n",
       "      <td>0.957151</td>\n",
       "      <td>40</td>\n",
       "      <td>0</td>\n",
       "      <td>0.121876</td>\n",
       "      <td>2600.0</td>\n",
       "      <td>4</td>\n",
       "      <td>0</td>\n",
       "      <td>0</td>\n",
       "      <td>0</td>\n",
       "      <td>1.0</td>\n",
       "    </tr>\n",
       "    <tr>\n",
       "      <th>2</th>\n",
       "      <td>0</td>\n",
       "      <td>0.658180</td>\n",
       "      <td>38</td>\n",
       "      <td>1</td>\n",
       "      <td>0.085113</td>\n",
       "      <td>3042.0</td>\n",
       "      <td>2</td>\n",
       "      <td>1</td>\n",
       "      <td>0</td>\n",
       "      <td>0</td>\n",
       "      <td>0.0</td>\n",
       "    </tr>\n",
       "    <tr>\n",
       "      <th>3</th>\n",
       "      <td>0</td>\n",
       "      <td>0.233810</td>\n",
       "      <td>30</td>\n",
       "      <td>0</td>\n",
       "      <td>0.036050</td>\n",
       "      <td>3300.0</td>\n",
       "      <td>5</td>\n",
       "      <td>0</td>\n",
       "      <td>0</td>\n",
       "      <td>0</td>\n",
       "      <td>0.0</td>\n",
       "    </tr>\n",
       "    <tr>\n",
       "      <th>4</th>\n",
       "      <td>0</td>\n",
       "      <td>0.907239</td>\n",
       "      <td>49</td>\n",
       "      <td>1</td>\n",
       "      <td>0.024926</td>\n",
       "      <td>63588.0</td>\n",
       "      <td>7</td>\n",
       "      <td>0</td>\n",
       "      <td>1</td>\n",
       "      <td>0</td>\n",
       "      <td>0.0</td>\n",
       "    </tr>\n",
       "    <tr>\n",
       "      <th>...</th>\n",
       "      <td>...</td>\n",
       "      <td>...</td>\n",
       "      <td>...</td>\n",
       "      <td>...</td>\n",
       "      <td>...</td>\n",
       "      <td>...</td>\n",
       "      <td>...</td>\n",
       "      <td>...</td>\n",
       "      <td>...</td>\n",
       "      <td>...</td>\n",
       "      <td>...</td>\n",
       "    </tr>\n",
       "    <tr>\n",
       "      <th>149994</th>\n",
       "      <td>0</td>\n",
       "      <td>0.385742</td>\n",
       "      <td>50</td>\n",
       "      <td>0</td>\n",
       "      <td>0.404293</td>\n",
       "      <td>3400.0</td>\n",
       "      <td>7</td>\n",
       "      <td>0</td>\n",
       "      <td>0</td>\n",
       "      <td>0</td>\n",
       "      <td>0.0</td>\n",
       "    </tr>\n",
       "    <tr>\n",
       "      <th>149995</th>\n",
       "      <td>0</td>\n",
       "      <td>0.040674</td>\n",
       "      <td>74</td>\n",
       "      <td>0</td>\n",
       "      <td>0.225131</td>\n",
       "      <td>2100.0</td>\n",
       "      <td>4</td>\n",
       "      <td>0</td>\n",
       "      <td>1</td>\n",
       "      <td>0</td>\n",
       "      <td>0.0</td>\n",
       "    </tr>\n",
       "    <tr>\n",
       "      <th>149996</th>\n",
       "      <td>0</td>\n",
       "      <td>0.299745</td>\n",
       "      <td>44</td>\n",
       "      <td>0</td>\n",
       "      <td>0.716562</td>\n",
       "      <td>5584.0</td>\n",
       "      <td>4</td>\n",
       "      <td>0</td>\n",
       "      <td>1</td>\n",
       "      <td>0</td>\n",
       "      <td>2.0</td>\n",
       "    </tr>\n",
       "    <tr>\n",
       "      <th>149998</th>\n",
       "      <td>0</td>\n",
       "      <td>0.000000</td>\n",
       "      <td>30</td>\n",
       "      <td>0</td>\n",
       "      <td>0.000000</td>\n",
       "      <td>5716.0</td>\n",
       "      <td>4</td>\n",
       "      <td>0</td>\n",
       "      <td>0</td>\n",
       "      <td>0</td>\n",
       "      <td>0.0</td>\n",
       "    </tr>\n",
       "    <tr>\n",
       "      <th>149999</th>\n",
       "      <td>0</td>\n",
       "      <td>0.850283</td>\n",
       "      <td>64</td>\n",
       "      <td>0</td>\n",
       "      <td>0.249908</td>\n",
       "      <td>8158.0</td>\n",
       "      <td>8</td>\n",
       "      <td>0</td>\n",
       "      <td>2</td>\n",
       "      <td>0</td>\n",
       "      <td>0.0</td>\n",
       "    </tr>\n",
       "  </tbody>\n",
       "</table>\n",
       "<p>119910 rows × 11 columns</p>\n",
       "</div>"
      ],
      "text/plain": [
       "        SeriousDlqin2yrs  RevolvingUtilizationOfUnsecuredLines  age  \\\n",
       "0                      1                              0.766127   45   \n",
       "1                      0                              0.957151   40   \n",
       "2                      0                              0.658180   38   \n",
       "3                      0                              0.233810   30   \n",
       "4                      0                              0.907239   49   \n",
       "...                  ...                                   ...  ...   \n",
       "149994                 0                              0.385742   50   \n",
       "149995                 0                              0.040674   74   \n",
       "149996                 0                              0.299745   44   \n",
       "149998                 0                              0.000000   30   \n",
       "149999                 0                              0.850283   64   \n",
       "\n",
       "        NumberOfTime30-59DaysPastDueNotWorse  DebtRatio  MonthlyIncome  \\\n",
       "0                                          2   0.802982         9120.0   \n",
       "1                                          0   0.121876         2600.0   \n",
       "2                                          1   0.085113         3042.0   \n",
       "3                                          0   0.036050         3300.0   \n",
       "4                                          1   0.024926        63588.0   \n",
       "...                                      ...        ...            ...   \n",
       "149994                                     0   0.404293         3400.0   \n",
       "149995                                     0   0.225131         2100.0   \n",
       "149996                                     0   0.716562         5584.0   \n",
       "149998                                     0   0.000000         5716.0   \n",
       "149999                                     0   0.249908         8158.0   \n",
       "\n",
       "        NumberOfOpenCreditLinesAndLoans  NumberOfTimes90DaysLate  \\\n",
       "0                                    13                        0   \n",
       "1                                     4                        0   \n",
       "2                                     2                        1   \n",
       "3                                     5                        0   \n",
       "4                                     7                        0   \n",
       "...                                 ...                      ...   \n",
       "149994                                7                        0   \n",
       "149995                                4                        0   \n",
       "149996                                4                        0   \n",
       "149998                                4                        0   \n",
       "149999                                8                        0   \n",
       "\n",
       "        NumberRealEstateLoansOrLines  NumberOfTime60-89DaysPastDueNotWorse  \\\n",
       "0                                  6                                     0   \n",
       "1                                  0                                     0   \n",
       "2                                  0                                     0   \n",
       "3                                  0                                     0   \n",
       "4                                  1                                     0   \n",
       "...                              ...                                   ...   \n",
       "149994                             0                                     0   \n",
       "149995                             1                                     0   \n",
       "149996                             1                                     0   \n",
       "149998                             0                                     0   \n",
       "149999                             2                                     0   \n",
       "\n",
       "        NumberOfDependents  \n",
       "0                      2.0  \n",
       "1                      1.0  \n",
       "2                      0.0  \n",
       "3                      0.0  \n",
       "4                      0.0  \n",
       "...                    ...  \n",
       "149994                 0.0  \n",
       "149995                 0.0  \n",
       "149996                 2.0  \n",
       "149998                 0.0  \n",
       "149999                 0.0  \n",
       "\n",
       "[119910 rows x 11 columns]"
      ]
     },
     "execution_count": 29,
     "metadata": {},
     "output_type": "execute_result"
    }
   ],
   "source": [
    "train_data"
   ]
  },
  {
   "cell_type": "code",
   "execution_count": 30,
   "id": "0f98c650",
   "metadata": {
    "execution": {
     "iopub.execute_input": "2022-07-29T09:53:57.297324Z",
     "iopub.status.busy": "2022-07-29T09:53:57.296722Z",
     "iopub.status.idle": "2022-07-29T09:53:57.308802Z",
     "shell.execute_reply": "2022-07-29T09:53:57.307930Z"
    },
    "papermill": {
     "duration": 0.047088,
     "end_time": "2022-07-29T09:53:57.311456",
     "exception": false,
     "start_time": "2022-07-29T09:53:57.264368",
     "status": "completed"
    },
    "tags": []
   },
   "outputs": [],
   "source": [
    "train_data.drop(index=outliers.index, inplace=True)"
   ]
  },
  {
   "cell_type": "code",
   "execution_count": 31,
   "id": "cabb62b8",
   "metadata": {
    "execution": {
     "iopub.execute_input": "2022-07-29T09:53:57.372544Z",
     "iopub.status.busy": "2022-07-29T09:53:57.371897Z",
     "iopub.status.idle": "2022-07-29T09:53:57.392132Z",
     "shell.execute_reply": "2022-07-29T09:53:57.391266Z"
    },
    "papermill": {
     "duration": 0.053338,
     "end_time": "2022-07-29T09:53:57.394284",
     "exception": false,
     "start_time": "2022-07-29T09:53:57.340946",
     "status": "completed"
    },
    "tags": []
   },
   "outputs": [
    {
     "data": {
      "text/html": [
       "<div>\n",
       "<style scoped>\n",
       "    .dataframe tbody tr th:only-of-type {\n",
       "        vertical-align: middle;\n",
       "    }\n",
       "\n",
       "    .dataframe tbody tr th {\n",
       "        vertical-align: top;\n",
       "    }\n",
       "\n",
       "    .dataframe thead th {\n",
       "        text-align: right;\n",
       "    }\n",
       "</style>\n",
       "<table border=\"1\" class=\"dataframe\">\n",
       "  <thead>\n",
       "    <tr style=\"text-align: right;\">\n",
       "      <th></th>\n",
       "      <th>SeriousDlqin2yrs</th>\n",
       "      <th>RevolvingUtilizationOfUnsecuredLines</th>\n",
       "      <th>age</th>\n",
       "      <th>NumberOfTime30-59DaysPastDueNotWorse</th>\n",
       "      <th>DebtRatio</th>\n",
       "      <th>MonthlyIncome</th>\n",
       "      <th>NumberOfOpenCreditLinesAndLoans</th>\n",
       "      <th>NumberOfTimes90DaysLate</th>\n",
       "      <th>NumberRealEstateLoansOrLines</th>\n",
       "      <th>NumberOfTime60-89DaysPastDueNotWorse</th>\n",
       "      <th>NumberOfDependents</th>\n",
       "    </tr>\n",
       "  </thead>\n",
       "  <tbody>\n",
       "    <tr>\n",
       "      <th>0</th>\n",
       "      <td>1</td>\n",
       "      <td>0.766127</td>\n",
       "      <td>45</td>\n",
       "      <td>2</td>\n",
       "      <td>0.802982</td>\n",
       "      <td>9120.0</td>\n",
       "      <td>13</td>\n",
       "      <td>0</td>\n",
       "      <td>6</td>\n",
       "      <td>0</td>\n",
       "      <td>2.0</td>\n",
       "    </tr>\n",
       "    <tr>\n",
       "      <th>1</th>\n",
       "      <td>0</td>\n",
       "      <td>0.957151</td>\n",
       "      <td>40</td>\n",
       "      <td>0</td>\n",
       "      <td>0.121876</td>\n",
       "      <td>2600.0</td>\n",
       "      <td>4</td>\n",
       "      <td>0</td>\n",
       "      <td>0</td>\n",
       "      <td>0</td>\n",
       "      <td>1.0</td>\n",
       "    </tr>\n",
       "    <tr>\n",
       "      <th>2</th>\n",
       "      <td>0</td>\n",
       "      <td>0.658180</td>\n",
       "      <td>38</td>\n",
       "      <td>1</td>\n",
       "      <td>0.085113</td>\n",
       "      <td>3042.0</td>\n",
       "      <td>2</td>\n",
       "      <td>1</td>\n",
       "      <td>0</td>\n",
       "      <td>0</td>\n",
       "      <td>0.0</td>\n",
       "    </tr>\n",
       "    <tr>\n",
       "      <th>3</th>\n",
       "      <td>0</td>\n",
       "      <td>0.233810</td>\n",
       "      <td>30</td>\n",
       "      <td>0</td>\n",
       "      <td>0.036050</td>\n",
       "      <td>3300.0</td>\n",
       "      <td>5</td>\n",
       "      <td>0</td>\n",
       "      <td>0</td>\n",
       "      <td>0</td>\n",
       "      <td>0.0</td>\n",
       "    </tr>\n",
       "    <tr>\n",
       "      <th>5</th>\n",
       "      <td>0</td>\n",
       "      <td>0.213179</td>\n",
       "      <td>74</td>\n",
       "      <td>0</td>\n",
       "      <td>0.375607</td>\n",
       "      <td>3500.0</td>\n",
       "      <td>3</td>\n",
       "      <td>0</td>\n",
       "      <td>1</td>\n",
       "      <td>0</td>\n",
       "      <td>1.0</td>\n",
       "    </tr>\n",
       "    <tr>\n",
       "      <th>...</th>\n",
       "      <td>...</td>\n",
       "      <td>...</td>\n",
       "      <td>...</td>\n",
       "      <td>...</td>\n",
       "      <td>...</td>\n",
       "      <td>...</td>\n",
       "      <td>...</td>\n",
       "      <td>...</td>\n",
       "      <td>...</td>\n",
       "      <td>...</td>\n",
       "      <td>...</td>\n",
       "    </tr>\n",
       "    <tr>\n",
       "      <th>149994</th>\n",
       "      <td>0</td>\n",
       "      <td>0.385742</td>\n",
       "      <td>50</td>\n",
       "      <td>0</td>\n",
       "      <td>0.404293</td>\n",
       "      <td>3400.0</td>\n",
       "      <td>7</td>\n",
       "      <td>0</td>\n",
       "      <td>0</td>\n",
       "      <td>0</td>\n",
       "      <td>0.0</td>\n",
       "    </tr>\n",
       "    <tr>\n",
       "      <th>149995</th>\n",
       "      <td>0</td>\n",
       "      <td>0.040674</td>\n",
       "      <td>74</td>\n",
       "      <td>0</td>\n",
       "      <td>0.225131</td>\n",
       "      <td>2100.0</td>\n",
       "      <td>4</td>\n",
       "      <td>0</td>\n",
       "      <td>1</td>\n",
       "      <td>0</td>\n",
       "      <td>0.0</td>\n",
       "    </tr>\n",
       "    <tr>\n",
       "      <th>149996</th>\n",
       "      <td>0</td>\n",
       "      <td>0.299745</td>\n",
       "      <td>44</td>\n",
       "      <td>0</td>\n",
       "      <td>0.716562</td>\n",
       "      <td>5584.0</td>\n",
       "      <td>4</td>\n",
       "      <td>0</td>\n",
       "      <td>1</td>\n",
       "      <td>0</td>\n",
       "      <td>2.0</td>\n",
       "    </tr>\n",
       "    <tr>\n",
       "      <th>149998</th>\n",
       "      <td>0</td>\n",
       "      <td>0.000000</td>\n",
       "      <td>30</td>\n",
       "      <td>0</td>\n",
       "      <td>0.000000</td>\n",
       "      <td>5716.0</td>\n",
       "      <td>4</td>\n",
       "      <td>0</td>\n",
       "      <td>0</td>\n",
       "      <td>0</td>\n",
       "      <td>0.0</td>\n",
       "    </tr>\n",
       "    <tr>\n",
       "      <th>149999</th>\n",
       "      <td>0</td>\n",
       "      <td>0.850283</td>\n",
       "      <td>64</td>\n",
       "      <td>0</td>\n",
       "      <td>0.249908</td>\n",
       "      <td>8158.0</td>\n",
       "      <td>8</td>\n",
       "      <td>0</td>\n",
       "      <td>2</td>\n",
       "      <td>0</td>\n",
       "      <td>0.0</td>\n",
       "    </tr>\n",
       "  </tbody>\n",
       "</table>\n",
       "<p>115056 rows × 11 columns</p>\n",
       "</div>"
      ],
      "text/plain": [
       "        SeriousDlqin2yrs  RevolvingUtilizationOfUnsecuredLines  age  \\\n",
       "0                      1                              0.766127   45   \n",
       "1                      0                              0.957151   40   \n",
       "2                      0                              0.658180   38   \n",
       "3                      0                              0.233810   30   \n",
       "5                      0                              0.213179   74   \n",
       "...                  ...                                   ...  ...   \n",
       "149994                 0                              0.385742   50   \n",
       "149995                 0                              0.040674   74   \n",
       "149996                 0                              0.299745   44   \n",
       "149998                 0                              0.000000   30   \n",
       "149999                 0                              0.850283   64   \n",
       "\n",
       "        NumberOfTime30-59DaysPastDueNotWorse  DebtRatio  MonthlyIncome  \\\n",
       "0                                          2   0.802982         9120.0   \n",
       "1                                          0   0.121876         2600.0   \n",
       "2                                          1   0.085113         3042.0   \n",
       "3                                          0   0.036050         3300.0   \n",
       "5                                          0   0.375607         3500.0   \n",
       "...                                      ...        ...            ...   \n",
       "149994                                     0   0.404293         3400.0   \n",
       "149995                                     0   0.225131         2100.0   \n",
       "149996                                     0   0.716562         5584.0   \n",
       "149998                                     0   0.000000         5716.0   \n",
       "149999                                     0   0.249908         8158.0   \n",
       "\n",
       "        NumberOfOpenCreditLinesAndLoans  NumberOfTimes90DaysLate  \\\n",
       "0                                    13                        0   \n",
       "1                                     4                        0   \n",
       "2                                     2                        1   \n",
       "3                                     5                        0   \n",
       "5                                     3                        0   \n",
       "...                                 ...                      ...   \n",
       "149994                                7                        0   \n",
       "149995                                4                        0   \n",
       "149996                                4                        0   \n",
       "149998                                4                        0   \n",
       "149999                                8                        0   \n",
       "\n",
       "        NumberRealEstateLoansOrLines  NumberOfTime60-89DaysPastDueNotWorse  \\\n",
       "0                                  6                                     0   \n",
       "1                                  0                                     0   \n",
       "2                                  0                                     0   \n",
       "3                                  0                                     0   \n",
       "5                                  1                                     0   \n",
       "...                              ...                                   ...   \n",
       "149994                             0                                     0   \n",
       "149995                             1                                     0   \n",
       "149996                             1                                     0   \n",
       "149998                             0                                     0   \n",
       "149999                             2                                     0   \n",
       "\n",
       "        NumberOfDependents  \n",
       "0                      2.0  \n",
       "1                      1.0  \n",
       "2                      0.0  \n",
       "3                      0.0  \n",
       "5                      1.0  \n",
       "...                    ...  \n",
       "149994                 0.0  \n",
       "149995                 0.0  \n",
       "149996                 2.0  \n",
       "149998                 0.0  \n",
       "149999                 0.0  \n",
       "\n",
       "[115056 rows x 11 columns]"
      ]
     },
     "execution_count": 31,
     "metadata": {},
     "output_type": "execute_result"
    }
   ],
   "source": [
    "train_data"
   ]
  },
  {
   "cell_type": "markdown",
   "id": "25a46343",
   "metadata": {
    "papermill": {
     "duration": 0.030931,
     "end_time": "2022-07-29T09:53:57.454894",
     "exception": false,
     "start_time": "2022-07-29T09:53:57.423963",
     "status": "completed"
    },
    "tags": []
   },
   "source": [
    "# **Preparing For Modeling**"
   ]
  },
  {
   "cell_type": "code",
   "execution_count": 32,
   "id": "45b98034",
   "metadata": {
    "execution": {
     "iopub.execute_input": "2022-07-29T09:53:57.517856Z",
     "iopub.status.busy": "2022-07-29T09:53:57.517262Z",
     "iopub.status.idle": "2022-07-29T09:53:58.142289Z",
     "shell.execute_reply": "2022-07-29T09:53:58.141076Z"
    },
    "papermill": {
     "duration": 0.65958,
     "end_time": "2022-07-29T09:53:58.145261",
     "exception": false,
     "start_time": "2022-07-29T09:53:57.485681",
     "status": "completed"
    },
    "tags": []
   },
   "outputs": [],
   "source": [
    "from sklearn.model_selection import train_test_split, KFold\n",
    "from sklearn.ensemble import RandomForestClassifier\n",
    "from sklearn.linear_model import LogisticRegression\n",
    "from sklearn.metrics import accuracy_score\n",
    "from sklearn.impute import SimpleImputer"
   ]
  },
  {
   "cell_type": "code",
   "execution_count": 33,
   "id": "1b4d79df",
   "metadata": {
    "execution": {
     "iopub.execute_input": "2022-07-29T09:53:58.208842Z",
     "iopub.status.busy": "2022-07-29T09:53:58.208051Z",
     "iopub.status.idle": "2022-07-29T09:53:58.212756Z",
     "shell.execute_reply": "2022-07-29T09:53:58.211861Z"
    },
    "papermill": {
     "duration": 0.039136,
     "end_time": "2022-07-29T09:53:58.215101",
     "exception": false,
     "start_time": "2022-07-29T09:53:58.175965",
     "status": "completed"
    },
    "tags": []
   },
   "outputs": [],
   "source": [
    "train_col = train_data.columns[1:]\n",
    "target_col = train_data.columns[0]"
   ]
  },
  {
   "cell_type": "code",
   "execution_count": 34,
   "id": "8bfb2d70",
   "metadata": {
    "execution": {
     "iopub.execute_input": "2022-07-29T09:53:58.281797Z",
     "iopub.status.busy": "2022-07-29T09:53:58.281035Z",
     "iopub.status.idle": "2022-07-29T09:53:58.288998Z",
     "shell.execute_reply": "2022-07-29T09:53:58.287793Z"
    },
    "papermill": {
     "duration": 0.045528,
     "end_time": "2022-07-29T09:53:58.291784",
     "exception": false,
     "start_time": "2022-07-29T09:53:58.246256",
     "status": "completed"
    },
    "tags": []
   },
   "outputs": [],
   "source": [
    "inputs = train_data[train_col]\n",
    "target = train_data[target_col]"
   ]
  },
  {
   "cell_type": "code",
   "execution_count": 35,
   "id": "291cbbac",
   "metadata": {
    "execution": {
     "iopub.execute_input": "2022-07-29T09:53:58.354113Z",
     "iopub.status.busy": "2022-07-29T09:53:58.353394Z",
     "iopub.status.idle": "2022-07-29T09:53:58.360285Z",
     "shell.execute_reply": "2022-07-29T09:53:58.359099Z"
    },
    "papermill": {
     "duration": 0.041154,
     "end_time": "2022-07-29T09:53:58.362779",
     "exception": false,
     "start_time": "2022-07-29T09:53:58.321625",
     "status": "completed"
    },
    "tags": []
   },
   "outputs": [],
   "source": [
    "def train_and_evaluateRF(train_in, train_targets, val_in, val_targets, **params):\n",
    "    model = RandomForestClassifier(random_state=42, n_jobs=-1, **params)\n",
    "    model.fit(train_in, train_targets)\n",
    "    train_acc = accuracy_score(train_targets, model.predict(train_in))\n",
    "    val_acc = accuracy_score(val_targets, model.predict(val_in))\n",
    "    return model, train_acc, val_acc"
   ]
  },
  {
   "cell_type": "code",
   "execution_count": 36,
   "id": "a2de2bec",
   "metadata": {
    "execution": {
     "iopub.execute_input": "2022-07-29T09:53:58.426344Z",
     "iopub.status.busy": "2022-07-29T09:53:58.425422Z",
     "iopub.status.idle": "2022-07-29T09:53:58.432110Z",
     "shell.execute_reply": "2022-07-29T09:53:58.431260Z"
    },
    "papermill": {
     "duration": 0.041726,
     "end_time": "2022-07-29T09:53:58.434406",
     "exception": false,
     "start_time": "2022-07-29T09:53:58.392680",
     "status": "completed"
    },
    "tags": []
   },
   "outputs": [],
   "source": [
    "def train_and_evaluateLR(train_in, train_targets, val_in, val_targets, **params):\n",
    "    model = LogisticRegression(random_state=42, n_jobs=-1, **params)\n",
    "    model.fit(train_in, train_targets)\n",
    "    train_acc = accuracy_score(train_targets, model.predict(train_in))\n",
    "    val_acc = accuracy_score(val_targets, model.predict(val_in))\n",
    "    return model, train_acc, val_acc"
   ]
  },
  {
   "cell_type": "code",
   "execution_count": 37,
   "id": "9a097d88",
   "metadata": {
    "execution": {
     "iopub.execute_input": "2022-07-29T09:53:58.496557Z",
     "iopub.status.busy": "2022-07-29T09:53:58.495865Z",
     "iopub.status.idle": "2022-07-29T09:53:58.500706Z",
     "shell.execute_reply": "2022-07-29T09:53:58.499766Z"
    },
    "papermill": {
     "duration": 0.038734,
     "end_time": "2022-07-29T09:53:58.503210",
     "exception": false,
     "start_time": "2022-07-29T09:53:58.464476",
     "status": "completed"
    },
    "tags": []
   },
   "outputs": [],
   "source": [
    "kfold = KFold(n_splits=10)"
   ]
  },
  {
   "cell_type": "code",
   "execution_count": 38,
   "id": "4f5073a8",
   "metadata": {
    "execution": {
     "iopub.execute_input": "2022-07-29T09:53:58.565901Z",
     "iopub.status.busy": "2022-07-29T09:53:58.565471Z",
     "iopub.status.idle": "2022-07-29T09:53:58.575555Z",
     "shell.execute_reply": "2022-07-29T09:53:58.574756Z"
    },
    "papermill": {
     "duration": 0.043646,
     "end_time": "2022-07-29T09:53:58.577980",
     "exception": false,
     "start_time": "2022-07-29T09:53:58.534334",
     "status": "completed"
    },
    "tags": []
   },
   "outputs": [
    {
     "name": "stdout",
     "output_type": "stream",
     "text": [
      "This Is Random Forest Classifier\n"
     ]
    }
   ],
   "source": [
    "print(\"This Is Random Forest Classifier\")\n",
    "def test_and_showRF(inputs, **params):\n",
    "    modelsRF = []\n",
    "    trainRF = []\n",
    "    valRF = []\n",
    "    for train_idxs, val_idxs in kfold.split(inputs):\n",
    "        X_train, train_targets = inputs.iloc[train_idxs], target.iloc[train_idxs]\n",
    "        X_val, val_targets = inputs.iloc[val_idxs], target.iloc[val_idxs]\n",
    "        model, train_acc, val_acc = train_and_evaluateRF(X_train, \n",
    "                                                     train_targets, \n",
    "                                                     X_val, \n",
    "                                                     val_targets, \n",
    "                                                     **params)\n",
    "        modelsRF.append(model)\n",
    "        trainRF.append(train_acc)\n",
    "        valRF.append(val_acc)\n",
    "        print('Model n° {}, Train accuracy: {}, Validation accuracy: {}'.format(modelsRF.index(model),train_acc, val_acc))\n",
    "        \n",
    "    return modelsRF,np.mean(trainRF), np.mean(valRF)\n",
    "        "
   ]
  },
  {
   "cell_type": "code",
   "execution_count": 39,
   "id": "d1ec233c",
   "metadata": {
    "execution": {
     "iopub.execute_input": "2022-07-29T09:53:58.643191Z",
     "iopub.status.busy": "2022-07-29T09:53:58.642785Z",
     "iopub.status.idle": "2022-07-29T09:53:58.651342Z",
     "shell.execute_reply": "2022-07-29T09:53:58.649987Z"
    },
    "papermill": {
     "duration": 0.043709,
     "end_time": "2022-07-29T09:53:58.653999",
     "exception": false,
     "start_time": "2022-07-29T09:53:58.610290",
     "status": "completed"
    },
    "tags": []
   },
   "outputs": [],
   "source": [
    "def test_param_and_plotRF(param_name, param_values):\n",
    "    train_errors, val_errors = [], [] \n",
    "    for value in param_values:\n",
    "        params = {param_name: value}\n",
    "        print(params)\n",
    "        model, train_acc, val_acc = test_and_showRF(inputs, **params)\n",
    "        train_errors.append(train_acc)\n",
    "        val_errors.append(val_acc)\n",
    "    plt.figure(figsize=(10,6));\n",
    "    plt.title('Overfitting curve: ' + param_name);\n",
    "    plt.plot(param_values, train_errors, 'b-o');\n",
    "    plt.plot(param_values, val_errors, 'r-o');\n",
    "    plt.xlabel(param_name);\n",
    "    plt.ylabel('Accuracy');\n",
    "    plt.legend(['Training', 'Validation']);"
   ]
  },
  {
   "cell_type": "code",
   "execution_count": 40,
   "id": "b02d552f",
   "metadata": {
    "execution": {
     "iopub.execute_input": "2022-07-29T09:53:58.718274Z",
     "iopub.status.busy": "2022-07-29T09:53:58.716928Z",
     "iopub.status.idle": "2022-07-29T09:53:58.728517Z",
     "shell.execute_reply": "2022-07-29T09:53:58.727124Z"
    },
    "papermill": {
     "duration": 0.047119,
     "end_time": "2022-07-29T09:53:58.731425",
     "exception": false,
     "start_time": "2022-07-29T09:53:58.684306",
     "status": "completed"
    },
    "tags": []
   },
   "outputs": [
    {
     "name": "stdout",
     "output_type": "stream",
     "text": [
      "This Is Logistic Regressor\n"
     ]
    }
   ],
   "source": [
    "print(\"This Is Logistic Regressor\")\n",
    "def test_and_showLR(inputs, **params):\n",
    "    modelsLR = []\n",
    "    trainLR = []\n",
    "    valLR = []\n",
    "    for train_idxs, val_idxs in kfold.split(inputs):\n",
    "        X_train, train_targets = inputs.iloc[train_idxs], target.iloc[train_idxs]\n",
    "        X_val, val_targets = inputs.iloc[val_idxs], target.iloc[val_idxs]\n",
    "        model, train_acc, val_acc = train_and_evaluateLR(X_train, \n",
    "                                                     train_targets, \n",
    "                                                     X_val, \n",
    "                                                     val_targets, \n",
    "                                                     **params)\n",
    "        modelsLR.append(model)\n",
    "        trainLR.append(train_acc)\n",
    "        valLR.append(val_acc)\n",
    "        print('Model n° {}, Train accuracy: {}, Validation accuracy: {}'.format(modelsLR.index(model),train_acc, val_acc))\n",
    "        \n",
    "    return modelsLR,np.mean(trainLR), np.mean(valLR)\n"
   ]
  },
  {
   "cell_type": "code",
   "execution_count": 41,
   "id": "f8f928ad",
   "metadata": {
    "execution": {
     "iopub.execute_input": "2022-07-29T09:53:58.795385Z",
     "iopub.status.busy": "2022-07-29T09:53:58.795007Z",
     "iopub.status.idle": "2022-07-29T09:53:58.803719Z",
     "shell.execute_reply": "2022-07-29T09:53:58.802444Z"
    },
    "papermill": {
     "duration": 0.043351,
     "end_time": "2022-07-29T09:53:58.806055",
     "exception": false,
     "start_time": "2022-07-29T09:53:58.762704",
     "status": "completed"
    },
    "tags": []
   },
   "outputs": [],
   "source": [
    "def test_param_and_plotLR(inputs_scaled, param_name, param_values):\n",
    "    train_errors, val_errors = [], [] \n",
    "    for value in param_values:\n",
    "        params = {param_name: value}\n",
    "        print(params)\n",
    "        model, train_acc, val_acc = test_and_showLR(inputs_scaled, **params)\n",
    "        train_errors.append(train_acc)\n",
    "        val_errors.append(val_acc)\n",
    "    plt.figure(figsize=(10,6));\n",
    "    plt.title('Overfitting curve: ' + param_name);\n",
    "    plt.plot(param_values, train_errors, 'b-o');\n",
    "    plt.plot(param_values, val_errors, 'r-o');\n",
    "    plt.xlabel(param_name);\n",
    "    plt.ylabel('Accuracy');\n",
    "    plt.legend(['Training', 'Validation']);"
   ]
  },
  {
   "cell_type": "markdown",
   "id": "bb191c83",
   "metadata": {
    "papermill": {
     "duration": 0.029959,
     "end_time": "2022-07-29T09:53:58.865964",
     "exception": false,
     "start_time": "2022-07-29T09:53:58.836005",
     "status": "completed"
    },
    "tags": []
   },
   "source": [
    "Let's tune the hyperparams of our model keeping in mind the overfitting."
   ]
  },
  {
   "cell_type": "code",
   "execution_count": 42,
   "id": "87655aae",
   "metadata": {
    "execution": {
     "iopub.execute_input": "2022-07-29T09:53:58.930118Z",
     "iopub.status.busy": "2022-07-29T09:53:58.928937Z",
     "iopub.status.idle": "2022-07-29T09:57:43.943882Z",
     "shell.execute_reply": "2022-07-29T09:57:43.943023Z"
    },
    "papermill": {
     "duration": 225.04881,
     "end_time": "2022-07-29T09:57:43.946099",
     "exception": false,
     "start_time": "2022-07-29T09:53:58.897289",
     "status": "completed"
    },
    "tags": []
   },
   "outputs": [
    {
     "name": "stdout",
     "output_type": "stream",
     "text": [
      "{'max_depth': 10}\n",
      "Model n° 0, Train accuracy: 0.9429937228392081, Validation accuracy: 0.9370763080132105\n",
      "Model n° 1, Train accuracy: 0.9427329792370835, Validation accuracy: 0.9357726403615505\n",
      "Model n° 2, Train accuracy: 0.9436214389183969, Validation accuracy: 0.9325569268207892\n",
      "Model n° 3, Train accuracy: 0.942810236600676, Validation accuracy: 0.9340344168260039\n",
      "Model n° 4, Train accuracy: 0.9430806373732497, Validation accuracy: 0.9350773509473318\n",
      "Model n° 5, Train accuracy: 0.9426653790439401, Validation accuracy: 0.9387276203719799\n",
      "Model n° 6, Train accuracy: 0.9429459879672818, Validation accuracy: 0.9340286831812256\n",
      "Model n° 7, Train accuracy: 0.9428880455041477, Validation accuracy: 0.9342894393741852\n",
      "Model n° 8, Train accuracy: 0.9428107888866356, Validation accuracy: 0.9350717079530639\n",
      "Model n° 9, Train accuracy: 0.943032901661983, Validation accuracy: 0.932464146023468\n",
      "{'max_depth': 15}\n",
      "Model n° 0, Train accuracy: 0.958348623853211, Validation accuracy: 0.9375108638970971\n",
      "Model n° 1, Train accuracy: 0.9584065668759053, Validation accuracy: 0.9369893968364331\n",
      "Model n° 2, Train accuracy: 0.959005311443747, Validation accuracy: 0.9313401703459064\n",
      "Model n° 3, Train accuracy: 0.9584548527281507, Validation accuracy: 0.9337736832956718\n",
      "Model n° 4, Train accuracy: 0.9588797682279092, Validation accuracy: 0.9342082391795585\n",
      "Model n° 5, Train accuracy: 0.9586866248189281, Validation accuracy: 0.9383799756648705\n",
      "Model n° 6, Train accuracy: 0.9589670790238627, Validation accuracy: 0.9352455454150369\n",
      "Model n° 7, Train accuracy: 0.9589187936379175, Validation accuracy: 0.9342025206431986\n",
      "Model n° 8, Train accuracy: 0.9588994794835395, Validation accuracy: 0.9342894393741852\n",
      "Model n° 9, Train accuracy: 0.9592664484167222, Validation accuracy: 0.9325510647544546\n",
      "{'max_depth': 20}\n",
      "Model n° 0, Train accuracy: 0.9738580395943989, Validation accuracy: 0.9359464627151052\n",
      "Model n° 1, Train accuracy: 0.9739159826170932, Validation accuracy: 0.9367286633061012\n",
      "Model n° 2, Train accuracy: 0.9739642684693385, Validation accuracy: 0.9312532591691292\n",
      "Model n° 3, Train accuracy: 0.9740028971511347, Validation accuracy: 0.9325569268207892\n",
      "Model n° 4, Train accuracy: 0.9742539835828102, Validation accuracy: 0.9333391274117852\n",
      "Model n° 5, Train accuracy: 0.9741574118783196, Validation accuracy: 0.9375977750738745\n",
      "Model n° 6, Train accuracy: 0.9740997189790538, Validation accuracy: 0.9348978704910909\n",
      "Model n° 7, Train accuracy: 0.9744860020666145, Validation accuracy: 0.9331594958713603\n",
      "Model n° 8, Train accuracy: 0.9745149732981816, Validation accuracy: 0.9332464146023468\n",
      "Model n° 9, Train accuracy: 0.9741769755965659, Validation accuracy: 0.9326379834854411\n"
     ]
    },
    {
     "data": {
      "image/png": "[encoded data removed]",
      "text/plain": [
       "<Figure size 720x432 with 1 Axes>"
      ]
     },
     "metadata": {
      "needs_background": "light"
     },
     "output_type": "display_data"
    }
   ],
   "source": [
    "test_param_and_plotRF(\"max_depth\", [10,15,20])"
   ]
  },
  {
   "cell_type": "code",
   "execution_count": 43,
   "id": "2cd29e9a",
   "metadata": {
    "execution": {
     "iopub.execute_input": "2022-07-29T09:57:44.013378Z",
     "iopub.status.busy": "2022-07-29T09:57:44.013003Z",
     "iopub.status.idle": "2022-07-29T10:00:09.592252Z",
     "shell.execute_reply": "2022-07-29T10:00:09.591097Z"
    },
    "papermill": {
     "duration": 145.615888,
     "end_time": "2022-07-29T10:00:09.594784",
     "exception": false,
     "start_time": "2022-07-29T09:57:43.978896",
     "status": "completed"
    },
    "tags": []
   },
   "outputs": [
    {
     "name": "stdout",
     "output_type": "stream",
     "text": [
      "{'max_leaf_nodes': 64}\n",
      "Model n° 0, Train accuracy: 0.93702559150169, Validation accuracy: 0.9379454197809838\n",
      "Model n° 1, Train accuracy: 0.9371125060357315, Validation accuracy: 0.9355988180079958\n",
      "Model n° 2, Train accuracy: 0.9374891356832448, Validation accuracy: 0.9332522162350079\n",
      "Model n° 3, Train accuracy: 0.9373249637856108, Validation accuracy: 0.9349904397705545\n",
      "Model n° 4, Train accuracy: 0.9373056494447127, Validation accuracy: 0.9346427950634452\n",
      "Model n° 5, Train accuracy: 0.9369869628198938, Validation accuracy: 0.9368155744828784\n",
      "Model n° 6, Train accuracy: 0.937142084576682, Validation accuracy: 0.93541938287701\n",
      "Model n° 7, Train accuracy: 0.9370358567276028, Validation accuracy: 0.9346371142981312\n",
      "Model n° 8, Train accuracy: 0.937151741653871, Validation accuracy: 0.9355063016079965\n",
      "Model n° 9, Train accuracy: 0.9372965978117063, Validation accuracy: 0.932464146023468\n",
      "{'max_leaf_nodes': 128}\n",
      "Model n° 0, Train accuracy: 0.9393143408981168, Validation accuracy: 0.9378585086042065\n",
      "Model n° 1, Train accuracy: 0.9395943988411396, Validation accuracy: 0.9360333738918825\n",
      "Model n° 2, Train accuracy: 0.9399710284886528, Validation accuracy: 0.9322092821136798\n",
      "Model n° 3, Train accuracy: 0.9397971994205697, Validation accuracy: 0.9336867721188945\n",
      "Model n° 4, Train accuracy: 0.9395847416706905, Validation accuracy: 0.9350773509473318\n",
      "Model n° 5, Train accuracy: 0.939497827136649, Validation accuracy: 0.9376846862506518\n",
      "Model n° 6, Train accuracy: 0.9397301812633388, Validation accuracy: 0.93541938287701\n",
      "Model n° 7, Train accuracy: 0.9396046392598816, Validation accuracy: 0.9352455454150369\n",
      "Model n° 8, Train accuracy: 0.9395273826423695, Validation accuracy: 0.9357670578009561\n",
      "Model n° 9, Train accuracy: 0.9399426369614973, Validation accuracy: 0.9328118209474142\n",
      "{'max_leaf_nodes': 256}\n",
      "Model n° 0, Train accuracy: 0.9427522935779816, Validation accuracy: 0.9382061533113158\n",
      "Model n° 1, Train accuracy: 0.9430130371801062, Validation accuracy: 0.9363810185989918\n",
      "Model n° 2, Train accuracy: 0.9436986962819893, Validation accuracy: 0.9316009038762385\n",
      "Model n° 3, Train accuracy: 0.9432254949299855, Validation accuracy: 0.9337736832956718\n",
      "Model n° 4, Train accuracy: 0.943138580395944, Validation accuracy: 0.9347297062402224\n",
      "Model n° 5, Train accuracy: 0.9430516658619025, Validation accuracy: 0.9381192421345385\n",
      "Model n° 6, Train accuracy: 0.9431487865882512, Validation accuracy: 0.9350717079530639\n",
      "Model n° 7, Train accuracy: 0.94355438383019, Validation accuracy: 0.9351586266840504\n",
      "Model n° 8, Train accuracy: 0.9429653021216599, Validation accuracy: 0.9352455454150369\n",
      "Model n° 9, Train accuracy: 0.9435350696758119, Validation accuracy: 0.9329856584093872\n"
     ]
    },
    {
     "data": {
      "image/png": "[encoded data removed]",
      "text/plain": [
       "<Figure size 720x432 with 1 Axes>"
      ]
     },
     "metadata": {
      "needs_background": "light"
     },
     "output_type": "display_data"
    }
   ],
   "source": [
    "test_param_and_plotRF(\"max_leaf_nodes\", [64,128,256])"
   ]
  },
  {
   "cell_type": "code",
   "execution_count": 44,
   "id": "3d1c63ea",
   "metadata": {
    "execution": {
     "iopub.execute_input": "2022-07-29T10:00:09.667124Z",
     "iopub.status.busy": "2022-07-29T10:00:09.666740Z",
     "iopub.status.idle": "2022-07-29T10:02:01.473102Z",
     "shell.execute_reply": "2022-07-29T10:02:01.471802Z"
    },
    "papermill": {
     "duration": 111.845841,
     "end_time": "2022-07-29T10:02:01.475916",
     "exception": false,
     "start_time": "2022-07-29T10:00:09.630075",
     "status": "completed"
    },
    "tags": []
   },
   "outputs": [
    {
     "name": "stdout",
     "output_type": "stream",
     "text": [
      "{'min_weight_fraction_leaf': 0.042}\n",
      "Model n° 0, Train accuracy: 0.9308353452438436, Validation accuracy: 0.9353380844776639\n",
      "Model n° 1, Train accuracy: 0.9311057460164172, Validation accuracy: 0.9329045715278985\n",
      "Model n° 2, Train accuracy: 0.9316368903911154, Validation accuracy: 0.9281244568051451\n",
      "Model n° 3, Train accuracy: 0.9314244326412361, Validation accuracy: 0.9300365026942464\n",
      "Model n° 4, Train accuracy: 0.9312602607436021, Validation accuracy: 0.9315139926994611\n",
      "Model n° 5, Train accuracy: 0.9309029454369869, Validation accuracy: 0.9347297062402224\n",
      "Model n° 6, Train accuracy: 0.9314444090351615, Validation accuracy: 0.9298565840938723\n",
      "Model n° 7, Train accuracy: 0.9314444090351615, Validation accuracy: 0.9298565840938723\n",
      "Model n° 8, Train accuracy: 0.9311836679510579, Validation accuracy: 0.9322033898305084\n",
      "Model n° 9, Train accuracy: 0.9316182364245638, Validation accuracy: 0.9282920469361148\n",
      "{'min_weight_fraction_leaf': 0.045}\n",
      "Model n° 0, Train accuracy: 0.909415741187832, Validation accuracy: 0.9143055796975491\n",
      "Model n° 1, Train accuracy: 0.9096668276195075, Validation accuracy: 0.9120458891013384\n",
      "Model n° 2, Train accuracy: 0.9104876871076775, Validation accuracy: 0.9046584390752651\n",
      "Model n° 3, Train accuracy: 0.9100048285852246, Validation accuracy: 0.9090039979141318\n",
      "Model n° 4, Train accuracy: 0.9098889425398359, Validation accuracy: 0.9100469320354597\n",
      "Model n° 5, Train accuracy: 0.9095316272332207, Validation accuracy: 0.913262645576221\n",
      "Model n° 6, Train accuracy: 0.9100636401386756, Validation accuracy: 0.9084745762711864\n",
      "Model n° 7, Train accuracy: 0.9098801556720842, Validation accuracy: 0.9101260321599305\n",
      "Model n° 8, Train accuracy: 0.9098028990545721, Validation accuracy: 0.9108213820078227\n",
      "Model n° 9, Train accuracy: 0.9103050670684011, Validation accuracy: 0.9063016079965233\n",
      "{'min_weight_fraction_leaf': 0.048}\n",
      "Model n° 0, Train accuracy: 0.909415741187832, Validation accuracy: 0.9143055796975491\n",
      "Model n° 1, Train accuracy: 0.9096668276195075, Validation accuracy: 0.9120458891013384\n",
      "Model n° 2, Train accuracy: 0.9104876871076775, Validation accuracy: 0.9046584390752651\n",
      "Model n° 3, Train accuracy: 0.9100048285852246, Validation accuracy: 0.9090039979141318\n",
      "Model n° 4, Train accuracy: 0.9098889425398359, Validation accuracy: 0.9100469320354597\n",
      "Model n° 5, Train accuracy: 0.9095316272332207, Validation accuracy: 0.913262645576221\n",
      "Model n° 6, Train accuracy: 0.9100636401386756, Validation accuracy: 0.9084745762711864\n",
      "Model n° 7, Train accuracy: 0.9098801556720842, Validation accuracy: 0.9101260321599305\n",
      "Model n° 8, Train accuracy: 0.9098028990545721, Validation accuracy: 0.9108213820078227\n",
      "Model n° 9, Train accuracy: 0.9103050670684011, Validation accuracy: 0.9063016079965233\n"
     ]
    },
    {
     "data": {
      "image/png": "[encoded data removed]",
      "text/plain": [
       "<Figure size 720x432 with 1 Axes>"
      ]
     },
     "metadata": {
      "needs_background": "light"
     },
     "output_type": "display_data"
    }
   ],
   "source": [
    "test_param_and_plotRF(\"min_weight_fraction_leaf\", [0.042,0.045,0.048])"
   ]
  },
  {
   "cell_type": "code",
   "execution_count": 45,
   "id": "45a1e1e6",
   "metadata": {
    "execution": {
     "iopub.execute_input": "2022-07-29T10:02:01.556360Z",
     "iopub.status.busy": "2022-07-29T10:02:01.555669Z",
     "iopub.status.idle": "2022-07-29T10:02:40.880011Z",
     "shell.execute_reply": "2022-07-29T10:02:40.879111Z"
    },
    "papermill": {
     "duration": 39.36654,
     "end_time": "2022-07-29T10:02:40.882095",
     "exception": false,
     "start_time": "2022-07-29T10:02:01.515555",
     "status": "completed"
    },
    "tags": []
   },
   "outputs": [
    {
     "name": "stdout",
     "output_type": "stream",
     "text": [
      "Model n° 0, Train accuracy: 0.9307967165620473, Validation accuracy: 0.9350773509473318\n",
      "Model n° 1, Train accuracy: 0.9310478029937228, Validation accuracy: 0.9328176603511211\n",
      "Model n° 2, Train accuracy: 0.931569290197972, Validation accuracy: 0.9281244568051451\n",
      "Model n° 3, Train accuracy: 0.9313664896185417, Validation accuracy: 0.9299495915174691\n",
      "Model n° 4, Train accuracy: 0.9311926605504587, Validation accuracy: 0.9315139926994611\n",
      "Model n° 5, Train accuracy: 0.9308353452438436, Validation accuracy: 0.9347297062402224\n",
      "Model n° 6, Train accuracy: 0.9313768094948383, Validation accuracy: 0.9298565840938723\n",
      "Model n° 7, Train accuracy: 0.9313864665720273, Validation accuracy: 0.9297696653628857\n",
      "Model n° 8, Train accuracy: 0.9311160684107348, Validation accuracy: 0.9322033898305084\n",
      "Model n° 9, Train accuracy: 0.9315602939614296, Validation accuracy: 0.9282051282051282\n"
     ]
    },
    {
     "data": {
      "text/plain": [
       "([RandomForestClassifier(max_depth=10, max_leaf_nodes=128,\n",
       "                         min_weight_fraction_leaf=0.04, n_jobs=-1,\n",
       "                         random_state=42),\n",
       "  RandomForestClassifier(max_depth=10, max_leaf_nodes=128,\n",
       "                         min_weight_fraction_leaf=0.04, n_jobs=-1,\n",
       "                         random_state=42),\n",
       "  RandomForestClassifier(max_depth=10, max_leaf_nodes=128,\n",
       "                         min_weight_fraction_leaf=0.04, n_jobs=-1,\n",
       "                         random_state=42),\n",
       "  RandomForestClassifier(max_depth=10, max_leaf_nodes=128,\n",
       "                         min_weight_fraction_leaf=0.04, n_jobs=-1,\n",
       "                         random_state=42),\n",
       "  RandomForestClassifier(max_depth=10, max_leaf_nodes=128,\n",
       "                         min_weight_fraction_leaf=0.04, n_jobs=-1,\n",
       "                         random_state=42),\n",
       "  RandomForestClassifier(max_depth=10, max_leaf_nodes=128,\n",
       "                         min_weight_fraction_leaf=0.04, n_jobs=-1,\n",
       "                         random_state=42),\n",
       "  RandomForestClassifier(max_depth=10, max_leaf_nodes=128,\n",
       "                         min_weight_fraction_leaf=0.04, n_jobs=-1,\n",
       "                         random_state=42),\n",
       "  RandomForestClassifier(max_depth=10, max_leaf_nodes=128,\n",
       "                         min_weight_fraction_leaf=0.04, n_jobs=-1,\n",
       "                         random_state=42),\n",
       "  RandomForestClassifier(max_depth=10, max_leaf_nodes=128,\n",
       "                         min_weight_fraction_leaf=0.04, n_jobs=-1,\n",
       "                         random_state=42),\n",
       "  RandomForestClassifier(max_depth=10, max_leaf_nodes=128,\n",
       "                         min_weight_fraction_leaf=0.04, n_jobs=-1,\n",
       "                         random_state=42)],\n",
       " 0.9312247943605616,\n",
       " 0.9312247526053146)"
      ]
     },
     "execution_count": 45,
     "metadata": {},
     "output_type": "execute_result"
    }
   ],
   "source": [
    "test_and_showRF(inputs, max_depth=10, max_leaf_nodes=128, min_weight_fraction_leaf=0.04)"
   ]
  },
  {
   "cell_type": "code",
   "execution_count": 46,
   "id": "55009577",
   "metadata": {
    "execution": {
     "iopub.execute_input": "2022-07-29T10:02:40.962469Z",
     "iopub.status.busy": "2022-07-29T10:02:40.961464Z",
     "iopub.status.idle": "2022-07-29T10:03:18.795954Z",
     "shell.execute_reply": "2022-07-29T10:03:18.794497Z"
    },
    "papermill": {
     "duration": 37.878209,
     "end_time": "2022-07-29T10:03:18.798769",
     "exception": false,
     "start_time": "2022-07-29T10:02:40.920560",
     "status": "completed"
    },
    "tags": []
   },
   "outputs": [
    {
     "name": "stdout",
     "output_type": "stream",
     "text": [
      "Model n° 0, Train accuracy: 0.9307967165620473, Validation accuracy: 0.9350773509473318\n",
      "Model n° 1, Train accuracy: 0.9310478029937228, Validation accuracy: 0.9328176603511211\n",
      "Model n° 2, Train accuracy: 0.931569290197972, Validation accuracy: 0.9281244568051451\n",
      "Model n° 3, Train accuracy: 0.9313664896185417, Validation accuracy: 0.9299495915174691\n",
      "Model n° 4, Train accuracy: 0.9311926605504587, Validation accuracy: 0.9315139926994611\n",
      "Model n° 5, Train accuracy: 0.9308353452438436, Validation accuracy: 0.9347297062402224\n",
      "Model n° 6, Train accuracy: 0.9313768094948383, Validation accuracy: 0.9298565840938723\n",
      "Model n° 7, Train accuracy: 0.9313864665720273, Validation accuracy: 0.9297696653628857\n",
      "Model n° 8, Train accuracy: 0.9311160684107348, Validation accuracy: 0.9322033898305084\n",
      "Model n° 9, Train accuracy: 0.9315602939614296, Validation accuracy: 0.9282051282051282\n"
     ]
    }
   ],
   "source": [
    "modelRF, train_accRF, valid_accRF = test_and_showRF(inputs, max_depth=8, max_leaf_nodes=128, min_weight_fraction_leaf=0.04)"
   ]
  },
  {
   "cell_type": "code",
   "execution_count": 47,
   "id": "7aeddfa8",
   "metadata": {
    "execution": {
     "iopub.execute_input": "2022-07-29T10:03:18.879083Z",
     "iopub.status.busy": "2022-07-29T10:03:18.878087Z",
     "iopub.status.idle": "2022-07-29T10:03:18.943031Z",
     "shell.execute_reply": "2022-07-29T10:03:18.941987Z"
    },
    "papermill": {
     "duration": 0.10765,
     "end_time": "2022-07-29T10:03:18.945493",
     "exception": false,
     "start_time": "2022-07-29T10:03:18.837843",
     "status": "completed"
    },
    "tags": []
   },
   "outputs": [
    {
     "name": "stderr",
     "output_type": "stream",
     "text": [
      "/opt/conda/lib/python3.7/site-packages/pandas/core/frame.py:3678: SettingWithCopyWarning: \n",
      "A value is trying to be set on a copy of a slice from a DataFrame.\n",
      "Try using .loc[row_indexer,col_indexer] = value instead\n",
      "\n",
      "See the caveats in the documentation: https://pandas.pydata.org/pandas-docs/stable/user_guide/indexing.html#returning-a-view-versus-a-copy\n",
      "  self[col] = igetitem(value, i)\n"
     ]
    },
    {
     "data": {
      "text/html": [
       "<div>\n",
       "<style scoped>\n",
       "    .dataframe tbody tr th:only-of-type {\n",
       "        vertical-align: middle;\n",
       "    }\n",
       "\n",
       "    .dataframe tbody tr th {\n",
       "        vertical-align: top;\n",
       "    }\n",
       "\n",
       "    .dataframe thead th {\n",
       "        text-align: right;\n",
       "    }\n",
       "</style>\n",
       "<table border=\"1\" class=\"dataframe\">\n",
       "  <thead>\n",
       "    <tr style=\"text-align: right;\">\n",
       "      <th></th>\n",
       "      <th>RevolvingUtilizationOfUnsecuredLines</th>\n",
       "      <th>age</th>\n",
       "      <th>NumberOfTime30-59DaysPastDueNotWorse</th>\n",
       "      <th>DebtRatio</th>\n",
       "      <th>MonthlyIncome</th>\n",
       "      <th>NumberOfOpenCreditLinesAndLoans</th>\n",
       "      <th>NumberOfTimes90DaysLate</th>\n",
       "      <th>NumberRealEstateLoansOrLines</th>\n",
       "      <th>NumberOfTime60-89DaysPastDueNotWorse</th>\n",
       "      <th>NumberOfDependents</th>\n",
       "    </tr>\n",
       "  </thead>\n",
       "  <tbody>\n",
       "    <tr>\n",
       "      <th>0</th>\n",
       "      <td>0.191532</td>\n",
       "      <td>0.414141</td>\n",
       "      <td>0.153846</td>\n",
       "      <td>0.200746</td>\n",
       "      <td>0.588349</td>\n",
       "      <td>0.228070</td>\n",
       "      <td>0.000000</td>\n",
       "      <td>0.24</td>\n",
       "      <td>0.0</td>\n",
       "      <td>0.10</td>\n",
       "    </tr>\n",
       "    <tr>\n",
       "      <th>1</th>\n",
       "      <td>0.239288</td>\n",
       "      <td>0.363636</td>\n",
       "      <td>0.000000</td>\n",
       "      <td>0.030469</td>\n",
       "      <td>0.167731</td>\n",
       "      <td>0.070175</td>\n",
       "      <td>0.000000</td>\n",
       "      <td>0.00</td>\n",
       "      <td>0.0</td>\n",
       "      <td>0.05</td>\n",
       "    </tr>\n",
       "    <tr>\n",
       "      <th>2</th>\n",
       "      <td>0.164545</td>\n",
       "      <td>0.343434</td>\n",
       "      <td>0.076923</td>\n",
       "      <td>0.021278</td>\n",
       "      <td>0.196245</td>\n",
       "      <td>0.035088</td>\n",
       "      <td>0.058824</td>\n",
       "      <td>0.00</td>\n",
       "      <td>0.0</td>\n",
       "      <td>0.00</td>\n",
       "    </tr>\n",
       "    <tr>\n",
       "      <th>3</th>\n",
       "      <td>0.058452</td>\n",
       "      <td>0.262626</td>\n",
       "      <td>0.000000</td>\n",
       "      <td>0.009012</td>\n",
       "      <td>0.212889</td>\n",
       "      <td>0.087719</td>\n",
       "      <td>0.000000</td>\n",
       "      <td>0.00</td>\n",
       "      <td>0.0</td>\n",
       "      <td>0.00</td>\n",
       "    </tr>\n",
       "    <tr>\n",
       "      <th>5</th>\n",
       "      <td>0.053295</td>\n",
       "      <td>0.707071</td>\n",
       "      <td>0.000000</td>\n",
       "      <td>0.093902</td>\n",
       "      <td>0.225792</td>\n",
       "      <td>0.052632</td>\n",
       "      <td>0.000000</td>\n",
       "      <td>0.04</td>\n",
       "      <td>0.0</td>\n",
       "      <td>0.05</td>\n",
       "    </tr>\n",
       "    <tr>\n",
       "      <th>...</th>\n",
       "      <td>...</td>\n",
       "      <td>...</td>\n",
       "      <td>...</td>\n",
       "      <td>...</td>\n",
       "      <td>...</td>\n",
       "      <td>...</td>\n",
       "      <td>...</td>\n",
       "      <td>...</td>\n",
       "      <td>...</td>\n",
       "      <td>...</td>\n",
       "    </tr>\n",
       "    <tr>\n",
       "      <th>149994</th>\n",
       "      <td>0.096436</td>\n",
       "      <td>0.464646</td>\n",
       "      <td>0.000000</td>\n",
       "      <td>0.101073</td>\n",
       "      <td>0.219341</td>\n",
       "      <td>0.122807</td>\n",
       "      <td>0.000000</td>\n",
       "      <td>0.00</td>\n",
       "      <td>0.0</td>\n",
       "      <td>0.00</td>\n",
       "    </tr>\n",
       "    <tr>\n",
       "      <th>149995</th>\n",
       "      <td>0.010168</td>\n",
       "      <td>0.707071</td>\n",
       "      <td>0.000000</td>\n",
       "      <td>0.056283</td>\n",
       "      <td>0.135475</td>\n",
       "      <td>0.070175</td>\n",
       "      <td>0.000000</td>\n",
       "      <td>0.04</td>\n",
       "      <td>0.0</td>\n",
       "      <td>0.00</td>\n",
       "    </tr>\n",
       "    <tr>\n",
       "      <th>149996</th>\n",
       "      <td>0.074936</td>\n",
       "      <td>0.404040</td>\n",
       "      <td>0.000000</td>\n",
       "      <td>0.179141</td>\n",
       "      <td>0.360235</td>\n",
       "      <td>0.070175</td>\n",
       "      <td>0.000000</td>\n",
       "      <td>0.04</td>\n",
       "      <td>0.0</td>\n",
       "      <td>0.10</td>\n",
       "    </tr>\n",
       "    <tr>\n",
       "      <th>149998</th>\n",
       "      <td>0.000000</td>\n",
       "      <td>0.262626</td>\n",
       "      <td>0.000000</td>\n",
       "      <td>0.000000</td>\n",
       "      <td>0.368750</td>\n",
       "      <td>0.070175</td>\n",
       "      <td>0.000000</td>\n",
       "      <td>0.00</td>\n",
       "      <td>0.0</td>\n",
       "      <td>0.00</td>\n",
       "    </tr>\n",
       "    <tr>\n",
       "      <th>149999</th>\n",
       "      <td>0.212571</td>\n",
       "      <td>0.606061</td>\n",
       "      <td>0.000000</td>\n",
       "      <td>0.062477</td>\n",
       "      <td>0.526289</td>\n",
       "      <td>0.140351</td>\n",
       "      <td>0.000000</td>\n",
       "      <td>0.08</td>\n",
       "      <td>0.0</td>\n",
       "      <td>0.00</td>\n",
       "    </tr>\n",
       "  </tbody>\n",
       "</table>\n",
       "<p>115056 rows × 10 columns</p>\n",
       "</div>"
      ],
      "text/plain": [
       "        RevolvingUtilizationOfUnsecuredLines       age  \\\n",
       "0                                   0.191532  0.414141   \n",
       "1                                   0.239288  0.363636   \n",
       "2                                   0.164545  0.343434   \n",
       "3                                   0.058452  0.262626   \n",
       "5                                   0.053295  0.707071   \n",
       "...                                      ...       ...   \n",
       "149994                              0.096436  0.464646   \n",
       "149995                              0.010168  0.707071   \n",
       "149996                              0.074936  0.404040   \n",
       "149998                              0.000000  0.262626   \n",
       "149999                              0.212571  0.606061   \n",
       "\n",
       "        NumberOfTime30-59DaysPastDueNotWorse  DebtRatio  MonthlyIncome  \\\n",
       "0                                   0.153846   0.200746       0.588349   \n",
       "1                                   0.000000   0.030469       0.167731   \n",
       "2                                   0.076923   0.021278       0.196245   \n",
       "3                                   0.000000   0.009012       0.212889   \n",
       "5                                   0.000000   0.093902       0.225792   \n",
       "...                                      ...        ...            ...   \n",
       "149994                              0.000000   0.101073       0.219341   \n",
       "149995                              0.000000   0.056283       0.135475   \n",
       "149996                              0.000000   0.179141       0.360235   \n",
       "149998                              0.000000   0.000000       0.368750   \n",
       "149999                              0.000000   0.062477       0.526289   \n",
       "\n",
       "        NumberOfOpenCreditLinesAndLoans  NumberOfTimes90DaysLate  \\\n",
       "0                              0.228070                 0.000000   \n",
       "1                              0.070175                 0.000000   \n",
       "2                              0.035088                 0.058824   \n",
       "3                              0.087719                 0.000000   \n",
       "5                              0.052632                 0.000000   \n",
       "...                                 ...                      ...   \n",
       "149994                         0.122807                 0.000000   \n",
       "149995                         0.070175                 0.000000   \n",
       "149996                         0.070175                 0.000000   \n",
       "149998                         0.070175                 0.000000   \n",
       "149999                         0.140351                 0.000000   \n",
       "\n",
       "        NumberRealEstateLoansOrLines  NumberOfTime60-89DaysPastDueNotWorse  \\\n",
       "0                               0.24                                   0.0   \n",
       "1                               0.00                                   0.0   \n",
       "2                               0.00                                   0.0   \n",
       "3                               0.00                                   0.0   \n",
       "5                               0.04                                   0.0   \n",
       "...                              ...                                   ...   \n",
       "149994                          0.00                                   0.0   \n",
       "149995                          0.04                                   0.0   \n",
       "149996                          0.04                                   0.0   \n",
       "149998                          0.00                                   0.0   \n",
       "149999                          0.08                                   0.0   \n",
       "\n",
       "        NumberOfDependents  \n",
       "0                     0.10  \n",
       "1                     0.05  \n",
       "2                     0.00  \n",
       "3                     0.00  \n",
       "5                     0.05  \n",
       "...                    ...  \n",
       "149994                0.00  \n",
       "149995                0.00  \n",
       "149996                0.10  \n",
       "149998                0.00  \n",
       "149999                0.00  \n",
       "\n",
       "[115056 rows x 10 columns]"
      ]
     },
     "execution_count": 47,
     "metadata": {},
     "output_type": "execute_result"
    }
   ],
   "source": [
    "from sklearn import preprocessing\n",
    "\n",
    "inputs_col = inputs.columns\n",
    "\n",
    "scaler = preprocessing.MinMaxScaler().fit(train_data[train_data.columns[1:]])\n",
    "inputs[inputs_col] = scaler.transform(inputs[inputs_col])\n",
    "inputs"
   ]
  },
  {
   "cell_type": "code",
   "execution_count": 48,
   "id": "425be633",
   "metadata": {
    "execution": {
     "iopub.execute_input": "2022-07-29T10:03:19.026729Z",
     "iopub.status.busy": "2022-07-29T10:03:19.026318Z",
     "iopub.status.idle": "2022-07-29T10:06:13.300610Z",
     "shell.execute_reply": "2022-07-29T10:06:13.299518Z"
    },
    "papermill": {
     "duration": 174.317968,
     "end_time": "2022-07-29T10:06:13.303267",
     "exception": false,
     "start_time": "2022-07-29T10:03:18.985299",
     "status": "completed"
    },
    "tags": []
   },
   "outputs": [
    {
     "name": "stdout",
     "output_type": "stream",
     "text": [
      "{'max_iter': 10}\n",
      "Model n° 0, Train accuracy: 0.9325929502655722, Validation accuracy: 0.9359464627151052\n",
      "Model n° 1, Train accuracy: 0.9325543215837759, Validation accuracy: 0.9345558838866678\n",
      "Model n° 2, Train accuracy: 0.9332496378561081, Validation accuracy: 0.9296888579871372\n",
      "Model n° 3, Train accuracy: 0.932901979719942, Validation accuracy: 0.9313401703459064\n",
      "Model n° 4, Train accuracy: 0.9328440366972477, Validation accuracy: 0.9320354597601251\n",
      "Model n° 5, Train accuracy: 0.9324577498792854, Validation accuracy: 0.9362071962454371\n",
      "Model n° 6, Train accuracy: 0.9326901719925448, Validation accuracy: 0.9329856584093872\n",
      "Model n° 7, Train accuracy: 0.9329605701538373, Validation accuracy: 0.9307257714037375\n",
      "Model n° 8, Train accuracy: 0.9327481144556788, Validation accuracy: 0.9331594958713603\n",
      "Model n° 9, Train accuracy: 0.9329315989222702, Validation accuracy: 0.9309865275966971\n",
      "{'max_iter': 50}\n",
      "Model n° 0, Train accuracy: 0.9343022694350556, Validation accuracy: 0.9371632191899878\n",
      "Model n° 1, Train accuracy: 0.9344084983099952, Validation accuracy: 0.9364679297757692\n",
      "Model n° 2, Train accuracy: 0.9349975857073878, Validation accuracy: 0.9307317921084651\n",
      "Model n° 3, Train accuracy: 0.9347368421052632, Validation accuracy: 0.9334260385885624\n",
      "Model n° 4, Train accuracy: 0.9346885562530178, Validation accuracy: 0.9342082391795585\n",
      "Model n° 5, Train accuracy: 0.9341670690487687, Validation accuracy: 0.9376846862506518\n",
      "Model n° 6, Train accuracy: 0.9346022732759703, Validation accuracy: 0.9346371142981312\n",
      "Model n° 7, Train accuracy: 0.9346022732759703, Validation accuracy: 0.9340286831812256\n",
      "Model n° 8, Train accuracy: 0.9344960454268911, Validation accuracy: 0.9348109517601043\n",
      "Model n° 9, Train accuracy: 0.9348437002056957, Validation accuracy: 0.9323772272924815\n",
      "{'max_iter': 80}\n",
      "Model n° 0, Train accuracy: 0.9343408981168517, Validation accuracy: 0.9371632191899878\n",
      "Model n° 1, Train accuracy: 0.9344084983099952, Validation accuracy: 0.9364679297757692\n",
      "Model n° 2, Train accuracy: 0.9350362143891839, Validation accuracy: 0.9306448809316878\n",
      "Model n° 3, Train accuracy: 0.9347561564461613, Validation accuracy: 0.9333391274117852\n",
      "Model n° 4, Train accuracy: 0.9346209560598745, Validation accuracy: 0.9344689727098905\n",
      "Model n° 5, Train accuracy: 0.9342829550941574, Validation accuracy: 0.9375108638970971\n",
      "Model n° 6, Train accuracy: 0.9345926161987813, Validation accuracy: 0.9348978704910909\n",
      "Model n° 7, Train accuracy: 0.9346409015847263, Validation accuracy: 0.9342025206431986\n",
      "Model n° 8, Train accuracy: 0.9345539878900252, Validation accuracy: 0.9348978704910909\n",
      "Model n° 9, Train accuracy: 0.9348726714372628, Validation accuracy: 0.932464146023468\n",
      "{'max_iter': 100}\n",
      "Model n° 0, Train accuracy: 0.9342926122646065, Validation accuracy: 0.9372501303667652\n",
      "Model n° 1, Train accuracy: 0.9344567841622404, Validation accuracy: 0.9363810185989918\n",
      "Model n° 2, Train accuracy: 0.9349879285369387, Validation accuracy: 0.9306448809316878\n",
      "Model n° 3, Train accuracy: 0.9347464992757122, Validation accuracy: 0.9333391274117852\n",
      "Model n° 4, Train accuracy: 0.9346016417189763, Validation accuracy: 0.9342082391795585\n",
      "Model n° 5, Train accuracy: 0.9342539835828102, Validation accuracy: 0.9375977750738745\n",
      "Model n° 6, Train accuracy: 0.9346312445075373, Validation accuracy: 0.9348978704910909\n",
      "Model n° 7, Train accuracy: 0.9346215874303483, Validation accuracy: 0.9342025206431986\n",
      "Model n° 8, Train accuracy: 0.9345829591215923, Validation accuracy: 0.9348978704910909\n",
      "Model n° 9, Train accuracy: 0.9348147289741287, Validation accuracy: 0.9327249022164277\n",
      "{'max_iter': 200}\n",
      "Model n° 0, Train accuracy: 0.9343408981168517, Validation accuracy: 0.9371632191899878\n",
      "Model n° 1, Train accuracy: 0.9344471269917914, Validation accuracy: 0.9364679297757692\n",
      "Model n° 2, Train accuracy: 0.9349975857073878, Validation accuracy: 0.9306448809316878\n",
      "Model n° 3, Train accuracy: 0.9347464992757122, Validation accuracy: 0.9333391274117852\n",
      "Model n° 4, Train accuracy: 0.9346402704007726, Validation accuracy: 0.9342951503563358\n",
      "Model n° 5, Train accuracy: 0.9342539835828102, Validation accuracy: 0.9375977750738745\n",
      "Model n° 6, Train accuracy: 0.9346312445075373, Validation accuracy: 0.9348978704910909\n",
      "Model n° 7, Train accuracy: 0.9346215874303483, Validation accuracy: 0.9342025206431986\n",
      "Model n° 8, Train accuracy: 0.9345443308128362, Validation accuracy: 0.9348978704910909\n",
      "Model n° 9, Train accuracy: 0.9348437002056957, Validation accuracy: 0.9326379834854411\n"
     ]
    },
    {
     "data": {
      "image/png": "[encoded data removed]",
      "text/plain": [
       "<Figure size 720x432 with 1 Axes>"
      ]
     },
     "metadata": {
      "needs_background": "light"
     },
     "output_type": "display_data"
    }
   ],
   "source": [
    "test_param_and_plotLR(inputs, \"max_iter\", [10,50,80,100,200])"
   ]
  },
  {
   "cell_type": "code",
   "execution_count": 49,
   "id": "0c4e26ba",
   "metadata": {
    "execution": {
     "iopub.execute_input": "2022-07-29T10:06:13.394027Z",
     "iopub.status.busy": "2022-07-29T10:06:13.392948Z",
     "iopub.status.idle": "2022-07-29T10:07:25.039519Z",
     "shell.execute_reply": "2022-07-29T10:07:25.038355Z"
    },
    "papermill": {
     "duration": 71.694643,
     "end_time": "2022-07-29T10:07:25.042001",
     "exception": false,
     "start_time": "2022-07-29T10:06:13.347358",
     "status": "completed"
    },
    "tags": []
   },
   "outputs": [
    {
     "name": "stdout",
     "output_type": "stream",
     "text": [
      "{'fit_intercept': True}\n",
      "Model n° 0, Train accuracy: 0.9342926122646065, Validation accuracy: 0.9372501303667652\n",
      "Model n° 1, Train accuracy: 0.9344567841622404, Validation accuracy: 0.9363810185989918\n",
      "Model n° 2, Train accuracy: 0.9349879285369387, Validation accuracy: 0.9306448809316878\n",
      "Model n° 3, Train accuracy: 0.9347464992757122, Validation accuracy: 0.9333391274117852\n",
      "Model n° 4, Train accuracy: 0.9346016417189763, Validation accuracy: 0.9342082391795585\n",
      "Model n° 5, Train accuracy: 0.9342539835828102, Validation accuracy: 0.9375977750738745\n",
      "Model n° 6, Train accuracy: 0.9346312445075373, Validation accuracy: 0.9348978704910909\n",
      "Model n° 7, Train accuracy: 0.9346215874303483, Validation accuracy: 0.9342025206431986\n",
      "Model n° 8, Train accuracy: 0.9345829591215923, Validation accuracy: 0.9348978704910909\n",
      "Model n° 9, Train accuracy: 0.9348147289741287, Validation accuracy: 0.9327249022164277\n",
      "{'fit_intercept': False}\n",
      "Model n° 0, Train accuracy: 0.9337421535490101, Validation accuracy: 0.9349904397705545\n",
      "Model n° 1, Train accuracy: 0.933549010140029, Validation accuracy: 0.9366417521293239\n",
      "Model n° 2, Train accuracy: 0.9341863833896669, Validation accuracy: 0.9299495915174691\n",
      "Model n° 3, Train accuracy: 0.9338966682761951, Validation accuracy: 0.9337736832956718\n",
      "Model n° 4, Train accuracy: 0.93405118300338, Validation accuracy: 0.9324700156440118\n",
      "Model n° 5, Train accuracy: 0.9334620956059875, Validation accuracy: 0.9380323309577612\n",
      "Model n° 6, Train accuracy: 0.9338490212552268, Validation accuracy: 0.9344632768361582\n",
      "Model n° 7, Train accuracy: 0.933945592027117, Validation accuracy: 0.9329856584093872\n",
      "Model n° 8, Train accuracy: 0.9338683354096049, Validation accuracy: 0.9337679269882659\n",
      "Model n° 9, Train accuracy: 0.9341483906480864, Validation accuracy: 0.9311603650586702\n"
     ]
    },
    {
     "data": {
      "image/png": "[encoded data removed]",
      "text/plain": [
       "<Figure size 720x432 with 1 Axes>"
      ]
     },
     "metadata": {
      "needs_background": "light"
     },
     "output_type": "display_data"
    }
   ],
   "source": [
    "test_param_and_plotLR(inputs, \"fit_intercept\", [True, False])"
   ]
  },
  {
   "cell_type": "code",
   "execution_count": 50,
   "id": "9ab0e719",
   "metadata": {
    "execution": {
     "iopub.execute_input": "2022-07-29T10:07:25.137273Z",
     "iopub.status.busy": "2022-07-29T10:07:25.136870Z",
     "iopub.status.idle": "2022-07-29T10:08:00.331808Z",
     "shell.execute_reply": "2022-07-29T10:08:00.330237Z"
    },
    "papermill": {
     "duration": 35.247549,
     "end_time": "2022-07-29T10:08:00.336223",
     "exception": false,
     "start_time": "2022-07-29T10:07:25.088674",
     "status": "completed"
    },
    "tags": []
   },
   "outputs": [
    {
     "name": "stdout",
     "output_type": "stream",
     "text": [
      "Model n° 0, Train accuracy: 0.9343408981168517, Validation accuracy: 0.9371632191899878\n",
      "Model n° 1, Train accuracy: 0.9344084983099952, Validation accuracy: 0.9364679297757692\n",
      "Model n° 2, Train accuracy: 0.9350362143891839, Validation accuracy: 0.9306448809316878\n",
      "Model n° 3, Train accuracy: 0.9347561564461613, Validation accuracy: 0.9333391274117852\n",
      "Model n° 4, Train accuracy: 0.9346209560598745, Validation accuracy: 0.9344689727098905\n",
      "Model n° 5, Train accuracy: 0.9342829550941574, Validation accuracy: 0.9375108638970971\n",
      "Model n° 6, Train accuracy: 0.9345926161987813, Validation accuracy: 0.9348978704910909\n",
      "Model n° 7, Train accuracy: 0.9346409015847263, Validation accuracy: 0.9342025206431986\n"
     ]
    },
    {
     "name": "stderr",
     "output_type": "stream",
     "text": [
      "/opt/conda/lib/python3.7/site-packages/sklearn/linear_model/_logistic.py:818: ConvergenceWarning: lbfgs failed to converge (status=1):\n",
      "STOP: TOTAL NO. of ITERATIONS REACHED LIMIT.\n",
      "\n",
      "Increase the number of iterations (max_iter) or scale the data as shown in:\n",
      "    https://scikit-learn.org/stable/modules/preprocessing.html\n",
      "Please also refer to the documentation for alternative solver options:\n",
      "    https://scikit-learn.org/stable/modules/linear_model.html#logistic-regression\n",
      "  extra_warning_msg=_LOGISTIC_SOLVER_CONVERGENCE_MSG,\n",
      "/opt/conda/lib/python3.7/site-packages/sklearn/linear_model/_logistic.py:818: ConvergenceWarning: lbfgs failed to converge (status=1):\n",
      "STOP: TOTAL NO. of ITERATIONS REACHED LIMIT.\n",
      "\n",
      "Increase the number of iterations (max_iter) or scale the data as shown in:\n",
      "    https://scikit-learn.org/stable/modules/preprocessing.html\n",
      "Please also refer to the documentation for alternative solver options:\n",
      "    https://scikit-learn.org/stable/modules/linear_model.html#logistic-regression\n",
      "  extra_warning_msg=_LOGISTIC_SOLVER_CONVERGENCE_MSG,\n",
      "/opt/conda/lib/python3.7/site-packages/sklearn/linear_model/_logistic.py:818: ConvergenceWarning: lbfgs failed to converge (status=1):\n",
      "STOP: TOTAL NO. of ITERATIONS REACHED LIMIT.\n",
      "\n",
      "Increase the number of iterations (max_iter) or scale the data as shown in:\n",
      "    https://scikit-learn.org/stable/modules/preprocessing.html\n",
      "Please also refer to the documentation for alternative solver options:\n",
      "    https://scikit-learn.org/stable/modules/linear_model.html#logistic-regression\n",
      "  extra_warning_msg=_LOGISTIC_SOLVER_CONVERGENCE_MSG,\n",
      "/opt/conda/lib/python3.7/site-packages/sklearn/linear_model/_logistic.py:818: ConvergenceWarning: lbfgs failed to converge (status=1):\n",
      "STOP: TOTAL NO. of ITERATIONS REACHED LIMIT.\n",
      "\n",
      "Increase the number of iterations (max_iter) or scale the data as shown in:\n",
      "    https://scikit-learn.org/stable/modules/preprocessing.html\n",
      "Please also refer to the documentation for alternative solver options:\n",
      "    https://scikit-learn.org/stable/modules/linear_model.html#logistic-regression\n",
      "  extra_warning_msg=_LOGISTIC_SOLVER_CONVERGENCE_MSG,\n",
      "/opt/conda/lib/python3.7/site-packages/sklearn/linear_model/_logistic.py:818: ConvergenceWarning: lbfgs failed to converge (status=1):\n",
      "STOP: TOTAL NO. of ITERATIONS REACHED LIMIT.\n",
      "\n",
      "Increase the number of iterations (max_iter) or scale the data as shown in:\n",
      "    https://scikit-learn.org/stable/modules/preprocessing.html\n",
      "Please also refer to the documentation for alternative solver options:\n",
      "    https://scikit-learn.org/stable/modules/linear_model.html#logistic-regression\n",
      "  extra_warning_msg=_LOGISTIC_SOLVER_CONVERGENCE_MSG,\n",
      "/opt/conda/lib/python3.7/site-packages/sklearn/linear_model/_logistic.py:818: ConvergenceWarning: lbfgs failed to converge (status=1):\n",
      "STOP: TOTAL NO. of ITERATIONS REACHED LIMIT.\n",
      "\n",
      "Increase the number of iterations (max_iter) or scale the data as shown in:\n",
      "    https://scikit-learn.org/stable/modules/preprocessing.html\n",
      "Please also refer to the documentation for alternative solver options:\n",
      "    https://scikit-learn.org/stable/modules/linear_model.html#logistic-regression\n",
      "  extra_warning_msg=_LOGISTIC_SOLVER_CONVERGENCE_MSG,\n",
      "/opt/conda/lib/python3.7/site-packages/sklearn/linear_model/_logistic.py:818: ConvergenceWarning: lbfgs failed to converge (status=1):\n",
      "STOP: TOTAL NO. of ITERATIONS REACHED LIMIT.\n",
      "\n",
      "Increase the number of iterations (max_iter) or scale the data as shown in:\n",
      "    https://scikit-learn.org/stable/modules/preprocessing.html\n",
      "Please also refer to the documentation for alternative solver options:\n",
      "    https://scikit-learn.org/stable/modules/linear_model.html#logistic-regression\n",
      "  extra_warning_msg=_LOGISTIC_SOLVER_CONVERGENCE_MSG,\n",
      "/opt/conda/lib/python3.7/site-packages/sklearn/linear_model/_logistic.py:818: ConvergenceWarning: lbfgs failed to converge (status=1):\n",
      "STOP: TOTAL NO. of ITERATIONS REACHED LIMIT.\n",
      "\n",
      "Increase the number of iterations (max_iter) or scale the data as shown in:\n",
      "    https://scikit-learn.org/stable/modules/preprocessing.html\n",
      "Please also refer to the documentation for alternative solver options:\n",
      "    https://scikit-learn.org/stable/modules/linear_model.html#logistic-regression\n",
      "  extra_warning_msg=_LOGISTIC_SOLVER_CONVERGENCE_MSG,\n",
      "/opt/conda/lib/python3.7/site-packages/sklearn/linear_model/_logistic.py:818: ConvergenceWarning: lbfgs failed to converge (status=1):\n",
      "STOP: TOTAL NO. of ITERATIONS REACHED LIMIT.\n",
      "\n",
      "Increase the number of iterations (max_iter) or scale the data as shown in:\n",
      "    https://scikit-learn.org/stable/modules/preprocessing.html\n",
      "Please also refer to the documentation for alternative solver options:\n",
      "    https://scikit-learn.org/stable/modules/linear_model.html#logistic-regression\n",
      "  extra_warning_msg=_LOGISTIC_SOLVER_CONVERGENCE_MSG,\n",
      "/opt/conda/lib/python3.7/site-packages/sklearn/linear_model/_logistic.py:818: ConvergenceWarning: lbfgs failed to converge (status=1):\n",
      "STOP: TOTAL NO. of ITERATIONS REACHED LIMIT.\n",
      "\n",
      "Increase the number of iterations (max_iter) or scale the data as shown in:\n",
      "    https://scikit-learn.org/stable/modules/preprocessing.html\n",
      "Please also refer to the documentation for alternative solver options:\n",
      "    https://scikit-learn.org/stable/modules/linear_model.html#logistic-regression\n",
      "  extra_warning_msg=_LOGISTIC_SOLVER_CONVERGENCE_MSG,\n",
      "/opt/conda/lib/python3.7/site-packages/sklearn/linear_model/_logistic.py:818: ConvergenceWarning: lbfgs failed to converge (status=1):\n",
      "STOP: TOTAL NO. of ITERATIONS REACHED LIMIT.\n",
      "\n",
      "Increase the number of iterations (max_iter) or scale the data as shown in:\n",
      "    https://scikit-learn.org/stable/modules/preprocessing.html\n",
      "Please also refer to the documentation for alternative solver options:\n",
      "    https://scikit-learn.org/stable/modules/linear_model.html#logistic-regression\n",
      "  extra_warning_msg=_LOGISTIC_SOLVER_CONVERGENCE_MSG,\n",
      "/opt/conda/lib/python3.7/site-packages/sklearn/linear_model/_logistic.py:818: ConvergenceWarning: lbfgs failed to converge (status=1):\n",
      "STOP: TOTAL NO. of ITERATIONS REACHED LIMIT.\n",
      "\n",
      "Increase the number of iterations (max_iter) or scale the data as shown in:\n",
      "    https://scikit-learn.org/stable/modules/preprocessing.html\n",
      "Please also refer to the documentation for alternative solver options:\n",
      "    https://scikit-learn.org/stable/modules/linear_model.html#logistic-regression\n",
      "  extra_warning_msg=_LOGISTIC_SOLVER_CONVERGENCE_MSG,\n",
      "/opt/conda/lib/python3.7/site-packages/sklearn/linear_model/_logistic.py:818: ConvergenceWarning: lbfgs failed to converge (status=1):\n",
      "STOP: TOTAL NO. of ITERATIONS REACHED LIMIT.\n",
      "\n",
      "Increase the number of iterations (max_iter) or scale the data as shown in:\n",
      "    https://scikit-learn.org/stable/modules/preprocessing.html\n",
      "Please also refer to the documentation for alternative solver options:\n",
      "    https://scikit-learn.org/stable/modules/linear_model.html#logistic-regression\n",
      "  extra_warning_msg=_LOGISTIC_SOLVER_CONVERGENCE_MSG,\n",
      "/opt/conda/lib/python3.7/site-packages/sklearn/linear_model/_logistic.py:818: ConvergenceWarning: lbfgs failed to converge (status=1):\n",
      "STOP: TOTAL NO. of ITERATIONS REACHED LIMIT.\n",
      "\n",
      "Increase the number of iterations (max_iter) or scale the data as shown in:\n",
      "    https://scikit-learn.org/stable/modules/preprocessing.html\n",
      "Please also refer to the documentation for alternative solver options:\n",
      "    https://scikit-learn.org/stable/modules/linear_model.html#logistic-regression\n",
      "  extra_warning_msg=_LOGISTIC_SOLVER_CONVERGENCE_MSG,\n",
      "/opt/conda/lib/python3.7/site-packages/sklearn/linear_model/_logistic.py:818: ConvergenceWarning: lbfgs failed to converge (status=1):\n",
      "STOP: TOTAL NO. of ITERATIONS REACHED LIMIT.\n",
      "\n",
      "Increase the number of iterations (max_iter) or scale the data as shown in:\n",
      "    https://scikit-learn.org/stable/modules/preprocessing.html\n",
      "Please also refer to the documentation for alternative solver options:\n",
      "    https://scikit-learn.org/stable/modules/linear_model.html#logistic-regression\n",
      "  extra_warning_msg=_LOGISTIC_SOLVER_CONVERGENCE_MSG,\n",
      "/opt/conda/lib/python3.7/site-packages/sklearn/linear_model/_logistic.py:818: ConvergenceWarning: lbfgs failed to converge (status=1):\n",
      "STOP: TOTAL NO. of ITERATIONS REACHED LIMIT.\n",
      "\n",
      "Increase the number of iterations (max_iter) or scale the data as shown in:\n",
      "    https://scikit-learn.org/stable/modules/preprocessing.html\n",
      "Please also refer to the documentation for alternative solver options:\n",
      "    https://scikit-learn.org/stable/modules/linear_model.html#logistic-regression\n",
      "  extra_warning_msg=_LOGISTIC_SOLVER_CONVERGENCE_MSG,\n"
     ]
    },
    {
     "name": "stdout",
     "output_type": "stream",
     "text": [
      "Model n° 8, Train accuracy: 0.9345539878900252, Validation accuracy: 0.9348978704910909\n"
     ]
    },
    {
     "name": "stderr",
     "output_type": "stream",
     "text": [
      "/opt/conda/lib/python3.7/site-packages/sklearn/linear_model/_logistic.py:818: ConvergenceWarning: lbfgs failed to converge (status=1):\n",
      "STOP: TOTAL NO. of ITERATIONS REACHED LIMIT.\n",
      "\n",
      "Increase the number of iterations (max_iter) or scale the data as shown in:\n",
      "    https://scikit-learn.org/stable/modules/preprocessing.html\n",
      "Please also refer to the documentation for alternative solver options:\n",
      "    https://scikit-learn.org/stable/modules/linear_model.html#logistic-regression\n",
      "  extra_warning_msg=_LOGISTIC_SOLVER_CONVERGENCE_MSG,\n",
      "/opt/conda/lib/python3.7/site-packages/sklearn/linear_model/_logistic.py:818: ConvergenceWarning: lbfgs failed to converge (status=1):\n",
      "STOP: TOTAL NO. of ITERATIONS REACHED LIMIT.\n",
      "\n",
      "Increase the number of iterations (max_iter) or scale the data as shown in:\n",
      "    https://scikit-learn.org/stable/modules/preprocessing.html\n",
      "Please also refer to the documentation for alternative solver options:\n",
      "    https://scikit-learn.org/stable/modules/linear_model.html#logistic-regression\n",
      "  extra_warning_msg=_LOGISTIC_SOLVER_CONVERGENCE_MSG,\n",
      "/opt/conda/lib/python3.7/site-packages/sklearn/linear_model/_logistic.py:818: ConvergenceWarning: lbfgs failed to converge (status=1):\n",
      "STOP: TOTAL NO. of ITERATIONS REACHED LIMIT.\n",
      "\n",
      "Increase the number of iterations (max_iter) or scale the data as shown in:\n",
      "    https://scikit-learn.org/stable/modules/preprocessing.html\n",
      "Please also refer to the documentation for alternative solver options:\n",
      "    https://scikit-learn.org/stable/modules/linear_model.html#logistic-regression\n",
      "  extra_warning_msg=_LOGISTIC_SOLVER_CONVERGENCE_MSG,\n",
      "/opt/conda/lib/python3.7/site-packages/sklearn/linear_model/_logistic.py:818: ConvergenceWarning: lbfgs failed to converge (status=1):\n",
      "STOP: TOTAL NO. of ITERATIONS REACHED LIMIT.\n",
      "\n",
      "Increase the number of iterations (max_iter) or scale the data as shown in:\n",
      "    https://scikit-learn.org/stable/modules/preprocessing.html\n",
      "Please also refer to the documentation for alternative solver options:\n",
      "    https://scikit-learn.org/stable/modules/linear_model.html#logistic-regression\n",
      "  extra_warning_msg=_LOGISTIC_SOLVER_CONVERGENCE_MSG,\n",
      "/opt/conda/lib/python3.7/site-packages/sklearn/linear_model/_logistic.py:818: ConvergenceWarning: lbfgs failed to converge (status=1):\n",
      "STOP: TOTAL NO. of ITERATIONS REACHED LIMIT.\n",
      "\n",
      "Increase the number of iterations (max_iter) or scale the data as shown in:\n",
      "    https://scikit-learn.org/stable/modules/preprocessing.html\n",
      "Please also refer to the documentation for alternative solver options:\n",
      "    https://scikit-learn.org/stable/modules/linear_model.html#logistic-regression\n",
      "  extra_warning_msg=_LOGISTIC_SOLVER_CONVERGENCE_MSG,\n",
      "/opt/conda/lib/python3.7/site-packages/sklearn/linear_model/_logistic.py:818: ConvergenceWarning: lbfgs failed to converge (status=1):\n",
      "STOP: TOTAL NO. of ITERATIONS REACHED LIMIT.\n",
      "\n",
      "Increase the number of iterations (max_iter) or scale the data as shown in:\n",
      "    https://scikit-learn.org/stable/modules/preprocessing.html\n",
      "Please also refer to the documentation for alternative solver options:\n",
      "    https://scikit-learn.org/stable/modules/linear_model.html#logistic-regression\n",
      "  extra_warning_msg=_LOGISTIC_SOLVER_CONVERGENCE_MSG,\n",
      "/opt/conda/lib/python3.7/site-packages/sklearn/linear_model/_logistic.py:818: ConvergenceWarning: lbfgs failed to converge (status=1):\n",
      "STOP: TOTAL NO. of ITERATIONS REACHED LIMIT.\n",
      "\n",
      "Increase the number of iterations (max_iter) or scale the data as shown in:\n",
      "    https://scikit-learn.org/stable/modules/preprocessing.html\n",
      "Please also refer to the documentation for alternative solver options:\n",
      "    https://scikit-learn.org/stable/modules/linear_model.html#logistic-regression\n",
      "  extra_warning_msg=_LOGISTIC_SOLVER_CONVERGENCE_MSG,\n",
      "/opt/conda/lib/python3.7/site-packages/sklearn/linear_model/_logistic.py:818: ConvergenceWarning: lbfgs failed to converge (status=1):\n",
      "STOP: TOTAL NO. of ITERATIONS REACHED LIMIT.\n",
      "\n",
      "Increase the number of iterations (max_iter) or scale the data as shown in:\n",
      "    https://scikit-learn.org/stable/modules/preprocessing.html\n",
      "Please also refer to the documentation for alternative solver options:\n",
      "    https://scikit-learn.org/stable/modules/linear_model.html#logistic-regression\n",
      "  extra_warning_msg=_LOGISTIC_SOLVER_CONVERGENCE_MSG,\n",
      "/opt/conda/lib/python3.7/site-packages/sklearn/linear_model/_logistic.py:818: ConvergenceWarning: lbfgs failed to converge (status=1):\n",
      "STOP: TOTAL NO. of ITERATIONS REACHED LIMIT.\n",
      "\n",
      "Increase the number of iterations (max_iter) or scale the data as shown in:\n",
      "    https://scikit-learn.org/stable/modules/preprocessing.html\n",
      "Please also refer to the documentation for alternative solver options:\n",
      "    https://scikit-learn.org/stable/modules/linear_model.html#logistic-regression\n",
      "  extra_warning_msg=_LOGISTIC_SOLVER_CONVERGENCE_MSG,\n",
      "/opt/conda/lib/python3.7/site-packages/sklearn/linear_model/_logistic.py:818: ConvergenceWarning: lbfgs failed to converge (status=1):\n",
      "STOP: TOTAL NO. of ITERATIONS REACHED LIMIT.\n",
      "\n",
      "Increase the number of iterations (max_iter) or scale the data as shown in:\n",
      "    https://scikit-learn.org/stable/modules/preprocessing.html\n",
      "Please also refer to the documentation for alternative solver options:\n",
      "    https://scikit-learn.org/stable/modules/linear_model.html#logistic-regression\n",
      "  extra_warning_msg=_LOGISTIC_SOLVER_CONVERGENCE_MSG,\n",
      "/opt/conda/lib/python3.7/site-packages/sklearn/linear_model/_logistic.py:818: ConvergenceWarning: lbfgs failed to converge (status=1):\n",
      "STOP: TOTAL NO. of ITERATIONS REACHED LIMIT.\n",
      "\n",
      "Increase the number of iterations (max_iter) or scale the data as shown in:\n",
      "    https://scikit-learn.org/stable/modules/preprocessing.html\n",
      "Please also refer to the documentation for alternative solver options:\n",
      "    https://scikit-learn.org/stable/modules/linear_model.html#logistic-regression\n",
      "  extra_warning_msg=_LOGISTIC_SOLVER_CONVERGENCE_MSG,\n",
      "/opt/conda/lib/python3.7/site-packages/sklearn/linear_model/_logistic.py:818: ConvergenceWarning: lbfgs failed to converge (status=1):\n",
      "STOP: TOTAL NO. of ITERATIONS REACHED LIMIT.\n",
      "\n",
      "Increase the number of iterations (max_iter) or scale the data as shown in:\n",
      "    https://scikit-learn.org/stable/modules/preprocessing.html\n",
      "Please also refer to the documentation for alternative solver options:\n",
      "    https://scikit-learn.org/stable/modules/linear_model.html#logistic-regression\n",
      "  extra_warning_msg=_LOGISTIC_SOLVER_CONVERGENCE_MSG,\n",
      "/opt/conda/lib/python3.7/site-packages/sklearn/linear_model/_logistic.py:818: ConvergenceWarning: lbfgs failed to converge (status=1):\n",
      "STOP: TOTAL NO. of ITERATIONS REACHED LIMIT.\n",
      "\n",
      "Increase the number of iterations (max_iter) or scale the data as shown in:\n",
      "    https://scikit-learn.org/stable/modules/preprocessing.html\n",
      "Please also refer to the documentation for alternative solver options:\n",
      "    https://scikit-learn.org/stable/modules/linear_model.html#logistic-regression\n",
      "  extra_warning_msg=_LOGISTIC_SOLVER_CONVERGENCE_MSG,\n",
      "/opt/conda/lib/python3.7/site-packages/sklearn/linear_model/_logistic.py:818: ConvergenceWarning: lbfgs failed to converge (status=1):\n",
      "STOP: TOTAL NO. of ITERATIONS REACHED LIMIT.\n",
      "\n",
      "Increase the number of iterations (max_iter) or scale the data as shown in:\n",
      "    https://scikit-learn.org/stable/modules/preprocessing.html\n",
      "Please also refer to the documentation for alternative solver options:\n",
      "    https://scikit-learn.org/stable/modules/linear_model.html#logistic-regression\n",
      "  extra_warning_msg=_LOGISTIC_SOLVER_CONVERGENCE_MSG,\n",
      "/opt/conda/lib/python3.7/site-packages/sklearn/linear_model/_logistic.py:818: ConvergenceWarning: lbfgs failed to converge (status=1):\n",
      "STOP: TOTAL NO. of ITERATIONS REACHED LIMIT.\n",
      "\n",
      "Increase the number of iterations (max_iter) or scale the data as shown in:\n",
      "    https://scikit-learn.org/stable/modules/preprocessing.html\n",
      "Please also refer to the documentation for alternative solver options:\n",
      "    https://scikit-learn.org/stable/modules/linear_model.html#logistic-regression\n",
      "  extra_warning_msg=_LOGISTIC_SOLVER_CONVERGENCE_MSG,\n",
      "/opt/conda/lib/python3.7/site-packages/sklearn/linear_model/_logistic.py:818: ConvergenceWarning: lbfgs failed to converge (status=1):\n",
      "STOP: TOTAL NO. of ITERATIONS REACHED LIMIT.\n",
      "\n",
      "Increase the number of iterations (max_iter) or scale the data as shown in:\n",
      "    https://scikit-learn.org/stable/modules/preprocessing.html\n",
      "Please also refer to the documentation for alternative solver options:\n",
      "    https://scikit-learn.org/stable/modules/linear_model.html#logistic-regression\n",
      "  extra_warning_msg=_LOGISTIC_SOLVER_CONVERGENCE_MSG,\n"
     ]
    },
    {
     "name": "stdout",
     "output_type": "stream",
     "text": [
      "Model n° 9, Train accuracy: 0.9348726714372628, Validation accuracy: 0.932464146023468\n"
     ]
    }
   ],
   "source": [
    "modelLR, train_accLR, val_accLR = test_and_showLR(inputs, max_iter=80, fit_intercept=True)"
   ]
  },
  {
   "cell_type": "code",
   "execution_count": 51,
   "id": "4a36184a",
   "metadata": {
    "execution": {
     "iopub.execute_input": "2022-07-29T10:08:00.485807Z",
     "iopub.status.busy": "2022-07-29T10:08:00.485388Z",
     "iopub.status.idle": "2022-07-29T10:08:00.492632Z",
     "shell.execute_reply": "2022-07-29T10:08:00.491761Z"
    },
    "papermill": {
     "duration": 0.067255,
     "end_time": "2022-07-29T10:08:00.494820",
     "exception": false,
     "start_time": "2022-07-29T10:08:00.427565",
     "status": "completed"
    },
    "tags": []
   },
   "outputs": [
    {
     "data": {
      "text/plain": [
       "(LogisticRegression(max_iter=80, n_jobs=-1, random_state=42),\n",
       " 0.9346105855527019,\n",
       " 0.9346057401565065)"
      ]
     },
     "execution_count": 51,
     "metadata": {},
     "output_type": "execute_result"
    }
   ],
   "source": [
    "modelLR[5], train_accLR, val_accLR"
   ]
  },
  {
   "cell_type": "code",
   "execution_count": 52,
   "id": "dfeb851c",
   "metadata": {
    "execution": {
     "iopub.execute_input": "2022-07-29T10:08:00.591891Z",
     "iopub.status.busy": "2022-07-29T10:08:00.591097Z",
     "iopub.status.idle": "2022-07-29T10:08:00.597877Z",
     "shell.execute_reply": "2022-07-29T10:08:00.597047Z"
    },
    "papermill": {
     "duration": 0.05745,
     "end_time": "2022-07-29T10:08:00.600084",
     "exception": false,
     "start_time": "2022-07-29T10:08:00.542634",
     "status": "completed"
    },
    "tags": []
   },
   "outputs": [
    {
     "data": {
      "text/plain": [
       "(RandomForestClassifier(max_depth=8, max_leaf_nodes=128,\n",
       "                        min_weight_fraction_leaf=0.04, n_jobs=-1,\n",
       "                        random_state=42),\n",
       " 0.9312247943605616,\n",
       " 0.9312247526053146)"
      ]
     },
     "execution_count": 52,
     "metadata": {},
     "output_type": "execute_result"
    }
   ],
   "source": [
    "modelRF[0], train_accRF, valid_accRF"
   ]
  },
  {
   "cell_type": "markdown",
   "id": "a263aa59",
   "metadata": {
    "papermill": {
     "duration": 0.047081,
     "end_time": "2022-07-29T10:08:00.694513",
     "exception": false,
     "start_time": "2022-07-29T10:08:00.647432",
     "status": "completed"
    },
    "tags": []
   },
   "source": [
    "# Summary\n",
    "We successfully performed the data science process on this dataset:\n",
    "1. Downloaded the dataset\n",
    "2. Cleaned from Nan values and outliers\n",
    "3. Performed EDA.\n",
    "4. Trained the model and tuned hyperparameters\n",
    "5. Predicted the test data\n",
    "\n",
    "We can notice that LogisticRegression generally performed better that RandomForestClassifier, and out of the ten models the fifth was the best with a score of 0.9346 for validation set with hyperparameters tuning.\n",
    "\n",
    "Considering the scoring method it's a reasonable number. Plus these are the features that are most important\n"
   ]
  },
  {
   "cell_type": "code",
   "execution_count": 53,
   "id": "c660ad2c",
   "metadata": {
    "execution": {
     "iopub.execute_input": "2022-07-29T10:08:00.791657Z",
     "iopub.status.busy": "2022-07-29T10:08:00.790939Z",
     "iopub.status.idle": "2022-07-29T10:08:00.908793Z",
     "shell.execute_reply": "2022-07-29T10:08:00.907971Z"
    },
    "papermill": {
     "duration": 0.168649,
     "end_time": "2022-07-29T10:08:00.910821",
     "exception": false,
     "start_time": "2022-07-29T10:08:00.742172",
     "status": "completed"
    },
    "tags": []
   },
   "outputs": [
    {
     "data": {
      "text/html": [
       "<div>\n",
       "<style scoped>\n",
       "    .dataframe tbody tr th:only-of-type {\n",
       "        vertical-align: middle;\n",
       "    }\n",
       "\n",
       "    .dataframe tbody tr th {\n",
       "        vertical-align: top;\n",
       "    }\n",
       "\n",
       "    .dataframe thead th {\n",
       "        text-align: right;\n",
       "    }\n",
       "</style>\n",
       "<table border=\"1\" class=\"dataframe\">\n",
       "  <thead>\n",
       "    <tr style=\"text-align: right;\">\n",
       "      <th></th>\n",
       "      <th>Feature</th>\n",
       "      <th>Importance</th>\n",
       "    </tr>\n",
       "  </thead>\n",
       "  <tbody>\n",
       "    <tr>\n",
       "      <th>6</th>\n",
       "      <td>NumberOfTimes90DaysLate</td>\n",
       "      <td>0.334501</td>\n",
       "    </tr>\n",
       "    <tr>\n",
       "      <th>0</th>\n",
       "      <td>RevolvingUtilizationOfUnsecuredLines</td>\n",
       "      <td>0.269623</td>\n",
       "    </tr>\n",
       "    <tr>\n",
       "      <th>2</th>\n",
       "      <td>NumberOfTime30-59DaysPastDueNotWorse</td>\n",
       "      <td>0.178894</td>\n",
       "    </tr>\n",
       "    <tr>\n",
       "      <th>8</th>\n",
       "      <td>NumberOfTime60-89DaysPastDueNotWorse</td>\n",
       "      <td>0.092714</td>\n",
       "    </tr>\n",
       "    <tr>\n",
       "      <th>3</th>\n",
       "      <td>DebtRatio</td>\n",
       "      <td>0.048067</td>\n",
       "    </tr>\n",
       "    <tr>\n",
       "      <th>7</th>\n",
       "      <td>NumberRealEstateLoansOrLines</td>\n",
       "      <td>0.029751</td>\n",
       "    </tr>\n",
       "    <tr>\n",
       "      <th>1</th>\n",
       "      <td>age</td>\n",
       "      <td>0.028956</td>\n",
       "    </tr>\n",
       "    <tr>\n",
       "      <th>4</th>\n",
       "      <td>MonthlyIncome</td>\n",
       "      <td>0.013812</td>\n",
       "    </tr>\n",
       "    <tr>\n",
       "      <th>5</th>\n",
       "      <td>NumberOfOpenCreditLinesAndLoans</td>\n",
       "      <td>0.002931</td>\n",
       "    </tr>\n",
       "    <tr>\n",
       "      <th>9</th>\n",
       "      <td>NumberOfDependents</td>\n",
       "      <td>0.000750</td>\n",
       "    </tr>\n",
       "  </tbody>\n",
       "</table>\n",
       "</div>"
      ],
      "text/plain": [
       "                                Feature  Importance\n",
       "6               NumberOfTimes90DaysLate    0.334501\n",
       "0  RevolvingUtilizationOfUnsecuredLines    0.269623\n",
       "2  NumberOfTime30-59DaysPastDueNotWorse    0.178894\n",
       "8  NumberOfTime60-89DaysPastDueNotWorse    0.092714\n",
       "3                             DebtRatio    0.048067\n",
       "7          NumberRealEstateLoansOrLines    0.029751\n",
       "1                                   age    0.028956\n",
       "4                         MonthlyIncome    0.013812\n",
       "5       NumberOfOpenCreditLinesAndLoans    0.002931\n",
       "9                    NumberOfDependents    0.000750"
      ]
     },
     "execution_count": 53,
     "metadata": {},
     "output_type": "execute_result"
    }
   ],
   "source": [
    "feature_imp = pd.DataFrame({\n",
    "    'Feature' : modelRF[0].feature_names_in_,\n",
    "    'Importance' : modelRF[0].feature_importances_\n",
    "}).sort_values(by = 'Importance', ascending = False)\n",
    "\n",
    "feature_imp"
   ]
  },
  {
   "cell_type": "code",
   "execution_count": 54,
   "id": "a05ad16d",
   "metadata": {
    "execution": {
     "iopub.execute_input": "2022-07-29T10:08:01.008590Z",
     "iopub.status.busy": "2022-07-29T10:08:01.007847Z",
     "iopub.status.idle": "2022-07-29T10:08:01.270931Z",
     "shell.execute_reply": "2022-07-29T10:08:01.269610Z"
    },
    "papermill": {
     "duration": 0.314596,
     "end_time": "2022-07-29T10:08:01.273590",
     "exception": false,
     "start_time": "2022-07-29T10:08:00.958994",
     "status": "completed"
    },
    "tags": []
   },
   "outputs": [
    {
     "data": {
      "image/png": "[encoded data removed]",
      "text/plain": [
       "<Figure size 720x432 with 1 Axes>"
      ]
     },
     "metadata": {
      "needs_background": "light"
     },
     "output_type": "display_data"
    }
   ],
   "source": [
    "plt.figure(figsize=(10,6))\n",
    "plt.title('Feature Importance')\n",
    "sns.barplot(data = feature_imp, x = 'Importance', y = 'Feature');"
   ]
  },
  {
   "cell_type": "markdown",
   "id": "6813a98b",
   "metadata": {
    "papermill": {
     "duration": 0.047797,
     "end_time": "2022-07-29T10:08:01.369157",
     "exception": false,
     "start_time": "2022-07-29T10:08:01.321360",
     "status": "completed"
    },
    "tags": []
   },
   "source": [
    "# Predicting Test Data"
   ]
  },
  {
   "cell_type": "code",
   "execution_count": 55,
   "id": "98c195ca",
   "metadata": {
    "execution": {
     "iopub.execute_input": "2022-07-29T10:08:01.467106Z",
     "iopub.status.busy": "2022-07-29T10:08:01.466678Z",
     "iopub.status.idle": "2022-07-29T10:08:01.492401Z",
     "shell.execute_reply": "2022-07-29T10:08:01.491083Z"
    },
    "papermill": {
     "duration": 0.078218,
     "end_time": "2022-07-29T10:08:01.495314",
     "exception": false,
     "start_time": "2022-07-29T10:08:01.417096",
     "status": "completed"
    },
    "tags": []
   },
   "outputs": [
    {
     "data": {
      "text/html": [
       "<div>\n",
       "<style scoped>\n",
       "    .dataframe tbody tr th:only-of-type {\n",
       "        vertical-align: middle;\n",
       "    }\n",
       "\n",
       "    .dataframe tbody tr th {\n",
       "        vertical-align: top;\n",
       "    }\n",
       "\n",
       "    .dataframe thead th {\n",
       "        text-align: right;\n",
       "    }\n",
       "</style>\n",
       "<table border=\"1\" class=\"dataframe\">\n",
       "  <thead>\n",
       "    <tr style=\"text-align: right;\">\n",
       "      <th></th>\n",
       "      <th>Unnamed: 0</th>\n",
       "      <th>SeriousDlqin2yrs</th>\n",
       "      <th>RevolvingUtilizationOfUnsecuredLines</th>\n",
       "      <th>age</th>\n",
       "      <th>NumberOfTime30-59DaysPastDueNotWorse</th>\n",
       "      <th>DebtRatio</th>\n",
       "      <th>MonthlyIncome</th>\n",
       "      <th>NumberOfOpenCreditLinesAndLoans</th>\n",
       "      <th>NumberOfTimes90DaysLate</th>\n",
       "      <th>NumberRealEstateLoansOrLines</th>\n",
       "      <th>NumberOfTime60-89DaysPastDueNotWorse</th>\n",
       "      <th>NumberOfDependents</th>\n",
       "    </tr>\n",
       "  </thead>\n",
       "  <tbody>\n",
       "    <tr>\n",
       "      <th>0</th>\n",
       "      <td>1</td>\n",
       "      <td>NaN</td>\n",
       "      <td>0.885519</td>\n",
       "      <td>43</td>\n",
       "      <td>0</td>\n",
       "      <td>0.177513</td>\n",
       "      <td>5700.0</td>\n",
       "      <td>4</td>\n",
       "      <td>0</td>\n",
       "      <td>0</td>\n",
       "      <td>0</td>\n",
       "      <td>0.0</td>\n",
       "    </tr>\n",
       "    <tr>\n",
       "      <th>1</th>\n",
       "      <td>2</td>\n",
       "      <td>NaN</td>\n",
       "      <td>0.463295</td>\n",
       "      <td>57</td>\n",
       "      <td>0</td>\n",
       "      <td>0.527237</td>\n",
       "      <td>9141.0</td>\n",
       "      <td>15</td>\n",
       "      <td>0</td>\n",
       "      <td>4</td>\n",
       "      <td>0</td>\n",
       "      <td>2.0</td>\n",
       "    </tr>\n",
       "    <tr>\n",
       "      <th>2</th>\n",
       "      <td>3</td>\n",
       "      <td>NaN</td>\n",
       "      <td>0.043275</td>\n",
       "      <td>59</td>\n",
       "      <td>0</td>\n",
       "      <td>0.687648</td>\n",
       "      <td>5083.0</td>\n",
       "      <td>12</td>\n",
       "      <td>0</td>\n",
       "      <td>1</td>\n",
       "      <td>0</td>\n",
       "      <td>2.0</td>\n",
       "    </tr>\n",
       "    <tr>\n",
       "      <th>3</th>\n",
       "      <td>4</td>\n",
       "      <td>NaN</td>\n",
       "      <td>0.280308</td>\n",
       "      <td>38</td>\n",
       "      <td>1</td>\n",
       "      <td>0.925961</td>\n",
       "      <td>3200.0</td>\n",
       "      <td>7</td>\n",
       "      <td>0</td>\n",
       "      <td>2</td>\n",
       "      <td>0</td>\n",
       "      <td>0.0</td>\n",
       "    </tr>\n",
       "    <tr>\n",
       "      <th>4</th>\n",
       "      <td>5</td>\n",
       "      <td>NaN</td>\n",
       "      <td>1.000000</td>\n",
       "      <td>27</td>\n",
       "      <td>0</td>\n",
       "      <td>0.019917</td>\n",
       "      <td>3865.0</td>\n",
       "      <td>4</td>\n",
       "      <td>0</td>\n",
       "      <td>0</td>\n",
       "      <td>0</td>\n",
       "      <td>1.0</td>\n",
       "    </tr>\n",
       "    <tr>\n",
       "      <th>...</th>\n",
       "      <td>...</td>\n",
       "      <td>...</td>\n",
       "      <td>...</td>\n",
       "      <td>...</td>\n",
       "      <td>...</td>\n",
       "      <td>...</td>\n",
       "      <td>...</td>\n",
       "      <td>...</td>\n",
       "      <td>...</td>\n",
       "      <td>...</td>\n",
       "      <td>...</td>\n",
       "      <td>...</td>\n",
       "    </tr>\n",
       "    <tr>\n",
       "      <th>101498</th>\n",
       "      <td>101499</td>\n",
       "      <td>NaN</td>\n",
       "      <td>0.282653</td>\n",
       "      <td>24</td>\n",
       "      <td>0</td>\n",
       "      <td>0.068522</td>\n",
       "      <td>1400.0</td>\n",
       "      <td>5</td>\n",
       "      <td>0</td>\n",
       "      <td>0</td>\n",
       "      <td>0</td>\n",
       "      <td>0.0</td>\n",
       "    </tr>\n",
       "    <tr>\n",
       "      <th>101499</th>\n",
       "      <td>101500</td>\n",
       "      <td>NaN</td>\n",
       "      <td>0.922156</td>\n",
       "      <td>36</td>\n",
       "      <td>3</td>\n",
       "      <td>0.934217</td>\n",
       "      <td>7615.0</td>\n",
       "      <td>8</td>\n",
       "      <td>0</td>\n",
       "      <td>2</td>\n",
       "      <td>0</td>\n",
       "      <td>4.0</td>\n",
       "    </tr>\n",
       "    <tr>\n",
       "      <th>101500</th>\n",
       "      <td>101501</td>\n",
       "      <td>NaN</td>\n",
       "      <td>0.081596</td>\n",
       "      <td>70</td>\n",
       "      <td>0</td>\n",
       "      <td>836.000000</td>\n",
       "      <td>NaN</td>\n",
       "      <td>3</td>\n",
       "      <td>0</td>\n",
       "      <td>0</td>\n",
       "      <td>0</td>\n",
       "      <td>NaN</td>\n",
       "    </tr>\n",
       "    <tr>\n",
       "      <th>101501</th>\n",
       "      <td>101502</td>\n",
       "      <td>NaN</td>\n",
       "      <td>0.335457</td>\n",
       "      <td>56</td>\n",
       "      <td>0</td>\n",
       "      <td>3568.000000</td>\n",
       "      <td>NaN</td>\n",
       "      <td>8</td>\n",
       "      <td>0</td>\n",
       "      <td>2</td>\n",
       "      <td>1</td>\n",
       "      <td>3.0</td>\n",
       "    </tr>\n",
       "    <tr>\n",
       "      <th>101502</th>\n",
       "      <td>101503</td>\n",
       "      <td>NaN</td>\n",
       "      <td>0.441842</td>\n",
       "      <td>29</td>\n",
       "      <td>0</td>\n",
       "      <td>0.198918</td>\n",
       "      <td>5916.0</td>\n",
       "      <td>12</td>\n",
       "      <td>0</td>\n",
       "      <td>0</td>\n",
       "      <td>0</td>\n",
       "      <td>0.0</td>\n",
       "    </tr>\n",
       "  </tbody>\n",
       "</table>\n",
       "<p>101503 rows × 12 columns</p>\n",
       "</div>"
      ],
      "text/plain": [
       "        Unnamed: 0  SeriousDlqin2yrs  RevolvingUtilizationOfUnsecuredLines  \\\n",
       "0                1               NaN                              0.885519   \n",
       "1                2               NaN                              0.463295   \n",
       "2                3               NaN                              0.043275   \n",
       "3                4               NaN                              0.280308   \n",
       "4                5               NaN                              1.000000   \n",
       "...            ...               ...                                   ...   \n",
       "101498      101499               NaN                              0.282653   \n",
       "101499      101500               NaN                              0.922156   \n",
       "101500      101501               NaN                              0.081596   \n",
       "101501      101502               NaN                              0.335457   \n",
       "101502      101503               NaN                              0.441842   \n",
       "\n",
       "        age  NumberOfTime30-59DaysPastDueNotWorse    DebtRatio  MonthlyIncome  \\\n",
       "0        43                                     0     0.177513         5700.0   \n",
       "1        57                                     0     0.527237         9141.0   \n",
       "2        59                                     0     0.687648         5083.0   \n",
       "3        38                                     1     0.925961         3200.0   \n",
       "4        27                                     0     0.019917         3865.0   \n",
       "...     ...                                   ...          ...            ...   \n",
       "101498   24                                     0     0.068522         1400.0   \n",
       "101499   36                                     3     0.934217         7615.0   \n",
       "101500   70                                     0   836.000000            NaN   \n",
       "101501   56                                     0  3568.000000            NaN   \n",
       "101502   29                                     0     0.198918         5916.0   \n",
       "\n",
       "        NumberOfOpenCreditLinesAndLoans  NumberOfTimes90DaysLate  \\\n",
       "0                                     4                        0   \n",
       "1                                    15                        0   \n",
       "2                                    12                        0   \n",
       "3                                     7                        0   \n",
       "4                                     4                        0   \n",
       "...                                 ...                      ...   \n",
       "101498                                5                        0   \n",
       "101499                                8                        0   \n",
       "101500                                3                        0   \n",
       "101501                                8                        0   \n",
       "101502                               12                        0   \n",
       "\n",
       "        NumberRealEstateLoansOrLines  NumberOfTime60-89DaysPastDueNotWorse  \\\n",
       "0                                  0                                     0   \n",
       "1                                  4                                     0   \n",
       "2                                  1                                     0   \n",
       "3                                  2                                     0   \n",
       "4                                  0                                     0   \n",
       "...                              ...                                   ...   \n",
       "101498                             0                                     0   \n",
       "101499                             2                                     0   \n",
       "101500                             0                                     0   \n",
       "101501                             2                                     1   \n",
       "101502                             0                                     0   \n",
       "\n",
       "        NumberOfDependents  \n",
       "0                      0.0  \n",
       "1                      2.0  \n",
       "2                      2.0  \n",
       "3                      0.0  \n",
       "4                      1.0  \n",
       "...                    ...  \n",
       "101498                 0.0  \n",
       "101499                 4.0  \n",
       "101500                 NaN  \n",
       "101501                 3.0  \n",
       "101502                 0.0  \n",
       "\n",
       "[101503 rows x 12 columns]"
      ]
     },
     "execution_count": 55,
     "metadata": {},
     "output_type": "execute_result"
    }
   ],
   "source": [
    "test_data"
   ]
  },
  {
   "cell_type": "code",
   "execution_count": 56,
   "id": "323394ac",
   "metadata": {
    "execution": {
     "iopub.execute_input": "2022-07-29T10:08:01.595013Z",
     "iopub.status.busy": "2022-07-29T10:08:01.594609Z",
     "iopub.status.idle": "2022-07-29T10:08:01.603513Z",
     "shell.execute_reply": "2022-07-29T10:08:01.602223Z"
    },
    "papermill": {
     "duration": 0.062156,
     "end_time": "2022-07-29T10:08:01.606274",
     "exception": false,
     "start_time": "2022-07-29T10:08:01.544118",
     "status": "completed"
    },
    "tags": []
   },
   "outputs": [],
   "source": [
    "test_data.drop([\"Unnamed: 0\"], axis=1, inplace=True)"
   ]
  },
  {
   "cell_type": "code",
   "execution_count": 57,
   "id": "2d8febd9",
   "metadata": {
    "execution": {
     "iopub.execute_input": "2022-07-29T10:08:01.707994Z",
     "iopub.status.busy": "2022-07-29T10:08:01.707419Z",
     "iopub.status.idle": "2022-07-29T10:08:01.717084Z",
     "shell.execute_reply": "2022-07-29T10:08:01.715982Z"
    },
    "papermill": {
     "duration": 0.06176,
     "end_time": "2022-07-29T10:08:01.719303",
     "exception": false,
     "start_time": "2022-07-29T10:08:01.657543",
     "status": "completed"
    },
    "tags": []
   },
   "outputs": [],
   "source": [
    "test_data.drop([\"SeriousDlqin2yrs\"], axis=1, inplace=True)"
   ]
  },
  {
   "cell_type": "code",
   "execution_count": 58,
   "id": "a2834b37",
   "metadata": {
    "execution": {
     "iopub.execute_input": "2022-07-29T10:08:01.820130Z",
     "iopub.status.busy": "2022-07-29T10:08:01.818876Z",
     "iopub.status.idle": "2022-07-29T10:08:01.834452Z",
     "shell.execute_reply": "2022-07-29T10:08:01.833221Z"
    },
    "papermill": {
     "duration": 0.068547,
     "end_time": "2022-07-29T10:08:01.837057",
     "exception": false,
     "start_time": "2022-07-29T10:08:01.768510",
     "status": "completed"
    },
    "tags": []
   },
   "outputs": [
    {
     "name": "stderr",
     "output_type": "stream",
     "text": [
      "/opt/conda/lib/python3.7/site-packages/pandas/core/generic.py:5516: SettingWithCopyWarning: \n",
      "A value is trying to be set on a copy of a slice from a DataFrame.\n",
      "Try using .loc[row_indexer,col_indexer] = value instead\n",
      "\n",
      "See the caveats in the documentation: https://pandas.pydata.org/pandas-docs/stable/user_guide/indexing.html#returning-a-view-versus-a-copy\n",
      "  self[name] = value\n"
     ]
    }
   ],
   "source": [
    "index1 = test_data[ test_data[\"RevolvingUtilizationOfUnsecuredLines\"] > 4].index\n",
    "test_data.iloc[index1].RevolvingUtilizationOfUnsecuredLines = 4"
   ]
  },
  {
   "cell_type": "code",
   "execution_count": 59,
   "id": "8dfa62cd",
   "metadata": {
    "execution": {
     "iopub.execute_input": "2022-07-29T10:08:01.937645Z",
     "iopub.status.busy": "2022-07-29T10:08:01.937241Z",
     "iopub.status.idle": "2022-07-29T10:08:01.953759Z",
     "shell.execute_reply": "2022-07-29T10:08:01.952406Z"
    },
    "papermill": {
     "duration": 0.071035,
     "end_time": "2022-07-29T10:08:01.956996",
     "exception": false,
     "start_time": "2022-07-29T10:08:01.885961",
     "status": "completed"
    },
    "tags": []
   },
   "outputs": [
    {
     "name": "stdout",
     "output_type": "stream",
     "text": [
      "<class 'pandas.core.frame.DataFrame'>\n",
      "RangeIndex: 101503 entries, 0 to 101502\n",
      "Data columns (total 10 columns):\n",
      " #   Column                                Non-Null Count   Dtype  \n",
      "---  ------                                --------------   -----  \n",
      " 0   RevolvingUtilizationOfUnsecuredLines  101503 non-null  float64\n",
      " 1   age                                   101503 non-null  int64  \n",
      " 2   NumberOfTime30-59DaysPastDueNotWorse  101503 non-null  int64  \n",
      " 3   DebtRatio                             101503 non-null  float64\n",
      " 4   MonthlyIncome                         81400 non-null   float64\n",
      " 5   NumberOfOpenCreditLinesAndLoans       101503 non-null  int64  \n",
      " 6   NumberOfTimes90DaysLate               101503 non-null  int64  \n",
      " 7   NumberRealEstateLoansOrLines          101503 non-null  int64  \n",
      " 8   NumberOfTime60-89DaysPastDueNotWorse  101503 non-null  int64  \n",
      " 9   NumberOfDependents                    98877 non-null   float64\n",
      "dtypes: float64(4), int64(6)\n",
      "memory usage: 7.7 MB\n"
     ]
    }
   ],
   "source": [
    "test_data.info()"
   ]
  },
  {
   "cell_type": "code",
   "execution_count": 60,
   "id": "4ff2f787",
   "metadata": {
    "execution": {
     "iopub.execute_input": "2022-07-29T10:08:02.057852Z",
     "iopub.status.busy": "2022-07-29T10:08:02.056763Z",
     "iopub.status.idle": "2022-07-29T10:08:02.076250Z",
     "shell.execute_reply": "2022-07-29T10:08:02.075168Z"
    },
    "papermill": {
     "duration": 0.072696,
     "end_time": "2022-07-29T10:08:02.078918",
     "exception": false,
     "start_time": "2022-07-29T10:08:02.006222",
     "status": "completed"
    },
    "tags": []
   },
   "outputs": [],
   "source": [
    "imputer = SimpleImputer(strategy = 'mean').fit(test_data[[\"MonthlyIncome\", \"NumberOfDependents\"]])\n",
    "test_data[[\"MonthlyIncome\", \"NumberOfDependents\"]] = imputer.transform(test_data[[\"MonthlyIncome\", \"NumberOfDependents\"]])"
   ]
  },
  {
   "cell_type": "code",
   "execution_count": 61,
   "id": "179d4c75",
   "metadata": {
    "execution": {
     "iopub.execute_input": "2022-07-29T10:08:02.177964Z",
     "iopub.status.busy": "2022-07-29T10:08:02.177173Z",
     "iopub.status.idle": "2022-07-29T10:08:02.493754Z",
     "shell.execute_reply": "2022-07-29T10:08:02.492287Z"
    },
    "papermill": {
     "duration": 0.369483,
     "end_time": "2022-07-29T10:08:02.496745",
     "exception": false,
     "start_time": "2022-07-29T10:08:02.127262",
     "status": "completed"
    },
    "tags": []
   },
   "outputs": [],
   "source": [
    "preds = modelRF[0].predict(test_data)"
   ]
  },
  {
   "cell_type": "code",
   "execution_count": 62,
   "id": "2415a7d4",
   "metadata": {
    "execution": {
     "iopub.execute_input": "2022-07-29T10:08:02.596341Z",
     "iopub.status.busy": "2022-07-29T10:08:02.595479Z",
     "iopub.status.idle": "2022-07-29T10:08:02.603354Z",
     "shell.execute_reply": "2022-07-29T10:08:02.602165Z"
    },
    "papermill": {
     "duration": 0.060198,
     "end_time": "2022-07-29T10:08:02.605760",
     "exception": false,
     "start_time": "2022-07-29T10:08:02.545562",
     "status": "completed"
    },
    "tags": []
   },
   "outputs": [
    {
     "data": {
      "text/plain": [
       "array([0, 0, 0, ..., 0, 0, 0])"
      ]
     },
     "execution_count": 62,
     "metadata": {},
     "output_type": "execute_result"
    }
   ],
   "source": [
    "preds"
   ]
  },
  {
   "cell_type": "markdown",
   "id": "b00bc50a",
   "metadata": {
    "papermill": {
     "duration": 0.048281,
     "end_time": "2022-07-29T10:08:02.702470",
     "exception": false,
     "start_time": "2022-07-29T10:08:02.654189",
     "status": "completed"
    },
    "tags": []
   },
   "source": [
    "I don't actually know why the model outputs [0,4] binary values but the 4s are in place of 1s."
   ]
  },
  {
   "cell_type": "code",
   "execution_count": 63,
   "id": "bec268c8",
   "metadata": {
    "execution": {
     "iopub.execute_input": "2022-07-29T10:08:02.802968Z",
     "iopub.status.busy": "2022-07-29T10:08:02.801776Z",
     "iopub.status.idle": "2022-07-29T10:08:02.863661Z",
     "shell.execute_reply": "2022-07-29T10:08:02.862138Z"
    },
    "papermill": {
     "duration": 0.115111,
     "end_time": "2022-07-29T10:08:02.866785",
     "exception": false,
     "start_time": "2022-07-29T10:08:02.751674",
     "status": "completed"
    },
    "tags": []
   },
   "outputs": [],
   "source": [
    "for i in range(len(preds)):\n",
    "    if preds[i] != 0:\n",
    "        preds[i] = 1\n",
    "        "
   ]
  },
  {
   "cell_type": "code",
   "execution_count": 64,
   "id": "12d0232d",
   "metadata": {
    "execution": {
     "iopub.execute_input": "2022-07-29T10:08:02.967723Z",
     "iopub.status.busy": "2022-07-29T10:08:02.966924Z",
     "iopub.status.idle": "2022-07-29T10:08:02.973883Z",
     "shell.execute_reply": "2022-07-29T10:08:02.973019Z"
    },
    "papermill": {
     "duration": 0.060183,
     "end_time": "2022-07-29T10:08:02.976408",
     "exception": false,
     "start_time": "2022-07-29T10:08:02.916225",
     "status": "completed"
    },
    "tags": []
   },
   "outputs": [],
   "source": [
    "df = pd.DataFrame(\n",
    "{\n",
    "    \"Id\": test_data.index+1,\n",
    "    \"Probability\": preds\n",
    "})"
   ]
  },
  {
   "cell_type": "code",
   "execution_count": 65,
   "id": "b86176e6",
   "metadata": {
    "execution": {
     "iopub.execute_input": "2022-07-29T10:08:03.077117Z",
     "iopub.status.busy": "2022-07-29T10:08:03.076286Z",
     "iopub.status.idle": "2022-07-29T10:08:03.089612Z",
     "shell.execute_reply": "2022-07-29T10:08:03.088496Z"
    },
    "papermill": {
     "duration": 0.067218,
     "end_time": "2022-07-29T10:08:03.092182",
     "exception": false,
     "start_time": "2022-07-29T10:08:03.024964",
     "status": "completed"
    },
    "tags": []
   },
   "outputs": [
    {
     "data": {
      "text/plain": [
       "Id             101503\n",
       "Probability         2\n",
       "dtype: int64"
      ]
     },
     "execution_count": 65,
     "metadata": {},
     "output_type": "execute_result"
    }
   ],
   "source": [
    "df.nunique()"
   ]
  },
  {
   "cell_type": "code",
   "execution_count": 66,
   "id": "e1e9d3f3",
   "metadata": {
    "execution": {
     "iopub.execute_input": "2022-07-29T10:08:03.193071Z",
     "iopub.status.busy": "2022-07-29T10:08:03.192243Z",
     "iopub.status.idle": "2022-07-29T10:08:03.233711Z",
     "shell.execute_reply": "2022-07-29T10:08:03.232703Z"
    },
    "papermill": {
     "duration": 0.094508,
     "end_time": "2022-07-29T10:08:03.236183",
     "exception": false,
     "start_time": "2022-07-29T10:08:03.141675",
     "status": "completed"
    },
    "tags": []
   },
   "outputs": [
    {
     "data": {
      "text/plain": [
       "Id      Probability\n",
       "1       0              1\n",
       "67678   0              1\n",
       "67676   0              1\n",
       "67675   0              1\n",
       "67674   0              1\n",
       "                      ..\n",
       "33833   0              1\n",
       "33832   0              1\n",
       "33831   0              1\n",
       "33830   0              1\n",
       "101503  0              1\n",
       "Length: 101503, dtype: int64"
      ]
     },
     "execution_count": 66,
     "metadata": {},
     "output_type": "execute_result"
    }
   ],
   "source": [
    "df.value_counts()"
   ]
  },
  {
   "cell_type": "code",
   "execution_count": 67,
   "id": "c5ce1682",
   "metadata": {
    "execution": {
     "iopub.execute_input": "2022-07-29T10:08:03.336477Z",
     "iopub.status.busy": "2022-07-29T10:08:03.335263Z",
     "iopub.status.idle": "2022-07-29T10:08:03.506268Z",
     "shell.execute_reply": "2022-07-29T10:08:03.505204Z"
    },
    "papermill": {
     "duration": 0.224344,
     "end_time": "2022-07-29T10:08:03.509216",
     "exception": false,
     "start_time": "2022-07-29T10:08:03.284872",
     "status": "completed"
    },
    "tags": []
   },
   "outputs": [],
   "source": [
    "df.to_csv(\"./submission.csv\", index=False)"
   ]
  },
  {
   "cell_type": "markdown",
   "id": "34b4c142",
   "metadata": {
    "papermill": {
     "duration": 0.048727,
     "end_time": "2022-07-29T10:08:03.606869",
     "exception": false,
     "start_time": "2022-07-29T10:08:03.558142",
     "status": "completed"
    },
    "tags": []
   },
   "source": [
    "# Conclusion\n",
    "\n",
    "It was a very interesting study, That aside if I intrigued your mind and teased your curiosity please feel free to check my kaggle account where i do studies like these under Abdelbasset Elhorri.\n",
    "\n",
    "Moreover, These some of the best datasets I could pull off:\n",
    "\n",
    "- Driver Alertness Detection: https://www.kaggle.com/c/stayalert\n",
    "- Eye Movement Verification and Identification https://www.kaggle.com/c/emvic\n",
    "- Hourly Rain Prediction https://www.kaggle.com/c/how-much-did-it-rain"
   ]
  },
  {
   "cell_type": "markdown",
   "id": "664deb5c",
   "metadata": {
    "papermill": {
     "duration": 0.048913,
     "end_time": "2022-07-29T10:08:03.704893",
     "exception": false,
     "start_time": "2022-07-29T10:08:03.655980",
     "status": "completed"
    },
    "tags": []
   },
   "source": [
    "Thank you for your time"
   ]
  },
  {
   "cell_type": "code",
   "execution_count": null,
   "id": "e1652c6d",
   "metadata": {
    "papermill": {
     "duration": 0.049975,
     "end_time": "2022-07-29T10:08:03.934863",
     "exception": false,
     "start_time": "2022-07-29T10:08:03.884888",
     "status": "completed"
    },
    "tags": []
   },
   "outputs": [],
   "source": []
  }
 ],
 "metadata": {
  "kernelspec": {
   "display_name": "Python 3",
   "language": "python",
   "name": "python3"
  },
  "language_info": {
   "codemirror_mode": {
    "name": "ipython",
    "version": 3
   },
   "file_extension": ".py",
   "mimetype": "text/x-python",
   "name": "python",
   "nbconvert_exporter": "python",
   "pygments_lexer": "ipython3",
   "version": "3.7.12"
  },
  "papermill": {
   "default_parameters": {},
   "duration": 887.509175,
   "end_time": "2022-07-29T10:08:06.609931",
   "environment_variables": {},
   "exception": null,
   "input_path": "__notebook__.ipynb",
   "output_path": "__notebook__.ipynb",
   "parameters": {},
   "start_time": "2022-07-29T09:53:19.100756",
   "version": "2.3.4"
  }
 },
 "nbformat": 4,
 "nbformat_minor": 5
}
