{
 "cells": [
  {
   "cell_type": "markdown",
   "metadata": {},
   "source": [
    "## Reto 2: Tres en Raya (Tic-Tac-Toe)\n",
    "### Objetivo: Implementar el juego de Tres en Raya.\n",
    "\n",
    "- Crear un tablero 3x3 usando Numpy arrays.\n",
    "- Permitir a dos jugadores ingresar sus movimientos alternadamente.\n",
    "- Verificar después de cada movimiento si alguno de los jugadores ha ganado.\n",
    "- Mostrar el tablero después de cada turno.\n",
    "- Terminar el juego si hay un ganador o si el tablero está lleno.\n",
    "#### Habilidades aplicadas: Manipulación de arrays, estructuras de control, funciones en Python."
   ]
  },
  {
   "cell_type": "markdown",
   "metadata": {},
   "source": [
    "``Deberas hacer por lo menos uno de los tres para de la fecha de entrega, pero antes de terminar el modulo de analisis de datos tendras que entregar todos..``"
   ]
  },
  {
   "cell_type": "markdown",
   "metadata": {},
   "source": [
    "como se cual debo hacer muy simple introduce tu fecha de cumpleaños en la siguiente funcion"
   ]
  },
  {
   "cell_type": "code",
   "execution_count": 3,
   "metadata": {},
   "outputs": [],
   "source": [
    "def cual_es_mi_reto(fecha: str) -> str:\n",
    "    \"\"\"\n",
    "    Args:\n",
    "    ------\n",
    "    fecha: str el formato de la fecha es DD-MM-YYYY\n",
    "    Returns:\n",
    "    -------\n",
    "    str: el numero del reto\n",
    "    \"\"\"\n",
    "    try:\n",
    "        return int(fecha.split('-')[0]) % 3\n",
    "    except:\n",
    "        return 'La fecha tiene que ser en este formato DD-MM-YYYY'"
   ]
  },
  {
   "cell_type": "code",
   "execution_count": 4,
   "metadata": {},
   "outputs": [
    {
     "data": {
      "text/plain": [
       "1"
      ]
     },
     "execution_count": 4,
     "metadata": {},
     "output_type": "execute_result"
    }
   ],
   "source": [
    "cual_es_mi_reto(fecha='01-07-1976')"
   ]
  },
  {
   "cell_type": "code",
   "execution_count": 20,
   "metadata": {},
   "outputs": [],
   "source": [
    "from IPython.display import Markdown, clear_output\n",
    "import ipywidgets as widgets\n",
    "import numpy as np\n"
   ]
  },
  {
   "cell_type": "code",
   "execution_count": 25,
   "metadata": {},
   "outputs": [
    {
     "data": {
      "text/plain": [
       "array([[' ', ' ', ' '],\n",
       "       [' ', ' ', ' '],\n",
       "       [' ', ' ', ' ']], dtype='<U1')"
      ]
     },
     "execution_count": 25,
     "metadata": {},
     "output_type": "execute_result"
    }
   ],
   "source": [
    "np.full((3, 3), ' ')"
   ]
  },
  {
   "cell_type": "code",
   "execution_count": 82,
   "metadata": {},
   "outputs": [],
   "source": [
    "def mostrar_tablero(tabla: np.array):\n",
    "    n, m = tabla.shape\n",
    "    markdown = \"| \" + \" | \".join([\"\"] + [f\"<center>{str(i).center(2)}</center>\" for i in range(1, m+1)]) + \" |\\n\"\n",
    "    markdown += \"|-\" + \"|\".join([\"-\" * 5] + [\"-\" * 5 for _ in range(m)]) + \"|\\n\"\n",
    "    \n",
    "    for i in range(n):\n",
    "        fila = \"| \" + \" | \".join([f\"<center>{str(i+1).center(2)}</center>\"] +\n",
    "                                [f\"<center><font color='red'>{str(cell).center(2)}</font></center>\" if cell == 'X'\n",
    "                                 else f\"<center><font color='green'>{str(cell).center(2)}</font></center>\" for cell in tabla[i]]) + \" |\\n\"\n",
    "        markdown += fila\n",
    "    return display(Markdown(markdown))\n"
   ]
  },
  {
   "cell_type": "code",
   "execution_count": 52,
   "metadata": {},
   "outputs": [],
   "source": [
    "def es_ganador(tablero, jugador):\n",
    "    # Verifica si el jugador ha ganado en el tablero\n",
    "    # Revisar filas\n",
    "    for fila in tablero:\n",
    "        if all([casilla == jugador for casilla in fila]):\n",
    "            return True\n",
    "    \n",
    "    # Revisar columnas\n",
    "    for columna in range(3):\n",
    "        if all([tablero[fila][columna] == jugador for fila in range(3)]):\n",
    "            return True\n",
    "    \n",
    "    # Revisar diagonales\n",
    "    if all([tablero[i][i] == jugador for i in range(3)]) or all([tablero[i][2 - i] == jugador for i in range(3)]):\n",
    "        return True\n",
    "    \n",
    "    return False\n"
   ]
  },
  {
   "cell_type": "code",
   "execution_count": 51,
   "metadata": {},
   "outputs": [],
   "source": [
    "\n",
    "def tablero_completo(tablero):\n",
    "    # Verifica si el tablero está completo (empate)\n",
    "    return np.all(tablero != ' ')\n"
   ]
  },
  {
   "cell_type": "code",
   "execution_count": 87,
   "metadata": {},
   "outputs": [],
   "source": [
    "def juego_tres_en_raya():\n",
    "    # Función principal que ejecuta el juego\n",
    "    tablero =np.full((3, 3), ' ')\n",
    "    jugador = 'X'\n",
    "    mensaje=\"JUEGO DE LAS TRES EN RAYA << X vs O >>\\n\"\n",
    "    while True:\n",
    "        clear_output()\n",
    "        mostrar_tablero(tablero)\n",
    "        print(mensaje, f\"<< Turno del jugador {jugador} >>\")\n",
    "        \n",
    "        try:\n",
    "            fila, columna = map(int, input(f\"Jugador {jugador}, introduce fila y columna (ejemplo: 1 2): \").split())\n",
    "        except ValueError:\n",
    "            mensaje = \"Entrada inválida. Debes introducir  dos números separados por espacio (ejemplo: 2 3).\\n\"\n",
    "            continue\n",
    "        \n",
    "        if fila < 1 or fila > 3 or columna < 1 or columna > 3:\n",
    "            mensaje=\" Fuera de rango. Inténtalo de nuevo (formato: M N).\\n\"\n",
    "            continue\n",
    "        elif tablero[fila - 1][columna - 1] != ' ':\n",
    "            mensaje= \"Casilla ocupada. Inténtalo de nuevo (formato: M N). \\n\"\n",
    "            continue\n",
    "        \n",
    "        tablero[fila - 1][columna - 1] = jugador\n",
    "        \n",
    "        if es_ganador(tablero, jugador):\n",
    "            clear_output()\n",
    "            mostrar_tablero(tablero)\n",
    "            print(f\" Ha ganado el jugador {jugador} !!\")\n",
    "            break\n",
    "        \n",
    "        if tablero_completo(tablero):\n",
    "            clear_output()\n",
    "            mostrar_tablero(tablero)\n",
    "            print(\"Habéis empatado!\")\n",
    "            break\n",
    "        \n",
    "        jugador = 'X' if jugador == 'O' else 'O'"
   ]
  },
  {
   "cell_type": "code",
   "execution_count": null,
   "metadata": {},
   "outputs": [],
   "source": [
    "juego_tres_en_raya()"
   ]
  }
 ],
 "metadata": {
  "kernelspec": {
   "display_name": "este",
   "language": "python",
   "name": "python3"
  },
  "language_info": {
   "codemirror_mode": {
    "name": "ipython",
    "version": 3
   },
   "file_extension": ".py",
   "mimetype": "text/x-python",
   "name": "python",
   "nbconvert_exporter": "python",
   "pygments_lexer": "ipython3",
   "version": "3.11.5"
  }
 },
 "nbformat": 4,
 "nbformat_minor": 2
}
