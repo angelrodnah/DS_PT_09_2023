{
 "cells": [
  {
   "cell_type": "markdown",
   "metadata": {},
   "source": [
    "## Reto 3: Torres de Hanoi\n",
    "### Objetivo: Implementar el juego de las Torres de Hanoi usando Python.\n",
    "\n",
    "- Crear tres pilas para representar los tres postes del juego.\n",
    "- Implementar la lógica para mover un disco de un poste a otro, siguiendo las reglas del juego.\n",
    "- Desarrollar una función recursiva para resolver el juego.\n",
    "- Permitir al usuario elegir el número de discos con los que jugará.\n",
    "#### Habilidades aplicadas: Recursividad, estructuras de datos (pilas), funciones en Python."
   ]
  },
  {
   "cell_type": "markdown",
   "metadata": {},
   "source": [
    "``Deberas hacer por lo menos uno de los tres para de la fecha de entrega, pero antes de terminar el modulo de analisis de datos tendras que entregar todos..``"
   ]
  },
  {
   "cell_type": "markdown",
   "metadata": {},
   "source": [
    "como se cual debo hacer muy simple introduce tu fecha de cumpleaños en la siguiente funcion"
   ]
  },
  {
   "cell_type": "code",
   "execution_count": null,
   "metadata": {},
   "outputs": [],
   "source": [
    "def cual_es_mi_reto(fecha: str) -> str:\n",
    "    \"\"\"\n",
    "    Args:\n",
    "    ------\n",
    "    fecha: str el formato de la fecha es DD-MM-YYYY\n",
    "    Returns:\n",
    "    -------\n",
    "    str: el numero del reto\n",
    "    \"\"\"\n",
    "    try:\n",
    "        return int(fecha.split('-')[0]) % 3\n",
    "    except:\n",
    "        return 'La fecha tiene que ser en este formato DD-MM-YYYY'"
   ]
  },
  {
   "cell_type": "code",
   "execution_count": null,
   "metadata": {},
   "outputs": [],
   "source": [
    "cual_es_mi_reto(fecha='01-07-1976')"
   ]
  },
  {
   "cell_type": "markdown",
   "metadata": {},
   "source": [
    "Las Torres de Hanoi es un famoso rompecabezas o juego matemático que fue inventado por el matemático francés Édouard Lucas en 1883. El juego se llama así en honor a la ciudad de Hanoi, en Vietnam, y se basa en una leyenda popular que dice que en un templo de Hanoi, hay una torre con 64 discos de oro y tres postes. Los monjes del templo deben mover los 64 discos de un poste a otro, siguiendo las reglas del juego, sin nunca colocar un disco más grande sobre uno más pequeño. Se cree que cuando se complete esta tarea, el mundo llegará a su fin.\n",
    "\n",
    "Las reglas del juego de las Torres de Hanoi son las siguientes:\n",
    "\n",
    "-Hay tres postes (A, B y C) y un número específico de discos, que se apilan en el poste A en orden decreciente de tamaño, es decir, el disco más grande en la parte inferior y el más pequeño en la parte superior.\n",
    "\n",
    "-El objetivo del juego es mover todos los discos de la pila en el poste A al poste C, utilizando el poste B como auxiliar, siguiendo estas reglas:\n",
    "    - Solo puedes mover un disco a la vez.\n",
    "    - Nunca puedes colocar un disco más grande sobre uno más pequeño.\n",
    "    - Puedes usar el poste B como auxiliar para lograr el objetivo.\n",
    "- El juego se resuelve de manera óptima siguiendo un enfoque recursivo. El movimiento de los discos se puede dividir en tres pasos:\n",
    "    - Mueve n-1 discos del poste A al poste B, usando el poste C como auxiliar.\n",
    "    - Mueve el disco más grande del poste A al poste C.\n",
    "    - Mueve n-1 discos del poste B al poste C, usando el poste A como auxiliar.\n",
    "    - Este proceso se repite hasta que todos los discos se hayan movido del poste A al poste C, siguiendo las reglas."
   ]
  },
  {
   "cell_type": "code",
   "execution_count": null,
   "metadata": {},
   "outputs": [],
   "source": [
    "import time"
   ]
  },
  {
   "cell_type": "code",
   "execution_count": null,
   "metadata": {},
   "outputs": [],
   "source": [
    "# Define una función para dibujar las torres\n",
    "def dibujarTorres():\n",
    "\n",
    "    # Códigos de colores ANSI\n",
    "    RESET = \"\\x1b[0m\"\n",
    "    AMARILLO = \"\\x1b[33m\"\n",
    "    VERDE = \"\\x1b[32m\"\n",
    "    ROJO = \"\\x1b[31m\"\n",
    "    AZUL = \"\\x1b[34m\"\n",
    "    MAGENTA = \"\\x1b[35m\"\n",
    "    CIAN = \"\\x1b[36m\"\n",
    "    NARANJA = \"\\x1b[91m\"\n",
    "    \n",
    "    for fila in torres:\n",
    "        for col in fila:\n",
    "            if col == 0:\n",
    "                print(\"            |            \", end=\"\")\n",
    "            elif col == 1:\n",
    "                print(f\"{AMARILLO}          [///]          {RESET}\", end=\"\")\n",
    "            elif col == 2:\n",
    "                print(f\"{VERDE}         [/////]         {RESET}\", end=\"\")\n",
    "            elif col == 3:\n",
    "                print(f\"{ROJO}        [///////]        {RESET}\", end=\"\")\n",
    "            elif col == 4:\n",
    "                print(f\"{AZUL}       [/////////]       {RESET}\", end=\"\")\n",
    "            elif col == 5:\n",
    "                print(f\"{MAGENTA}      [///////////]      {RESET}\", end=\"\")\n",
    "            elif col == 6:\n",
    "                print(f\"{CIAN}     [/////////////]     {RESET}\", end=\"\")\n",
    "            elif col == 7:\n",
    "                print(f\"{NARANJA}    [///////////////]    {RESET}\", end=\"\")\n",
    "        print()\n",
    "    print(\"=\"*77)\n",
    "    print(\"            1                        2                        3            \")\n",
    "    time.sleep(1)\n"
   ]
  },
  {
   "cell_type": "code",
   "execution_count": null,
   "metadata": {},
   "outputs": [],
   "source": [
    "# REPRESENTACIÓN GRÁFICA DE TORRES DE HANOI\n",
    "\n",
    "# Nos devuelve el disco de arriba de la columna col, sino devuelve 0.\n",
    "def buscarDiscoArriba(col):\n",
    "    fila = 0\n",
    "    while fila <= discos and torres[fila][col] == 0:\n",
    "        fila += 1\n",
    "    if fila <= discos:\n",
    "        return torres[fila][col]\n",
    "    else:\n",
    "        return 0\n",
    "\n",
    "# Nos devuelve el espacio vacío de arriba de la columna col.\n",
    "def buscarEspacioArriba(col):\n",
    "    fila = 0\n",
    "    while fila <= discos and torres[fila][col] == 0:\n",
    "        fila += 1\n",
    "    return fila - 1\n",
    "\n",
    "# Elimina el disco de arriba de la columna col.\n",
    "def eliminarDiscoArriba(col):\n",
    "    fila = 0\n",
    "    while fila <= discos and torres[fila][col] == 0:\n",
    "        fila += 1\n",
    "    torres[fila][col] = 0\n",
    "\n",
    "# Representación gráfica.\n",
    "def hanoiGrafico(n, origen=1, auxiliar=2, destino=3):\n",
    "    if n > 0:\n",
    "        hanoiGrafico(n-1, origen, destino, auxiliar) # n-1 discos de la torre origen a la torre auxiliar.\n",
    "        disco = buscarDiscoArriba(origen-1)\n",
    "        eliminarDiscoArriba(origen-1)\n",
    "        torres[buscarEspacioArriba(destino-1)][destino-1] = disco\n",
    "        print(\"\\n\"*40)\n",
    "        dibujarTorres()\n",
    "        hanoiGrafico(n-1, auxiliar, origen, destino) # n-1 discos de la torre auxiliar a la torre final.\n"
   ]
  },
  {
   "cell_type": "code",
   "execution_count": null,
   "metadata": {},
   "outputs": [],
   "source": [
    "# REPRESENTACIÓN TEXTO DE TORRES DE HANOI\n",
    "\n",
    "# Representación en modo texto.\n",
    "def hanoiTexto(n, origen=1, auxiliar=2, destino=3):\n",
    "    if n > 0:\n",
    "        hanoiTexto(n-1, origen, destino, auxiliar) # n-1 discos de la torre origen a la torre auxiliar.\n",
    "        print(f\"Se mueve el disco {n} de torre {origen} a la torre {destino}\") # disco n a la torre destino.\n",
    "        hanoiTexto(n-1, auxiliar, origen, destino) # n-1 discos de la torre auxiliar a la torre final.\n"
   ]
  },
  {
   "cell_type": "code",
   "execution_count": null,
   "metadata": {},
   "outputs": [],
   "source": [
    "#_____________________________JUEGO TORRES DE HANOI___________________________________________\n",
    "\n",
    "print(\"\\n\"*40)\n",
    "print(\"     TORRES DE HANOI     \")\n",
    "print(\"*\"*25)\n",
    "modo = int(input(\"Ingrese la opción deseada:\\n\\n1) Modo gráfico\\n2) Modo texto\\n\\n\"))\n",
    "\n",
    "if modo == 1:\n",
    "    discos = int(input(\"\\nIngrese entre 1 y 7 discos: \"))\n",
    "\n",
    "    # Defino la matriz para el gráfico\n",
    "    if discos > 0 and discos < 8:\n",
    "        torres = [[0] * 3 for _ in range(discos + 1)]  # Inicializa la matriz con ceros.\n",
    "        for i in range(discos):\n",
    "            torres[i + 1][0] = i + 1  # Coloca los discos en la primera torre.\n",
    "        print(\"\\n\"*40)\n",
    "        dibujarTorres()\n",
    "        hanoiGrafico(discos)\n",
    "    else:\n",
    "        print(\"\\nERROR! Solo se permiten de 1 a 7 discos para el modo gráfico.\")\n",
    "elif modo == 2:\n",
    "    discos = int(input(\"\\nIngrese el número de discos: \"))\n",
    "\n",
    "    if discos > 0:\n",
    "        print()\n",
    "        hanoiTexto(discos)\n",
    "    else:\n",
    "        print(\"\\nERROR! Ingrese un número mayor a 0.\")\n",
    "else:\n",
    "    print(\"\\nERROR! La opción ingresada es incorrecta.\")\n",
    "#_________________________________________________________________________________________________\n"
   ]
  }
 ],
 "metadata": {
  "kernelspec": {
   "display_name": "este",
   "language": "python",
   "name": "python3"
  },
  "language_info": {
   "codemirror_mode": {
    "name": "ipython",
    "version": 3
   },
   "file_extension": ".py",
   "mimetype": "text/x-python",
   "name": "python",
   "nbconvert_exporter": "python",
   "pygments_lexer": "ipython3",
   "version": "3.11.5"
  }
 },
 "nbformat": 4,
 "nbformat_minor": 2
}
