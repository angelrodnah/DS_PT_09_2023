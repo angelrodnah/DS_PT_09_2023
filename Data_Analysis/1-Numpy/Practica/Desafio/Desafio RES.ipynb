{
 "cells": [
  {
   "cell_type": "markdown",
   "metadata": {},
   "source": [
    "## Reto 1: Hundir la Flota (Batalla Naval)\n",
    "### Objetivo: Implementar una versión simplificada del juego de Batalla Naval usando Python y Numpy para manejar el tablero del juego.\n",
    "\n",
    "- Crear un tablero 10x10 usando Numpy arrays.\n",
    "- Colocar 5 barcos de diferentes tamaños en posiciones aleatorias en el tablero.\n",
    "- Permitir que el jugador ingrese coordenadas para \"disparar\".\n",
    "- Mostrar un mensaje si el jugador acierta o falla, y actualizar el tablero acorde.\n",
    "- Seguir jugando hasta que todos los barcos sean hundidos.\n",
    "#### Habilidades aplicadas: Uso de arrays de Numpy, generación de números aleatorios, estructuras de control en Python.\n",
    "\n",
    "## Reto 2: Tres en Raya (Tic-Tac-Toe)\n",
    "### Objetivo: Implementar el juego de Tres en Raya.\n",
    "\n",
    "- Crear un tablero 3x3 usando Numpy arrays.\n",
    "- Permitir a dos jugadores ingresar sus movimientos alternadamente.\n",
    "- Verificar después de cada movimiento si alguno de los jugadores ha ganado.\n",
    "- Mostrar el tablero después de cada turno.\n",
    "- Terminar el juego si hay un ganador o si el tablero está lleno.\n",
    "#### Habilidades aplicadas: Manipulación de arrays, estructuras de control, funciones en Python.\n",
    "\n",
    "## Reto 3: Torres de Hanoi\n",
    "### Objetivo: Implementar el juego de las Torres de Hanoi usando Python.\n",
    "\n",
    "- Crear tres pilas para representar los tres postes del juego.\n",
    "- Implementar la lógica para mover un disco de un poste a otro, siguiendo las reglas del juego.\n",
    "- Desarrollar una función recursiva para resolver el juego.\n",
    "- Permitir al usuario elegir el número de discos con los que jugará.\n",
    "#### Habilidades aplicadas: Recursividad, estructuras de datos (pilas), funciones en Python."
   ]
  },
  {
   "cell_type": "markdown",
   "metadata": {},
   "source": [
    "``Deberas hacer por lo menos uno de los tres para de la fecha de entrega, pero antes de terminar el modulo de analisis de datos tendras que entregar todos..``"
   ]
  },
  {
   "cell_type": "markdown",
   "metadata": {},
   "source": [
    "como se cual debo hacer muy simple introduce tu fecha de cumpleaños en la siguiente funcion"
   ]
  },
  {
   "cell_type": "code",
   "execution_count": 1,
   "metadata": {},
   "outputs": [],
   "source": [
    "def cual_es_mi_reto(fecha: str) -> str:\n",
    "    \"\"\"\n",
    "    Args:\n",
    "    ------\n",
    "    fecha: str el formato de la fecha es DD-MM-YYYY\n",
    "    Returns:\n",
    "    -------\n",
    "    str: el numero del reto\n",
    "    \"\"\"\n",
    "    try:\n",
    "        return int(fecha.split('-')[0]) % 3\n",
    "    except:\n",
    "        return 'La fecha tiene que ser en este formato DD-MM-YYYY'"
   ]
  },
  {
   "cell_type": "code",
   "execution_count": 2,
   "metadata": {},
   "outputs": [
    {
     "data": {
      "text/plain": [
       "1"
      ]
     },
     "execution_count": 2,
     "metadata": {},
     "output_type": "execute_result"
    }
   ],
   "source": [
    "cual_es_mi_reto(fecha='01-07-1976')"
   ]
  },
  {
   "cell_type": "code",
   "execution_count": 8,
   "metadata": {},
   "outputs": [],
   "source": [
    "# Importar librerías"
   ]
  },
  {
   "cell_type": "code",
   "execution_count": 14,
   "metadata": {},
   "outputs": [],
   "source": [
    "from IPython.display import Markdown\n",
    "import numpy as np"
   ]
  },
  {
   "cell_type": "code",
   "execution_count": 15,
   "metadata": {},
   "outputs": [],
   "source": [
    "#Función que muestra tablero\n",
    "def imprimir_tablero_markdown(tablero):\n",
    "    n, m = tablero.shape\n",
    "    markdown = \"| \" + \" | \".join([\"\"] + [f\"<center>{str(i-1).center(2)}</center>\" for i in range(1, m+1)]) + \" |\\n\"\n",
    "    markdown += \"|-\" + \"|\".join([\"-\" * 5] + [\"-\" * 5 for _ in range(m)]) + \"|\\n\"\n",
    "    \n",
    "    for i in range(n):\n",
    "        fila = \"| \" + \" | \".join([f\"<center>{str(i).center(2)}</center>\"] + [f\"<center>{str(cell).center(2)}</center>\" for cell in tablero[i]]) + \" |\\n\"\n",
    "        markdown += fila\n",
    "\n",
    "    return Markdown(markdown)"
   ]
  },
  {
   "cell_type": "code",
   "execution_count": 16,
   "metadata": {},
   "outputs": [],
   "source": [
    "#Función que coloca tablero   \n",
    "def coloca_barco(tablero,barco):\n",
    "    for i,j in barco:\n",
    "        tablero[i,j]='O'"
   ]
  },
  {
   "cell_type": "code",
   "execution_count": 17,
   "metadata": {},
   "outputs": [],
   "source": [
    "#Función que posiciona en el tablero un barco de longitud en tablero\n",
    "def posicionar_barco_aleatorio(tablero, lon_barco):\n",
    "    n, m = tablero.shape\n",
    "    orientaciones = [\"N\", \"S\", \"E\", \"O\"]\n",
    "\n",
    "    while True:\n",
    "        # Generar posición inicial aleatoria\n",
    "        fila = np.random.randint(0, n)\n",
    "        columna = np.random.randint(0, m)\n",
    "        orientacion = np.random.choice(orientaciones)\n",
    "\n",
    "        # Verificar si el barco cabe en la posición y orientación elegidas\n",
    "        if orientacion == \"N\":\n",
    "            if fila - lon_barco >= 0:\n",
    "                casillas_libres = tablero[fila - lon_barco + 1:fila + 1, columna]\n",
    "            else:\n",
    "                continue\n",
    "        elif orientacion == \"S\":\n",
    "            if fila + lon_barco <= n - 1:\n",
    "                casillas_libres = tablero[fila:fila + lon_barco, columna]\n",
    "            else:\n",
    "                continue\n",
    "        elif orientacion == \"E\":\n",
    "            if columna + lon_barco <= m - 1:\n",
    "                casillas_libres = tablero[fila, columna:columna + lon_barco]\n",
    "            else:\n",
    "                continue\n",
    "        elif orientacion == \"O\":\n",
    "            if columna - lon_barco >= 0:\n",
    "                casillas_libres = tablero[fila, columna - lon_barco + 1:columna + 1]\n",
    "            else:\n",
    "                continue\n",
    "\n",
    "        # Verificar si las casillas están libres (cadenas vacías)\n",
    "        if np.all(casillas_libres == ''):\n",
    "            # Crear una lista de las posiciones ocupadas por el barco\n",
    "            posiciones_barco = []\n",
    "            if orientacion == \"N\":\n",
    "                for i in range(fila - lon_barco + 1, fila + 1):\n",
    "                    posiciones_barco.append((i, columna))\n",
    "            elif orientacion == \"S\":\n",
    "                for i in range(fila, fila + lon_barco):\n",
    "                    posiciones_barco.append((i, columna))\n",
    "            elif orientacion == \"E\":\n",
    "                for j in range(columna, columna + lon_barco):\n",
    "                    posiciones_barco.append((fila, j))\n",
    "            elif orientacion == \"O\":\n",
    "                for j in range(columna - lon_barco + 1, columna + 1):\n",
    "                    posiciones_barco.append((fila, j))\n",
    "\n",
    "            # Colocar el barco en el tablero como texto\n",
    "            coloca_barco(tablero,posiciones_barco)\n",
    "\n",
    "            return posiciones_barco"
   ]
  },
  {
   "cell_type": "code",
   "execution_count": 19,
   "metadata": {},
   "outputs": [],
   "source": [
    "# Función que recibe un disparo en agua, sustituyendo uno de los espacios por un guión:\n",
    "def disparar(tablero,fila,columna):\n",
    "    disparo=np.array([(fila,columna)])\n",
    "    for i,j in disparo:\n",
    "        if tablero[i,j] == \"O\":\n",
    "            tablero[i,j] = \"X\"\n",
    "        elif tablero[i,j] == \" \":\n",
    "            tablero[i,j] = \"-\"\n",
    "    return(imprimir_tablero_markdown(tablero)) "
   ]
  },
  {
   "cell_type": "code",
   "execution_count": null,
   "metadata": {},
   "outputs": [],
   "source": [
    "def entrada_jugar_barcos():\n",
    "    print(\"Bienvenido al juego de barcos\")\n",
    "    print(\"Elige una opción\")\n",
    "    print(\"1. Jugar\")\n",
    "    print(\"2. Salir\")\n",
    "    opcion = int(input())\n",
    "    if opcion == 1:\n",
    "        print(\"Jugando....\")\n",
    "        \n",
    "        jugar_barcos()\n",
    "    elif opcion == 2:\n",
    "        print(\"Saliendo. Espero que te haya gustado\")\n",
    "    else:\n",
    "        print(\"Opción incorrecta\")\n",
    "        entrada_jugar_barcos()"
   ]
  },
  {
   "cell_type": "code",
   "execution_count": null,
   "metadata": {},
   "outputs": [],
   "source": [
    "import numpy as np\n",
    "\n",
    "class Tablero():\n",
    "    def __init__(self,ndimension:int):\n",
    "        self.dimension = ndimension\n",
    "        self.tablero =  np.full((10,10),\" \",dtype=str)      \n",
    "    \n",
    "    def mostrar(self):\n",
    "        n, m = self.shape\n",
    "        markdown = \"| \" + \" | \".join([\"\"] + [f\"<center>{str(i-1).center(2)}</center>\" for i in range(1, m+1)]) + \" |\\n\"\n",
    "        markdown += \"|-\" + \"|\".join([\"-\" * 5] + [\"-\" * 5 for _ in range(m)]) + \"|\\n\"\n",
    "        for i in range(n):\n",
    "            fila = \"| \" + \" | \".join([f\"<center>{str(i).center(2)}</center>\"] + [f\"<center>{str(cell).center(2)}</center>\" for cell in self[i]]) + \" |\\n\"\n",
    "            markdown += fila\n",
    "        return Markdown(markdown)\n",
    "        \n"
   ]
  },
  {
   "cell_type": "code",
   "execution_count": null,
   "metadata": {},
   "outputs": [],
   "source": [
    "\n",
    "class Barco:\n",
    "    \n",
    "    def __init__(self, lon_barco:int):\n",
    "        self.lon_barco = lon_barco\n",
    "        self.fila = None\n",
    "        self.columna = None\n",
    "        self.orientacion = None\n",
    "        self.coordenadas = list()\n",
    "\n",
    "        \n",
    "    def colocar_en_tablero(self, tablero):\n",
    "        ORIENTACIONES = [\"N\", \"S\", \"E\", \"O\"]\n",
    "        n, m = tablero.shape\n",
    "        \n",
    "        while True:\n",
    "            # Generar posición inicial aleatoria\n",
    "            self.fila = np.random.randint(0, n)\n",
    "            self.columna = np.random.randint(0, m)\n",
    "            self.orientacion = np.random.choice(ORIENTACIONES)\n",
    "            # Verificar si el barco cabe en la posición y orientación elegidas\n",
    "            if self.orientacion == \"N\":\n",
    "                if self.fila - self.lon_barco >= 0:\n",
    "                    casillas_libres = tablero[self.fila - self.lon_barco + 1:self.fila + 1, self.columna]\n",
    "                else:\n",
    "                    continue\n",
    "            elif self.orientacion == \"S\":\n",
    "                if self.fila + self.lon_barco <= n - 1:\n",
    "                    casillas_libres = tablero[self.fila:self.fila + self.lon_barco, self.columna]\n",
    "                else:\n",
    "                    continue\n",
    "            elif self.orientacion == \"E\":\n",
    "                if self.columna + self.lon_barco <= m - 1:\n",
    "                    casillas_libres = tablero[self.fila, self.columna:self.columna + self.lon_barco]\n",
    "                else:\n",
    "                    continue\n",
    "            elif self.orientacion == \"O\":\n",
    "                if self.columna - self.lon_barco >= 0:\n",
    "                    casillas_libres = tablero[self.fila, self.columna - self.lon_barco + 1:self.columna + 1]\n",
    "                else:\n",
    "                    continue\n",
    "            # Verificar si las casillas están libres (cadenas vacías)\n",
    "            if np.all(casillas_libres == ''):\n",
    "                # Crear una lista de las posiciones ocupadas por el barco\n",
    "                if self.orientacion == \"N\":\n",
    "                    for i in range(self.fila - self.lon_barco + 1, self.fila + 1):\n",
    "                        self.coordenadas.append((i, self.columna))\n",
    "                elif self.orientacion == \"S\":\n",
    "                    for i in range(self.fila, self.fila + self.lon_barco):\n",
    "                        self.coordenadas.append((i, self.columna))\n",
    "                elif self.orientacion == \"E\":\n",
    "                    for j in range(self.columna, self.columna + self.lon_barco):\n",
    "                        self.coordenadas.append((self.fila, j))\n",
    "                elif self.orientacion == \"O\":\n",
    "                    for j in range(self.columna - self.lon_barco + 1, self.columna + 1):\n",
    "                        self.coordenadas.append((self.fila, j))\n",
    "                # Colocar el barco en el tablero como texto\n",
    "                for i,j in self.coordenadas:\n",
    "                        tablero[i,j]='O'\n"
   ]
  },
  {
   "cell_type": "code",
   "execution_count": null,
   "metadata": {},
   "outputs": [],
   "source": []
  },
  {
   "cell_type": "code",
   "execution_count": null,
   "metadata": {},
   "outputs": [],
   "source": [
    "class Juego:\n",
    "\n",
    "    def __init__(self):\n",
    "        self.tablero = Tablero()\n",
    "        self.barcos = [Barco(5), Barco(4), Barco(3), Barco(3), Barco(2)]\n",
    "\n",
    "    def disparar(self, fila, columna):\n",
    "        if self.tablero.tablero[fila, columna] == 1:\n",
    "            print(\"¡Acierto!\")\n",
    "            self.tablero.tablero[fila, columna] = 2\n",
    "            for barco in self.barcos:\n",
    "                if (fila, columna) in barco.coordenadas:\n",
    "                    barco.tamano -= 1\n",
    "                    break\n",
    "\n",
    "        elif self.tablero.tablero[fila, columna] == 0:\n",
    "            print(\"¡Fallo!\")\n",
    "        else:\n",
    "            print(\"Ya has disparado aquí antes.\")\n",
    "\n",
    "    def todos_barcos_hundidos(self):\n",
    "        return all(barco.tamano == 0 for barco in self.barcos)\n",
    "\n",
    "    def jugar(self):\n",
    "        while not self.todos_barcos_hundidos():\n",
    "            self.tablero.mostrar()\n",
    "            fila = int(input(\"Ingrese la fila para disparar (0-9): \"))\n",
    "            columna = int(input(\"Ingrese la columna para disparar (0-9): \"))\n",
    "            self.disparar(fila, columna)\n",
    "        print(\"¡Todos los barcos han sido hundidos! ¡Ganaste!\")\n"
   ]
  },
  {
   "cell_type": "code",
   "execution_count": null,
   "metadata": {},
   "outputs": [],
   "source": [
    "# Función que recibe un disparo en agua, sustituyendo uno de los espacios por un guión:\n",
    "def disparar(tablero,fila,columna):\n",
    "    disparo=np.array([(fila,columna)])\n",
    "    for i,j in disparo:\n",
    "        if tablero[i,j] == \"O\":\n",
    "            tablero[i,j] = \"X\"\n",
    "        elif tablero[i,j] == \" \":\n",
    "            tablero[i,j] = \"-\"\n",
    "    return(imprimir_tablero_markdown(tablero)) "
   ]
  },
  {
   "cell_type": "code",
   "execution_count": null,
   "metadata": {},
   "outputs": [],
   "source": []
  },
  {
   "cell_type": "code",
   "execution_count": 18,
   "metadata": {},
   "outputs": [],
   "source": [
    "# --------------------------------------  JUEGO DE BARCOS  -----------------------------------------------\n"
   ]
  },
  {
   "cell_type": "code",
   "execution_count": null,
   "metadata": {},
   "outputs": [],
   "source": [
    "#Colocar 5 barcos de diferentes tamaños en posiciones aleatorias en el tablero.\n"
   ]
  },
  {
   "cell_type": "code",
   "execution_count": null,
   "metadata": {},
   "outputs": [],
   "source": [
    "#Permitir que el jugador ingrese coordenadas para \"disparar\".\n"
   ]
  },
  {
   "cell_type": "code",
   "execution_count": null,
   "metadata": {},
   "outputs": [],
   "source": [
    "#Mostrar un mensaje si el jugador acierta o falla, y actualizar el tablero acorde.\n"
   ]
  },
  {
   "cell_type": "code",
   "execution_count": null,
   "metadata": {},
   "outputs": [],
   "source": [
    "#Seguir jugando hasta que todos los barcos sean hundidos."
   ]
  },
  {
   "cell_type": "code",
   "execution_count": null,
   "metadata": {},
   "outputs": [],
   "source": []
  },
  {
   "cell_type": "code",
   "execution_count": null,
   "metadata": {},
   "outputs": [],
   "source": []
  }
 ],
 "metadata": {
  "kernelspec": {
   "display_name": "este",
   "language": "python",
   "name": "python3"
  },
  "language_info": {
   "codemirror_mode": {
    "name": "ipython",
    "version": 3
   },
   "file_extension": ".py",
   "mimetype": "text/x-python",
   "name": "python",
   "nbconvert_exporter": "python",
   "pygments_lexer": "ipython3",
   "version": "3.11.5"
  }
 },
 "nbformat": 4,
 "nbformat_minor": 2
}
