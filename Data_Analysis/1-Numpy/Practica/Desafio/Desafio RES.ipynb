{
 "cells": [
  {
   "cell_type": "markdown",
   "metadata": {},
   "source": [
    "## Reto 1: Hundir la Flota (Batalla Naval)\n",
    "### Objetivo: Implementar una versión simplificada del juego de Batalla Naval usando Python y Numpy para manejar el tablero del juego.\n",
    "\n",
    "- Crear un tablero 10x10 usando Numpy arrays.\n",
    "- Colocar 5 barcos de diferentes tamaños en posiciones aleatorias en el tablero.\n",
    "- Permitir que el jugador ingrese coordenadas para \"disparar\".\n",
    "- Mostrar un mensaje si el jugador acierta o falla, y actualizar el tablero acorde.\n",
    "- Seguir jugando hasta que todos los barcos sean hundidos.\n",
    "#### Habilidades aplicadas: Uso de arrays de Numpy, generación de números aleatorios, estructuras de control en Python.\n",
    "\n",
    "## Reto 2: Tres en Raya (Tic-Tac-Toe)\n",
    "### Objetivo: Implementar el juego de Tres en Raya.\n",
    "\n",
    "- Crear un tablero 3x3 usando Numpy arrays.\n",
    "- Permitir a dos jugadores ingresar sus movimientos alternadamente.\n",
    "- Verificar después de cada movimiento si alguno de los jugadores ha ganado.\n",
    "- Mostrar el tablero después de cada turno.\n",
    "- Terminar el juego si hay un ganador o si el tablero está lleno.\n",
    "#### Habilidades aplicadas: Manipulación de arrays, estructuras de control, funciones en Python.\n",
    "\n",
    "## Reto 3: Torres de Hanoi\n",
    "### Objetivo: Implementar el juego de las Torres de Hanoi usando Python.\n",
    "\n",
    "- Crear tres pilas para representar los tres postes del juego.\n",
    "- Implementar la lógica para mover un disco de un poste a otro, siguiendo las reglas del juego.\n",
    "- Desarrollar una función recursiva para resolver el juego.\n",
    "- Permitir al usuario elegir el número de discos con los que jugará.\n",
    "#### Habilidades aplicadas: Recursividad, estructuras de datos (pilas), funciones en Python."
   ]
  },
  {
   "cell_type": "markdown",
   "metadata": {},
   "source": [
    "``Deberas hacer por lo menos uno de los tres para de la fecha de entrega, pero antes de terminar el modulo de analisis de datos tendras que entregar todos..``"
   ]
  },
  {
   "cell_type": "markdown",
   "metadata": {},
   "source": [
    "como se cual debo hacer muy simple introduce tu fecha de cumpleaños en la siguiente funcion"
   ]
  },
  {
   "cell_type": "code",
   "execution_count": 1,
   "metadata": {},
   "outputs": [],
   "source": [
    "def cual_es_mi_reto(fecha: str) -> str:\n",
    "    \"\"\"\n",
    "    Args:\n",
    "    ------\n",
    "    fecha: str el formato de la fecha es DD-MM-YYYY\n",
    "    Returns:\n",
    "    -------\n",
    "    str: el numero del reto\n",
    "    \"\"\"\n",
    "    try:\n",
    "        return int(fecha.split('-')[0]) % 3\n",
    "    except:\n",
    "        return 'La fecha tiene que ser en este formato DD-MM-YYYY'"
   ]
  },
  {
   "cell_type": "code",
   "execution_count": 2,
   "metadata": {},
   "outputs": [
    {
     "data": {
      "text/plain": [
       "1"
      ]
     },
     "execution_count": 2,
     "metadata": {},
     "output_type": "execute_result"
    }
   ],
   "source": [
    "cual_es_mi_reto(fecha='01-07-1976')"
   ]
  },
  {
   "cell_type": "code",
   "execution_count": 3,
   "metadata": {},
   "outputs": [],
   "source": [
    "# --------------------------------------  JUEGO DE BARCOS  -----------------------------------------------"
   ]
  },
  {
   "cell_type": "code",
   "execution_count": 4,
   "metadata": {},
   "outputs": [],
   "source": [
    "# Importar librerías\n",
    "from IPython.display import Markdown\n",
    "import numpy as np"
   ]
  },
  {
   "cell_type": "code",
   "execution_count": 5,
   "metadata": {},
   "outputs": [],
   "source": [
    "#Función que muestra tabla en markdown\n",
    "def mostrar_tabla_markdown(tabla:np.array):\n",
    "    n, m = tabla.shape\n",
    "    markdown = \"| \" + \" | \".join([\"\"] + [f\"<center>{str(i-1).center(2)}</center>\" for i in range(1, m+1)]) + \" |\\n\"\n",
    "    markdown += \"|-\" + \"|\".join([\"-\" * 5] + [\"-\" * 5 for _ in range(m)]) + \"|\\n\"\n",
    "    \n",
    "    for i in range(n):\n",
    "        fila = \"| \" + \" | \".join([f\"<center>{str(i).center(2)}</center>\"] + [f\"<center>{str(cell).center(2)}</center>\" for cell in tabla[i]]) + \" |\\n\"\n",
    "        markdown += fila\n",
    "\n",
    "    return Markdown(markdown)"
   ]
  },
  {
   "cell_type": "code",
   "execution_count": 6,
   "metadata": {},
   "outputs": [],
   "source": [
    "#Función que coloca tablero   \n",
    "def coloca_barco(tablero,barco):\n",
    "    for i,j in barco:\n",
    "        tablero[i,j]='O'"
   ]
  },
  {
   "cell_type": "code",
   "execution_count": 7,
   "metadata": {},
   "outputs": [],
   "source": [
    "#Función que posiciona en el tablero un barco de longitud en tablero\n",
    "def posicionar_barco_aleatorio(tablero, lon_barco):\n",
    "    n, m = tablero.shape\n",
    "    orientaciones = [\"N\", \"S\", \"E\", \"O\"]\n",
    "\n",
    "    while True:\n",
    "        # Generar posición inicial aleatoria\n",
    "        fila = np.random.randint(0, n)\n",
    "        columna = np.random.randint(0, m)\n",
    "        orientacion = np.random.choice(orientaciones)\n",
    "\n",
    "        # Verificar si el barco cabe en la posición y orientación elegidas\n",
    "        if orientacion == \"N\":\n",
    "            if fila - lon_barco >= 0:\n",
    "                casillas_libres = tablero[fila - lon_barco + 1:fila + 1, columna]\n",
    "            else:\n",
    "                continue\n",
    "        elif orientacion == \"S\":\n",
    "            if fila + lon_barco <= n - 1:\n",
    "                casillas_libres = tablero[fila:fila + lon_barco, columna]\n",
    "            else:\n",
    "                continue\n",
    "        elif orientacion == \"E\":\n",
    "            if columna + lon_barco <= m - 1:\n",
    "                casillas_libres = tablero[fila, columna:columna + lon_barco]\n",
    "            else:\n",
    "                continue\n",
    "        elif orientacion == \"O\":\n",
    "            if columna - lon_barco >= 0:\n",
    "                casillas_libres = tablero[fila, columna - lon_barco + 1:columna + 1]\n",
    "            else:\n",
    "                continue\n",
    "\n",
    "        # Verificar si las casillas están libres (cadenas vacías)\n",
    "        if np.all(casillas_libres == ''):\n",
    "            # Crear una lista de las posiciones ocupadas por el barco\n",
    "            posiciones_barco = []\n",
    "            if orientacion == \"N\":\n",
    "                for i in range(fila - lon_barco + 1, fila + 1):\n",
    "                    posiciones_barco.append((i, columna))\n",
    "            elif orientacion == \"S\":\n",
    "                for i in range(fila, fila + lon_barco):\n",
    "                    posiciones_barco.append((i, columna))\n",
    "            elif orientacion == \"E\":\n",
    "                for j in range(columna, columna + lon_barco):\n",
    "                    posiciones_barco.append((fila, j))\n",
    "            elif orientacion == \"O\":\n",
    "                for j in range(columna - lon_barco + 1, columna + 1):\n",
    "                    posiciones_barco.append((fila, j))\n",
    "\n",
    "            # Colocar el barco en el tablero como texto\n",
    "            coloca_barco(tablero,posiciones_barco)\n",
    "\n",
    "            return posiciones_barco"
   ]
  },
  {
   "cell_type": "code",
   "execution_count": 8,
   "metadata": {},
   "outputs": [],
   "source": [
    "# Función que recibe un disparo en agua, sustituyendo uno de los espacios por un guión:\n",
    "def disparar(tablero,fila,columna):\n",
    "    disparo=np.array([(fila,columna)])\n",
    "    for i,j in disparo:\n",
    "        if tablero[i,j] == \"O\":\n",
    "            tablero[i,j] = \"X\"\n",
    "        elif tablero[i,j] == \" \":\n",
    "            tablero[i,j] = \"-\"\n",
    "    return(imprimir_tablero_markdown(tablero)) "
   ]
  },
  {
   "cell_type": "code",
   "execution_count": 9,
   "metadata": {},
   "outputs": [],
   "source": [
    "def entrada_jugar_barcos():\n",
    "    print(\"Bienvenido al juego de barcos\")\n",
    "    print(\"Elige una opción\")\n",
    "    print(\"1. Jugar\")\n",
    "    print(\"2. Salir\")\n",
    "    opcion = int(input())\n",
    "    if opcion == 1:\n",
    "        print(\"Jugando....\")\n",
    "        \n",
    "        jugar_barcos()\n",
    "    elif opcion == 2:\n",
    "        print(\"Saliendo. Espero que te haya gustado\")\n",
    "    else:\n",
    "        print(\"Opción incorrecta\")\n",
    "        entrada_jugar_barcos()"
   ]
  },
  {
   "cell_type": "code",
   "execution_count": 10,
   "metadata": {},
   "outputs": [],
   "source": [
    "class Tablero():\n",
    "    def __init__(self,ndimension:int):\n",
    "        self.dimension = ndimension\n",
    "        self.matriz =  np.full((10,10),\" \",dtype=str)      \n",
    "    \n",
    "    def mostrar(self):\n",
    "        return mostrar_tabla_markdown(self.matriz)\n",
    "        \n"
   ]
  },
  {
   "cell_type": "code",
   "execution_count": 13,
   "metadata": {},
   "outputs": [],
   "source": [
    "tablero=Tablero(10)"
   ]
  },
  {
   "cell_type": "code",
   "execution_count": 14,
   "metadata": {},
   "outputs": [
    {
     "data": {
      "text/markdown": [
       "|  | <center>0 </center> | <center>1 </center> | <center>2 </center> | <center>3 </center> | <center>4 </center> | <center>5 </center> | <center>6 </center> | <center>7 </center> | <center>8 </center> | <center>9 </center> |\n",
       "|------|-----|-----|-----|-----|-----|-----|-----|-----|-----|-----|\n",
       "| <center>0 </center> | <center>  </center> | <center>  </center> | <center>  </center> | <center>  </center> | <center>  </center> | <center>  </center> | <center>  </center> | <center>  </center> | <center>  </center> | <center>  </center> |\n",
       "| <center>1 </center> | <center>  </center> | <center>  </center> | <center>  </center> | <center>  </center> | <center>  </center> | <center>  </center> | <center>  </center> | <center>  </center> | <center>  </center> | <center>  </center> |\n",
       "| <center>2 </center> | <center>  </center> | <center>  </center> | <center>  </center> | <center>  </center> | <center>  </center> | <center>  </center> | <center>  </center> | <center>  </center> | <center>  </center> | <center>  </center> |\n",
       "| <center>3 </center> | <center>  </center> | <center>  </center> | <center>  </center> | <center>  </center> | <center>  </center> | <center>  </center> | <center>  </center> | <center>  </center> | <center>  </center> | <center>  </center> |\n",
       "| <center>4 </center> | <center>  </center> | <center>  </center> | <center>  </center> | <center>  </center> | <center>  </center> | <center>  </center> | <center>  </center> | <center>  </center> | <center>  </center> | <center>  </center> |\n",
       "| <center>5 </center> | <center>  </center> | <center>  </center> | <center>  </center> | <center>  </center> | <center>  </center> | <center>  </center> | <center>  </center> | <center>  </center> | <center>  </center> | <center>  </center> |\n",
       "| <center>6 </center> | <center>  </center> | <center>  </center> | <center>  </center> | <center>  </center> | <center>  </center> | <center>  </center> | <center>  </center> | <center>  </center> | <center>  </center> | <center>  </center> |\n",
       "| <center>7 </center> | <center>  </center> | <center>  </center> | <center>  </center> | <center>  </center> | <center>  </center> | <center>  </center> | <center>  </center> | <center>  </center> | <center>  </center> | <center>  </center> |\n",
       "| <center>8 </center> | <center>  </center> | <center>  </center> | <center>  </center> | <center>  </center> | <center>  </center> | <center>  </center> | <center>  </center> | <center>  </center> | <center>  </center> | <center>  </center> |\n",
       "| <center>9 </center> | <center>  </center> | <center>  </center> | <center>  </center> | <center>  </center> | <center>  </center> | <center>  </center> | <center>  </center> | <center>  </center> | <center>  </center> | <center>  </center> |\n"
      ],
      "text/plain": [
       "<IPython.core.display.Markdown object>"
      ]
     },
     "execution_count": 14,
     "metadata": {},
     "output_type": "execute_result"
    }
   ],
   "source": [
    "tablero.mostrar()"
   ]
  },
  {
   "cell_type": "code",
   "execution_count": 17,
   "metadata": {},
   "outputs": [],
   "source": [
    "barco=Barco(5)\n"
   ]
  },
  {
   "cell_type": "code",
   "execution_count": 16,
   "metadata": {},
   "outputs": [],
   "source": [
    "class Barco:\n",
    "    \n",
    "    def __init__(self, eslora:int):\n",
    "        self.eslora = eslora\n",
    "        self.coordenadas = list() \n",
    "        self.fila = None\n",
    "        self.columna = None\n",
    "        self.orientacion = None"
   ]
  },
  {
   "cell_type": "code",
   "execution_count": null,
   "metadata": {},
   "outputs": [],
   "source": [
    "def colocar_en_tablero(self, tablero):\n",
    "            ORIENTACIONES = [\"N\", \"S\", \"E\", \"O\"]\n",
    "            n, m = tablero.shape\n",
    "            \n",
    "            while True:\n",
    "                # Generar posición inicial aleatoria\n",
    "                self.fila = np.random.randint(0, n)\n",
    "                self.columna = np.random.randint(0, m)\n",
    "                self.orientacion = np.random.choice(ORIENTACIONES)\n",
    "                # Verificar si el barco cabe en la posición y orientación elegidas\n",
    "                if self.orientacion == \"N\":\n",
    "                    if self.fila - self.eslora >= 0:\n",
    "                        casillas_libres = tablero[self.fila - self.eslora + 1:self.fila + 1, self.columna]\n",
    "                    else:\n",
    "                        continue\n",
    "                elif self.orientacion == \"S\":\n",
    "                    if self.fila + self.eslora <= n - 1:\n",
    "                        casillas_libres = tablero[self.fila:self.fila + self.eslora, self.columna]\n",
    "                    else:\n",
    "                        continue\n",
    "                elif self.orientacion == \"E\":\n",
    "                    if self.columna + self.eslora <= m - 1:\n",
    "                        casillas_libres = tablero[self.fila, self.columna:self.columna + self.eslora]\n",
    "                    else:\n",
    "                        continue\n",
    "                elif self.orientacion == \"O\":\n",
    "                    if self.columna - self.eslora >= 0:\n",
    "                        casillas_libres = tablero[self.fila, self.columna - self.eslora + 1:self.columna + 1]\n",
    "                    else:\n",
    "                        continue\n",
    "                # Verificar si las casillas están libres (cadenas vacías)\n",
    "                if np.all(casillas_libres == ''):\n",
    "                    # Crear una lista de las posiciones ocupadas por el barco\n",
    "                    if self.orientacion == \"N\":\n",
    "                        for i in range(self.fila - self.eslora + 1, self.fila + 1):\n",
    "                            self.coordenadas.append((i, self.columna))\n",
    "                    elif self.orientacion == \"S\":\n",
    "                        for i in range(self.fila, self.fila + self.eslora):\n",
    "                            self.coordenadas.append((i, self.columna))\n",
    "                    elif self.orientacion == \"E\":\n",
    "                        for j in range(self.columna, self.columna + self.eslora):\n",
    "                            self.coordenadas.append((self.fila, j))\n",
    "                    elif self.orientacion == \"O\":\n",
    "                        for j in range(self.columna - self.eslora + 1, self.columna + 1):\n",
    "                            self.coordenadas.append((self.fila, j))\n",
    "                    # Colocar el barco en el tablero como texto\n",
    "                    for i,j in self.coordenadas:\n",
    "                            tablero[i,j]='O'"
   ]
  },
  {
   "cell_type": "code",
   "execution_count": 75,
   "metadata": {},
   "outputs": [],
   "source": [
    "class Juego():\n",
    "    def __init__(self,ndimTablero):\n",
    "        self.tablero = Tablero(ndimTablero)\n",
    "        self.barcos = [Barco(5), Barco(4), Barco(3), Barco(3), Barco(2)]\n",
    "\n",
    "    def colocar_barcos(self):\n",
    "        #Colocar 5 barcos de diferentes tamaños en posiciones aleatorias en el tablero.matriz.\n",
    "        for barco in self.barcos:\n",
    "            barco.colocar_en_tablero(self.tablero.matriz)\n",
    "\n",
    "    \n",
    "    def disparar(self,fila, columna):\n",
    "        if self.tablero.matriz[fila, columna] == \"O\":\n",
    "            print(\"¡Acierto!\")\n",
    "            self.tablero.matriz[fila, columna] = \"X\"\n",
    "            return self.tablero.mostrar()\n",
    "            for barco in self.barcos:\n",
    "                if (fila, columna) in barco.coordenadas:\n",
    "                    barco.eslora -= 1\n",
    "                    break\n",
    "        elif self.tablero.matriz[fila, columna] == \" \":\n",
    "            print(\"¡Fallaste!\")\n",
    "            self.tablero.matriz[fila, columna] = \"-\"            \n",
    "            return self.tablero.mostrar()\n",
    "        else:\n",
    "            print(\"Ya has disparado aquí antes.\")\n",
    "            return self.tablero.mostrar()\n",
    "\n",
    "    def todos_barcos_hundidos(self):\n",
    "        return all(barco.eslora== 0 for barco in self.barcos)\n",
    "\n",
    "    def jugar(self):\n",
    "        \n",
    "        while not self.todos_barcos_hundidos():\n",
    "            return self.tablero.mostrar()\n",
    "#Permitir que el jugador ingrese coordenadas para \"disparar\".\n",
    "            fila = int(input(\"Ingrese la fila para disparar (0-9): \"))\n",
    "            columna = int(input(\"Ingrese la columna para disparar (0-9): \"))\n",
    "            self.disparar(fila, columna)\n",
    "        print(\"¡Todos los barcos han sido hundidos! ¡Ganaste!\")\n"
   ]
  },
  {
   "cell_type": "code",
   "execution_count": 72,
   "metadata": {},
   "outputs": [],
   "source": [
    "juego=Juego(10)"
   ]
  },
  {
   "cell_type": "code",
   "execution_count": 73,
   "metadata": {},
   "outputs": [
    {
     "data": {
      "text/markdown": [
       "|  | <center>0 </center> | <center>1 </center> | <center>2 </center> | <center>3 </center> | <center>4 </center> | <center>5 </center> | <center>6 </center> | <center>7 </center> | <center>8 </center> | <center>9 </center> |\n",
       "|------|-----|-----|-----|-----|-----|-----|-----|-----|-----|-----|\n",
       "| <center>0 </center> | <center>  </center> | <center>  </center> | <center>  </center> | <center>  </center> | <center>  </center> | <center>  </center> | <center>  </center> | <center>  </center> | <center>  </center> | <center>  </center> |\n",
       "| <center>1 </center> | <center>  </center> | <center>  </center> | <center>  </center> | <center>  </center> | <center>  </center> | <center>  </center> | <center>  </center> | <center>  </center> | <center>  </center> | <center>  </center> |\n",
       "| <center>2 </center> | <center>  </center> | <center>  </center> | <center>  </center> | <center>  </center> | <center>  </center> | <center>  </center> | <center>  </center> | <center>  </center> | <center>  </center> | <center>  </center> |\n",
       "| <center>3 </center> | <center>  </center> | <center>  </center> | <center>  </center> | <center>  </center> | <center>  </center> | <center>  </center> | <center>  </center> | <center>  </center> | <center>  </center> | <center>  </center> |\n",
       "| <center>4 </center> | <center>  </center> | <center>  </center> | <center>  </center> | <center>  </center> | <center>  </center> | <center>  </center> | <center>  </center> | <center>  </center> | <center>  </center> | <center>  </center> |\n",
       "| <center>5 </center> | <center>  </center> | <center>  </center> | <center>  </center> | <center>  </center> | <center>  </center> | <center>  </center> | <center>  </center> | <center>  </center> | <center>  </center> | <center>  </center> |\n",
       "| <center>6 </center> | <center>  </center> | <center>  </center> | <center>  </center> | <center>  </center> | <center>  </center> | <center>  </center> | <center>  </center> | <center>  </center> | <center>  </center> | <center>  </center> |\n",
       "| <center>7 </center> | <center>  </center> | <center>  </center> | <center>  </center> | <center>  </center> | <center>  </center> | <center>  </center> | <center>  </center> | <center>  </center> | <center>  </center> | <center>  </center> |\n",
       "| <center>8 </center> | <center>  </center> | <center>  </center> | <center>  </center> | <center>  </center> | <center>  </center> | <center>  </center> | <center>  </center> | <center>  </center> | <center>  </center> | <center>  </center> |\n",
       "| <center>9 </center> | <center>  </center> | <center>  </center> | <center>  </center> | <center>  </center> | <center>  </center> | <center>  </center> | <center>  </center> | <center>  </center> | <center>  </center> | <center>  </center> |\n"
      ],
      "text/plain": [
       "<IPython.core.display.Markdown object>"
      ]
     },
     "execution_count": 73,
     "metadata": {},
     "output_type": "execute_result"
    }
   ],
   "source": [
    "\n",
    "juego.tablero.mostrar()"
   ]
  },
  {
   "cell_type": "code",
   "execution_count": 76,
   "metadata": {},
   "outputs": [
    {
     "ename": "AttributeError",
     "evalue": "'Tablero' object has no attribute 'shape'",
     "output_type": "error",
     "traceback": [
      "\u001b[1;31m---------------------------------------------------------------------------\u001b[0m",
      "\u001b[1;31mAttributeError\u001b[0m                            Traceback (most recent call last)",
      "\u001b[1;32mc:\\Users\\0205301\\OneDrive - SENER\\Documentos\\GitHub\\DS_PT_09_2023\\Data_Analysis\\1-Numpy\\Practica\\Desafio\\Desafio RES.ipynb Cell 20\u001b[0m line \u001b[0;36m1\n\u001b[1;32m----> <a href='vscode-notebook-cell:/c%3A/Users/0205301/OneDrive%20-%20SENER/Documentos/GitHub/DS_PT_09_2023/Data_Analysis/1-Numpy/Practica/Desafio/Desafio%20RES.ipynb#X25sZmlsZQ%3D%3D?line=0'>1</a>\u001b[0m juego\u001b[39m.\u001b[39;49mcolocar_barcos()\n",
      "\u001b[1;32mc:\\Users\\0205301\\OneDrive - SENER\\Documentos\\GitHub\\DS_PT_09_2023\\Data_Analysis\\1-Numpy\\Practica\\Desafio\\Desafio RES.ipynb Cell 20\u001b[0m line \u001b[0;36m9\n\u001b[0;32m      <a href='vscode-notebook-cell:/c%3A/Users/0205301/OneDrive%20-%20SENER/Documentos/GitHub/DS_PT_09_2023/Data_Analysis/1-Numpy/Practica/Desafio/Desafio%20RES.ipynb#X25sZmlsZQ%3D%3D?line=5'>6</a>\u001b[0m     \u001b[39mdef\u001b[39;00m \u001b[39mcolocar_barcos\u001b[39m(\u001b[39mself\u001b[39m):\n\u001b[0;32m      <a href='vscode-notebook-cell:/c%3A/Users/0205301/OneDrive%20-%20SENER/Documentos/GitHub/DS_PT_09_2023/Data_Analysis/1-Numpy/Practica/Desafio/Desafio%20RES.ipynb#X25sZmlsZQ%3D%3D?line=6'>7</a>\u001b[0m \u001b[39m#Colocar 5 barcos de diferentes tamaños en posiciones aleatorias en el tablero.matriz.\u001b[39;00m\n\u001b[0;32m      <a href='vscode-notebook-cell:/c%3A/Users/0205301/OneDrive%20-%20SENER/Documentos/GitHub/DS_PT_09_2023/Data_Analysis/1-Numpy/Practica/Desafio/Desafio%20RES.ipynb#X25sZmlsZQ%3D%3D?line=7'>8</a>\u001b[0m         \u001b[39mfor\u001b[39;00m barco \u001b[39min\u001b[39;00m \u001b[39mself\u001b[39m\u001b[39m.\u001b[39mbarcos:\n\u001b[1;32m----> <a href='vscode-notebook-cell:/c%3A/Users/0205301/OneDrive%20-%20SENER/Documentos/GitHub/DS_PT_09_2023/Data_Analysis/1-Numpy/Practica/Desafio/Desafio%20RES.ipynb#X25sZmlsZQ%3D%3D?line=8'>9</a>\u001b[0m             barco\u001b[39m.\u001b[39;49mcolocar_en_tablero(\u001b[39mself\u001b[39;49m\u001b[39m.\u001b[39;49mtablero)\n",
      "\u001b[1;32mc:\\Users\\0205301\\OneDrive - SENER\\Documentos\\GitHub\\DS_PT_09_2023\\Data_Analysis\\1-Numpy\\Practica\\Desafio\\Desafio RES.ipynb Cell 20\u001b[0m line \u001b[0;36m1\n\u001b[0;32m     <a href='vscode-notebook-cell:/c%3A/Users/0205301/OneDrive%20-%20SENER/Documentos/GitHub/DS_PT_09_2023/Data_Analysis/1-Numpy/Practica/Desafio/Desafio%20RES.ipynb#X25sZmlsZQ%3D%3D?line=11'>12</a>\u001b[0m \u001b[39mdef\u001b[39;00m \u001b[39mcolocar_en_tablero\u001b[39m(\u001b[39mself\u001b[39m, tablero):\n\u001b[0;32m     <a href='vscode-notebook-cell:/c%3A/Users/0205301/OneDrive%20-%20SENER/Documentos/GitHub/DS_PT_09_2023/Data_Analysis/1-Numpy/Practica/Desafio/Desafio%20RES.ipynb#X25sZmlsZQ%3D%3D?line=12'>13</a>\u001b[0m     ORIENTACIONES \u001b[39m=\u001b[39m [\u001b[39m\"\u001b[39m\u001b[39mN\u001b[39m\u001b[39m\"\u001b[39m, \u001b[39m\"\u001b[39m\u001b[39mS\u001b[39m\u001b[39m\"\u001b[39m, \u001b[39m\"\u001b[39m\u001b[39mE\u001b[39m\u001b[39m\"\u001b[39m, \u001b[39m\"\u001b[39m\u001b[39mO\u001b[39m\u001b[39m\"\u001b[39m]\n\u001b[1;32m---> <a href='vscode-notebook-cell:/c%3A/Users/0205301/OneDrive%20-%20SENER/Documentos/GitHub/DS_PT_09_2023/Data_Analysis/1-Numpy/Practica/Desafio/Desafio%20RES.ipynb#X25sZmlsZQ%3D%3D?line=13'>14</a>\u001b[0m     n, m \u001b[39m=\u001b[39m tablero\u001b[39m.\u001b[39;49mshape\n\u001b[0;32m     <a href='vscode-notebook-cell:/c%3A/Users/0205301/OneDrive%20-%20SENER/Documentos/GitHub/DS_PT_09_2023/Data_Analysis/1-Numpy/Practica/Desafio/Desafio%20RES.ipynb#X25sZmlsZQ%3D%3D?line=15'>16</a>\u001b[0m     \u001b[39mwhile\u001b[39;00m \u001b[39mTrue\u001b[39;00m:\n\u001b[0;32m     <a href='vscode-notebook-cell:/c%3A/Users/0205301/OneDrive%20-%20SENER/Documentos/GitHub/DS_PT_09_2023/Data_Analysis/1-Numpy/Practica/Desafio/Desafio%20RES.ipynb#X25sZmlsZQ%3D%3D?line=16'>17</a>\u001b[0m         \u001b[39m# Generar posición inicial aleatoria\u001b[39;00m\n\u001b[0;32m     <a href='vscode-notebook-cell:/c%3A/Users/0205301/OneDrive%20-%20SENER/Documentos/GitHub/DS_PT_09_2023/Data_Analysis/1-Numpy/Practica/Desafio/Desafio%20RES.ipynb#X25sZmlsZQ%3D%3D?line=17'>18</a>\u001b[0m         \u001b[39mself\u001b[39m\u001b[39m.\u001b[39mfila \u001b[39m=\u001b[39m np\u001b[39m.\u001b[39mrandom\u001b[39m.\u001b[39mrandint(\u001b[39m0\u001b[39m, n)\n",
      "\u001b[1;31mAttributeError\u001b[0m: 'Tablero' object has no attribute 'shape'"
     ]
    }
   ],
   "source": [
    "juego.colocar_barcos()\n"
   ]
  },
  {
   "cell_type": "code",
   "execution_count": null,
   "metadata": {},
   "outputs": [],
   "source": [
    "\n"
   ]
  },
  {
   "cell_type": "code",
   "execution_count": null,
   "metadata": {},
   "outputs": [],
   "source": [
    "#Mostrar un mensaje si el jugador acierta o falla, y actualizar el tablero acorde.\n"
   ]
  },
  {
   "cell_type": "code",
   "execution_count": null,
   "metadata": {},
   "outputs": [],
   "source": [
    "#Seguir jugando hasta que todos los barcos sean hundidos."
   ]
  },
  {
   "cell_type": "code",
   "execution_count": null,
   "metadata": {},
   "outputs": [],
   "source": []
  },
  {
   "cell_type": "code",
   "execution_count": null,
   "metadata": {},
   "outputs": [],
   "source": []
  }
 ],
 "metadata": {
  "kernelspec": {
   "display_name": "este",
   "language": "python",
   "name": "python3"
  },
  "language_info": {
   "codemirror_mode": {
    "name": "ipython",
    "version": 3
   },
   "file_extension": ".py",
   "mimetype": "text/x-python",
   "name": "python",
   "nbconvert_exporter": "python",
   "pygments_lexer": "ipython3",
   "version": "3.11.5"
  }
 },
 "nbformat": 4,
 "nbformat_minor": 2
}
