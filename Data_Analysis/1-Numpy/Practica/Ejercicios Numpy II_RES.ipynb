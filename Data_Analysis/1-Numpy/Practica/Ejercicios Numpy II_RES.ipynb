{
 "cells": [
  {
   "cell_type": "markdown",
   "metadata": {},
   "source": [
    "![imagen](./img/ejercicios.png)"
   ]
  },
  {
   "cell_type": "markdown",
   "metadata": {},
   "source": [
    "## Ejercicio 1\n",
    "1. Crea un array que vaya del 0 al 9 y que se llame `my_array`\n",
    "2. Imprime por pantalla los elementos [9 7 5 3 1] en ese orden."
   ]
  },
  {
   "cell_type": "code",
   "execution_count": 1,
   "metadata": {},
   "outputs": [],
   "source": [
    "import numpy as np"
   ]
  },
  {
   "cell_type": "code",
   "execution_count": 2,
   "metadata": {},
   "outputs": [
    {
     "name": "stdout",
     "output_type": "stream",
     "text": [
      "[0 1 2 3 4 5 6 7 8 9]\n"
     ]
    }
   ],
   "source": [
    "my_array=np.arange(10)\n",
    "print(my_array)"
   ]
  },
  {
   "cell_type": "code",
   "execution_count": 3,
   "metadata": {},
   "outputs": [
    {
     "name": "stdout",
     "output_type": "stream",
     "text": [
      "[9, 7, 5, 3, 1]\n"
     ]
    }
   ],
   "source": [
    "print(sorted(my_array[np.where(my_array%2==1)],reverse=True))"
   ]
  },
  {
   "cell_type": "markdown",
   "metadata": {},
   "source": [
    "## Ejercicio 2\n",
    "Imprime por pantalla la secuencia [8 7] del array `my_array`"
   ]
  },
  {
   "cell_type": "code",
   "execution_count": 4,
   "metadata": {},
   "outputs": [
    {
     "data": {
      "text/plain": [
       "[8, 7]"
      ]
     },
     "execution_count": 4,
     "metadata": {},
     "output_type": "execute_result"
    }
   ],
   "source": [
    "sorted(my_array,reverse=True)[1:3]"
   ]
  },
  {
   "cell_type": "markdown",
   "metadata": {},
   "source": [
    "## Ejercicio 3\n",
    "Imprime por pantalla la secuencia [2 1 0] de `my_array`"
   ]
  },
  {
   "cell_type": "code",
   "execution_count": 5,
   "metadata": {},
   "outputs": [
    {
     "data": {
      "text/plain": [
       "[2, 1, 0]"
      ]
     },
     "execution_count": 5,
     "metadata": {},
     "output_type": "execute_result"
    }
   ],
   "source": [
    "sorted(my_array,reverse=True)[-3:]"
   ]
  },
  {
   "cell_type": "markdown",
   "metadata": {},
   "source": [
    "## Ejercicio 4\n",
    "1. Crea una matriz de 4x5, con una secuencia del 1 al 20\n",
    "2. Invierte totalmente la matriz. Tanto las filas, como las columnas"
   ]
  },
  {
   "cell_type": "code",
   "execution_count": 6,
   "metadata": {},
   "outputs": [
    {
     "data": {
      "text/plain": [
       "array([[ 1,  2,  3,  4,  5],\n",
       "       [ 6,  7,  8,  9, 10],\n",
       "       [11, 12, 13, 14, 15],\n",
       "       [16, 17, 18, 19, 20]])"
      ]
     },
     "execution_count": 6,
     "metadata": {},
     "output_type": "execute_result"
    }
   ],
   "source": [
    "np.arange(1,21).reshape(4,5)"
   ]
  },
  {
   "cell_type": "code",
   "execution_count": 7,
   "metadata": {},
   "outputs": [
    {
     "data": {
      "text/plain": [
       "array([[20, 19, 18, 17, 16],\n",
       "       [15, 14, 13, 12, 11],\n",
       "       [10,  9,  8,  7,  6],\n",
       "       [ 5,  4,  3,  2,  1]])"
      ]
     },
     "execution_count": 7,
     "metadata": {},
     "output_type": "execute_result"
    }
   ],
   "source": [
    "np.arange(1,21).reshape(4,5).reshape(20)[::-1].reshape(4,5)"
   ]
  },
  {
   "cell_type": "markdown",
   "metadata": {},
   "source": [
    "## Ejercicio 5\n",
    "\n",
    "Obtén el siguiente array, partiendo de la matriz del ejercicio 4\n",
    "```Python\n",
    "array([[1, 2],\n",
    "       [6, 7]])\n",
    "```"
   ]
  },
  {
   "cell_type": "code",
   "execution_count": 8,
   "metadata": {},
   "outputs": [
    {
     "data": {
      "text/plain": [
       "array([[1, 2],\n",
       "       [6, 7]])"
      ]
     },
     "execution_count": 8,
     "metadata": {},
     "output_type": "execute_result"
    }
   ],
   "source": [
    "np.arange(1,21).reshape(4,5)[0:2,0:2]"
   ]
  },
  {
   "cell_type": "code",
   "execution_count": null,
   "metadata": {},
   "outputs": [],
   "source": []
  },
  {
   "cell_type": "markdown",
   "metadata": {},
   "source": [
    "## Ejercicio 6\n",
    "Obtén el siguiente array, partiendo de la matriz del ejercicio 4\n",
    "```Python\n",
    "array([[ 1,  3,  5],\n",
    "       [11, 13, 15]])\n",
    "```"
   ]
  },
  {
   "cell_type": "code",
   "execution_count": 9,
   "metadata": {},
   "outputs": [
    {
     "data": {
      "text/plain": [
       "array([[ 1,  3,  5],\n",
       "       [11, 13, 15]])"
      ]
     },
     "execution_count": 9,
     "metadata": {},
     "output_type": "execute_result"
    }
   ],
   "source": [
    "np.arange(1,21).reshape(4,5)[[0,2]][:,[0,2,4]]"
   ]
  },
  {
   "cell_type": "code",
   "execution_count": 10,
   "metadata": {},
   "outputs": [
    {
     "data": {
      "text/plain": [
       "array([[ 1,  3,  5],\n",
       "       [11, 13, 15]])"
      ]
     },
     "execution_count": 10,
     "metadata": {},
     "output_type": "execute_result"
    }
   ],
   "source": [
    "np.arange(1,21).reshape(4,5)[np.ix_([0,2],[0,2,4],)]"
   ]
  },
  {
   "cell_type": "markdown",
   "metadata": {},
   "source": [
    "## Ejercicio 7\n",
    "Obtén el siguiente array, partiendo de la matriz del ejercicio 4\n",
    "```Python\n",
    "array([[ 5,  4,  3,  2,  1],\n",
    "       [10,  9,  8,  7,  6],\n",
    "       [15, 14, 13, 12, 11]])\n",
    "```"
   ]
  },
  {
   "cell_type": "code",
   "execution_count": 11,
   "metadata": {},
   "outputs": [
    {
     "name": "stdout",
     "output_type": "stream",
     "text": [
      "[[ 1  2  3  4  5]\n",
      " [ 6  7  8  9 10]\n",
      " [11 12 13 14 15]\n",
      " [16 17 18 19 20]]\n"
     ]
    }
   ],
   "source": [
    "arr4=np.arange(1,21).reshape(4,5)\n",
    "print(arr4)"
   ]
  },
  {
   "cell_type": "code",
   "execution_count": 12,
   "metadata": {},
   "outputs": [
    {
     "data": {
      "text/plain": [
       "array([[ 5,  4,  3,  2,  1],\n",
       "       [10,  9,  8,  7,  6],\n",
       "       [15, 14, 13, 12, 11]])"
      ]
     },
     "execution_count": 12,
     "metadata": {},
     "output_type": "execute_result"
    }
   ],
   "source": [
    "np.flip(arr4,axis=1)[0:3]\n"
   ]
  },
  {
   "cell_type": "code",
   "execution_count": 13,
   "metadata": {},
   "outputs": [
    {
     "data": {
      "text/plain": [
       "array([[ 5,  4,  3,  2,  1],\n",
       "       [10,  9,  8,  7,  6],\n",
       "       [15, 14, 13, 12, 11]])"
      ]
     },
     "execution_count": 13,
     "metadata": {},
     "output_type": "execute_result"
    }
   ],
   "source": [
    "arr4[:,::-1][0:3]"
   ]
  },
  {
   "cell_type": "markdown",
   "metadata": {},
   "source": [
    "## Ejercicio 8\n",
    "Dado el siguiente array:\n",
    "\n",
    "```Python\n",
    "x = np.array([\"Loro\", \"Perro\", \"Gato\", \"Loro\", \"Perro\"])\n",
    "```\n",
    "\n",
    "Filtra el array para quedarte únicamente con los loros.\n",
    "\n",
    "Resuélvelo de dos maneras diferentes"
   ]
  },
  {
   "cell_type": "code",
   "execution_count": 14,
   "metadata": {},
   "outputs": [],
   "source": [
    "x = np.array([\"Loro\", \"Perro\", \"Gato\", \"Loro\", \"Perro\"])"
   ]
  },
  {
   "cell_type": "code",
   "execution_count": 15,
   "metadata": {},
   "outputs": [
    {
     "name": "stdout",
     "output_type": "stream",
     "text": [
      "[ True False False  True False]\n"
     ]
    }
   ],
   "source": [
    "print(x=='Loro')"
   ]
  },
  {
   "cell_type": "code",
   "execution_count": 16,
   "metadata": {},
   "outputs": [
    {
     "name": "stdout",
     "output_type": "stream",
     "text": [
      "['Loro' 'Loro']\n"
     ]
    }
   ],
   "source": [
    "print(x[np.where(x=='Loro')])"
   ]
  },
  {
   "cell_type": "markdown",
   "metadata": {},
   "source": [
    "## Ejercicio 9\n",
    "Crea una secuencia de 20 elementos y transformala en un array compuesto por 2 matrices de 5x2"
   ]
  },
  {
   "cell_type": "code",
   "execution_count": 17,
   "metadata": {},
   "outputs": [
    {
     "data": {
      "text/plain": [
       "array([[[ 0,  1],\n",
       "        [ 2,  3]],\n",
       "\n",
       "       [[ 4,  5],\n",
       "        [ 6,  7]],\n",
       "\n",
       "       [[ 8,  9],\n",
       "        [10, 11]],\n",
       "\n",
       "       [[12, 13],\n",
       "        [14, 15]],\n",
       "\n",
       "       [[16, 17],\n",
       "        [18, 19]]])"
      ]
     },
     "execution_count": 17,
     "metadata": {},
     "output_type": "execute_result"
    }
   ],
   "source": [
    "np.arange(20).reshape(5,2,2)"
   ]
  },
  {
   "cell_type": "markdown",
   "metadata": {},
   "source": [
    "## Ejercicio 10\n",
    "Obtén el siguiente array, partiendo de la matriz del ejercicio 4\n",
    "```Python\n",
    "array([[20, 19, 18, 17, 16],\n",
    "       [15, 14, 13, 12, 11],\n",
    "       [10,  9,  8,  7,  6],\n",
    "       [ 5,  4,  3,  2,  1]])\n",
    "```"
   ]
  },
  {
   "cell_type": "code",
   "execution_count": 18,
   "metadata": {},
   "outputs": [
    {
     "name": "stdout",
     "output_type": "stream",
     "text": [
      "[[ 1  2  3  4  5]\n",
      " [ 6  7  8  9 10]\n",
      " [11 12 13 14 15]\n",
      " [16 17 18 19 20]]\n"
     ]
    }
   ],
   "source": [
    "print(np.arange(1,21).reshape(4,5))"
   ]
  },
  {
   "cell_type": "code",
   "execution_count": 19,
   "metadata": {},
   "outputs": [
    {
     "name": "stdout",
     "output_type": "stream",
     "text": [
      "[[ 1  2  3  4  5]\n",
      " [ 6  7  8  9 10]\n",
      " [11 12 13 14 15]\n",
      " [16 17 18 19 20]]\n"
     ]
    }
   ],
   "source": [
    "print(np.arange(1,21).reshape(4,5))"
   ]
  },
  {
   "cell_type": "markdown",
   "metadata": {},
   "source": [
    "## Ejercicio 11\n",
    "Crea un array de 10 0s. ¿Cuánto ocupa en memoria?\n",
    "\n",
    "Sustituye el 4to elemento por 1, e imprime el array por pantalla"
   ]
  },
  {
   "cell_type": "code",
   "execution_count": 20,
   "metadata": {},
   "outputs": [],
   "source": [
    "arr11=np.zeros(10)"
   ]
  },
  {
   "cell_type": "code",
   "execution_count": 21,
   "metadata": {},
   "outputs": [
    {
     "data": {
      "text/plain": [
       "8"
      ]
     },
     "execution_count": 21,
     "metadata": {},
     "output_type": "execute_result"
    }
   ],
   "source": [
    "arr11.itemsize"
   ]
  },
  {
   "cell_type": "code",
   "execution_count": 22,
   "metadata": {},
   "outputs": [
    {
     "name": "stdout",
     "output_type": "stream",
     "text": [
      "[0. 0. 0. 1. 0. 0. 0. 0. 0. 0.]\n"
     ]
    }
   ],
   "source": [
    "arr11[3]=1\n",
    "print(arr11)"
   ]
  },
  {
   "cell_type": "code",
   "execution_count": null,
   "metadata": {},
   "outputs": [],
   "source": []
  },
  {
   "cell_type": "markdown",
   "metadata": {},
   "source": [
    "## Ejercicio 12\n",
    "Crea un vector que vaya del 10 al 49\n",
    "\n",
    "Inviértelo"
   ]
  },
  {
   "cell_type": "code",
   "execution_count": 23,
   "metadata": {},
   "outputs": [
    {
     "name": "stdout",
     "output_type": "stream",
     "text": [
      "[10 11 12 13 14 15 16 17 18 19 20 21 22 23 24 25 26 27 28 29 30 31 32 33\n",
      " 34 35 36 37 38 39 40 41 42 43 44 45 46 47 48 49]\n"
     ]
    }
   ],
   "source": [
    "arr12=np.arange(10,50)\n",
    "print(arr12)"
   ]
  },
  {
   "cell_type": "code",
   "execution_count": 24,
   "metadata": {},
   "outputs": [
    {
     "name": "stdout",
     "output_type": "stream",
     "text": [
      "[49 48 47 46 45 44 43 42 41 40 39 38 37 36 35 34 33 32 31 30 29 28 27 26\n",
      " 25 24 23 22 21 20 19 18 17 16 15 14 13 12 11 10]\n"
     ]
    }
   ],
   "source": [
    "print(arr12[::-1])"
   ]
  },
  {
   "cell_type": "code",
   "execution_count": 25,
   "metadata": {},
   "outputs": [
    {
     "name": "stdout",
     "output_type": "stream",
     "text": [
      "[49 48 47 46 45 44 43 42 41 40 39 38 37 36 35 34 33 32 31 30 29 28 27 26\n",
      " 25 24 23 22 21 20 19 18 17 16 15 14 13 12 11 10]\n"
     ]
    }
   ],
   "source": [
    "print(np.array(list(reversed(arr12))))"
   ]
  },
  {
   "cell_type": "code",
   "execution_count": 26,
   "metadata": {},
   "outputs": [
    {
     "name": "stdout",
     "output_type": "stream",
     "text": [
      "[49, 48, 47, 46, 45, 44, 43, 42, 41, 40, 39, 38, 37, 36, 35, 34, 33, 32, 31, 30, 29, 28, 27, 26, 25, 24, 23, 22, 21, 20, 19, 18, 17, 16, 15, 14, 13, 12, 11, 10]\n"
     ]
    }
   ],
   "source": [
    "print(sorted(arr12,reverse=True))"
   ]
  },
  {
   "cell_type": "markdown",
   "metadata": {},
   "source": [
    "## Ejericio 13\n",
    "Encuentra los indices de los valores que no sean 0 del siguiente vector [1,2,0,0,4,0]. El output sería [0, 1, 4]. [Encuentra el método apropiado en la documentación.](https://numpy.org/doc/)"
   ]
  },
  {
   "cell_type": "code",
   "execution_count": 27,
   "metadata": {},
   "outputs": [],
   "source": [
    "arr13=np.array( [1,2,0,0,4,0])"
   ]
  },
  {
   "cell_type": "code",
   "execution_count": 28,
   "metadata": {},
   "outputs": [
    {
     "data": {
      "text/plain": [
       "[0, 1, 4]"
      ]
     },
     "execution_count": 28,
     "metadata": {},
     "output_type": "execute_result"
    }
   ],
   "source": [
    "list(np.where(arr13!=0)[0])"
   ]
  },
  {
   "cell_type": "code",
   "execution_count": 29,
   "metadata": {},
   "outputs": [
    {
     "data": {
      "text/plain": [
       "[0, 1, 4]"
      ]
     },
     "execution_count": 29,
     "metadata": {},
     "output_type": "execute_result"
    }
   ],
   "source": [
    "list(np.nonzero(arr13)[0])"
   ]
  },
  {
   "cell_type": "markdown",
   "metadata": {},
   "source": [
    "## Ejercicio 14\n",
    "Crea una matriz de numeros aleatorios 10x10. Encuentra los valores mínimo y máximo."
   ]
  },
  {
   "cell_type": "code",
   "execution_count": 30,
   "metadata": {},
   "outputs": [],
   "source": [
    "arr14=np.random.rand(10,10)\n"
   ]
  },
  {
   "cell_type": "code",
   "execution_count": 31,
   "metadata": {},
   "outputs": [
    {
     "data": {
      "text/plain": [
       "0.9946554072676783"
      ]
     },
     "execution_count": 31,
     "metadata": {},
     "output_type": "execute_result"
    }
   ],
   "source": [
    "np.max(arr14)\n"
   ]
  },
  {
   "cell_type": "code",
   "execution_count": 32,
   "metadata": {},
   "outputs": [
    {
     "data": {
      "text/plain": [
       "0.011923655780396003"
      ]
     },
     "execution_count": 32,
     "metadata": {},
     "output_type": "execute_result"
    }
   ],
   "source": [
    "np.min(arr14)"
   ]
  },
  {
   "cell_type": "markdown",
   "metadata": {},
   "source": [
    "## Ejercicio 15\n",
    "Crea un vector aleatorio de tamaño 30 y calcula su media"
   ]
  },
  {
   "cell_type": "code",
   "execution_count": 33,
   "metadata": {},
   "outputs": [],
   "source": [
    "arr15=np.random.rand(30)"
   ]
  },
  {
   "cell_type": "code",
   "execution_count": 34,
   "metadata": {},
   "outputs": [
    {
     "data": {
      "text/plain": [
       "0.5564410037552957"
      ]
     },
     "execution_count": 34,
     "metadata": {},
     "output_type": "execute_result"
    }
   ],
   "source": [
    "arr15.mean()"
   ]
  },
  {
   "cell_type": "markdown",
   "metadata": {},
   "source": [
    "## Ejercicio 16\n",
    "Crea un array cuadrado de 2D, con las dimensiones que quiras, pero que todo el borde esté compuesto por 1s, y el interior por 0s"
   ]
  },
  {
   "cell_type": "code",
   "execution_count": 35,
   "metadata": {},
   "outputs": [],
   "source": [
    "n=5\n",
    "arr16=np.zeros((n,n))"
   ]
  },
  {
   "cell_type": "code",
   "execution_count": 36,
   "metadata": {},
   "outputs": [],
   "source": [
    "arr16=np.zeros((n,n))\n",
    "arr16[0,:]=1\n",
    "arr16[-1,:]=1\n",
    "arr16[:,0]=1\n",
    "arr16[:,-1]=1"
   ]
  },
  {
   "cell_type": "markdown",
   "metadata": {},
   "source": [
    "## Ejercicio 17\n",
    "Crea una mtriz de 8x8, y rellénala con 0s y 1s. Tienes que replicar:\n",
    "```Python\n",
    "[[0 1 0 1 0 1 0 1]\n",
    " [1 0 1 0 1 0 1 0]\n",
    " [0 1 0 1 0 1 0 1]\n",
    " [1 0 1 0 1 0 1 0]\n",
    " [0 1 0 1 0 1 0 1]\n",
    " [1 0 1 0 1 0 1 0]\n",
    " [0 1 0 1 0 1 0 1]\n",
    " [1 0 1 0 1 0 1 0]]\n",
    "```"
   ]
  },
  {
   "cell_type": "code",
   "execution_count": 37,
   "metadata": {},
   "outputs": [],
   "source": [
    "arr17=np.zeros((8,8),dtype=int)\n",
    "\n",
    "for i in range(8):\n",
    "    for j in range(8):\n",
    "        arr17[i][j]=(i+j)%2!=0"
   ]
  },
  {
   "cell_type": "code",
   "execution_count": 38,
   "metadata": {},
   "outputs": [
    {
     "name": "stdout",
     "output_type": "stream",
     "text": [
      "[[0 1 0 1 0 1 0 1]\n",
      " [1 0 1 0 1 0 1 0]\n",
      " [0 1 0 1 0 1 0 1]\n",
      " [1 0 1 0 1 0 1 0]\n",
      " [0 1 0 1 0 1 0 1]\n",
      " [1 0 1 0 1 0 1 0]\n",
      " [0 1 0 1 0 1 0 1]\n",
      " [1 0 1 0 1 0 1 0]]\n"
     ]
    }
   ],
   "source": [
    "print(arr17)"
   ]
  },
  {
   "cell_type": "code",
   "execution_count": 39,
   "metadata": {},
   "outputs": [],
   "source": [
    "arr17 = ((np.arange(8) + np.arange(8)[:, np.newaxis]) % 2 != 0).astype(int)"
   ]
  },
  {
   "cell_type": "code",
   "execution_count": 40,
   "metadata": {},
   "outputs": [
    {
     "name": "stdout",
     "output_type": "stream",
     "text": [
      "[[0 1 0 1 0 1 0 1]\n",
      " [1 0 1 0 1 0 1 0]\n",
      " [0 1 0 1 0 1 0 1]\n",
      " [1 0 1 0 1 0 1 0]\n",
      " [0 1 0 1 0 1 0 1]\n",
      " [1 0 1 0 1 0 1 0]\n",
      " [0 1 0 1 0 1 0 1]\n",
      " [1 0 1 0 1 0 1 0]]\n"
     ]
    }
   ],
   "source": [
    "print(arr17)"
   ]
  },
  {
   "cell_type": "markdown",
   "metadata": {},
   "source": [
    "## Ejercicio 18\n",
    "Replica la matriz del apartado anterior, pero en este caso usando [la función `tile`](https://numpy.org/doc/stable/reference/generated/numpy.tile.html)"
   ]
  },
  {
   "cell_type": "code",
   "execution_count": 41,
   "metadata": {},
   "outputs": [
    {
     "name": "stdout",
     "output_type": "stream",
     "text": [
      "[[0 1 0 1 0 1 0 1]\n",
      " [1 0 1 0 1 0 1 0]\n",
      " [0 1 0 1 0 1 0 1]\n",
      " [1 0 1 0 1 0 1 0]\n",
      " [0 1 0 1 0 1 0 1]\n",
      " [1 0 1 0 1 0 1 0]\n",
      " [0 1 0 1 0 1 0 1]\n",
      " [1 0 1 0 1 0 1 0]]\n"
     ]
    }
   ],
   "source": [
    "arr_tile=np.array([[0, 1],[1,0]])\n",
    "arr18=np.tile(arr_tile,(4,4))\n",
    "print(arr18)"
   ]
  },
  {
   "cell_type": "markdown",
   "metadata": {},
   "source": [
    "## Ejercicio 19\n",
    "Crea una matriz aleatoria de 5x5 y normaliza sus valores. Para normalizar tienes que restar sus valores por la media(`np.mean`) y dividir el resultado por la desviación estándar(`np.std`)."
   ]
  },
  {
   "cell_type": "code",
   "execution_count": 42,
   "metadata": {},
   "outputs": [
    {
     "name": "stdout",
     "output_type": "stream",
     "text": [
      "[[ 6  4 11  0  8]\n",
      " [12 13  5 10 22]\n",
      " [18  4  0 23  9]\n",
      " [22  2  7  0 10]\n",
      " [14 22 15 20 16]] \n",
      "\n",
      " [[-0.67559986 -0.95023394  0.01098536 -1.49950212 -0.40096577]\n",
      " [ 0.14830241  0.28561945 -0.8129169  -0.12633168  1.52147285]\n",
      " [ 0.97220467 -0.95023394 -1.49950212  1.65878989 -0.26364872]\n",
      " [ 1.52147285 -1.22486803 -0.53828281 -1.49950212 -0.12633168]\n",
      " [ 0.4229365   1.52147285  0.56025354  1.24683876  0.69757058]]\n"
     ]
    }
   ],
   "source": [
    "arr19=np.random.randint(25,size=(5,5))\n",
    "arr19_norm=(arr19-np.mean(arr19))/np.std(arr19)\n",
    "print(arr19,'\\n\\n',arr19_norm)"
   ]
  },
  {
   "cell_type": "code",
   "execution_count": 43,
   "metadata": {},
   "outputs": [
    {
     "data": {
      "text/plain": [
       "-1.1102230246251565e-16"
      ]
     },
     "execution_count": 43,
     "metadata": {},
     "output_type": "execute_result"
    }
   ],
   "source": [
    "sum(arr19_norm.flatten())"
   ]
  },
  {
   "cell_type": "code",
   "execution_count": null,
   "metadata": {},
   "outputs": [],
   "source": []
  },
  {
   "cell_type": "markdown",
   "metadata": {},
   "source": [
    "## Ejercicio 20\n",
    "1. Crea una secuencia de números que vayan del 0 al 10.\n",
    "2. Crea un nuevo array, que parta del anterior, pero sustituya por el valor -1, todos los elementos cuyo valor se encuentre entre el 3 y el 8.\n",
    "3. Crea un nuevo array que niegue todos los elementos entre el 3 y el 8"
   ]
  },
  {
   "cell_type": "code",
   "execution_count": 44,
   "metadata": {},
   "outputs": [
    {
     "name": "stdout",
     "output_type": "stream",
     "text": [
      "[ 0  1  2  3  4  5  6  7  8  9 10]\n"
     ]
    }
   ],
   "source": [
    "arr20=np.arange(0,11)\n",
    "print(arr20)\n"
   ]
  },
  {
   "cell_type": "code",
   "execution_count": 45,
   "metadata": {},
   "outputs": [
    {
     "name": "stdout",
     "output_type": "stream",
     "text": [
      "[ 0  1  2 -1 -1 -1 -1 -1 -1  9 10]\n"
     ]
    }
   ],
   "source": [
    "arr20[3:9]=-1\n",
    "print(arr20)"
   ]
  },
  {
   "cell_type": "code",
   "execution_count": 46,
   "metadata": {},
   "outputs": [
    {
     "name": "stdout",
     "output_type": "stream",
     "text": [
      "[ 0  1  2  0  0  0  0  0  0  9 10]\n"
     ]
    }
   ],
   "source": [
    "arr20[3:9]=not arr20[3:9].all\n",
    "print(arr20)"
   ]
  },
  {
   "cell_type": "markdown",
   "metadata": {},
   "source": [
    "## Ejercicio 21\n",
    "#### Bonus track. Mini hundir la flota\n",
    "1. Crea un tablero de 10x10 relleno del carácter espacio ( ).\n",
    "2. Posiciona un par de barcos en [(0,1), (1,1)] y [(1,3), (1,4), (1,5), (1,6)]. Los barcos serán Os mayúsculas. Como ves, un barco de dos posiciones de eslora y otro de cuatro.\n",
    "3. Recibe un disparo en uno de los barcos, sustituyendo la O por una X\n",
    "4. Recibe un disparo en agua, sustituyendo uno de los espacios por un guión: -\n",
    "5. Ignorando los disparos recibidos, ahora prueba a posicionar otro barco de 4 posiciones dentro del tablero, pero **de manera ALEATORIA.**\n",
    "\n",
    "**TIP apartado 5**: El barco tendrá una posición inicial aleatoria dentro del tablero, y una orientación también aleatoria (N,S,E,O).\n",
    "\n",
    "Por ejemplo, si tu posicion inicial fuese (5,0) y la orientación O, no podrias ponerlo porque se sale del tablero. Ahora bien, si fuese orientación este, si podrías, y ocuparía las posiciones [(5,0), (5,1), (5,2), (5,3)]. Por tanto tendrás que iterar con un bucle si es posible encajar el barco en el tablero, y el bucle terminará cuando lo consigas encajar. **Ojo con las posiciones donde ya hay barco!!!**\n",
    "\n",
    "Usa `import random` para elegir las coordenadas aleatorias."
   ]
  },
  {
   "cell_type": "code",
   "execution_count": 47,
   "metadata": {},
   "outputs": [],
   "source": [
    "#### Bonus track. Mini hundir la flota"
   ]
  },
  {
   "cell_type": "code",
   "execution_count": 48,
   "metadata": {},
   "outputs": [],
   "source": [
    "from IPython.display import Markdown\n",
    "import numpy as np\n",
    "\n",
    "\n",
    "def imprimir_tablero_markdown(tablero):\n",
    "    n, m = tablero.shape\n",
    "    markdown = \"| \" + \" | \".join([\"\"] + [f\"<center>{str(i-1).center(2)}</center>\" for i in range(1, m+1)]) + \" |\\n\"\n",
    "    markdown += \"|-\" + \"|\".join([\"-\" * 5] + [\"-\" * 5 for _ in range(m)]) + \"|\\n\"\n",
    "    \n",
    "    for i in range(n):\n",
    "        fila = \"| \" + \" | \".join([f\"<center>{str(i).center(2)}</center>\"] + [f\"<center>{str(cell).center(2)}</center>\" for cell in tablero[i]]) + \" |\\n\"\n",
    "        markdown += fila\n",
    "\n",
    "    return Markdown(markdown)\n",
    "\n"
   ]
  },
  {
   "cell_type": "code",
   "execution_count": 49,
   "metadata": {},
   "outputs": [
    {
     "data": {
      "text/markdown": [
       "|  | <center>0 </center> | <center>1 </center> | <center>2 </center> | <center>3 </center> | <center>4 </center> | <center>5 </center> | <center>6 </center> | <center>7 </center> | <center>8 </center> | <center>9 </center> |\n",
       "|------|-----|-----|-----|-----|-----|-----|-----|-----|-----|-----|\n",
       "| <center>0 </center> | <center>  </center> | <center>  </center> | <center>  </center> | <center>  </center> | <center>  </center> | <center>  </center> | <center>  </center> | <center>  </center> | <center>  </center> | <center>  </center> |\n",
       "| <center>1 </center> | <center>  </center> | <center>  </center> | <center>  </center> | <center>  </center> | <center>  </center> | <center>  </center> | <center>  </center> | <center>  </center> | <center>  </center> | <center>  </center> |\n",
       "| <center>2 </center> | <center>  </center> | <center>  </center> | <center>  </center> | <center>  </center> | <center>  </center> | <center>  </center> | <center>  </center> | <center>  </center> | <center>  </center> | <center>  </center> |\n",
       "| <center>3 </center> | <center>  </center> | <center>  </center> | <center>  </center> | <center>  </center> | <center>  </center> | <center>  </center> | <center>  </center> | <center>  </center> | <center>  </center> | <center>  </center> |\n",
       "| <center>4 </center> | <center>  </center> | <center>  </center> | <center>  </center> | <center>  </center> | <center>  </center> | <center>  </center> | <center>  </center> | <center>  </center> | <center>  </center> | <center>  </center> |\n",
       "| <center>5 </center> | <center>  </center> | <center>  </center> | <center>  </center> | <center>  </center> | <center>  </center> | <center>  </center> | <center>  </center> | <center>  </center> | <center>  </center> | <center>  </center> |\n",
       "| <center>6 </center> | <center>  </center> | <center>  </center> | <center>  </center> | <center>  </center> | <center>  </center> | <center>  </center> | <center>  </center> | <center>  </center> | <center>  </center> | <center>  </center> |\n",
       "| <center>7 </center> | <center>  </center> | <center>  </center> | <center>  </center> | <center>  </center> | <center>  </center> | <center>  </center> | <center>  </center> | <center>  </center> | <center>  </center> | <center>  </center> |\n",
       "| <center>8 </center> | <center>  </center> | <center>  </center> | <center>  </center> | <center>  </center> | <center>  </center> | <center>  </center> | <center>  </center> | <center>  </center> | <center>  </center> | <center>  </center> |\n",
       "| <center>9 </center> | <center>  </center> | <center>  </center> | <center>  </center> | <center>  </center> | <center>  </center> | <center>  </center> | <center>  </center> | <center>  </center> | <center>  </center> | <center>  </center> |\n"
      ],
      "text/plain": [
       "<IPython.core.display.Markdown object>"
      ]
     },
     "execution_count": 49,
     "metadata": {},
     "output_type": "execute_result"
    }
   ],
   "source": [
    "#1. Crea un tablero de 10x10 relleno del carácter espacio ( ).\n",
    "\n",
    "tablero = np.full((10,10),\" \",dtype=str)\n",
    "imprimir_tablero_markdown(tablero)\n"
   ]
  },
  {
   "cell_type": "code",
   "execution_count": 50,
   "metadata": {},
   "outputs": [],
   "source": [
    "#2. Posiciona un par de barcos en [(0,1), (1,1)] y [(1,3), (1,4), (1,5), (1,6)]. Los barcos serán Os mayúsculas. Como ves, un barco de dos posiciones de eslora y otro de cuatro.\n",
    "barco1=np.array([(0,1), (1,1)] )\n",
    "barco2=np.array([(1,3), (1,4), (1,5), (1,6)])"
   ]
  },
  {
   "cell_type": "code",
   "execution_count": 51,
   "metadata": {},
   "outputs": [],
   "source": [
    "def coloca_barco(tablero,barco):\n",
    "    for i,j in barco:\n",
    "        tablero[i,j]='O'"
   ]
  },
  {
   "cell_type": "code",
   "execution_count": 52,
   "metadata": {},
   "outputs": [
    {
     "data": {
      "text/markdown": [
       "|  | <center>0 </center> | <center>1 </center> | <center>2 </center> | <center>3 </center> | <center>4 </center> | <center>5 </center> | <center>6 </center> | <center>7 </center> | <center>8 </center> | <center>9 </center> |\n",
       "|------|-----|-----|-----|-----|-----|-----|-----|-----|-----|-----|\n",
       "| <center>0 </center> | <center>  </center> | <center>O </center> | <center>  </center> | <center>  </center> | <center>  </center> | <center>  </center> | <center>  </center> | <center>  </center> | <center>  </center> | <center>  </center> |\n",
       "| <center>1 </center> | <center>  </center> | <center>O </center> | <center>  </center> | <center>O </center> | <center>O </center> | <center>O </center> | <center>O </center> | <center>  </center> | <center>  </center> | <center>  </center> |\n",
       "| <center>2 </center> | <center>  </center> | <center>  </center> | <center>  </center> | <center>  </center> | <center>  </center> | <center>  </center> | <center>  </center> | <center>  </center> | <center>  </center> | <center>  </center> |\n",
       "| <center>3 </center> | <center>  </center> | <center>  </center> | <center>  </center> | <center>  </center> | <center>  </center> | <center>  </center> | <center>  </center> | <center>  </center> | <center>  </center> | <center>  </center> |\n",
       "| <center>4 </center> | <center>  </center> | <center>  </center> | <center>  </center> | <center>  </center> | <center>  </center> | <center>  </center> | <center>  </center> | <center>  </center> | <center>  </center> | <center>  </center> |\n",
       "| <center>5 </center> | <center>  </center> | <center>  </center> | <center>  </center> | <center>  </center> | <center>  </center> | <center>  </center> | <center>  </center> | <center>  </center> | <center>  </center> | <center>  </center> |\n",
       "| <center>6 </center> | <center>  </center> | <center>  </center> | <center>  </center> | <center>  </center> | <center>  </center> | <center>  </center> | <center>  </center> | <center>  </center> | <center>  </center> | <center>  </center> |\n",
       "| <center>7 </center> | <center>  </center> | <center>  </center> | <center>  </center> | <center>  </center> | <center>  </center> | <center>  </center> | <center>  </center> | <center>  </center> | <center>  </center> | <center>  </center> |\n",
       "| <center>8 </center> | <center>  </center> | <center>  </center> | <center>  </center> | <center>  </center> | <center>  </center> | <center>  </center> | <center>  </center> | <center>  </center> | <center>  </center> | <center>  </center> |\n",
       "| <center>9 </center> | <center>  </center> | <center>  </center> | <center>  </center> | <center>  </center> | <center>  </center> | <center>  </center> | <center>  </center> | <center>  </center> | <center>  </center> | <center>  </center> |\n"
      ],
      "text/plain": [
       "<IPython.core.display.Markdown object>"
      ]
     },
     "execution_count": 52,
     "metadata": {},
     "output_type": "execute_result"
    }
   ],
   "source": [
    "for barco in [barco1,barco2]:\n",
    "    coloca_barco(tablero,barco)\n",
    "imprimir_tablero_markdown(tablero)"
   ]
  },
  {
   "cell_type": "code",
   "execution_count": 53,
   "metadata": {},
   "outputs": [],
   "source": [
    "#3. Recibe un disparo en uno de los barcos, sustituyendo la O por una X\n",
    "def disparar(fila,columna):\n",
    "    disparo=np.array([(fila,columna)])\n",
    "    for i,j in disparo:\n",
    "        if tablero[i,j] == \"O\":\n",
    "            tablero[i,j] = \"X\"\n",
    "    return(imprimir_tablero_markdown(tablero)) \n",
    "    \n"
   ]
  },
  {
   "cell_type": "code",
   "execution_count": 54,
   "metadata": {},
   "outputs": [
    {
     "data": {
      "text/markdown": [
       "|  | <center>0 </center> | <center>1 </center> | <center>2 </center> | <center>3 </center> | <center>4 </center> | <center>5 </center> | <center>6 </center> | <center>7 </center> | <center>8 </center> | <center>9 </center> |\n",
       "|------|-----|-----|-----|-----|-----|-----|-----|-----|-----|-----|\n",
       "| <center>0 </center> | <center>  </center> | <center>X </center> | <center>  </center> | <center>  </center> | <center>  </center> | <center>  </center> | <center>  </center> | <center>  </center> | <center>  </center> | <center>  </center> |\n",
       "| <center>1 </center> | <center>  </center> | <center>O </center> | <center>  </center> | <center>O </center> | <center>O </center> | <center>O </center> | <center>O </center> | <center>  </center> | <center>  </center> | <center>  </center> |\n",
       "| <center>2 </center> | <center>  </center> | <center>  </center> | <center>  </center> | <center>  </center> | <center>  </center> | <center>  </center> | <center>  </center> | <center>  </center> | <center>  </center> | <center>  </center> |\n",
       "| <center>3 </center> | <center>  </center> | <center>  </center> | <center>  </center> | <center>  </center> | <center>  </center> | <center>  </center> | <center>  </center> | <center>  </center> | <center>  </center> | <center>  </center> |\n",
       "| <center>4 </center> | <center>  </center> | <center>  </center> | <center>  </center> | <center>  </center> | <center>  </center> | <center>  </center> | <center>  </center> | <center>  </center> | <center>  </center> | <center>  </center> |\n",
       "| <center>5 </center> | <center>  </center> | <center>  </center> | <center>  </center> | <center>  </center> | <center>  </center> | <center>  </center> | <center>  </center> | <center>  </center> | <center>  </center> | <center>  </center> |\n",
       "| <center>6 </center> | <center>  </center> | <center>  </center> | <center>  </center> | <center>  </center> | <center>  </center> | <center>  </center> | <center>  </center> | <center>  </center> | <center>  </center> | <center>  </center> |\n",
       "| <center>7 </center> | <center>  </center> | <center>  </center> | <center>  </center> | <center>  </center> | <center>  </center> | <center>  </center> | <center>  </center> | <center>  </center> | <center>  </center> | <center>  </center> |\n",
       "| <center>8 </center> | <center>  </center> | <center>  </center> | <center>  </center> | <center>  </center> | <center>  </center> | <center>  </center> | <center>  </center> | <center>  </center> | <center>  </center> | <center>  </center> |\n",
       "| <center>9 </center> | <center>  </center> | <center>  </center> | <center>  </center> | <center>  </center> | <center>  </center> | <center>  </center> | <center>  </center> | <center>  </center> | <center>  </center> | <center>  </center> |\n"
      ],
      "text/plain": [
       "<IPython.core.display.Markdown object>"
      ]
     },
     "execution_count": 54,
     "metadata": {},
     "output_type": "execute_result"
    }
   ],
   "source": [
    "disparar(0,1)"
   ]
  },
  {
   "cell_type": "code",
   "execution_count": 55,
   "metadata": {},
   "outputs": [],
   "source": [
    "#4. Recibe un disparo en agua, sustituyendo uno de los espacios por un guión: -\n",
    "def disparar(fila,columna):\n",
    "    disparo=np.array([(fila,columna)])\n",
    "    for i,j in disparo:\n",
    "        if tablero[i,j] == \"O\":\n",
    "            tablero[i,j] = \"X\"\n",
    "        elif tablero[i,j] == \" \":\n",
    "            tablero[i,j] = \"-\"\n",
    "    return(imprimir_tablero_markdown(tablero)) "
   ]
  },
  {
   "cell_type": "code",
   "execution_count": 56,
   "metadata": {},
   "outputs": [
    {
     "data": {
      "text/markdown": [
       "|  | <center>0 </center> | <center>1 </center> | <center>2 </center> | <center>3 </center> | <center>4 </center> | <center>5 </center> | <center>6 </center> | <center>7 </center> | <center>8 </center> | <center>9 </center> |\n",
       "|------|-----|-----|-----|-----|-----|-----|-----|-----|-----|-----|\n",
       "| <center>0 </center> | <center>  </center> | <center>X </center> | <center>  </center> | <center>  </center> | <center>  </center> | <center>  </center> | <center>  </center> | <center>  </center> | <center>  </center> | <center>  </center> |\n",
       "| <center>1 </center> | <center>  </center> | <center>O </center> | <center>  </center> | <center>O </center> | <center>O </center> | <center>O </center> | <center>O </center> | <center>  </center> | <center>  </center> | <center>  </center> |\n",
       "| <center>2 </center> | <center>  </center> | <center>  </center> | <center>  </center> | <center>  </center> | <center>  </center> | <center>  </center> | <center>  </center> | <center>  </center> | <center>  </center> | <center>  </center> |\n",
       "| <center>3 </center> | <center>  </center> | <center>  </center> | <center>  </center> | <center>  </center> | <center>  </center> | <center>  </center> | <center>  </center> | <center>  </center> | <center>  </center> | <center>  </center> |\n",
       "| <center>4 </center> | <center>  </center> | <center>  </center> | <center>  </center> | <center>  </center> | <center>  </center> | <center>  </center> | <center>  </center> | <center>  </center> | <center>  </center> | <center>  </center> |\n",
       "| <center>5 </center> | <center>  </center> | <center>  </center> | <center>  </center> | <center>  </center> | <center>  </center> | <center>  </center> | <center>  </center> | <center>  </center> | <center>  </center> | <center>  </center> |\n",
       "| <center>6 </center> | <center>  </center> | <center>  </center> | <center>  </center> | <center>  </center> | <center>  </center> | <center>  </center> | <center>  </center> | <center>  </center> | <center>  </center> | <center>  </center> |\n",
       "| <center>7 </center> | <center>  </center> | <center>  </center> | <center>  </center> | <center>  </center> | <center>  </center> | <center>  </center> | <center>  </center> | <center>  </center> | <center>  </center> | <center>  </center> |\n",
       "| <center>8 </center> | <center>  </center> | <center>  </center> | <center>  </center> | <center>- </center> | <center>  </center> | <center>  </center> | <center>  </center> | <center>  </center> | <center>  </center> | <center>  </center> |\n",
       "| <center>9 </center> | <center>  </center> | <center>  </center> | <center>  </center> | <center>  </center> | <center>  </center> | <center>  </center> | <center>  </center> | <center>  </center> | <center>  </center> | <center>  </center> |\n"
      ],
      "text/plain": [
       "<IPython.core.display.Markdown object>"
      ]
     },
     "execution_count": 56,
     "metadata": {},
     "output_type": "execute_result"
    }
   ],
   "source": [
    "disparar(8,3)"
   ]
  },
  {
   "cell_type": "code",
   "execution_count": 57,
   "metadata": {},
   "outputs": [],
   "source": [
    "#5. Ignorando los disparos recibidos, ahora prueba a posicionar otro barco de 4 posiciones dentro del tablero, pero **de manera ALEATORIA.**\n",
    "\n"
   ]
  },
  {
   "cell_type": "code",
   "execution_count": 58,
   "metadata": {},
   "outputs": [],
   "source": [
    "import numpy as np\n",
    "\n",
    "def posicionar_barco_aleatorio(tablero, lon_barco):\n",
    "    n, m = tablero.shape\n",
    "    orientaciones = [\"N\", \"S\", \"E\", \"O\"]\n",
    "\n",
    "    while True:\n",
    "        # Generar posición inicial aleatoria\n",
    "        fila = np.random.randint(0, n)\n",
    "        columna = np.random.randint(0, m)\n",
    "        orientacion = np.random.choice(orientaciones)\n",
    "\n",
    "        # Verificar si el barco cabe en la posición y orientación elegidas\n",
    "        if orientacion == \"N\":\n",
    "            if fila - lon_barco >= 0:\n",
    "                casillas_libres = tablero[fila - lon_barco + 1:fila + 1, columna]\n",
    "            else:\n",
    "                continue\n",
    "        elif orientacion == \"S\":\n",
    "            if fila + lon_barco <= n - 1:\n",
    "                casillas_libres = tablero[fila:fila + lon_barco, columna]\n",
    "            else:\n",
    "                continue\n",
    "        elif orientacion == \"E\":\n",
    "            if columna + lon_barco <= m - 1:\n",
    "                casillas_libres = tablero[fila, columna:columna + lon_barco]\n",
    "            else:\n",
    "                continue\n",
    "        elif orientacion == \"O\":\n",
    "            if columna - lon_barco >= 0:\n",
    "                casillas_libres = tablero[fila, columna - lon_barco + 1:columna + 1]\n",
    "            else:\n",
    "                continue\n",
    "\n",
    "        # Verificar si las casillas están libres (cadenas vacías)\n",
    "        if np.all(casillas_libres == ''):\n",
    "            # Crear una lista de las posiciones ocupadas por el barco\n",
    "            posiciones_barco = []\n",
    "            if orientacion == \"N\":\n",
    "                for i in range(fila - lon_barco + 1, fila + 1):\n",
    "                    posiciones_barco.append((i, columna))\n",
    "            elif orientacion == \"S\":\n",
    "                for i in range(fila, fila + lon_barco):\n",
    "                    posiciones_barco.append((i, columna))\n",
    "            elif orientacion == \"E\":\n",
    "                for j in range(columna, columna + lon_barco):\n",
    "                    posiciones_barco.append((fila, j))\n",
    "            elif orientacion == \"O\":\n",
    "                for j in range(columna - lon_barco + 1, columna + 1):\n",
    "                    posiciones_barco.append((fila, j))\n",
    "\n",
    "            # Colocar el barco en el tablero como texto\n",
    "            coloca_barco(tablero,posiciones_barco)\n",
    "\n",
    "            return posiciones_barco\n"
   ]
  },
  {
   "cell_type": "code",
   "execution_count": 73,
   "metadata": {},
   "outputs": [
    {
     "data": {
      "text/markdown": [
       "|  | <center>0 </center> | <center>1 </center> | <center>2 </center> | <center>3 </center> | <center>4 </center> | <center>5 </center> | <center>6 </center> | <center>7 </center> | <center>8 </center> | <center>9 </center> |\n",
       "|------|-----|-----|-----|-----|-----|-----|-----|-----|-----|-----|\n",
       "| <center>0 </center> | <center>  </center> | <center>  </center> | <center>  </center> | <center>  </center> | <center>  </center> | <center>  </center> | <center>  </center> | <center>  </center> | <center>  </center> | <center>  </center> |\n",
       "| <center>1 </center> | <center>  </center> | <center>  </center> | <center>  </center> | <center>  </center> | <center>  </center> | <center>  </center> | <center>  </center> | <center>  </center> | <center>  </center> | <center>  </center> |\n",
       "| <center>2 </center> | <center>  </center> | <center>  </center> | <center>  </center> | <center>  </center> | <center>  </center> | <center>  </center> | <center>  </center> | <center>  </center> | <center>  </center> | <center>  </center> |\n",
       "| <center>3 </center> | <center>  </center> | <center>  </center> | <center>  </center> | <center>  </center> | <center>  </center> | <center>  </center> | <center>  </center> | <center>  </center> | <center>  </center> | <center>  </center> |\n",
       "| <center>4 </center> | <center>  </center> | <center>  </center> | <center>  </center> | <center>  </center> | <center>  </center> | <center>  </center> | <center>  </center> | <center>  </center> | <center>  </center> | <center>  </center> |\n",
       "| <center>5 </center> | <center>  </center> | <center>  </center> | <center>  </center> | <center>  </center> | <center>  </center> | <center>  </center> | <center>  </center> | <center>  </center> | <center>O </center> | <center>  </center> |\n",
       "| <center>6 </center> | <center>  </center> | <center>  </center> | <center>  </center> | <center>  </center> | <center>  </center> | <center>  </center> | <center>  </center> | <center>  </center> | <center>O </center> | <center>  </center> |\n",
       "| <center>7 </center> | <center>  </center> | <center>  </center> | <center>  </center> | <center>  </center> | <center>  </center> | <center>  </center> | <center>  </center> | <center>  </center> | <center>O </center> | <center>  </center> |\n",
       "| <center>8 </center> | <center>  </center> | <center>  </center> | <center>  </center> | <center>  </center> | <center>  </center> | <center>  </center> | <center>  </center> | <center>  </center> | <center>O </center> | <center>  </center> |\n",
       "| <center>9 </center> | <center>  </center> | <center>  </center> | <center>  </center> | <center>  </center> | <center>  </center> | <center>  </center> | <center>  </center> | <center>  </center> | <center>  </center> | <center>  </center> |\n"
      ],
      "text/plain": [
       "<IPython.core.display.Markdown object>"
      ]
     },
     "execution_count": 73,
     "metadata": {},
     "output_type": "execute_result"
    }
   ],
   "source": [
    "ndim_tablero = 10\n",
    "tablero = np.full((ndim_tablero, ndim_tablero), \"\", dtype=str)\n",
    "longitud_barco = 4\n",
    "posiciones_barco = posicionar_barco_aleatorio(tablero, longitud_barco)\n",
    "imprimir_tablero_markdown(tablero)\n",
    "\n",
    "\n"
   ]
  },
  {
   "cell_type": "code",
   "execution_count": 60,
   "metadata": {},
   "outputs": [
    {
     "data": {
      "text/markdown": [
       "|  | <center>0 </center> | <center>1 </center> | <center>2 </center> | <center>3 </center> | <center>4 </center> | <center>5 </center> | <center>6 </center> | <center>7 </center> | <center>8 </center> | <center>9 </center> |\n",
       "|------|-----|-----|-----|-----|-----|-----|-----|-----|-----|-----|\n",
       "| <center>0 </center> | <center>  </center> | <center>  </center> | <center>  </center> | <center>  </center> | <center>  </center> | <center>O </center> | <center>O </center> | <center>O </center> | <center>O </center> | <center>  </center> |\n",
       "| <center>1 </center> | <center>  </center> | <center>  </center> | <center>  </center> | <center>  </center> | <center>  </center> | <center>  </center> | <center>  </center> | <center>  </center> | <center>  </center> | <center>  </center> |\n",
       "| <center>2 </center> | <center>  </center> | <center>  </center> | <center>  </center> | <center>O </center> | <center>O </center> | <center>O </center> | <center>O </center> | <center>  </center> | <center>  </center> | <center>  </center> |\n",
       "| <center>3 </center> | <center>  </center> | <center>  </center> | <center>  </center> | <center>  </center> | <center>  </center> | <center>  </center> | <center>  </center> | <center>  </center> | <center>  </center> | <center>  </center> |\n",
       "| <center>4 </center> | <center>  </center> | <center>  </center> | <center>  </center> | <center>  </center> | <center>  </center> | <center>  </center> | <center>  </center> | <center>  </center> | <center>  </center> | <center>  </center> |\n",
       "| <center>5 </center> | <center>  </center> | <center>  </center> | <center>  </center> | <center>  </center> | <center>  </center> | <center>  </center> | <center>  </center> | <center>  </center> | <center>  </center> | <center>  </center> |\n",
       "| <center>6 </center> | <center>  </center> | <center>  </center> | <center>  </center> | <center>  </center> | <center>  </center> | <center>  </center> | <center>  </center> | <center>  </center> | <center>  </center> | <center>  </center> |\n",
       "| <center>7 </center> | <center>  </center> | <center>  </center> | <center>  </center> | <center>  </center> | <center>  </center> | <center>  </center> | <center>  </center> | <center>  </center> | <center>  </center> | <center>  </center> |\n",
       "| <center>8 </center> | <center>  </center> | <center>  </center> | <center>  </center> | <center>  </center> | <center>  </center> | <center>  </center> | <center>  </center> | <center>  </center> | <center>  </center> | <center>  </center> |\n",
       "| <center>9 </center> | <center>  </center> | <center>  </center> | <center>  </center> | <center>  </center> | <center>  </center> | <center>  </center> | <center>  </center> | <center>  </center> | <center>  </center> | <center>  </center> |\n"
      ],
      "text/plain": [
       "<IPython.core.display.Markdown object>"
      ]
     },
     "execution_count": 60,
     "metadata": {},
     "output_type": "execute_result"
    }
   ],
   "source": [
    "posiciones_barco = posicionar_barco_aleatorio(tablero, longitud_barco)\n",
    "imprimir_tablero_markdown(tablero)"
   ]
  }
 ],
 "metadata": {
  "interpreter": {
   "hash": "7c77fdb427e7cbc9bc1367dd530fc2b36aacdbbde1ac83c85833b10dfa8b831c"
  },
  "kernelspec": {
   "display_name": "Python 3.7.4 64-bit",
   "name": "python3"
  },
  "language_info": {
   "codemirror_mode": {
    "name": "ipython",
    "version": 3
   },
   "file_extension": ".py",
   "mimetype": "text/x-python",
   "name": "python",
   "nbconvert_exporter": "python",
   "pygments_lexer": "ipython3",
   "version": "3.11.5"
  }
 },
 "nbformat": 4,
 "nbformat_minor": 4
}
