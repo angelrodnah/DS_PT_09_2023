{
 "cells": [
  {
   "cell_type": "code",
   "execution_count": 1,
   "metadata": {},
   "outputs": [],
   "source": [
    "import pandas as pd\n",
    "import sqlite3"
   ]
  },
  {
   "cell_type": "code",
   "execution_count": null,
   "metadata": {},
   "outputs": [],
   "source": [
    "import os\n",
    "os.getcwd()"
   ]
  },
  {
   "cell_type": "code",
   "execution_count": 2,
   "metadata": {},
   "outputs": [],
   "source": [
    "# Conectamos con la base de datos chinook.db\n",
    "connection = sqlite3.connect(\"data/BBDD.db\")\n",
    "\n",
    "# Obtenemos un cursor que utilizaremos para hacer las queries\n",
    "crsr = connection.cursor()"
   ]
  },
  {
   "cell_type": "code",
   "execution_count": 4,
   "metadata": {},
   "outputs": [],
   "source": [
    "# Con esta función leemos los datos y lo pasamos a un DataFrame de Pandas\n",
    "def sql_query(query):\n",
    "\n",
    "    # Ejecuta la query\n",
    "    crsr.execute(query)\n",
    "\n",
    "    # Almacena los datos de la query \n",
    "    ans = crsr.fetchall()\n",
    "\n",
    "    # Obtenemos los nombres de las columnas de la tabla\n",
    "    names = [description[0] for description in crsr.description]\n",
    "\n",
    "    return pd.DataFrame(ans,columns=names)"
   ]
  },
  {
   "cell_type": "code",
   "execution_count": 7,
   "metadata": {},
   "outputs": [
    {
     "name": "stdout",
     "output_type": "stream",
     "text": [
      "cerveza\n"
     ]
    }
   ],
   "source": [
    "res = crsr.execute(\"SELECT name FROM sqlite_master WHERE type='table'\")\n",
    "for name in res:\n",
    "    print(name[0])"
   ]
  },
  {
   "cell_type": "markdown",
   "metadata": {},
   "source": [
    "# Tabla Cerveza\n"
   ]
  },
  {
   "cell_type": "code",
   "execution_count": 6,
   "metadata": {},
   "outputs": [
    {
     "data": {
      "text/plain": [
       "<sqlite3.Cursor at 0x1c6e86d91c0>"
      ]
     },
     "execution_count": 6,
     "metadata": {},
     "output_type": "execute_result"
    }
   ],
   "source": [
    "query_cerveza= \"\"\"\n",
    "CREATE TABLE cerveza (\n",
    "  CodC VARCHAR(3) PRIMARY KEY,\n",
    "  Envase TEXT,\n",
    "  Capacidad FLOAT,\n",
    "  Stock INTEGER\n",
    ");\n",
    "\"\"\"\n",
    "crsr.execute(query_cerveza)\n"
   ]
  },
  {
   "cell_type": "code",
   "execution_count": 8,
   "metadata": {},
   "outputs": [
    {
     "data": {
      "text/html": [
       "<div>\n",
       "<style scoped>\n",
       "    .dataframe tbody tr th:only-of-type {\n",
       "        vertical-align: middle;\n",
       "    }\n",
       "\n",
       "    .dataframe tbody tr th {\n",
       "        vertical-align: top;\n",
       "    }\n",
       "\n",
       "    .dataframe thead th {\n",
       "        text-align: right;\n",
       "    }\n",
       "</style>\n",
       "<table border=\"1\" class=\"dataframe\">\n",
       "  <thead>\n",
       "    <tr style=\"text-align: right;\">\n",
       "      <th></th>\n",
       "      <th>CodC</th>\n",
       "      <th>Envase</th>\n",
       "      <th>Capacidad</th>\n",
       "      <th>Stock</th>\n",
       "    </tr>\n",
       "  </thead>\n",
       "  <tbody>\n",
       "  </tbody>\n",
       "</table>\n",
       "</div>"
      ],
      "text/plain": [
       "Empty DataFrame\n",
       "Columns: [CodC, Envase, Capacidad, Stock]\n",
       "Index: []"
      ]
     },
     "execution_count": 8,
     "metadata": {},
     "output_type": "execute_result"
    }
   ],
   "source": [
    "pd.read_sql(\"SELECT * FROM cerveza\",connection)"
   ]
  },
  {
   "cell_type": "markdown",
   "metadata": {},
   "source": [
    "# Tabla Bares\n"
   ]
  },
  {
   "cell_type": "code",
   "execution_count": 11,
   "metadata": {},
   "outputs": [
    {
     "ename": "OperationalError",
     "evalue": "table Bares already exists",
     "output_type": "error",
     "traceback": [
      "\u001b[1;31m---------------------------------------------------------------------------\u001b[0m",
      "\u001b[1;31mOperationalError\u001b[0m                          Traceback (most recent call last)",
      "\u001b[1;32mc:\\Users\\0205301\\OneDrive - SENER\\Documentos\\GitHub\\DS_PT_09_2023\\Data_Analysis\\7-Bases_de_datos\\SQL\\SQL_Python\\ejercicio\\practica_sql.ipynb Cell 10\u001b[0m line \u001b[0;36m9\n\u001b[0;32m      <a href='vscode-notebook-cell:/c%3A/Users/0205301/OneDrive%20-%20SENER/Documentos/GitHub/DS_PT_09_2023/Data_Analysis/7-Bases_de_datos/SQL/SQL_Python/ejercicio/practica_sql.ipynb#X11sZmlsZQ%3D%3D?line=0'>1</a>\u001b[0m query_Bares\u001b[39m=\u001b[39m \u001b[39m\"\"\"\u001b[39m\n\u001b[0;32m      <a href='vscode-notebook-cell:/c%3A/Users/0205301/OneDrive%20-%20SENER/Documentos/GitHub/DS_PT_09_2023/Data_Analysis/7-Bases_de_datos/SQL/SQL_Python/ejercicio/practica_sql.ipynb#X11sZmlsZQ%3D%3D?line=1'>2</a>\u001b[0m \u001b[39mCREATE TABLE Bares (\u001b[39m\n\u001b[0;32m      <a href='vscode-notebook-cell:/c%3A/Users/0205301/OneDrive%20-%20SENER/Documentos/GitHub/DS_PT_09_2023/Data_Analysis/7-Bases_de_datos/SQL/SQL_Python/ejercicio/practica_sql.ipynb#X11sZmlsZQ%3D%3D?line=2'>3</a>\u001b[0m \u001b[39m  CodB VARCHAR(3) PRIMARY KEY,\u001b[39m\n\u001b[1;32m   (...)\u001b[0m\n\u001b[0;32m      <a href='vscode-notebook-cell:/c%3A/Users/0205301/OneDrive%20-%20SENER/Documentos/GitHub/DS_PT_09_2023/Data_Analysis/7-Bases_de_datos/SQL/SQL_Python/ejercicio/practica_sql.ipynb#X11sZmlsZQ%3D%3D?line=6'>7</a>\u001b[0m \u001b[39m);\u001b[39m\n\u001b[0;32m      <a href='vscode-notebook-cell:/c%3A/Users/0205301/OneDrive%20-%20SENER/Documentos/GitHub/DS_PT_09_2023/Data_Analysis/7-Bases_de_datos/SQL/SQL_Python/ejercicio/practica_sql.ipynb#X11sZmlsZQ%3D%3D?line=7'>8</a>\u001b[0m \u001b[39m\"\"\"\u001b[39m\n\u001b[1;32m----> <a href='vscode-notebook-cell:/c%3A/Users/0205301/OneDrive%20-%20SENER/Documentos/GitHub/DS_PT_09_2023/Data_Analysis/7-Bases_de_datos/SQL/SQL_Python/ejercicio/practica_sql.ipynb#X11sZmlsZQ%3D%3D?line=8'>9</a>\u001b[0m crsr\u001b[39m.\u001b[39;49mexecute(query_Bares)\n",
      "\u001b[1;31mOperationalError\u001b[0m: table Bares already exists"
     ]
    }
   ],
   "source": [
    "query_Bares= \"\"\"\n",
    "CREATE TABLE Bares (\n",
    "  CodB VARCHAR(3) PRIMARY KEY,\n",
    "  Nombre  VARCHAR(50),\n",
    "  Cif  VARCHAR(50),\n",
    "  Localidad INTEGER\n",
    ");\n",
    "\"\"\"\n",
    "crsr.execute(query_Bares)"
   ]
  },
  {
   "cell_type": "markdown",
   "metadata": {},
   "source": [
    "# Tabla Empleados\n"
   ]
  },
  {
   "cell_type": "code",
   "execution_count": 12,
   "metadata": {},
   "outputs": [
    {
     "data": {
      "text/plain": [
       "<sqlite3.Cursor at 0x1c6e86d91c0>"
      ]
     },
     "execution_count": 12,
     "metadata": {},
     "output_type": "execute_result"
    }
   ],
   "source": [
    "query_Empleados= \"\"\"\n",
    "CREATE TABLE Empleados (\n",
    "  CodE VARCHAR(3) PRIMARY KEY,\n",
    "  Nombre  VARCHAR(50),\n",
    "  Sueldo INTEGER\n",
    ");\n",
    "\"\"\"\n",
    "crsr.execute(query_Empleados)"
   ]
  },
  {
   "cell_type": "markdown",
   "metadata": {},
   "source": [
    "# Tabla Reparto\n"
   ]
  },
  {
   "cell_type": "code",
   "execution_count": 14,
   "metadata": {},
   "outputs": [
    {
     "data": {
      "text/plain": [
       "<sqlite3.Cursor at 0x1c6e86d91c0>"
      ]
     },
     "execution_count": 14,
     "metadata": {},
     "output_type": "execute_result"
    }
   ],
   "source": [
    "query_Reparto= \"\"\"\n",
    "CREATE TABLE Reparto (\n",
    "  CodE VARCHAR(3),\n",
    "  CodB VARCHAR(3),\n",
    "  CodC VARCHAR(3),\n",
    "  Fecha  DATE,\n",
    "  Cantidad INTEGER\n",
    ");\n",
    "\"\"\"\n",
    "crsr.execute(query_Reparto)"
   ]
  }
 ],
 "metadata": {
  "kernelspec": {
   "display_name": ".venv",
   "language": "python",
   "name": "python3"
  },
  "language_info": {
   "codemirror_mode": {
    "name": "ipython",
    "version": 3
   },
   "file_extension": ".py",
   "mimetype": "text/x-python",
   "name": "python",
   "nbconvert_exporter": "python",
   "pygments_lexer": "ipython3",
   "version": "3.11.6"
  }
 },
 "nbformat": 4,
 "nbformat_minor": 2
}
